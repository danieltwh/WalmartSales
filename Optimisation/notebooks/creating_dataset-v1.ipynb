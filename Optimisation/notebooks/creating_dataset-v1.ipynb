{
 "cells": [
  {
   "cell_type": "code",
   "execution_count": 3,
   "metadata": {},
   "outputs": [
    {
     "name": "stderr",
     "output_type": "stream",
     "text": [
      "C:\\Users\\XA155XB\\Anaconda3\\envs\\walmart2\\lib\\site-packages\\numpy\\_distributor_init.py:32: UserWarning: loaded more than 1 DLL from .libs:\n",
      "C:\\Users\\XA155XB\\Anaconda3\\envs\\walmart2\\lib\\site-packages\\numpy\\.libs\\libopenblas.QVLO2T66WEPI7JZ63PS3HMOHFEY472BC.gfortran-win_amd64.dll\n",
      "C:\\Users\\XA155XB\\Anaconda3\\envs\\walmart2\\lib\\site-packages\\numpy\\.libs\\libopenblas.XWYDX2IKJW2NMTWSFYNGFUWKQU3LYTCZ.gfortran-win_amd64.dll\n",
      "  stacklevel=1)\n"
     ]
    }
   ],
   "source": [
    "import os, sys\n",
    "\n",
    "import numpy as np\n",
    "import pandas as pd\n",
    "import matplotlib.pyplot as plt\n",
    "import seaborn as sns\n",
    "\n",
    "import scipy.stats as stats\n",
    "\n",
    "\n"
   ]
  },
  {
   "cell_type": "code",
   "execution_count": null,
   "metadata": {},
   "outputs": [],
   "source": []
  },
  {
   "cell_type": "markdown",
   "metadata": {},
   "source": [
    "### Fixed Cost of each WTP"
   ]
  },
  {
   "cell_type": "code",
   "execution_count": 7,
   "metadata": {},
   "outputs": [
    {
     "data": {
      "text/html": [
       "<div>\n",
       "<style scoped>\n",
       "    .dataframe tbody tr th:only-of-type {\n",
       "        vertical-align: middle;\n",
       "    }\n",
       "\n",
       "    .dataframe tbody tr th {\n",
       "        vertical-align: top;\n",
       "    }\n",
       "\n",
       "    .dataframe thead th {\n",
       "        text-align: right;\n",
       "    }\n",
       "</style>\n",
       "<table border=\"1\" class=\"dataframe\">\n",
       "  <thead>\n",
       "    <tr style=\"text-align: right;\">\n",
       "      <th></th>\n",
       "      <th>Low</th>\n",
       "      <th>High</th>\n",
       "    </tr>\n",
       "    <tr>\n",
       "      <th>WTP</th>\n",
       "      <th></th>\n",
       "      <th></th>\n",
       "    </tr>\n",
       "  </thead>\n",
       "  <tbody>\n",
       "    <tr>\n",
       "      <th>Ampang Intake</th>\n",
       "      <td>6500.0</td>\n",
       "      <td>9500.0</td>\n",
       "    </tr>\n",
       "    <tr>\n",
       "      <th>Batang Kali</th>\n",
       "      <td>4980.0</td>\n",
       "      <td>7270.0</td>\n",
       "    </tr>\n",
       "    <tr>\n",
       "      <th>Bernam River Head</th>\n",
       "      <td>6230.0</td>\n",
       "      <td>9100.0</td>\n",
       "    </tr>\n",
       "    <tr>\n",
       "      <th>WTP1</th>\n",
       "      <td>NaN</td>\n",
       "      <td>NaN</td>\n",
       "    </tr>\n",
       "    <tr>\n",
       "      <th>WTP2</th>\n",
       "      <td>NaN</td>\n",
       "      <td>NaN</td>\n",
       "    </tr>\n",
       "  </tbody>\n",
       "</table>\n",
       "</div>"
      ],
      "text/plain": [
       "                      Low    High\n",
       "WTP                              \n",
       "Ampang Intake      6500.0  9500.0\n",
       "Batang Kali        4980.0  7270.0\n",
       "Bernam River Head  6230.0  9100.0\n",
       "WTP1                  NaN     NaN\n",
       "WTP2                  NaN     NaN"
      ]
     },
     "execution_count": 7,
     "metadata": {},
     "output_type": "execute_result"
    }
   ],
   "source": [
    "fixed_cost = pd.read_excel(\"../dataset/fixed_cost.xlsx\", index_col=0)\n",
    "fixed_cost.head()"
   ]
  },
  {
   "cell_type": "code",
   "execution_count": 8,
   "metadata": {},
   "outputs": [],
   "source": [
    "WTP = fixed_cost.index"
   ]
  },
  {
   "cell_type": "code",
   "execution_count": 9,
   "metadata": {},
   "outputs": [
    {
     "data": {
      "text/plain": [
       "'004'"
      ]
     },
     "execution_count": 9,
     "metadata": {},
     "output_type": "execute_result"
    }
   ],
   "source": [
    "\"{:03d}\".format(4)"
   ]
  },
  {
   "cell_type": "code",
   "execution_count": 10,
   "metadata": {},
   "outputs": [],
   "source": [
    "DMZ = np.array([\"DMZ\"+ \"{:03d}\".format(x) for x in range(1, 2501)])"
   ]
  },
  {
   "cell_type": "code",
   "execution_count": 11,
   "metadata": {},
   "outputs": [
    {
     "data": {
      "text/plain": [
       "array(['DMZ001', 'DMZ002', 'DMZ003', ..., 'DMZ2498', 'DMZ2499', 'DMZ2500'],\n",
       "      dtype='<U7')"
      ]
     },
     "execution_count": 11,
     "metadata": {},
     "output_type": "execute_result"
    }
   ],
   "source": [
    "DMZ"
   ]
  },
  {
   "cell_type": "code",
   "execution_count": 32,
   "metadata": {},
   "outputs": [
    {
     "data": {
      "text/plain": [
       "2500"
      ]
     },
     "execution_count": 32,
     "metadata": {},
     "output_type": "execute_result"
    }
   ],
   "source": [
    "len(DMZ)"
   ]
  },
  {
   "cell_type": "code",
   "execution_count": 12,
   "metadata": {},
   "outputs": [],
   "source": [
    "fixed_cost[\"Fixed Cost\"] = np.random.randint(low=4000, high=12000, size=len(fixed_cost.index))"
   ]
  },
  {
   "cell_type": "code",
   "execution_count": 13,
   "metadata": {},
   "outputs": [],
   "source": [
    "fixed_cost = fixed_cost.drop([\"Low\", \"High\"], axis=1)"
   ]
  },
  {
   "cell_type": "code",
   "execution_count": 14,
   "metadata": {},
   "outputs": [],
   "source": [
    "# fixed_cost.to_excel(\"../dataset2/fixed_cost.xlsx\", index=True)\n",
    "fixed_cost = pd.read_excel(\"../dataset2/fixed_cost.xlsx\")"
   ]
  },
  {
   "cell_type": "code",
   "execution_count": 15,
   "metadata": {},
   "outputs": [
    {
     "data": {
      "text/plain": [
       "Text(0.5, 1.0, 'Distribution of WTP Fixed Cost')"
      ]
     },
     "execution_count": 15,
     "metadata": {},
     "output_type": "execute_result"
    },
    {
     "data": {
      "image/png": "[encoded data removed]",
      "text/plain": [
       "<Figure size 432x288 with 1 Axes>"
      ]
     },
     "metadata": {
      "needs_background": "light"
     },
     "output_type": "display_data"
    }
   ],
   "source": [
    "sns.histplot(x=\"Fixed Cost\", data=fixed_cost, bins=20)\n",
    "plt.title(\"Distribution of WTP Fixed Cost\")"
   ]
  },
  {
   "cell_type": "markdown",
   "metadata": {},
   "source": [
    "### Capacity of each WTP"
   ]
  },
  {
   "cell_type": "code",
   "execution_count": 14,
   "metadata": {},
   "outputs": [
    {
     "data": {
      "text/html": [
       "<div>\n",
       "<style scoped>\n",
       "    .dataframe tbody tr th:only-of-type {\n",
       "        vertical-align: middle;\n",
       "    }\n",
       "\n",
       "    .dataframe tbody tr th {\n",
       "        vertical-align: top;\n",
       "    }\n",
       "\n",
       "    .dataframe thead th {\n",
       "        text-align: right;\n",
       "    }\n",
       "</style>\n",
       "<table border=\"1\" class=\"dataframe\">\n",
       "  <thead>\n",
       "    <tr style=\"text-align: right;\">\n",
       "      <th></th>\n",
       "      <th>Capacity</th>\n",
       "    </tr>\n",
       "    <tr>\n",
       "      <th>WTP</th>\n",
       "      <th></th>\n",
       "    </tr>\n",
       "  </thead>\n",
       "  <tbody>\n",
       "    <tr>\n",
       "      <th>Ampang Intake</th>\n",
       "      <td>2000000</td>\n",
       "    </tr>\n",
       "    <tr>\n",
       "      <th>Batang Kali</th>\n",
       "      <td>2000000</td>\n",
       "    </tr>\n",
       "    <tr>\n",
       "      <th>Bernam River Head</th>\n",
       "      <td>2000000</td>\n",
       "    </tr>\n",
       "    <tr>\n",
       "      <th>Wangsa Maju</th>\n",
       "      <td>2000000</td>\n",
       "    </tr>\n",
       "    <tr>\n",
       "      <th>Sungai Tengi</th>\n",
       "      <td>2000000</td>\n",
       "    </tr>\n",
       "  </tbody>\n",
       "</table>\n",
       "</div>"
      ],
      "text/plain": [
       "                   Capacity\n",
       "WTP                        \n",
       "Ampang Intake       2000000\n",
       "Batang Kali         2000000\n",
       "Bernam River Head   2000000\n",
       "Wangsa Maju         2000000\n",
       "Sungai Tengi        2000000"
      ]
     },
     "execution_count": 14,
     "metadata": {},
     "output_type": "execute_result"
    }
   ],
   "source": [
    "capacity = pd.read_excel(\"../dataset/capacity.xlsx\", index_col=0)\n",
    "capacity.head()"
   ]
  },
  {
   "cell_type": "code",
   "execution_count": 24,
   "metadata": {},
   "outputs": [],
   "source": [
    "# # With uniform distribution\n",
    "# wtp_capacity = np.random.randint(low = 1750000, high=4000000, size=len(WTP))\n",
    "# new_capacity = pd.DataFrame({\"Capacity\": wtp_capacity}, index=WTP)"
   ]
  },
  {
   "cell_type": "code",
   "execution_count": 45,
   "metadata": {},
   "outputs": [],
   "source": [
    "# With norm distribution\n",
    "lower, upper = 17500000, 40000000\n",
    "mu, sigma = 28000000, 1000000\n",
    "capacity_generator = stats.truncnorm(\n",
    "    (lower - mu) / sigma, (upper - mu) / sigma, loc = mu, scale=sigma, \n",
    ")\n",
    "capacity= capacity_generator.rvs(size=len(WTP))\n",
    "new_capacity = pd.DataFrame({\"Capacity\": capacity}, index=WTP)\n",
    "new_capacity = new_capacity.round(5)"
   ]
  },
  {
   "cell_type": "code",
   "execution_count": null,
   "metadata": {},
   "outputs": [],
   "source": []
  },
  {
   "cell_type": "code",
   "execution_count": 4,
   "metadata": {},
   "outputs": [],
   "source": [
    "# new_capacity.to_excel(\"../dataset2/capacity.xlsx\")\n",
    "new_capacity = pd.read_excel(\"../dataset2/capacity.xlsx\")"
   ]
  },
  {
   "cell_type": "code",
   "execution_count": 5,
   "metadata": {},
   "outputs": [
    {
     "name": "stderr",
     "output_type": "stream",
     "text": [
      "C:\\Users\\XA155XB\\Anaconda3\\envs\\walmart2\\lib\\site-packages\\seaborn\\distributions.py:2619: FutureWarning: `distplot` is a deprecated function and will be removed in a future version. Please adapt your code to use either `displot` (a figure-level function with similar flexibility) or `histplot` (an axes-level function for histograms).\n",
      "  warnings.warn(msg, FutureWarning)\n"
     ]
    },
    {
     "data": {
      "text/plain": [
       "<matplotlib.axes._subplots.AxesSubplot at 0x24ed06ae0c8>"
      ]
     },
     "execution_count": 5,
     "metadata": {},
     "output_type": "execute_result"
    },
    {
     "data": {
      "image/png": "[encoded data removed]",
      "text/plain": [
       "<Figure size 432x288 with 1 Axes>"
      ]
     },
     "metadata": {
      "needs_background": "light"
     },
     "output_type": "display_data"
    }
   ],
   "source": [
    "sns.distplot(new_capacity[\"Capacity\"])"
   ]
  },
  {
   "cell_type": "code",
   "execution_count": 10,
   "metadata": {},
   "outputs": [
    {
     "data": {
      "text/plain": [
       "Text(0.5, 1.0, 'Distribution of WTP Capacity')"
      ]
     },
     "execution_count": 10,
     "metadata": {},
     "output_type": "execute_result"
    },
    {
     "data": {
      "image/png": "[encoded data removed]",
      "text/plain": [
       "<Figure size 432x288 with 1 Axes>"
      ]
     },
     "metadata": {
      "needs_background": "light"
     },
     "output_type": "display_data"
    }
   ],
   "source": [
    "sns.histplot(new_capacity[\"Capacity\"], bins = 12)\n",
    "plt.title(\"Distribution of WTP Capacity\")"
   ]
  },
  {
   "cell_type": "markdown",
   "metadata": {},
   "source": [
    "### Distribution Loss"
   ]
  },
  {
   "cell_type": "code",
   "execution_count": null,
   "metadata": {},
   "outputs": [
    {
     "data": {
      "text/html": [
       "<div>\n",
       "<style scoped>\n",
       "    .dataframe tbody tr th:only-of-type {\n",
       "        vertical-align: middle;\n",
       "    }\n",
       "\n",
       "    .dataframe tbody tr th {\n",
       "        vertical-align: top;\n",
       "    }\n",
       "\n",
       "    .dataframe thead th {\n",
       "        text-align: right;\n",
       "    }\n",
       "</style>\n",
       "<table border=\"1\" class=\"dataframe\">\n",
       "  <thead>\n",
       "    <tr style=\"text-align: right;\">\n",
       "      <th></th>\n",
       "      <th>Ampang Intake</th>\n",
       "      <th>Batang Kali</th>\n",
       "      <th>Bernam River Head</th>\n",
       "      <th>Wangsa Maju</th>\n",
       "      <th>Sungai Tengi</th>\n",
       "    </tr>\n",
       "    <tr>\n",
       "      <th>Distribution Loss</th>\n",
       "      <th></th>\n",
       "      <th></th>\n",
       "      <th></th>\n",
       "      <th></th>\n",
       "      <th></th>\n",
       "    </tr>\n",
       "  </thead>\n",
       "  <tbody>\n",
       "    <tr>\n",
       "      <th>DMZ1</th>\n",
       "      <td>0.25</td>\n",
       "      <td>0.21</td>\n",
       "      <td>0.28</td>\n",
       "      <td>0.30</td>\n",
       "      <td>0.29</td>\n",
       "    </tr>\n",
       "    <tr>\n",
       "      <th>DMZ2</th>\n",
       "      <td>0.27</td>\n",
       "      <td>0.35</td>\n",
       "      <td>0.30</td>\n",
       "      <td>0.26</td>\n",
       "      <td>0.25</td>\n",
       "    </tr>\n",
       "    <tr>\n",
       "      <th>DMZ3</th>\n",
       "      <td>0.28</td>\n",
       "      <td>0.29</td>\n",
       "      <td>0.25</td>\n",
       "      <td>0.26</td>\n",
       "      <td>0.31</td>\n",
       "    </tr>\n",
       "    <tr>\n",
       "      <th>DMZ4</th>\n",
       "      <td>0.25</td>\n",
       "      <td>0.29</td>\n",
       "      <td>0.27</td>\n",
       "      <td>0.24</td>\n",
       "      <td>0.34</td>\n",
       "    </tr>\n",
       "    <tr>\n",
       "      <th>DMZ5</th>\n",
       "      <td>0.28</td>\n",
       "      <td>0.32</td>\n",
       "      <td>0.34</td>\n",
       "      <td>0.23</td>\n",
       "      <td>0.26</td>\n",
       "    </tr>\n",
       "  </tbody>\n",
       "</table>\n",
       "</div>"
      ],
      "text/plain": [
       "                   Ampang Intake  Batang Kali  Bernam River Head  Wangsa Maju  \\\n",
       "Distribution Loss                                                               \n",
       "DMZ1                        0.25         0.21               0.28         0.30   \n",
       "DMZ2                        0.27         0.35               0.30         0.26   \n",
       "DMZ3                        0.28         0.29               0.25         0.26   \n",
       "DMZ4                        0.25         0.29               0.27         0.24   \n",
       "DMZ5                        0.28         0.32               0.34         0.23   \n",
       "\n",
       "                   Sungai Tengi  \n",
       "Distribution Loss                \n",
       "DMZ1                       0.29  \n",
       "DMZ2                       0.25  \n",
       "DMZ3                       0.31  \n",
       "DMZ4                       0.34  \n",
       "DMZ5                       0.26  "
      ]
     },
     "metadata": {},
     "output_type": "display_data"
    }
   ],
   "source": [
    "distribution_loss = pd.read_excel(\"../dataset/distribution_loss.xlsx\", index_col=0)\n",
    "distribution_loss"
   ]
  },
  {
   "cell_type": "code",
   "execution_count": 22,
   "metadata": {},
   "outputs": [],
   "source": [
    "lower, upper = 0.23, 0.36\n",
    "mu, sigma = 0.30, 0.035\n",
    "loss_generator = stats.truncnorm(\n",
    "    (lower - mu) / sigma, (upper - mu) / sigma, loc = mu, scale=sigma, \n",
    ")\n",
    "loss = loss_generator.rvs(size=(len(DMZ), len(WTP)))"
   ]
  },
  {
   "cell_type": "code",
   "execution_count": 23,
   "metadata": {},
   "outputs": [],
   "source": [
    "new_distribution_loss = pd.DataFrame(loss,columns=WTP, index=DMZ)\n",
    "new_distribution_loss = new_distribution_loss.round(5)"
   ]
  },
  {
   "cell_type": "code",
   "execution_count": 24,
   "metadata": {},
   "outputs": [],
   "source": [
    "temp = np.array(loss)\n",
    "water_loss = temp.flatten()"
   ]
  },
  {
   "cell_type": "code",
   "execution_count": 25,
   "metadata": {},
   "outputs": [
    {
     "data": {
      "text/plain": [
       "<AxesSubplot:ylabel='Count'>"
      ]
     },
     "execution_count": 25,
     "metadata": {},
     "output_type": "execute_result"
    },
    {
     "data": {
      "image/png": "[encoded data removed]",
      "text/plain": [
       "<Figure size 432x288 with 1 Axes>"
      ]
     },
     "metadata": {
      "needs_background": "light"
     },
     "output_type": "display_data"
    }
   ],
   "source": [
    "sns.histplot(water_loss)"
   ]
  },
  {
   "cell_type": "code",
   "execution_count": 26,
   "metadata": {},
   "outputs": [
    {
     "data": {
      "text/html": [
       "<div>\n",
       "<style scoped>\n",
       "    .dataframe tbody tr th:only-of-type {\n",
       "        vertical-align: middle;\n",
       "    }\n",
       "\n",
       "    .dataframe tbody tr th {\n",
       "        vertical-align: top;\n",
       "    }\n",
       "\n",
       "    .dataframe thead th {\n",
       "        text-align: right;\n",
       "    }\n",
       "</style>\n",
       "<table border=\"1\" class=\"dataframe\">\n",
       "  <thead>\n",
       "    <tr style=\"text-align: right;\">\n",
       "      <th>WTP</th>\n",
       "      <th>Ampang Intake</th>\n",
       "      <th>Batang Kali</th>\n",
       "      <th>Bernam River Head</th>\n",
       "      <th>WTP1</th>\n",
       "      <th>WTP2</th>\n",
       "      <th>WTP3</th>\n",
       "      <th>WTP4</th>\n",
       "      <th>WTP5</th>\n",
       "      <th>WTP6</th>\n",
       "      <th>WTP7</th>\n",
       "      <th>...</th>\n",
       "      <th>WTP33</th>\n",
       "      <th>WTP34</th>\n",
       "      <th>WTP35</th>\n",
       "      <th>WTP36</th>\n",
       "      <th>WTP37</th>\n",
       "      <th>WTP38</th>\n",
       "      <th>WTP39</th>\n",
       "      <th>WTP40</th>\n",
       "      <th>Wangsa Maju</th>\n",
       "      <th>Sungai Tengi</th>\n",
       "    </tr>\n",
       "  </thead>\n",
       "  <tbody>\n",
       "    <tr>\n",
       "      <th>DMZ001</th>\n",
       "      <td>0.31838</td>\n",
       "      <td>0.34819</td>\n",
       "      <td>0.23241</td>\n",
       "      <td>0.26049</td>\n",
       "      <td>0.34462</td>\n",
       "      <td>0.28837</td>\n",
       "      <td>0.30351</td>\n",
       "      <td>0.28379</td>\n",
       "      <td>0.33333</td>\n",
       "      <td>0.30272</td>\n",
       "      <td>...</td>\n",
       "      <td>0.29068</td>\n",
       "      <td>0.28830</td>\n",
       "      <td>0.29829</td>\n",
       "      <td>0.35956</td>\n",
       "      <td>0.26697</td>\n",
       "      <td>0.30082</td>\n",
       "      <td>0.27045</td>\n",
       "      <td>0.28345</td>\n",
       "      <td>0.27237</td>\n",
       "      <td>0.33081</td>\n",
       "    </tr>\n",
       "    <tr>\n",
       "      <th>DMZ002</th>\n",
       "      <td>0.30544</td>\n",
       "      <td>0.32145</td>\n",
       "      <td>0.29041</td>\n",
       "      <td>0.26520</td>\n",
       "      <td>0.30354</td>\n",
       "      <td>0.25078</td>\n",
       "      <td>0.31171</td>\n",
       "      <td>0.26908</td>\n",
       "      <td>0.24993</td>\n",
       "      <td>0.34083</td>\n",
       "      <td>...</td>\n",
       "      <td>0.31445</td>\n",
       "      <td>0.24484</td>\n",
       "      <td>0.35810</td>\n",
       "      <td>0.34966</td>\n",
       "      <td>0.31344</td>\n",
       "      <td>0.25027</td>\n",
       "      <td>0.29574</td>\n",
       "      <td>0.27309</td>\n",
       "      <td>0.32620</td>\n",
       "      <td>0.30501</td>\n",
       "    </tr>\n",
       "    <tr>\n",
       "      <th>DMZ003</th>\n",
       "      <td>0.32782</td>\n",
       "      <td>0.29775</td>\n",
       "      <td>0.30906</td>\n",
       "      <td>0.33927</td>\n",
       "      <td>0.31701</td>\n",
       "      <td>0.29337</td>\n",
       "      <td>0.26027</td>\n",
       "      <td>0.31059</td>\n",
       "      <td>0.30448</td>\n",
       "      <td>0.32909</td>\n",
       "      <td>...</td>\n",
       "      <td>0.24614</td>\n",
       "      <td>0.32459</td>\n",
       "      <td>0.23055</td>\n",
       "      <td>0.31726</td>\n",
       "      <td>0.31519</td>\n",
       "      <td>0.31940</td>\n",
       "      <td>0.29601</td>\n",
       "      <td>0.28883</td>\n",
       "      <td>0.33544</td>\n",
       "      <td>0.26115</td>\n",
       "    </tr>\n",
       "    <tr>\n",
       "      <th>DMZ004</th>\n",
       "      <td>0.35452</td>\n",
       "      <td>0.28941</td>\n",
       "      <td>0.25286</td>\n",
       "      <td>0.30884</td>\n",
       "      <td>0.32873</td>\n",
       "      <td>0.27913</td>\n",
       "      <td>0.26008</td>\n",
       "      <td>0.33860</td>\n",
       "      <td>0.32277</td>\n",
       "      <td>0.28385</td>\n",
       "      <td>...</td>\n",
       "      <td>0.32659</td>\n",
       "      <td>0.26638</td>\n",
       "      <td>0.28412</td>\n",
       "      <td>0.34979</td>\n",
       "      <td>0.26636</td>\n",
       "      <td>0.28850</td>\n",
       "      <td>0.28361</td>\n",
       "      <td>0.29359</td>\n",
       "      <td>0.25466</td>\n",
       "      <td>0.26176</td>\n",
       "    </tr>\n",
       "    <tr>\n",
       "      <th>DMZ005</th>\n",
       "      <td>0.28498</td>\n",
       "      <td>0.28067</td>\n",
       "      <td>0.29266</td>\n",
       "      <td>0.32907</td>\n",
       "      <td>0.29612</td>\n",
       "      <td>0.33973</td>\n",
       "      <td>0.24868</td>\n",
       "      <td>0.34067</td>\n",
       "      <td>0.25028</td>\n",
       "      <td>0.28086</td>\n",
       "      <td>...</td>\n",
       "      <td>0.31274</td>\n",
       "      <td>0.31326</td>\n",
       "      <td>0.29827</td>\n",
       "      <td>0.27726</td>\n",
       "      <td>0.29009</td>\n",
       "      <td>0.23659</td>\n",
       "      <td>0.27612</td>\n",
       "      <td>0.35060</td>\n",
       "      <td>0.32065</td>\n",
       "      <td>0.27252</td>\n",
       "    </tr>\n",
       "    <tr>\n",
       "      <th>...</th>\n",
       "      <td>...</td>\n",
       "      <td>...</td>\n",
       "      <td>...</td>\n",
       "      <td>...</td>\n",
       "      <td>...</td>\n",
       "      <td>...</td>\n",
       "      <td>...</td>\n",
       "      <td>...</td>\n",
       "      <td>...</td>\n",
       "      <td>...</td>\n",
       "      <td>...</td>\n",
       "      <td>...</td>\n",
       "      <td>...</td>\n",
       "      <td>...</td>\n",
       "      <td>...</td>\n",
       "      <td>...</td>\n",
       "      <td>...</td>\n",
       "      <td>...</td>\n",
       "      <td>...</td>\n",
       "      <td>...</td>\n",
       "      <td>...</td>\n",
       "    </tr>\n",
       "    <tr>\n",
       "      <th>DMZ2496</th>\n",
       "      <td>0.32587</td>\n",
       "      <td>0.31135</td>\n",
       "      <td>0.27803</td>\n",
       "      <td>0.33575</td>\n",
       "      <td>0.28533</td>\n",
       "      <td>0.27766</td>\n",
       "      <td>0.31079</td>\n",
       "      <td>0.33468</td>\n",
       "      <td>0.30421</td>\n",
       "      <td>0.31971</td>\n",
       "      <td>...</td>\n",
       "      <td>0.23683</td>\n",
       "      <td>0.30335</td>\n",
       "      <td>0.24588</td>\n",
       "      <td>0.29591</td>\n",
       "      <td>0.32876</td>\n",
       "      <td>0.30069</td>\n",
       "      <td>0.27753</td>\n",
       "      <td>0.33527</td>\n",
       "      <td>0.29623</td>\n",
       "      <td>0.32385</td>\n",
       "    </tr>\n",
       "    <tr>\n",
       "      <th>DMZ2497</th>\n",
       "      <td>0.34633</td>\n",
       "      <td>0.35406</td>\n",
       "      <td>0.34739</td>\n",
       "      <td>0.29061</td>\n",
       "      <td>0.26348</td>\n",
       "      <td>0.29627</td>\n",
       "      <td>0.27375</td>\n",
       "      <td>0.27372</td>\n",
       "      <td>0.25699</td>\n",
       "      <td>0.29173</td>\n",
       "      <td>...</td>\n",
       "      <td>0.29204</td>\n",
       "      <td>0.31244</td>\n",
       "      <td>0.25958</td>\n",
       "      <td>0.31839</td>\n",
       "      <td>0.31074</td>\n",
       "      <td>0.30234</td>\n",
       "      <td>0.31748</td>\n",
       "      <td>0.28095</td>\n",
       "      <td>0.28627</td>\n",
       "      <td>0.31974</td>\n",
       "    </tr>\n",
       "    <tr>\n",
       "      <th>DMZ2498</th>\n",
       "      <td>0.23256</td>\n",
       "      <td>0.25978</td>\n",
       "      <td>0.33842</td>\n",
       "      <td>0.29846</td>\n",
       "      <td>0.35101</td>\n",
       "      <td>0.30870</td>\n",
       "      <td>0.27525</td>\n",
       "      <td>0.24196</td>\n",
       "      <td>0.28481</td>\n",
       "      <td>0.32234</td>\n",
       "      <td>...</td>\n",
       "      <td>0.27337</td>\n",
       "      <td>0.24448</td>\n",
       "      <td>0.31338</td>\n",
       "      <td>0.23119</td>\n",
       "      <td>0.30689</td>\n",
       "      <td>0.30583</td>\n",
       "      <td>0.28096</td>\n",
       "      <td>0.33882</td>\n",
       "      <td>0.30623</td>\n",
       "      <td>0.30570</td>\n",
       "    </tr>\n",
       "    <tr>\n",
       "      <th>DMZ2499</th>\n",
       "      <td>0.28521</td>\n",
       "      <td>0.30273</td>\n",
       "      <td>0.31253</td>\n",
       "      <td>0.29511</td>\n",
       "      <td>0.32688</td>\n",
       "      <td>0.31159</td>\n",
       "      <td>0.30465</td>\n",
       "      <td>0.25456</td>\n",
       "      <td>0.34442</td>\n",
       "      <td>0.27298</td>\n",
       "      <td>...</td>\n",
       "      <td>0.30900</td>\n",
       "      <td>0.30869</td>\n",
       "      <td>0.31664</td>\n",
       "      <td>0.24972</td>\n",
       "      <td>0.25593</td>\n",
       "      <td>0.24856</td>\n",
       "      <td>0.32164</td>\n",
       "      <td>0.27273</td>\n",
       "      <td>0.24755</td>\n",
       "      <td>0.27697</td>\n",
       "    </tr>\n",
       "    <tr>\n",
       "      <th>DMZ2500</th>\n",
       "      <td>0.23747</td>\n",
       "      <td>0.32192</td>\n",
       "      <td>0.26983</td>\n",
       "      <td>0.27092</td>\n",
       "      <td>0.29567</td>\n",
       "      <td>0.25429</td>\n",
       "      <td>0.32854</td>\n",
       "      <td>0.34771</td>\n",
       "      <td>0.28876</td>\n",
       "      <td>0.27790</td>\n",
       "      <td>...</td>\n",
       "      <td>0.28391</td>\n",
       "      <td>0.31809</td>\n",
       "      <td>0.25351</td>\n",
       "      <td>0.26630</td>\n",
       "      <td>0.33555</td>\n",
       "      <td>0.33482</td>\n",
       "      <td>0.34806</td>\n",
       "      <td>0.27555</td>\n",
       "      <td>0.30862</td>\n",
       "      <td>0.24749</td>\n",
       "    </tr>\n",
       "  </tbody>\n",
       "</table>\n",
       "<p>2500 rows × 45 columns</p>\n",
       "</div>"
      ],
      "text/plain": [
       "WTP      Ampang Intake  Batang Kali  Bernam River Head     WTP1     WTP2  \\\n",
       "DMZ001         0.31838      0.34819            0.23241  0.26049  0.34462   \n",
       "DMZ002         0.30544      0.32145            0.29041  0.26520  0.30354   \n",
       "DMZ003         0.32782      0.29775            0.30906  0.33927  0.31701   \n",
       "DMZ004         0.35452      0.28941            0.25286  0.30884  0.32873   \n",
       "DMZ005         0.28498      0.28067            0.29266  0.32907  0.29612   \n",
       "...                ...          ...                ...      ...      ...   \n",
       "DMZ2496        0.32587      0.31135            0.27803  0.33575  0.28533   \n",
       "DMZ2497        0.34633      0.35406            0.34739  0.29061  0.26348   \n",
       "DMZ2498        0.23256      0.25978            0.33842  0.29846  0.35101   \n",
       "DMZ2499        0.28521      0.30273            0.31253  0.29511  0.32688   \n",
       "DMZ2500        0.23747      0.32192            0.26983  0.27092  0.29567   \n",
       "\n",
       "WTP         WTP3     WTP4     WTP5     WTP6     WTP7  ...    WTP33    WTP34  \\\n",
       "DMZ001   0.28837  0.30351  0.28379  0.33333  0.30272  ...  0.29068  0.28830   \n",
       "DMZ002   0.25078  0.31171  0.26908  0.24993  0.34083  ...  0.31445  0.24484   \n",
       "DMZ003   0.29337  0.26027  0.31059  0.30448  0.32909  ...  0.24614  0.32459   \n",
       "DMZ004   0.27913  0.26008  0.33860  0.32277  0.28385  ...  0.32659  0.26638   \n",
       "DMZ005   0.33973  0.24868  0.34067  0.25028  0.28086  ...  0.31274  0.31326   \n",
       "...          ...      ...      ...      ...      ...  ...      ...      ...   \n",
       "DMZ2496  0.27766  0.31079  0.33468  0.30421  0.31971  ...  0.23683  0.30335   \n",
       "DMZ2497  0.29627  0.27375  0.27372  0.25699  0.29173  ...  0.29204  0.31244   \n",
       "DMZ2498  0.30870  0.27525  0.24196  0.28481  0.32234  ...  0.27337  0.24448   \n",
       "DMZ2499  0.31159  0.30465  0.25456  0.34442  0.27298  ...  0.30900  0.30869   \n",
       "DMZ2500  0.25429  0.32854  0.34771  0.28876  0.27790  ...  0.28391  0.31809   \n",
       "\n",
       "WTP        WTP35    WTP36    WTP37    WTP38    WTP39    WTP40  Wangsa Maju  \\\n",
       "DMZ001   0.29829  0.35956  0.26697  0.30082  0.27045  0.28345      0.27237   \n",
       "DMZ002   0.35810  0.34966  0.31344  0.25027  0.29574  0.27309      0.32620   \n",
       "DMZ003   0.23055  0.31726  0.31519  0.31940  0.29601  0.28883      0.33544   \n",
       "DMZ004   0.28412  0.34979  0.26636  0.28850  0.28361  0.29359      0.25466   \n",
       "DMZ005   0.29827  0.27726  0.29009  0.23659  0.27612  0.35060      0.32065   \n",
       "...          ...      ...      ...      ...      ...      ...          ...   \n",
       "DMZ2496  0.24588  0.29591  0.32876  0.30069  0.27753  0.33527      0.29623   \n",
       "DMZ2497  0.25958  0.31839  0.31074  0.30234  0.31748  0.28095      0.28627   \n",
       "DMZ2498  0.31338  0.23119  0.30689  0.30583  0.28096  0.33882      0.30623   \n",
       "DMZ2499  0.31664  0.24972  0.25593  0.24856  0.32164  0.27273      0.24755   \n",
       "DMZ2500  0.25351  0.26630  0.33555  0.33482  0.34806  0.27555      0.30862   \n",
       "\n",
       "WTP      Sungai Tengi  \n",
       "DMZ001        0.33081  \n",
       "DMZ002        0.30501  \n",
       "DMZ003        0.26115  \n",
       "DMZ004        0.26176  \n",
       "DMZ005        0.27252  \n",
       "...               ...  \n",
       "DMZ2496       0.32385  \n",
       "DMZ2497       0.31974  \n",
       "DMZ2498       0.30570  \n",
       "DMZ2499       0.27697  \n",
       "DMZ2500       0.24749  \n",
       "\n",
       "[2500 rows x 45 columns]"
      ]
     },
     "execution_count": 26,
     "metadata": {},
     "output_type": "execute_result"
    }
   ],
   "source": [
    "new_distribution_loss"
   ]
  },
  {
   "cell_type": "code",
   "execution_count": 11,
   "metadata": {},
   "outputs": [],
   "source": [
    "# Exporting\n",
    "# new_distribution_loss.to_excel(\"../dataset2/distribution_loss.xlsx\")\n",
    "\n",
    "# Importing\n",
    "new_distribution_loss = pd.read_excel(\"../dataset2/distribution_loss.xlsx\", index_col=0)"
   ]
  },
  {
   "cell_type": "code",
   "execution_count": 12,
   "metadata": {},
   "outputs": [
    {
     "data": {
      "text/plain": [
       "Text(0.5, 1.0, 'Distribution of Water Loss')"
      ]
     },
     "execution_count": 12,
     "metadata": {},
     "output_type": "execute_result"
    },
    {
     "data": {
      "image/png": "[encoded data removed]",
      "text/plain": [
       "<Figure size 432x288 with 1 Axes>"
      ]
     },
     "metadata": {
      "needs_background": "light"
     },
     "output_type": "display_data"
    }
   ],
   "source": [
    "temp=new_distribution_loss.values\n",
    "# temp = loss\n",
    "# temp = np.array(loss)\n",
    "water_loss = temp.flatten()\n",
    "sns.histplot(water_loss)\n",
    "plt.title(\"Distribution of Water Loss\")"
   ]
  },
  {
   "cell_type": "markdown",
   "metadata": {},
   "source": [
    "### Links between WTP and DMZ"
   ]
  },
  {
   "cell_type": "code",
   "execution_count": null,
   "metadata": {},
   "outputs": [
    {
     "data": {
      "text/html": [
       "<div>\n",
       "<style scoped>\n",
       "    .dataframe tbody tr th:only-of-type {\n",
       "        vertical-align: middle;\n",
       "    }\n",
       "\n",
       "    .dataframe tbody tr th {\n",
       "        vertical-align: top;\n",
       "    }\n",
       "\n",
       "    .dataframe thead th {\n",
       "        text-align: right;\n",
       "    }\n",
       "</style>\n",
       "<table border=\"1\" class=\"dataframe\">\n",
       "  <thead>\n",
       "    <tr style=\"text-align: right;\">\n",
       "      <th></th>\n",
       "      <th>Ampang Intake</th>\n",
       "      <th>Batang Kali</th>\n",
       "      <th>Bernam River Head</th>\n",
       "      <th>Wangsa Maju</th>\n",
       "      <th>Sungai Tengi</th>\n",
       "    </tr>\n",
       "    <tr>\n",
       "      <th>Links</th>\n",
       "      <th></th>\n",
       "      <th></th>\n",
       "      <th></th>\n",
       "      <th></th>\n",
       "      <th></th>\n",
       "    </tr>\n",
       "  </thead>\n",
       "  <tbody>\n",
       "    <tr>\n",
       "      <th>DMZ1</th>\n",
       "      <td>1</td>\n",
       "      <td>1</td>\n",
       "      <td>0</td>\n",
       "      <td>1</td>\n",
       "      <td>1</td>\n",
       "    </tr>\n",
       "    <tr>\n",
       "      <th>DMZ2</th>\n",
       "      <td>0</td>\n",
       "      <td>1</td>\n",
       "      <td>0</td>\n",
       "      <td>1</td>\n",
       "      <td>1</td>\n",
       "    </tr>\n",
       "    <tr>\n",
       "      <th>DMZ3</th>\n",
       "      <td>1</td>\n",
       "      <td>0</td>\n",
       "      <td>1</td>\n",
       "      <td>1</td>\n",
       "      <td>0</td>\n",
       "    </tr>\n",
       "    <tr>\n",
       "      <th>DMZ4</th>\n",
       "      <td>0</td>\n",
       "      <td>0</td>\n",
       "      <td>1</td>\n",
       "      <td>0</td>\n",
       "      <td>1</td>\n",
       "    </tr>\n",
       "    <tr>\n",
       "      <th>DMZ5</th>\n",
       "      <td>0</td>\n",
       "      <td>1</td>\n",
       "      <td>0</td>\n",
       "      <td>1</td>\n",
       "      <td>1</td>\n",
       "    </tr>\n",
       "  </tbody>\n",
       "</table>\n",
       "</div>"
      ],
      "text/plain": [
       "       Ampang Intake  Batang Kali  Bernam River Head  Wangsa Maju  \\\n",
       "Links                                                               \n",
       "DMZ1               1            1                  0            1   \n",
       "DMZ2               0            1                  0            1   \n",
       "DMZ3               1            0                  1            1   \n",
       "DMZ4               0            0                  1            0   \n",
       "DMZ5               0            1                  0            1   \n",
       "\n",
       "       Sungai Tengi  \n",
       "Links                \n",
       "DMZ1              1  \n",
       "DMZ2              1  \n",
       "DMZ3              0  \n",
       "DMZ4              1  \n",
       "DMZ5              1  "
      ]
     },
     "metadata": {},
     "output_type": "display_data"
    }
   ],
   "source": [
    "linkage = pd.read_excel(\"../dataset/linkage.xlsx\", index_col=0)\n",
    "linkage"
   ]
  },
  {
   "cell_type": "code",
   "execution_count": 50,
   "metadata": {},
   "outputs": [],
   "source": [
    "connection = np.random.choice([0, 1], size=(len(DMZ), len(WTP)), p=[0.1, 0.9])"
   ]
  },
  {
   "cell_type": "code",
   "execution_count": 51,
   "metadata": {},
   "outputs": [],
   "source": [
    "new_linkage = pd.DataFrame(connection, columns=WTP, index=DMZ)"
   ]
  },
  {
   "cell_type": "code",
   "execution_count": 19,
   "metadata": {},
   "outputs": [],
   "source": [
    "# Exporting\n",
    "# new_linkage.to_excel(\"../dataset2/linkage2.xlsx\")\n",
    "\n",
    "\n",
    "# Importing\n",
    "new_linkage = pd.read_excel(\"../dataset2/linkage2.xlsx\", index_col=0)"
   ]
  },
  {
   "cell_type": "code",
   "execution_count": 20,
   "metadata": {},
   "outputs": [
    {
     "name": "stderr",
     "output_type": "stream",
     "text": [
      "C:\\Users\\XA155XB\\Anaconda3\\envs\\walmart2\\lib\\site-packages\\seaborn\\_decorators.py:43: FutureWarning: Pass the following variable as a keyword arg: x. From version 0.12, the only valid positional argument will be `data`, and passing other arguments without an explicit keyword will result in an error or misinterpretation.\n",
      "  FutureWarning\n"
     ]
    },
    {
     "data": {
      "text/plain": [
       "Text(0.5, 1.0, 'Bar Chart of Linkages')"
      ]
     },
     "execution_count": 20,
     "metadata": {},
     "output_type": "execute_result"
    },
    {
     "data": {
      "image/png": "[encoded data removed]",
      "text/plain": [
       "<Figure size 432x288 with 1 Axes>"
      ]
     },
     "metadata": {
      "needs_background": "light"
     },
     "output_type": "display_data"
    }
   ],
   "source": [
    "temp=new_linkage.values\n",
    "# temp = loss\n",
    "# temp = np.array(loss)\n",
    "temp = temp.flatten()\n",
    "sns.countplot(temp)\n",
    "plt.title(\"Bar Chart of Linkages\")"
   ]
  },
  {
   "cell_type": "code",
   "execution_count": null,
   "metadata": {},
   "outputs": [],
   "source": []
  },
  {
   "cell_type": "code",
   "execution_count": null,
   "metadata": {},
   "outputs": [],
   "source": []
  },
  {
   "cell_type": "markdown",
   "metadata": {},
   "source": [
    "### Variable Cost for each combination of (DMZ, WTP)"
   ]
  },
  {
   "cell_type": "code",
   "execution_count": null,
   "metadata": {},
   "outputs": [
    {
     "data": {
      "text/html": [
       "<div>\n",
       "<style scoped>\n",
       "    .dataframe tbody tr th:only-of-type {\n",
       "        vertical-align: middle;\n",
       "    }\n",
       "\n",
       "    .dataframe tbody tr th {\n",
       "        vertical-align: top;\n",
       "    }\n",
       "\n",
       "    .dataframe thead th {\n",
       "        text-align: right;\n",
       "    }\n",
       "</style>\n",
       "<table border=\"1\" class=\"dataframe\">\n",
       "  <thead>\n",
       "    <tr style=\"text-align: right;\">\n",
       "      <th></th>\n",
       "      <th>Ampang Intake</th>\n",
       "      <th>Batang Kali</th>\n",
       "      <th>Bernam River Head</th>\n",
       "      <th>Wangsa Maju</th>\n",
       "      <th>Sungai Tengi</th>\n",
       "    </tr>\n",
       "    <tr>\n",
       "      <th>Variable Costs</th>\n",
       "      <th></th>\n",
       "      <th></th>\n",
       "      <th></th>\n",
       "      <th></th>\n",
       "      <th></th>\n",
       "    </tr>\n",
       "  </thead>\n",
       "  <tbody>\n",
       "    <tr>\n",
       "      <th>DMZ1</th>\n",
       "      <td>12</td>\n",
       "      <td>12</td>\n",
       "      <td>12</td>\n",
       "      <td>12</td>\n",
       "      <td>12</td>\n",
       "    </tr>\n",
       "    <tr>\n",
       "      <th>DMZ2</th>\n",
       "      <td>13</td>\n",
       "      <td>13</td>\n",
       "      <td>13</td>\n",
       "      <td>13</td>\n",
       "      <td>13</td>\n",
       "    </tr>\n",
       "    <tr>\n",
       "      <th>DMZ3</th>\n",
       "      <td>10</td>\n",
       "      <td>10</td>\n",
       "      <td>10</td>\n",
       "      <td>10</td>\n",
       "      <td>10</td>\n",
       "    </tr>\n",
       "    <tr>\n",
       "      <th>DMZ4</th>\n",
       "      <td>8</td>\n",
       "      <td>8</td>\n",
       "      <td>8</td>\n",
       "      <td>8</td>\n",
       "      <td>8</td>\n",
       "    </tr>\n",
       "    <tr>\n",
       "      <th>DMZ5</th>\n",
       "      <td>5</td>\n",
       "      <td>5</td>\n",
       "      <td>5</td>\n",
       "      <td>5</td>\n",
       "      <td>5</td>\n",
       "    </tr>\n",
       "  </tbody>\n",
       "</table>\n",
       "</div>"
      ],
      "text/plain": [
       "                Ampang Intake  Batang Kali  Bernam River Head  Wangsa Maju  \\\n",
       "Variable Costs                                                               \n",
       "DMZ1                       12           12                 12           12   \n",
       "DMZ2                       13           13                 13           13   \n",
       "DMZ3                       10           10                 10           10   \n",
       "DMZ4                        8            8                  8            8   \n",
       "DMZ5                        5            5                  5            5   \n",
       "\n",
       "                Sungai Tengi  \n",
       "Variable Costs                \n",
       "DMZ1                      12  \n",
       "DMZ2                      13  \n",
       "DMZ3                      10  \n",
       "DMZ4                       8  \n",
       "DMZ5                       5  "
      ]
     },
     "metadata": {},
     "output_type": "display_data"
    }
   ],
   "source": [
    "variable_cost = pd.read_excel(\"../dataset/variable_costs.xlsx\", index_col=0)\n",
    "variable_cost.head()"
   ]
  },
  {
   "cell_type": "code",
   "execution_count": null,
   "metadata": {},
   "outputs": [],
   "source": []
  },
  {
   "cell_type": "code",
   "execution_count": 33,
   "metadata": {},
   "outputs": [],
   "source": [
    "vc =np.random.randint(low=5, high=25, size=(len(DMZ), len(WTP)))"
   ]
  },
  {
   "cell_type": "code",
   "execution_count": 34,
   "metadata": {},
   "outputs": [],
   "source": [
    "new_variable_cost = pd.DataFrame(vc,columns=WTP, index=DMZ)"
   ]
  },
  {
   "cell_type": "code",
   "execution_count": 35,
   "metadata": {},
   "outputs": [
    {
     "data": {
      "text/html": [
       "<div>\n",
       "<style scoped>\n",
       "    .dataframe tbody tr th:only-of-type {\n",
       "        vertical-align: middle;\n",
       "    }\n",
       "\n",
       "    .dataframe tbody tr th {\n",
       "        vertical-align: top;\n",
       "    }\n",
       "\n",
       "    .dataframe thead th {\n",
       "        text-align: right;\n",
       "    }\n",
       "</style>\n",
       "<table border=\"1\" class=\"dataframe\">\n",
       "  <thead>\n",
       "    <tr style=\"text-align: right;\">\n",
       "      <th>WTP</th>\n",
       "      <th>Ampang Intake</th>\n",
       "      <th>Batang Kali</th>\n",
       "      <th>Bernam River Head</th>\n",
       "      <th>WTP1</th>\n",
       "      <th>WTP2</th>\n",
       "      <th>WTP3</th>\n",
       "      <th>WTP4</th>\n",
       "      <th>WTP5</th>\n",
       "      <th>WTP6</th>\n",
       "      <th>WTP7</th>\n",
       "      <th>...</th>\n",
       "      <th>WTP33</th>\n",
       "      <th>WTP34</th>\n",
       "      <th>WTP35</th>\n",
       "      <th>WTP36</th>\n",
       "      <th>WTP37</th>\n",
       "      <th>WTP38</th>\n",
       "      <th>WTP39</th>\n",
       "      <th>WTP40</th>\n",
       "      <th>Wangsa Maju</th>\n",
       "      <th>Sungai Tengi</th>\n",
       "    </tr>\n",
       "  </thead>\n",
       "  <tbody>\n",
       "    <tr>\n",
       "      <th>DMZ001</th>\n",
       "      <td>9</td>\n",
       "      <td>14</td>\n",
       "      <td>9</td>\n",
       "      <td>12</td>\n",
       "      <td>24</td>\n",
       "      <td>13</td>\n",
       "      <td>21</td>\n",
       "      <td>20</td>\n",
       "      <td>8</td>\n",
       "      <td>10</td>\n",
       "      <td>...</td>\n",
       "      <td>21</td>\n",
       "      <td>23</td>\n",
       "      <td>11</td>\n",
       "      <td>9</td>\n",
       "      <td>17</td>\n",
       "      <td>7</td>\n",
       "      <td>19</td>\n",
       "      <td>18</td>\n",
       "      <td>5</td>\n",
       "      <td>22</td>\n",
       "    </tr>\n",
       "    <tr>\n",
       "      <th>DMZ002</th>\n",
       "      <td>12</td>\n",
       "      <td>15</td>\n",
       "      <td>23</td>\n",
       "      <td>11</td>\n",
       "      <td>18</td>\n",
       "      <td>23</td>\n",
       "      <td>17</td>\n",
       "      <td>7</td>\n",
       "      <td>7</td>\n",
       "      <td>22</td>\n",
       "      <td>...</td>\n",
       "      <td>9</td>\n",
       "      <td>9</td>\n",
       "      <td>10</td>\n",
       "      <td>23</td>\n",
       "      <td>13</td>\n",
       "      <td>18</td>\n",
       "      <td>9</td>\n",
       "      <td>15</td>\n",
       "      <td>9</td>\n",
       "      <td>11</td>\n",
       "    </tr>\n",
       "    <tr>\n",
       "      <th>DMZ003</th>\n",
       "      <td>5</td>\n",
       "      <td>20</td>\n",
       "      <td>19</td>\n",
       "      <td>8</td>\n",
       "      <td>9</td>\n",
       "      <td>17</td>\n",
       "      <td>7</td>\n",
       "      <td>12</td>\n",
       "      <td>18</td>\n",
       "      <td>9</td>\n",
       "      <td>...</td>\n",
       "      <td>21</td>\n",
       "      <td>21</td>\n",
       "      <td>19</td>\n",
       "      <td>15</td>\n",
       "      <td>15</td>\n",
       "      <td>5</td>\n",
       "      <td>6</td>\n",
       "      <td>16</td>\n",
       "      <td>11</td>\n",
       "      <td>21</td>\n",
       "    </tr>\n",
       "    <tr>\n",
       "      <th>DMZ004</th>\n",
       "      <td>22</td>\n",
       "      <td>14</td>\n",
       "      <td>15</td>\n",
       "      <td>6</td>\n",
       "      <td>12</td>\n",
       "      <td>8</td>\n",
       "      <td>9</td>\n",
       "      <td>19</td>\n",
       "      <td>17</td>\n",
       "      <td>11</td>\n",
       "      <td>...</td>\n",
       "      <td>15</td>\n",
       "      <td>9</td>\n",
       "      <td>9</td>\n",
       "      <td>24</td>\n",
       "      <td>20</td>\n",
       "      <td>8</td>\n",
       "      <td>19</td>\n",
       "      <td>13</td>\n",
       "      <td>15</td>\n",
       "      <td>5</td>\n",
       "    </tr>\n",
       "    <tr>\n",
       "      <th>DMZ005</th>\n",
       "      <td>22</td>\n",
       "      <td>10</td>\n",
       "      <td>7</td>\n",
       "      <td>21</td>\n",
       "      <td>22</td>\n",
       "      <td>12</td>\n",
       "      <td>21</td>\n",
       "      <td>20</td>\n",
       "      <td>9</td>\n",
       "      <td>18</td>\n",
       "      <td>...</td>\n",
       "      <td>8</td>\n",
       "      <td>14</td>\n",
       "      <td>18</td>\n",
       "      <td>23</td>\n",
       "      <td>20</td>\n",
       "      <td>14</td>\n",
       "      <td>7</td>\n",
       "      <td>5</td>\n",
       "      <td>6</td>\n",
       "      <td>5</td>\n",
       "    </tr>\n",
       "    <tr>\n",
       "      <th>...</th>\n",
       "      <td>...</td>\n",
       "      <td>...</td>\n",
       "      <td>...</td>\n",
       "      <td>...</td>\n",
       "      <td>...</td>\n",
       "      <td>...</td>\n",
       "      <td>...</td>\n",
       "      <td>...</td>\n",
       "      <td>...</td>\n",
       "      <td>...</td>\n",
       "      <td>...</td>\n",
       "      <td>...</td>\n",
       "      <td>...</td>\n",
       "      <td>...</td>\n",
       "      <td>...</td>\n",
       "      <td>...</td>\n",
       "      <td>...</td>\n",
       "      <td>...</td>\n",
       "      <td>...</td>\n",
       "      <td>...</td>\n",
       "      <td>...</td>\n",
       "    </tr>\n",
       "    <tr>\n",
       "      <th>DMZ2496</th>\n",
       "      <td>9</td>\n",
       "      <td>20</td>\n",
       "      <td>22</td>\n",
       "      <td>21</td>\n",
       "      <td>10</td>\n",
       "      <td>18</td>\n",
       "      <td>8</td>\n",
       "      <td>17</td>\n",
       "      <td>9</td>\n",
       "      <td>22</td>\n",
       "      <td>...</td>\n",
       "      <td>19</td>\n",
       "      <td>8</td>\n",
       "      <td>16</td>\n",
       "      <td>21</td>\n",
       "      <td>8</td>\n",
       "      <td>20</td>\n",
       "      <td>14</td>\n",
       "      <td>21</td>\n",
       "      <td>18</td>\n",
       "      <td>8</td>\n",
       "    </tr>\n",
       "    <tr>\n",
       "      <th>DMZ2497</th>\n",
       "      <td>17</td>\n",
       "      <td>16</td>\n",
       "      <td>9</td>\n",
       "      <td>17</td>\n",
       "      <td>24</td>\n",
       "      <td>15</td>\n",
       "      <td>16</td>\n",
       "      <td>7</td>\n",
       "      <td>7</td>\n",
       "      <td>14</td>\n",
       "      <td>...</td>\n",
       "      <td>16</td>\n",
       "      <td>17</td>\n",
       "      <td>7</td>\n",
       "      <td>16</td>\n",
       "      <td>11</td>\n",
       "      <td>13</td>\n",
       "      <td>19</td>\n",
       "      <td>12</td>\n",
       "      <td>13</td>\n",
       "      <td>23</td>\n",
       "    </tr>\n",
       "    <tr>\n",
       "      <th>DMZ2498</th>\n",
       "      <td>22</td>\n",
       "      <td>16</td>\n",
       "      <td>5</td>\n",
       "      <td>23</td>\n",
       "      <td>17</td>\n",
       "      <td>17</td>\n",
       "      <td>12</td>\n",
       "      <td>14</td>\n",
       "      <td>17</td>\n",
       "      <td>5</td>\n",
       "      <td>...</td>\n",
       "      <td>14</td>\n",
       "      <td>7</td>\n",
       "      <td>6</td>\n",
       "      <td>19</td>\n",
       "      <td>16</td>\n",
       "      <td>12</td>\n",
       "      <td>15</td>\n",
       "      <td>12</td>\n",
       "      <td>11</td>\n",
       "      <td>13</td>\n",
       "    </tr>\n",
       "    <tr>\n",
       "      <th>DMZ2499</th>\n",
       "      <td>13</td>\n",
       "      <td>20</td>\n",
       "      <td>21</td>\n",
       "      <td>6</td>\n",
       "      <td>21</td>\n",
       "      <td>17</td>\n",
       "      <td>14</td>\n",
       "      <td>18</td>\n",
       "      <td>10</td>\n",
       "      <td>21</td>\n",
       "      <td>...</td>\n",
       "      <td>21</td>\n",
       "      <td>22</td>\n",
       "      <td>6</td>\n",
       "      <td>19</td>\n",
       "      <td>14</td>\n",
       "      <td>20</td>\n",
       "      <td>15</td>\n",
       "      <td>22</td>\n",
       "      <td>20</td>\n",
       "      <td>18</td>\n",
       "    </tr>\n",
       "    <tr>\n",
       "      <th>DMZ2500</th>\n",
       "      <td>7</td>\n",
       "      <td>6</td>\n",
       "      <td>22</td>\n",
       "      <td>12</td>\n",
       "      <td>5</td>\n",
       "      <td>11</td>\n",
       "      <td>13</td>\n",
       "      <td>24</td>\n",
       "      <td>17</td>\n",
       "      <td>14</td>\n",
       "      <td>...</td>\n",
       "      <td>24</td>\n",
       "      <td>9</td>\n",
       "      <td>24</td>\n",
       "      <td>6</td>\n",
       "      <td>20</td>\n",
       "      <td>18</td>\n",
       "      <td>24</td>\n",
       "      <td>13</td>\n",
       "      <td>21</td>\n",
       "      <td>16</td>\n",
       "    </tr>\n",
       "  </tbody>\n",
       "</table>\n",
       "<p>2500 rows × 45 columns</p>\n",
       "</div>"
      ],
      "text/plain": [
       "WTP      Ampang Intake  Batang Kali  Bernam River Head  WTP1  WTP2  WTP3  \\\n",
       "DMZ001               9           14                  9    12    24    13   \n",
       "DMZ002              12           15                 23    11    18    23   \n",
       "DMZ003               5           20                 19     8     9    17   \n",
       "DMZ004              22           14                 15     6    12     8   \n",
       "DMZ005              22           10                  7    21    22    12   \n",
       "...                ...          ...                ...   ...   ...   ...   \n",
       "DMZ2496              9           20                 22    21    10    18   \n",
       "DMZ2497             17           16                  9    17    24    15   \n",
       "DMZ2498             22           16                  5    23    17    17   \n",
       "DMZ2499             13           20                 21     6    21    17   \n",
       "DMZ2500              7            6                 22    12     5    11   \n",
       "\n",
       "WTP      WTP4  WTP5  WTP6  WTP7  ...  WTP33  WTP34  WTP35  WTP36  WTP37  \\\n",
       "DMZ001     21    20     8    10  ...     21     23     11      9     17   \n",
       "DMZ002     17     7     7    22  ...      9      9     10     23     13   \n",
       "DMZ003      7    12    18     9  ...     21     21     19     15     15   \n",
       "DMZ004      9    19    17    11  ...     15      9      9     24     20   \n",
       "DMZ005     21    20     9    18  ...      8     14     18     23     20   \n",
       "...       ...   ...   ...   ...  ...    ...    ...    ...    ...    ...   \n",
       "DMZ2496     8    17     9    22  ...     19      8     16     21      8   \n",
       "DMZ2497    16     7     7    14  ...     16     17      7     16     11   \n",
       "DMZ2498    12    14    17     5  ...     14      7      6     19     16   \n",
       "DMZ2499    14    18    10    21  ...     21     22      6     19     14   \n",
       "DMZ2500    13    24    17    14  ...     24      9     24      6     20   \n",
       "\n",
       "WTP      WTP38  WTP39  WTP40  Wangsa Maju  Sungai Tengi  \n",
       "DMZ001       7     19     18            5            22  \n",
       "DMZ002      18      9     15            9            11  \n",
       "DMZ003       5      6     16           11            21  \n",
       "DMZ004       8     19     13           15             5  \n",
       "DMZ005      14      7      5            6             5  \n",
       "...        ...    ...    ...          ...           ...  \n",
       "DMZ2496     20     14     21           18             8  \n",
       "DMZ2497     13     19     12           13            23  \n",
       "DMZ2498     12     15     12           11            13  \n",
       "DMZ2499     20     15     22           20            18  \n",
       "DMZ2500     18     24     13           21            16  \n",
       "\n",
       "[2500 rows x 45 columns]"
      ]
     },
     "execution_count": 35,
     "metadata": {},
     "output_type": "execute_result"
    }
   ],
   "source": [
    "new_variable_cost"
   ]
  },
  {
   "cell_type": "code",
   "execution_count": 16,
   "metadata": {},
   "outputs": [],
   "source": [
    "# Exporting\n",
    "# new_variable_cost.to_excel(\"../dataset2/variable_costs.xlsx\")\n",
    "\n",
    "# Importing\n",
    "new_variable_cost = pd.read_excel(\"../dataset2/variable_costs.xlsx\", index_col=0)\n"
   ]
  },
  {
   "cell_type": "code",
   "execution_count": 17,
   "metadata": {},
   "outputs": [
    {
     "data": {
      "text/plain": [
       "Text(0.5, 1.0, 'Distribution of Variable Cost')"
      ]
     },
     "execution_count": 17,
     "metadata": {},
     "output_type": "execute_result"
    },
    {
     "data": {
      "image/png": "[encoded data removed]",
      "text/plain": [
       "<Figure size 432x288 with 1 Axes>"
      ]
     },
     "metadata": {
      "needs_background": "light"
     },
     "output_type": "display_data"
    }
   ],
   "source": [
    "temp=new_variable_cost.values\n",
    "# temp = loss\n",
    "# temp = np.array(loss)\n",
    "temp = temp.flatten()\n",
    "sns.histplot(temp)\n",
    "plt.title(\"Distribution of Variable Cost\")"
   ]
  },
  {
   "cell_type": "markdown",
   "metadata": {},
   "source": [
    "### Transport Cost for each combination of (DMZ, WTP)"
   ]
  },
  {
   "cell_type": "code",
   "execution_count": null,
   "metadata": {},
   "outputs": [
    {
     "data": {
      "text/html": [
       "<div>\n",
       "<style scoped>\n",
       "    .dataframe tbody tr th:only-of-type {\n",
       "        vertical-align: middle;\n",
       "    }\n",
       "\n",
       "    .dataframe tbody tr th {\n",
       "        vertical-align: top;\n",
       "    }\n",
       "\n",
       "    .dataframe thead th {\n",
       "        text-align: right;\n",
       "    }\n",
       "</style>\n",
       "<table border=\"1\" class=\"dataframe\">\n",
       "  <thead>\n",
       "    <tr style=\"text-align: right;\">\n",
       "      <th></th>\n",
       "      <th>Ampang Intake</th>\n",
       "      <th>Batang Kali</th>\n",
       "      <th>Bernam River Head</th>\n",
       "      <th>Wangsa Maju</th>\n",
       "      <th>Sungai Tengi</th>\n",
       "    </tr>\n",
       "    <tr>\n",
       "      <th>Freight Costs ($/Container)</th>\n",
       "      <th></th>\n",
       "      <th></th>\n",
       "      <th></th>\n",
       "      <th></th>\n",
       "      <th></th>\n",
       "    </tr>\n",
       "  </thead>\n",
       "  <tbody>\n",
       "    <tr>\n",
       "      <th>DMZ1</th>\n",
       "      <td>0</td>\n",
       "      <td>12250</td>\n",
       "      <td>1100</td>\n",
       "      <td>16100</td>\n",
       "      <td>8778</td>\n",
       "    </tr>\n",
       "    <tr>\n",
       "      <th>DMZ2</th>\n",
       "      <td>13335</td>\n",
       "      <td>0</td>\n",
       "      <td>8617</td>\n",
       "      <td>20244</td>\n",
       "      <td>10073</td>\n",
       "    </tr>\n",
       "    <tr>\n",
       "      <th>DMZ3</th>\n",
       "      <td>15400</td>\n",
       "      <td>22750</td>\n",
       "      <td>0</td>\n",
       "      <td>43610</td>\n",
       "      <td>14350</td>\n",
       "    </tr>\n",
       "    <tr>\n",
       "      <th>DMZ4</th>\n",
       "      <td>16450</td>\n",
       "      <td>22050</td>\n",
       "      <td>28000</td>\n",
       "      <td>0</td>\n",
       "      <td>29750</td>\n",
       "    </tr>\n",
       "    <tr>\n",
       "      <th>DMZ5</th>\n",
       "      <td>13650</td>\n",
       "      <td>15400</td>\n",
       "      <td>24500</td>\n",
       "      <td>29400</td>\n",
       "      <td>0</td>\n",
       "    </tr>\n",
       "  </tbody>\n",
       "</table>\n",
       "</div>"
      ],
      "text/plain": [
       "                             Ampang Intake  Batang Kali  Bernam River Head  \\\n",
       "Freight Costs ($/Container)                                                  \n",
       "DMZ1                                     0        12250               1100   \n",
       "DMZ2                                 13335            0               8617   \n",
       "DMZ3                                 15400        22750                  0   \n",
       "DMZ4                                 16450        22050              28000   \n",
       "DMZ5                                 13650        15400              24500   \n",
       "\n",
       "                             Wangsa Maju  Sungai Tengi  \n",
       "Freight Costs ($/Container)                             \n",
       "DMZ1                               16100          8778  \n",
       "DMZ2                               20244         10073  \n",
       "DMZ3                               43610         14350  \n",
       "DMZ4                                   0         29750  \n",
       "DMZ5                               29400             0  "
      ]
     },
     "metadata": {},
     "output_type": "display_data"
    }
   ],
   "source": [
    "transport_cost = pd.read_excel(\"../dataset/freight_costs.xlsx\", index_col=0)\n",
    "transport_cost.head()"
   ]
  },
  {
   "cell_type": "code",
   "execution_count": null,
   "metadata": {},
   "outputs": [],
   "source": []
  },
  {
   "cell_type": "code",
   "execution_count": null,
   "metadata": {},
   "outputs": [],
   "source": []
  },
  {
   "cell_type": "markdown",
   "metadata": {},
   "source": [
    "### Demand for each DMZ"
   ]
  },
  {
   "cell_type": "code",
   "execution_count": null,
   "metadata": {},
   "outputs": [
    {
     "data": {
      "text/html": [
       "<div>\n",
       "<style scoped>\n",
       "    .dataframe tbody tr th:only-of-type {\n",
       "        vertical-align: middle;\n",
       "    }\n",
       "\n",
       "    .dataframe tbody tr th {\n",
       "        vertical-align: top;\n",
       "    }\n",
       "\n",
       "    .dataframe thead th {\n",
       "        text-align: right;\n",
       "    }\n",
       "</style>\n",
       "<table border=\"1\" class=\"dataframe\">\n",
       "  <thead>\n",
       "    <tr style=\"text-align: right;\">\n",
       "      <th></th>\n",
       "      <th>Demand</th>\n",
       "    </tr>\n",
       "    <tr>\n",
       "      <th>DMZ</th>\n",
       "      <th></th>\n",
       "    </tr>\n",
       "  </thead>\n",
       "  <tbody>\n",
       "    <tr>\n",
       "      <th>DMZ1</th>\n",
       "      <td>2800000</td>\n",
       "    </tr>\n",
       "    <tr>\n",
       "      <th>DMZ2</th>\n",
       "      <td>90000</td>\n",
       "    </tr>\n",
       "    <tr>\n",
       "      <th>DMZ3</th>\n",
       "      <td>1700000</td>\n",
       "    </tr>\n",
       "    <tr>\n",
       "      <th>DMZ4</th>\n",
       "      <td>145000</td>\n",
       "    </tr>\n",
       "    <tr>\n",
       "      <th>DMZ5</th>\n",
       "      <td>160000</td>\n",
       "    </tr>\n",
       "  </tbody>\n",
       "</table>\n",
       "</div>"
      ],
      "text/plain": [
       "       Demand\n",
       "DMZ          \n",
       "DMZ1  2800000\n",
       "DMZ2    90000\n",
       "DMZ3  1700000\n",
       "DMZ4   145000\n",
       "DMZ5   160000"
      ]
     },
     "metadata": {},
     "output_type": "display_data"
    }
   ],
   "source": [
    "demand = pd.read_excel(\"../dataset/demand.xlsx\", index_col=0)\n",
    "demand.head()"
   ]
  },
  {
   "cell_type": "code",
   "execution_count": null,
   "metadata": {},
   "outputs": [
    {
     "data": {
      "text/html": [
       "<div>\n",
       "<style scoped>\n",
       "    .dataframe tbody tr th:only-of-type {\n",
       "        vertical-align: middle;\n",
       "    }\n",
       "\n",
       "    .dataframe tbody tr th {\n",
       "        vertical-align: top;\n",
       "    }\n",
       "\n",
       "    .dataframe thead th {\n",
       "        text-align: right;\n",
       "    }\n",
       "</style>\n",
       "<table border=\"1\" class=\"dataframe\">\n",
       "  <thead>\n",
       "    <tr style=\"text-align: right;\">\n",
       "      <th></th>\n",
       "      <th>Demand</th>\n",
       "    </tr>\n",
       "    <tr>\n",
       "      <th>DMZ</th>\n",
       "      <th></th>\n",
       "    </tr>\n",
       "  </thead>\n",
       "  <tbody>\n",
       "    <tr>\n",
       "      <th>DMZ1</th>\n",
       "      <td>2800000.0</td>\n",
       "    </tr>\n",
       "    <tr>\n",
       "      <th>DMZ2</th>\n",
       "      <td>90000.0</td>\n",
       "    </tr>\n",
       "    <tr>\n",
       "      <th>DMZ3</th>\n",
       "      <td>1700000.0</td>\n",
       "    </tr>\n",
       "    <tr>\n",
       "      <th>DMZ4</th>\n",
       "      <td>145000.0</td>\n",
       "    </tr>\n",
       "    <tr>\n",
       "      <th>DMZ5</th>\n",
       "      <td>160000.0</td>\n",
       "    </tr>\n",
       "  </tbody>\n",
       "</table>\n",
       "</div>"
      ],
      "text/plain": [
       "         Demand\n",
       "DMZ            \n",
       "DMZ1  2800000.0\n",
       "DMZ2    90000.0\n",
       "DMZ3  1700000.0\n",
       "DMZ4   145000.0\n",
       "DMZ5   160000.0"
      ]
     },
     "metadata": {},
     "output_type": "display_data"
    }
   ],
   "source": [
    "demand[\"Demand\"] = pd.to_numeric(demand[\"Demand\"], downcast=\"float\")\n",
    "demand.head()"
   ]
  },
  {
   "cell_type": "code",
   "execution_count": null,
   "metadata": {},
   "outputs": [],
   "source": []
  },
  {
   "cell_type": "code",
   "execution_count": 150,
   "metadata": {},
   "outputs": [
    {
     "data": {
      "text/plain": [
       "array([ 4.70144032,  2.59151459,  6.33602699, 11.64215825,  7.7387402 ,\n",
       "        7.69023003, 21.45025225, 11.28000346, 13.07512943,  7.22602526])"
      ]
     },
     "execution_count": 150,
     "metadata": {},
     "output_type": "execute_result"
    }
   ],
   "source": [
    "np.random.chisquare(df=10, size=10)"
   ]
  },
  {
   "cell_type": "code",
   "execution_count": 162,
   "metadata": {},
   "outputs": [
    {
     "name": "stdout",
     "output_type": "stream",
     "text": [
      "0.16666666666666666\n"
     ]
    }
   ],
   "source": [
    "alpha = 2\n",
    "beta = 10\n",
    "\n",
    "demand = np.random.beta(alpha, beta, 1000)\n",
    "\n",
    "mean = alpha / (alpha+beta) \n",
    "print(mean)\n"
   ]
  },
  {
   "cell_type": "code",
   "execution_count": 190,
   "metadata": {},
   "outputs": [
    {
     "name": "stdout",
     "output_type": "stream",
     "text": [
      "180000.0 1600000000.0 1.0 1.5\n"
     ]
    }
   ],
   "source": [
    "df = 8\n",
    "loc=100000\n",
    "scale=10000\n",
    "mean, var, skew, kurt = stats.chi2.stats(df, moments='mvsk', loc=loc, scale=scale)\n",
    "\n",
    "print(mean, var, skew, kurt)"
   ]
  },
  {
   "cell_type": "code",
   "execution_count": 198,
   "metadata": {},
   "outputs": [
    {
     "data": {
      "text/plain": [
       "[<matplotlib.lines.Line2D at 0x7fe49997a430>]"
      ]
     },
     "execution_count": 198,
     "metadata": {},
     "output_type": "execute_result"
    },
    {
     "data": {
      "image/png": "[encoded data removed]",
      "text/plain": [
       "<Figure size 432x288 with 1 Axes>"
      ]
     },
     "metadata": {
      "needs_background": "light"
     },
     "output_type": "display_data"
    }
   ],
   "source": [
    "x = np.linspace(stats.chi2.ppf(0.01, df),\n",
    "                stats.chi2.ppf(0.99, df), 100)\n",
    "\n",
    "plt.plot(x, stats.chi2.pdf(x, df),\n",
    "       'r-', lw=5, alpha=0.6, label='chi2 pdf')"
   ]
  },
  {
   "cell_type": "code",
   "execution_count": 182,
   "metadata": {},
   "outputs": [
    {
     "data": {
      "text/plain": [
       "[<matplotlib.lines.Line2D at 0x7fe49ae59880>]"
      ]
     },
     "execution_count": 182,
     "metadata": {},
     "output_type": "execute_result"
    },
    {
     "data": {
      "image/png": "[encoded data removed]",
      "text/plain": [
       "<Figure size 432x288 with 1 Axes>"
      ]
     },
     "metadata": {
      "needs_background": "light"
     },
     "output_type": "display_data"
    }
   ],
   "source": [
    "rv = stats.chi2(df)\n",
    "plt.plot(x, rv.pdf(x), 'k-', lw=2, label='frozen pdf')"
   ]
  },
  {
   "cell_type": "code",
   "execution_count": 38,
   "metadata": {},
   "outputs": [
    {
     "name": "stdout",
     "output_type": "stream",
     "text": [
      "165000.0 800000000.0 1.4142135623730951 3.0\n"
     ]
    },
    {
     "name": "stderr",
     "output_type": "stream",
     "text": [
      "/Users/daniel/opt/anaconda3/envs/walmart2/lib/python3.8/site-packages/seaborn/distributions.py:2619: FutureWarning: `distplot` is a deprecated function and will be removed in a future version. Please adapt your code to use either `displot` (a figure-level function with similar flexibility) or `histplot` (an axes-level function for histograms).\n",
      "  warnings.warn(msg, FutureWarning)\n"
     ]
    },
    {
     "data": {
      "image/png": "[encoded data removed]",
      "text/plain": [
       "<Figure size 432x288 with 1 Axes>"
      ]
     },
     "metadata": {
      "needs_background": "light"
     },
     "output_type": "display_data"
    }
   ],
   "source": [
    "# Using Chi-squared distribution\n",
    "\n",
    "df = 4\n",
    "loc=125000\n",
    "scale=10000\n",
    "\n",
    "demand= stats.chi2.rvs(df, size=len(DMZ), loc=loc, scale=scale)\n",
    "\n",
    "temp = np.array(demand).flatten()\n",
    "sns.distplot(temp)\n",
    "\n",
    "mean, var, skew, kurt = stats.chi2.stats(df, moments='mvsk', loc=loc, scale=scale)\n",
    "\n",
    "print(mean, var, skew, kurt)"
   ]
  },
  {
   "cell_type": "code",
   "execution_count": 39,
   "metadata": {},
   "outputs": [],
   "source": [
    "# new_demand = pd.DataFrame(demand, index=DMZ, columns=[\"Demand\"])\n",
    "# new_demand = new_demand.round(5)\n",
    "\n",
    "# # Exporting\n",
    "# new_demand.to_excel(\"../dataset2/demand_chisq.xlsx\")\n"
   ]
  },
  {
   "cell_type": "code",
   "execution_count": 40,
   "metadata": {},
   "outputs": [
    {
     "name": "stdout",
     "output_type": "stream",
     "text": [
      "161941.76058678058 82394354.08801413 0.9772874682383684 0.8482995754166126\n"
     ]
    },
    {
     "name": "stderr",
     "output_type": "stream",
     "text": [
      "/Users/daniel/opt/anaconda3/envs/walmart2/lib/python3.8/site-packages/seaborn/distributions.py:2619: FutureWarning: `distplot` is a deprecated function and will be removed in a future version. Please adapt your code to use either `displot` (a figure-level function with similar flexibility) or `histplot` (an axes-level function for histograms).\n",
      "  warnings.warn(msg, FutureWarning)\n"
     ]
    },
    {
     "data": {
      "image/png": "[encoded data removed]",
      "text/plain": [
       "<Figure size 432x288 with 1 Axes>"
      ]
     },
     "metadata": {
      "needs_background": "light"
     },
     "output_type": "display_data"
    }
   ],
   "source": [
    "# Using Skew norm\n",
    "\n",
    "a = 15\n",
    "loc=150000\n",
    "scale=15000\n",
    "\n",
    "demand= stats.skewnorm.rvs(a, size=len(DMZ), loc=loc, scale=scale)\n",
    "\n",
    "temp = np.array(demand).flatten()\n",
    "sns.distplot(temp)\n",
    "\n",
    "mean, var, skew, kurt =  stats.skewnorm.stats(a, moments='mvsk', loc=loc, scale=scale)\n",
    "\n",
    "print(mean, var, skew, kurt)"
   ]
  },
  {
   "cell_type": "code",
   "execution_count": 41,
   "metadata": {},
   "outputs": [],
   "source": [
    "# new_demand = pd.DataFrame(demand, index=DMZ, columns=[\"Demand\"])\n",
    "# new_demand = new_demand.round(5)\n",
    "\n",
    "# # Exporting\n",
    "# new_demand.to_excel(\"../dataset2/demand_skewnorm.xlsx\")"
   ]
  },
  {
   "cell_type": "code",
   "execution_count": 13,
   "metadata": {},
   "outputs": [],
   "source": [
    "# Importing\n",
    "new_demand = pd.read_excel(\"../dataset2/demand_chisq.xlsx\", index_col=0)\n",
    "# new_demand = pd.read_excel(\"../dataset2/demand_skewnorm.xlsx\")\n"
   ]
  },
  {
   "cell_type": "code",
   "execution_count": 14,
   "metadata": {},
   "outputs": [
    {
     "name": "stderr",
     "output_type": "stream",
     "text": [
      "C:\\Users\\XA155XB\\Anaconda3\\envs\\walmart2\\lib\\site-packages\\seaborn\\distributions.py:2619: FutureWarning: `distplot` is a deprecated function and will be removed in a future version. Please adapt your code to use either `displot` (a figure-level function with similar flexibility) or `histplot` (an axes-level function for histograms).\n",
      "  warnings.warn(msg, FutureWarning)\n"
     ]
    },
    {
     "data": {
      "text/plain": [
       "Text(0.5, 1.0, 'Distribution of DMZ Demand')"
      ]
     },
     "execution_count": 14,
     "metadata": {},
     "output_type": "execute_result"
    },
    {
     "data": {
      "image/png": "[encoded data removed]",
      "text/plain": [
       "<Figure size 432x288 with 1 Axes>"
      ]
     },
     "metadata": {
      "needs_background": "light"
     },
     "output_type": "display_data"
    }
   ],
   "source": [
    "temp = new_demand.values\n",
    "temp = temp.flatten()\n",
    "sns.distplot(temp)\n",
    "plt.title(\"Distribution of DMZ Demand\")"
   ]
  },
  {
   "cell_type": "code",
   "execution_count": null,
   "metadata": {},
   "outputs": [],
   "source": []
  }
 ],
 "metadata": {
  "interpreter": {
   "hash": "72e137730043a9d28e550d479c35f325097005b4b6ed0d5116ad82d1d7549aec"
  },
  "kernelspec": {
   "display_name": "Python 3.8.2 64-bit ('walmart2': conda)",
   "language": "python",
   "name": "python3"
  },
  "language_info": {
   "codemirror_mode": {
    "name": "ipython",
    "version": 3
   },
   "file_extension": ".py",
   "mimetype": "text/x-python",
   "name": "python",
   "nbconvert_exporter": "python",
   "pygments_lexer": "ipython3",
   "version": "3.8.2"
  },
  "orig_nbformat": 4
 },
 "nbformat": 4,
 "nbformat_minor": 2
}
