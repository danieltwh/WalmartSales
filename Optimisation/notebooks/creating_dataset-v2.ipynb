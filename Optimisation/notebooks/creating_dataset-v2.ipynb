{
 "cells": [
  {
   "cell_type": "code",
   "execution_count": 31,
   "metadata": {},
   "outputs": [],
   "source": [
    "import os, sys\n",
    "\n",
    "import numpy as np\n",
    "import pandas as pd\n",
    "import matplotlib.pyplot as plt\n",
    "import seaborn as sns\n",
    "\n",
    "import scipy.stats as stats"
   ]
  },
  {
   "cell_type": "markdown",
   "metadata": {},
   "source": [
    "### Fixed Cost of each WTP"
   ]
  },
  {
   "cell_type": "code",
   "execution_count": 32,
   "metadata": {},
   "outputs": [
    {
     "data": {
      "text/plain": [
       "45"
      ]
     },
     "execution_count": 32,
     "metadata": {},
     "output_type": "execute_result"
    }
   ],
   "source": [
    "WTP = ['Ampang Intake', 'Batang Kali', 'Bernam River Head', 'WTP1', 'WTP2',\n",
    "       'WTP3', 'WTP4', 'WTP5', 'WTP6', 'WTP7', 'WTP8', 'WTP9', 'WTP10',\n",
    "       'WTP11', 'WTP12', 'WTP13', 'WTP14', 'WTP15', 'WTP16', 'WTP17', 'WTP18',\n",
    "       'WTP19', 'WTP20', 'WTP21', 'WTP22', 'WTP23', 'WTP24', 'WTP25', 'WTP26',\n",
    "       'WTP27', 'WTP28', 'WTP29', 'WTP30', 'WTP31', 'WTP32', 'WTP33', 'WTP34',\n",
    "       'WTP35', 'WTP36', 'WTP37', 'WTP38', 'WTP39', 'WTP40', 'Wangsa Maju',\n",
    "       'Sungai Tengi']\n",
    "len(WTP)"
   ]
  },
  {
   "cell_type": "code",
   "execution_count": 33,
   "metadata": {},
   "outputs": [],
   "source": [
    "DMZ = np.array([\"DMZ\"+ \"{:03d}\".format(x) for x in range(1, 2501)])"
   ]
  },
  {
   "cell_type": "code",
   "execution_count": 34,
   "metadata": {},
   "outputs": [
    {
     "data": {
      "text/plain": [
       "array(['DMZ001', 'DMZ002', 'DMZ003', ..., 'DMZ2498', 'DMZ2499', 'DMZ2500'],\n",
       "      dtype='<U7')"
      ]
     },
     "execution_count": 34,
     "metadata": {},
     "output_type": "execute_result"
    }
   ],
   "source": [
    "DMZ"
   ]
  },
  {
   "cell_type": "code",
   "execution_count": 35,
   "metadata": {},
   "outputs": [
    {
     "data": {
      "text/plain": [
       "2500"
      ]
     },
     "execution_count": 35,
     "metadata": {},
     "output_type": "execute_result"
    }
   ],
   "source": [
    "len(DMZ)"
   ]
  },
  {
   "cell_type": "code",
   "execution_count": 36,
   "metadata": {},
   "outputs": [],
   "source": [
    "fixed_cost = pd.DataFrame()\n",
    "fixed_cost[\"WTP\"] = WTP\n",
    "fixed_cost = fixed_cost.set_index(\"WTP\")"
   ]
  },
  {
   "cell_type": "code",
   "execution_count": 37,
   "metadata": {},
   "outputs": [],
   "source": [
    "fixed_cost[\"Fixed Cost\"] = np.random.randint(low=4000, high=12000, size=len(fixed_cost.index))"
   ]
  },
  {
   "cell_type": "code",
   "execution_count": 38,
   "metadata": {},
   "outputs": [],
   "source": [
    "# fixed_cost.to_excel(\"../dataset2/fixed_cost.xlsx\", index=True)\n",
    "fixed_cost = pd.read_excel(\"../dataset2/fixed_cost.xlsx\")"
   ]
  },
  {
   "cell_type": "code",
   "execution_count": 39,
   "metadata": {},
   "outputs": [
    {
     "data": {
      "text/plain": [
       "Text(0.5, 1.0, 'Distribution of WTP Fixed Cost')"
      ]
     },
     "execution_count": 39,
     "metadata": {},
     "output_type": "execute_result"
    },
    {
     "data": {
      "image/png": "[encoded data removed]",
      "text/plain": [
       "<Figure size 432x288 with 1 Axes>"
      ]
     },
     "metadata": {
      "needs_background": "light"
     },
     "output_type": "display_data"
    }
   ],
   "source": [
    "sns.histplot(x=\"Fixed Cost\", data=fixed_cost, bins=20)\n",
    "plt.title(\"Distribution of WTP Fixed Cost\")"
   ]
  },
  {
   "cell_type": "markdown",
   "metadata": {},
   "source": [
    "### Capacity of each WTP"
   ]
  },
  {
   "cell_type": "code",
   "execution_count": 40,
   "metadata": {},
   "outputs": [],
   "source": [
    "# # With uniform distribution\n",
    "# wtp_capacity = np.random.randint(low = 1750000, high=4000000, size=len(WTP))\n",
    "# new_capacity = pd.DataFrame({\"Capacity\": wtp_capacity}, index=WTP)"
   ]
  },
  {
   "cell_type": "code",
   "execution_count": 41,
   "metadata": {},
   "outputs": [],
   "source": [
    "# With norm distribution\n",
    "\n",
    "# Parameters of the distribution\n",
    "lower, upper = 17500000, 40000000\n",
    "mu, sigma = 28000000, 1000000\n",
    "\n",
    "# Creating the distribution generator\n",
    "capacity_generator = stats.truncnorm(\n",
    "    (lower - mu) / sigma, (upper - mu) / sigma, loc = mu, scale=sigma, \n",
    ")\n",
    "capacity= capacity_generator.rvs(size=len(WTP))\n",
    "new_capacity = pd.DataFrame({\"Capacity\": capacity}, index=WTP)\n",
    "new_capacity = new_capacity.round(5)"
   ]
  },
  {
   "cell_type": "code",
   "execution_count": 42,
   "metadata": {},
   "outputs": [],
   "source": [
    "# new_capacity.to_excel(\"../dataset2/capacity.xlsx\")\n",
    "new_capacity = pd.read_excel(\"../dataset2/capacity.xlsx\")"
   ]
  },
  {
   "cell_type": "code",
   "execution_count": 43,
   "metadata": {},
   "outputs": [
    {
     "name": "stderr",
     "output_type": "stream",
     "text": [
      "C:\\Users\\XA155XB\\Anaconda3\\envs\\walmart2\\lib\\site-packages\\seaborn\\distributions.py:2619: FutureWarning: `distplot` is a deprecated function and will be removed in a future version. Please adapt your code to use either `displot` (a figure-level function with similar flexibility) or `histplot` (an axes-level function for histograms).\n",
      "  warnings.warn(msg, FutureWarning)\n"
     ]
    },
    {
     "data": {
      "text/plain": [
       "<matplotlib.axes._subplots.AxesSubplot at 0x272e01c81c8>"
      ]
     },
     "execution_count": 43,
     "metadata": {},
     "output_type": "execute_result"
    },
    {
     "data": {
      "image/png": "[encoded data removed]",
      "text/plain": [
       "<Figure size 432x288 with 1 Axes>"
      ]
     },
     "metadata": {
      "needs_background": "light"
     },
     "output_type": "display_data"
    }
   ],
   "source": [
    "sns.distplot(new_capacity[\"Capacity\"])"
   ]
  },
  {
   "cell_type": "code",
   "execution_count": 44,
   "metadata": {},
   "outputs": [
    {
     "data": {
      "text/plain": [
       "Text(0.5, 1.0, 'Distribution of WTP Capacity')"
      ]
     },
     "execution_count": 44,
     "metadata": {},
     "output_type": "execute_result"
    },
    {
     "data": {
      "image/png": "[encoded data removed]",
      "text/plain": [
       "<Figure size 432x288 with 1 Axes>"
      ]
     },
     "metadata": {
      "needs_background": "light"
     },
     "output_type": "display_data"
    }
   ],
   "source": [
    "sns.histplot(new_capacity[\"Capacity\"], bins = 12)\n",
    "plt.title(\"Distribution of WTP Capacity\")"
   ]
  },
  {
   "cell_type": "markdown",
   "metadata": {},
   "source": [
    "### Distribution Loss"
   ]
  },
  {
   "cell_type": "code",
   "execution_count": 45,
   "metadata": {},
   "outputs": [],
   "source": [
    "# Parameters of the distribution\n",
    "lower, upper = 0.23, 0.36\n",
    "mu, sigma = 0.30, 0.035\n",
    "\n",
    "# Creating the distribution generator\n",
    "loss_generator = stats.truncnorm(\n",
    "    (lower - mu) / sigma, (upper - mu) / sigma, loc = mu, scale=sigma, \n",
    ")\n",
    "loss = loss_generator.rvs(size=(len(DMZ), len(WTP)))"
   ]
  },
  {
   "cell_type": "code",
   "execution_count": 46,
   "metadata": {},
   "outputs": [],
   "source": [
    "new_distribution_loss = pd.DataFrame(loss,columns=WTP, index=DMZ)\n",
    "new_distribution_loss = new_distribution_loss.round(5)"
   ]
  },
  {
   "cell_type": "code",
   "execution_count": 47,
   "metadata": {},
   "outputs": [],
   "source": [
    "temp = np.array(loss)\n",
    "water_loss = temp.flatten()"
   ]
  },
  {
   "cell_type": "code",
   "execution_count": 48,
   "metadata": {},
   "outputs": [
    {
     "data": {
      "text/plain": [
       "<matplotlib.axes._subplots.AxesSubplot at 0x272e0251a88>"
      ]
     },
     "execution_count": 48,
     "metadata": {},
     "output_type": "execute_result"
    },
    {
     "data": {
      "image/png": "[encoded data removed]",
      "text/plain": [
       "<Figure size 432x288 with 1 Axes>"
      ]
     },
     "metadata": {
      "needs_background": "light"
     },
     "output_type": "display_data"
    }
   ],
   "source": [
    "sns.histplot(water_loss)"
   ]
  },
  {
   "cell_type": "code",
   "execution_count": 49,
   "metadata": {},
   "outputs": [
    {
     "data": {
      "text/html": [
       "<div>\n",
       "<style scoped>\n",
       "    .dataframe tbody tr th:only-of-type {\n",
       "        vertical-align: middle;\n",
       "    }\n",
       "\n",
       "    .dataframe tbody tr th {\n",
       "        vertical-align: top;\n",
       "    }\n",
       "\n",
       "    .dataframe thead th {\n",
       "        text-align: right;\n",
       "    }\n",
       "</style>\n",
       "<table border=\"1\" class=\"dataframe\">\n",
       "  <thead>\n",
       "    <tr style=\"text-align: right;\">\n",
       "      <th></th>\n",
       "      <th>Ampang Intake</th>\n",
       "      <th>Batang Kali</th>\n",
       "      <th>Bernam River Head</th>\n",
       "      <th>WTP1</th>\n",
       "      <th>WTP2</th>\n",
       "      <th>WTP3</th>\n",
       "      <th>WTP4</th>\n",
       "      <th>WTP5</th>\n",
       "      <th>WTP6</th>\n",
       "      <th>WTP7</th>\n",
       "      <th>...</th>\n",
       "      <th>WTP33</th>\n",
       "      <th>WTP34</th>\n",
       "      <th>WTP35</th>\n",
       "      <th>WTP36</th>\n",
       "      <th>WTP37</th>\n",
       "      <th>WTP38</th>\n",
       "      <th>WTP39</th>\n",
       "      <th>WTP40</th>\n",
       "      <th>Wangsa Maju</th>\n",
       "      <th>Sungai Tengi</th>\n",
       "    </tr>\n",
       "  </thead>\n",
       "  <tbody>\n",
       "    <tr>\n",
       "      <th>DMZ001</th>\n",
       "      <td>0.33190</td>\n",
       "      <td>0.27310</td>\n",
       "      <td>0.30739</td>\n",
       "      <td>0.31810</td>\n",
       "      <td>0.28199</td>\n",
       "      <td>0.34103</td>\n",
       "      <td>0.33171</td>\n",
       "      <td>0.31258</td>\n",
       "      <td>0.30845</td>\n",
       "      <td>0.28090</td>\n",
       "      <td>...</td>\n",
       "      <td>0.29203</td>\n",
       "      <td>0.26562</td>\n",
       "      <td>0.32777</td>\n",
       "      <td>0.27292</td>\n",
       "      <td>0.34343</td>\n",
       "      <td>0.31017</td>\n",
       "      <td>0.26388</td>\n",
       "      <td>0.27863</td>\n",
       "      <td>0.29751</td>\n",
       "      <td>0.30977</td>\n",
       "    </tr>\n",
       "    <tr>\n",
       "      <th>DMZ002</th>\n",
       "      <td>0.29564</td>\n",
       "      <td>0.28511</td>\n",
       "      <td>0.31517</td>\n",
       "      <td>0.28043</td>\n",
       "      <td>0.26065</td>\n",
       "      <td>0.29217</td>\n",
       "      <td>0.25282</td>\n",
       "      <td>0.32846</td>\n",
       "      <td>0.30850</td>\n",
       "      <td>0.28689</td>\n",
       "      <td>...</td>\n",
       "      <td>0.35743</td>\n",
       "      <td>0.30059</td>\n",
       "      <td>0.24931</td>\n",
       "      <td>0.24788</td>\n",
       "      <td>0.27385</td>\n",
       "      <td>0.28677</td>\n",
       "      <td>0.33713</td>\n",
       "      <td>0.27487</td>\n",
       "      <td>0.30182</td>\n",
       "      <td>0.26880</td>\n",
       "    </tr>\n",
       "    <tr>\n",
       "      <th>DMZ003</th>\n",
       "      <td>0.33296</td>\n",
       "      <td>0.32869</td>\n",
       "      <td>0.28515</td>\n",
       "      <td>0.30909</td>\n",
       "      <td>0.24686</td>\n",
       "      <td>0.28264</td>\n",
       "      <td>0.26625</td>\n",
       "      <td>0.26022</td>\n",
       "      <td>0.35351</td>\n",
       "      <td>0.28449</td>\n",
       "      <td>...</td>\n",
       "      <td>0.31841</td>\n",
       "      <td>0.27442</td>\n",
       "      <td>0.28504</td>\n",
       "      <td>0.29959</td>\n",
       "      <td>0.26834</td>\n",
       "      <td>0.29392</td>\n",
       "      <td>0.29510</td>\n",
       "      <td>0.32657</td>\n",
       "      <td>0.30794</td>\n",
       "      <td>0.26735</td>\n",
       "    </tr>\n",
       "    <tr>\n",
       "      <th>DMZ004</th>\n",
       "      <td>0.28693</td>\n",
       "      <td>0.27764</td>\n",
       "      <td>0.29962</td>\n",
       "      <td>0.35858</td>\n",
       "      <td>0.29187</td>\n",
       "      <td>0.30769</td>\n",
       "      <td>0.33187</td>\n",
       "      <td>0.30605</td>\n",
       "      <td>0.28798</td>\n",
       "      <td>0.29495</td>\n",
       "      <td>...</td>\n",
       "      <td>0.30500</td>\n",
       "      <td>0.28788</td>\n",
       "      <td>0.35705</td>\n",
       "      <td>0.34698</td>\n",
       "      <td>0.32018</td>\n",
       "      <td>0.32079</td>\n",
       "      <td>0.26921</td>\n",
       "      <td>0.25816</td>\n",
       "      <td>0.32493</td>\n",
       "      <td>0.30548</td>\n",
       "    </tr>\n",
       "    <tr>\n",
       "      <th>DMZ005</th>\n",
       "      <td>0.32684</td>\n",
       "      <td>0.32456</td>\n",
       "      <td>0.30054</td>\n",
       "      <td>0.33183</td>\n",
       "      <td>0.34071</td>\n",
       "      <td>0.24720</td>\n",
       "      <td>0.28271</td>\n",
       "      <td>0.35685</td>\n",
       "      <td>0.29318</td>\n",
       "      <td>0.26213</td>\n",
       "      <td>...</td>\n",
       "      <td>0.27989</td>\n",
       "      <td>0.28610</td>\n",
       "      <td>0.35825</td>\n",
       "      <td>0.29667</td>\n",
       "      <td>0.29980</td>\n",
       "      <td>0.25853</td>\n",
       "      <td>0.27726</td>\n",
       "      <td>0.28146</td>\n",
       "      <td>0.28089</td>\n",
       "      <td>0.29678</td>\n",
       "    </tr>\n",
       "    <tr>\n",
       "      <th>...</th>\n",
       "      <td>...</td>\n",
       "      <td>...</td>\n",
       "      <td>...</td>\n",
       "      <td>...</td>\n",
       "      <td>...</td>\n",
       "      <td>...</td>\n",
       "      <td>...</td>\n",
       "      <td>...</td>\n",
       "      <td>...</td>\n",
       "      <td>...</td>\n",
       "      <td>...</td>\n",
       "      <td>...</td>\n",
       "      <td>...</td>\n",
       "      <td>...</td>\n",
       "      <td>...</td>\n",
       "      <td>...</td>\n",
       "      <td>...</td>\n",
       "      <td>...</td>\n",
       "      <td>...</td>\n",
       "      <td>...</td>\n",
       "      <td>...</td>\n",
       "    </tr>\n",
       "    <tr>\n",
       "      <th>DMZ2496</th>\n",
       "      <td>0.32782</td>\n",
       "      <td>0.25197</td>\n",
       "      <td>0.34419</td>\n",
       "      <td>0.24926</td>\n",
       "      <td>0.33083</td>\n",
       "      <td>0.30400</td>\n",
       "      <td>0.25810</td>\n",
       "      <td>0.31087</td>\n",
       "      <td>0.31550</td>\n",
       "      <td>0.29457</td>\n",
       "      <td>...</td>\n",
       "      <td>0.32533</td>\n",
       "      <td>0.23700</td>\n",
       "      <td>0.32370</td>\n",
       "      <td>0.33809</td>\n",
       "      <td>0.29354</td>\n",
       "      <td>0.28209</td>\n",
       "      <td>0.32426</td>\n",
       "      <td>0.26880</td>\n",
       "      <td>0.29726</td>\n",
       "      <td>0.34589</td>\n",
       "    </tr>\n",
       "    <tr>\n",
       "      <th>DMZ2497</th>\n",
       "      <td>0.26360</td>\n",
       "      <td>0.26264</td>\n",
       "      <td>0.27090</td>\n",
       "      <td>0.30550</td>\n",
       "      <td>0.26362</td>\n",
       "      <td>0.30941</td>\n",
       "      <td>0.31378</td>\n",
       "      <td>0.27638</td>\n",
       "      <td>0.32204</td>\n",
       "      <td>0.32200</td>\n",
       "      <td>...</td>\n",
       "      <td>0.33319</td>\n",
       "      <td>0.28233</td>\n",
       "      <td>0.30864</td>\n",
       "      <td>0.25474</td>\n",
       "      <td>0.24413</td>\n",
       "      <td>0.33722</td>\n",
       "      <td>0.30636</td>\n",
       "      <td>0.26875</td>\n",
       "      <td>0.30736</td>\n",
       "      <td>0.33342</td>\n",
       "    </tr>\n",
       "    <tr>\n",
       "      <th>DMZ2498</th>\n",
       "      <td>0.33260</td>\n",
       "      <td>0.31594</td>\n",
       "      <td>0.35566</td>\n",
       "      <td>0.26404</td>\n",
       "      <td>0.27987</td>\n",
       "      <td>0.23330</td>\n",
       "      <td>0.30164</td>\n",
       "      <td>0.25385</td>\n",
       "      <td>0.29875</td>\n",
       "      <td>0.28676</td>\n",
       "      <td>...</td>\n",
       "      <td>0.27416</td>\n",
       "      <td>0.25716</td>\n",
       "      <td>0.33807</td>\n",
       "      <td>0.31501</td>\n",
       "      <td>0.29097</td>\n",
       "      <td>0.29462</td>\n",
       "      <td>0.31096</td>\n",
       "      <td>0.34249</td>\n",
       "      <td>0.25780</td>\n",
       "      <td>0.32819</td>\n",
       "    </tr>\n",
       "    <tr>\n",
       "      <th>DMZ2499</th>\n",
       "      <td>0.25213</td>\n",
       "      <td>0.28952</td>\n",
       "      <td>0.29301</td>\n",
       "      <td>0.33443</td>\n",
       "      <td>0.30585</td>\n",
       "      <td>0.25961</td>\n",
       "      <td>0.31473</td>\n",
       "      <td>0.28464</td>\n",
       "      <td>0.31680</td>\n",
       "      <td>0.29639</td>\n",
       "      <td>...</td>\n",
       "      <td>0.25072</td>\n",
       "      <td>0.28902</td>\n",
       "      <td>0.27620</td>\n",
       "      <td>0.30378</td>\n",
       "      <td>0.29521</td>\n",
       "      <td>0.30590</td>\n",
       "      <td>0.32510</td>\n",
       "      <td>0.31337</td>\n",
       "      <td>0.35658</td>\n",
       "      <td>0.32508</td>\n",
       "    </tr>\n",
       "    <tr>\n",
       "      <th>DMZ2500</th>\n",
       "      <td>0.23679</td>\n",
       "      <td>0.34961</td>\n",
       "      <td>0.29560</td>\n",
       "      <td>0.29565</td>\n",
       "      <td>0.32936</td>\n",
       "      <td>0.26233</td>\n",
       "      <td>0.29835</td>\n",
       "      <td>0.31184</td>\n",
       "      <td>0.35798</td>\n",
       "      <td>0.32582</td>\n",
       "      <td>...</td>\n",
       "      <td>0.25351</td>\n",
       "      <td>0.24847</td>\n",
       "      <td>0.30215</td>\n",
       "      <td>0.30414</td>\n",
       "      <td>0.34950</td>\n",
       "      <td>0.35362</td>\n",
       "      <td>0.31000</td>\n",
       "      <td>0.25931</td>\n",
       "      <td>0.32223</td>\n",
       "      <td>0.29748</td>\n",
       "    </tr>\n",
       "  </tbody>\n",
       "</table>\n",
       "<p>2500 rows × 45 columns</p>\n",
       "</div>"
      ],
      "text/plain": [
       "         Ampang Intake  Batang Kali  Bernam River Head     WTP1     WTP2  \\\n",
       "DMZ001         0.33190      0.27310            0.30739  0.31810  0.28199   \n",
       "DMZ002         0.29564      0.28511            0.31517  0.28043  0.26065   \n",
       "DMZ003         0.33296      0.32869            0.28515  0.30909  0.24686   \n",
       "DMZ004         0.28693      0.27764            0.29962  0.35858  0.29187   \n",
       "DMZ005         0.32684      0.32456            0.30054  0.33183  0.34071   \n",
       "...                ...          ...                ...      ...      ...   \n",
       "DMZ2496        0.32782      0.25197            0.34419  0.24926  0.33083   \n",
       "DMZ2497        0.26360      0.26264            0.27090  0.30550  0.26362   \n",
       "DMZ2498        0.33260      0.31594            0.35566  0.26404  0.27987   \n",
       "DMZ2499        0.25213      0.28952            0.29301  0.33443  0.30585   \n",
       "DMZ2500        0.23679      0.34961            0.29560  0.29565  0.32936   \n",
       "\n",
       "            WTP3     WTP4     WTP5     WTP6     WTP7  ...    WTP33    WTP34  \\\n",
       "DMZ001   0.34103  0.33171  0.31258  0.30845  0.28090  ...  0.29203  0.26562   \n",
       "DMZ002   0.29217  0.25282  0.32846  0.30850  0.28689  ...  0.35743  0.30059   \n",
       "DMZ003   0.28264  0.26625  0.26022  0.35351  0.28449  ...  0.31841  0.27442   \n",
       "DMZ004   0.30769  0.33187  0.30605  0.28798  0.29495  ...  0.30500  0.28788   \n",
       "DMZ005   0.24720  0.28271  0.35685  0.29318  0.26213  ...  0.27989  0.28610   \n",
       "...          ...      ...      ...      ...      ...  ...      ...      ...   \n",
       "DMZ2496  0.30400  0.25810  0.31087  0.31550  0.29457  ...  0.32533  0.23700   \n",
       "DMZ2497  0.30941  0.31378  0.27638  0.32204  0.32200  ...  0.33319  0.28233   \n",
       "DMZ2498  0.23330  0.30164  0.25385  0.29875  0.28676  ...  0.27416  0.25716   \n",
       "DMZ2499  0.25961  0.31473  0.28464  0.31680  0.29639  ...  0.25072  0.28902   \n",
       "DMZ2500  0.26233  0.29835  0.31184  0.35798  0.32582  ...  0.25351  0.24847   \n",
       "\n",
       "           WTP35    WTP36    WTP37    WTP38    WTP39    WTP40  Wangsa Maju  \\\n",
       "DMZ001   0.32777  0.27292  0.34343  0.31017  0.26388  0.27863      0.29751   \n",
       "DMZ002   0.24931  0.24788  0.27385  0.28677  0.33713  0.27487      0.30182   \n",
       "DMZ003   0.28504  0.29959  0.26834  0.29392  0.29510  0.32657      0.30794   \n",
       "DMZ004   0.35705  0.34698  0.32018  0.32079  0.26921  0.25816      0.32493   \n",
       "DMZ005   0.35825  0.29667  0.29980  0.25853  0.27726  0.28146      0.28089   \n",
       "...          ...      ...      ...      ...      ...      ...          ...   \n",
       "DMZ2496  0.32370  0.33809  0.29354  0.28209  0.32426  0.26880      0.29726   \n",
       "DMZ2497  0.30864  0.25474  0.24413  0.33722  0.30636  0.26875      0.30736   \n",
       "DMZ2498  0.33807  0.31501  0.29097  0.29462  0.31096  0.34249      0.25780   \n",
       "DMZ2499  0.27620  0.30378  0.29521  0.30590  0.32510  0.31337      0.35658   \n",
       "DMZ2500  0.30215  0.30414  0.34950  0.35362  0.31000  0.25931      0.32223   \n",
       "\n",
       "         Sungai Tengi  \n",
       "DMZ001        0.30977  \n",
       "DMZ002        0.26880  \n",
       "DMZ003        0.26735  \n",
       "DMZ004        0.30548  \n",
       "DMZ005        0.29678  \n",
       "...               ...  \n",
       "DMZ2496       0.34589  \n",
       "DMZ2497       0.33342  \n",
       "DMZ2498       0.32819  \n",
       "DMZ2499       0.32508  \n",
       "DMZ2500       0.29748  \n",
       "\n",
       "[2500 rows x 45 columns]"
      ]
     },
     "execution_count": 49,
     "metadata": {},
     "output_type": "execute_result"
    }
   ],
   "source": [
    "new_distribution_loss"
   ]
  },
  {
   "cell_type": "code",
   "execution_count": 50,
   "metadata": {},
   "outputs": [],
   "source": [
    "# Exporting\n",
    "# new_distribution_loss.to_excel(\"../dataset2/distribution_loss.xlsx\")\n",
    "\n",
    "# Importing\n",
    "new_distribution_loss = pd.read_excel(\"../dataset2/distribution_loss.xlsx\", index_col=0)"
   ]
  },
  {
   "cell_type": "code",
   "execution_count": 51,
   "metadata": {},
   "outputs": [
    {
     "data": {
      "text/plain": [
       "Text(0.5, 1.0, 'Distribution of Water Loss')"
      ]
     },
     "execution_count": 51,
     "metadata": {},
     "output_type": "execute_result"
    },
    {
     "data": {
      "image/png": "[encoded data removed]",
      "text/plain": [
       "<Figure size 432x288 with 1 Axes>"
      ]
     },
     "metadata": {
      "needs_background": "light"
     },
     "output_type": "display_data"
    }
   ],
   "source": [
    "temp=new_distribution_loss.values\n",
    "water_loss = temp.flatten()\n",
    "sns.histplot(water_loss)\n",
    "plt.title(\"Distribution of Water Loss\")"
   ]
  },
  {
   "cell_type": "markdown",
   "metadata": {},
   "source": [
    "### Links between WTP and DMZ"
   ]
  },
  {
   "cell_type": "code",
   "execution_count": 52,
   "metadata": {},
   "outputs": [],
   "source": [
    "# Parameters of the distribution\n",
    "probability_have_connection = 0.9\n",
    "\n",
    "# Creating the linkages\n",
    "connection = np.random.choice([0, 1], size=(len(DMZ), len(WTP)), p=[1-probability_have_connection, probability_have_connection])"
   ]
  },
  {
   "cell_type": "code",
   "execution_count": 53,
   "metadata": {},
   "outputs": [],
   "source": [
    "new_linkage = pd.DataFrame(connection, columns=WTP, index=DMZ)"
   ]
  },
  {
   "cell_type": "code",
   "execution_count": 54,
   "metadata": {},
   "outputs": [],
   "source": [
    "# Exporting\n",
    "# new_linkage.to_excel(\"../dataset2/linkage2.xlsx\")\n",
    "\n",
    "\n",
    "# Importing\n",
    "new_linkage = pd.read_excel(\"../dataset2/linkage2.xlsx\", index_col=0)"
   ]
  },
  {
   "cell_type": "code",
   "execution_count": 55,
   "metadata": {},
   "outputs": [
    {
     "name": "stderr",
     "output_type": "stream",
     "text": [
      "C:\\Users\\XA155XB\\Anaconda3\\envs\\walmart2\\lib\\site-packages\\seaborn\\_decorators.py:43: FutureWarning: Pass the following variable as a keyword arg: x. From version 0.12, the only valid positional argument will be `data`, and passing other arguments without an explicit keyword will result in an error or misinterpretation.\n",
      "  FutureWarning\n"
     ]
    },
    {
     "data": {
      "text/plain": [
       "Text(0.5, 1.0, 'Bar Chart of Linkages')"
      ]
     },
     "execution_count": 55,
     "metadata": {},
     "output_type": "execute_result"
    },
    {
     "data": {
      "image/png": "[encoded data removed]",
      "text/plain": [
       "<Figure size 432x288 with 1 Axes>"
      ]
     },
     "metadata": {
      "needs_background": "light"
     },
     "output_type": "display_data"
    }
   ],
   "source": [
    "temp=new_linkage.values\n",
    "# temp = loss\n",
    "# temp = np.array(loss)\n",
    "temp = temp.flatten()\n",
    "sns.countplot(temp)\n",
    "plt.title(\"Bar Chart of Linkages\")"
   ]
  },
  {
   "cell_type": "markdown",
   "metadata": {},
   "source": [
    "### Variable Cost for each combination of (DMZ, WTP)"
   ]
  },
  {
   "cell_type": "code",
   "execution_count": 56,
   "metadata": {},
   "outputs": [
    {
     "data": {
      "text/html": [
       "<div>\n",
       "<style scoped>\n",
       "    .dataframe tbody tr th:only-of-type {\n",
       "        vertical-align: middle;\n",
       "    }\n",
       "\n",
       "    .dataframe tbody tr th {\n",
       "        vertical-align: top;\n",
       "    }\n",
       "\n",
       "    .dataframe thead th {\n",
       "        text-align: right;\n",
       "    }\n",
       "</style>\n",
       "<table border=\"1\" class=\"dataframe\">\n",
       "  <thead>\n",
       "    <tr style=\"text-align: right;\">\n",
       "      <th></th>\n",
       "      <th>Ampang Intake</th>\n",
       "      <th>Batang Kali</th>\n",
       "      <th>Bernam River Head</th>\n",
       "      <th>Wangsa Maju</th>\n",
       "      <th>Sungai Tengi</th>\n",
       "    </tr>\n",
       "    <tr>\n",
       "      <th>Variable Costs</th>\n",
       "      <th></th>\n",
       "      <th></th>\n",
       "      <th></th>\n",
       "      <th></th>\n",
       "      <th></th>\n",
       "    </tr>\n",
       "  </thead>\n",
       "  <tbody>\n",
       "    <tr>\n",
       "      <th>DMZ1</th>\n",
       "      <td>12</td>\n",
       "      <td>12</td>\n",
       "      <td>12</td>\n",
       "      <td>12</td>\n",
       "      <td>12</td>\n",
       "    </tr>\n",
       "    <tr>\n",
       "      <th>DMZ2</th>\n",
       "      <td>13</td>\n",
       "      <td>13</td>\n",
       "      <td>13</td>\n",
       "      <td>13</td>\n",
       "      <td>13</td>\n",
       "    </tr>\n",
       "    <tr>\n",
       "      <th>DMZ3</th>\n",
       "      <td>10</td>\n",
       "      <td>10</td>\n",
       "      <td>10</td>\n",
       "      <td>10</td>\n",
       "      <td>10</td>\n",
       "    </tr>\n",
       "    <tr>\n",
       "      <th>DMZ4</th>\n",
       "      <td>8</td>\n",
       "      <td>8</td>\n",
       "      <td>8</td>\n",
       "      <td>8</td>\n",
       "      <td>8</td>\n",
       "    </tr>\n",
       "    <tr>\n",
       "      <th>DMZ5</th>\n",
       "      <td>5</td>\n",
       "      <td>5</td>\n",
       "      <td>5</td>\n",
       "      <td>5</td>\n",
       "      <td>5</td>\n",
       "    </tr>\n",
       "  </tbody>\n",
       "</table>\n",
       "</div>"
      ],
      "text/plain": [
       "                Ampang Intake  Batang Kali  Bernam River Head  Wangsa Maju  \\\n",
       "Variable Costs                                                               \n",
       "DMZ1                       12           12                 12           12   \n",
       "DMZ2                       13           13                 13           13   \n",
       "DMZ3                       10           10                 10           10   \n",
       "DMZ4                        8            8                  8            8   \n",
       "DMZ5                        5            5                  5            5   \n",
       "\n",
       "                Sungai Tengi  \n",
       "Variable Costs                \n",
       "DMZ1                      12  \n",
       "DMZ2                      13  \n",
       "DMZ3                      10  \n",
       "DMZ4                       8  \n",
       "DMZ5                       5  "
      ]
     },
     "execution_count": 56,
     "metadata": {},
     "output_type": "execute_result"
    }
   ],
   "source": [
    "variable_cost = pd.read_excel(\"../dataset/variable_costs.xlsx\", index_col=0)\n",
    "variable_cost.head()"
   ]
  },
  {
   "cell_type": "code",
   "execution_count": 57,
   "metadata": {},
   "outputs": [],
   "source": [
    "# Parameters of the distribution\n",
    "lowest_val = 5\n",
    "highest_val = 25\n",
    "\n",
    "vc =np.random.randint(low=lowest_val, high=highest_val, size=(len(DMZ), len(WTP)))"
   ]
  },
  {
   "cell_type": "code",
   "execution_count": 58,
   "metadata": {},
   "outputs": [],
   "source": [
    "new_variable_cost = pd.DataFrame(vc,columns=WTP, index=DMZ)"
   ]
  },
  {
   "cell_type": "code",
   "execution_count": 59,
   "metadata": {},
   "outputs": [
    {
     "data": {
      "text/html": [
       "<div>\n",
       "<style scoped>\n",
       "    .dataframe tbody tr th:only-of-type {\n",
       "        vertical-align: middle;\n",
       "    }\n",
       "\n",
       "    .dataframe tbody tr th {\n",
       "        vertical-align: top;\n",
       "    }\n",
       "\n",
       "    .dataframe thead th {\n",
       "        text-align: right;\n",
       "    }\n",
       "</style>\n",
       "<table border=\"1\" class=\"dataframe\">\n",
       "  <thead>\n",
       "    <tr style=\"text-align: right;\">\n",
       "      <th></th>\n",
       "      <th>Ampang Intake</th>\n",
       "      <th>Batang Kali</th>\n",
       "      <th>Bernam River Head</th>\n",
       "      <th>WTP1</th>\n",
       "      <th>WTP2</th>\n",
       "      <th>WTP3</th>\n",
       "      <th>WTP4</th>\n",
       "      <th>WTP5</th>\n",
       "      <th>WTP6</th>\n",
       "      <th>WTP7</th>\n",
       "      <th>...</th>\n",
       "      <th>WTP33</th>\n",
       "      <th>WTP34</th>\n",
       "      <th>WTP35</th>\n",
       "      <th>WTP36</th>\n",
       "      <th>WTP37</th>\n",
       "      <th>WTP38</th>\n",
       "      <th>WTP39</th>\n",
       "      <th>WTP40</th>\n",
       "      <th>Wangsa Maju</th>\n",
       "      <th>Sungai Tengi</th>\n",
       "    </tr>\n",
       "  </thead>\n",
       "  <tbody>\n",
       "    <tr>\n",
       "      <th>DMZ001</th>\n",
       "      <td>5</td>\n",
       "      <td>24</td>\n",
       "      <td>10</td>\n",
       "      <td>20</td>\n",
       "      <td>6</td>\n",
       "      <td>12</td>\n",
       "      <td>17</td>\n",
       "      <td>17</td>\n",
       "      <td>13</td>\n",
       "      <td>17</td>\n",
       "      <td>...</td>\n",
       "      <td>22</td>\n",
       "      <td>9</td>\n",
       "      <td>16</td>\n",
       "      <td>17</td>\n",
       "      <td>13</td>\n",
       "      <td>11</td>\n",
       "      <td>11</td>\n",
       "      <td>17</td>\n",
       "      <td>23</td>\n",
       "      <td>18</td>\n",
       "    </tr>\n",
       "    <tr>\n",
       "      <th>DMZ002</th>\n",
       "      <td>8</td>\n",
       "      <td>19</td>\n",
       "      <td>7</td>\n",
       "      <td>16</td>\n",
       "      <td>13</td>\n",
       "      <td>8</td>\n",
       "      <td>21</td>\n",
       "      <td>18</td>\n",
       "      <td>15</td>\n",
       "      <td>10</td>\n",
       "      <td>...</td>\n",
       "      <td>20</td>\n",
       "      <td>11</td>\n",
       "      <td>22</td>\n",
       "      <td>10</td>\n",
       "      <td>24</td>\n",
       "      <td>19</td>\n",
       "      <td>24</td>\n",
       "      <td>7</td>\n",
       "      <td>18</td>\n",
       "      <td>16</td>\n",
       "    </tr>\n",
       "    <tr>\n",
       "      <th>DMZ003</th>\n",
       "      <td>24</td>\n",
       "      <td>9</td>\n",
       "      <td>22</td>\n",
       "      <td>10</td>\n",
       "      <td>14</td>\n",
       "      <td>5</td>\n",
       "      <td>15</td>\n",
       "      <td>22</td>\n",
       "      <td>16</td>\n",
       "      <td>9</td>\n",
       "      <td>...</td>\n",
       "      <td>19</td>\n",
       "      <td>7</td>\n",
       "      <td>11</td>\n",
       "      <td>5</td>\n",
       "      <td>8</td>\n",
       "      <td>11</td>\n",
       "      <td>16</td>\n",
       "      <td>22</td>\n",
       "      <td>13</td>\n",
       "      <td>15</td>\n",
       "    </tr>\n",
       "    <tr>\n",
       "      <th>DMZ004</th>\n",
       "      <td>11</td>\n",
       "      <td>13</td>\n",
       "      <td>7</td>\n",
       "      <td>7</td>\n",
       "      <td>18</td>\n",
       "      <td>22</td>\n",
       "      <td>10</td>\n",
       "      <td>8</td>\n",
       "      <td>9</td>\n",
       "      <td>5</td>\n",
       "      <td>...</td>\n",
       "      <td>11</td>\n",
       "      <td>10</td>\n",
       "      <td>19</td>\n",
       "      <td>5</td>\n",
       "      <td>21</td>\n",
       "      <td>18</td>\n",
       "      <td>5</td>\n",
       "      <td>13</td>\n",
       "      <td>13</td>\n",
       "      <td>13</td>\n",
       "    </tr>\n",
       "    <tr>\n",
       "      <th>DMZ005</th>\n",
       "      <td>13</td>\n",
       "      <td>11</td>\n",
       "      <td>16</td>\n",
       "      <td>13</td>\n",
       "      <td>21</td>\n",
       "      <td>10</td>\n",
       "      <td>21</td>\n",
       "      <td>20</td>\n",
       "      <td>10</td>\n",
       "      <td>10</td>\n",
       "      <td>...</td>\n",
       "      <td>22</td>\n",
       "      <td>10</td>\n",
       "      <td>8</td>\n",
       "      <td>21</td>\n",
       "      <td>7</td>\n",
       "      <td>9</td>\n",
       "      <td>15</td>\n",
       "      <td>22</td>\n",
       "      <td>18</td>\n",
       "      <td>11</td>\n",
       "    </tr>\n",
       "    <tr>\n",
       "      <th>...</th>\n",
       "      <td>...</td>\n",
       "      <td>...</td>\n",
       "      <td>...</td>\n",
       "      <td>...</td>\n",
       "      <td>...</td>\n",
       "      <td>...</td>\n",
       "      <td>...</td>\n",
       "      <td>...</td>\n",
       "      <td>...</td>\n",
       "      <td>...</td>\n",
       "      <td>...</td>\n",
       "      <td>...</td>\n",
       "      <td>...</td>\n",
       "      <td>...</td>\n",
       "      <td>...</td>\n",
       "      <td>...</td>\n",
       "      <td>...</td>\n",
       "      <td>...</td>\n",
       "      <td>...</td>\n",
       "      <td>...</td>\n",
       "      <td>...</td>\n",
       "    </tr>\n",
       "    <tr>\n",
       "      <th>DMZ2496</th>\n",
       "      <td>6</td>\n",
       "      <td>18</td>\n",
       "      <td>8</td>\n",
       "      <td>10</td>\n",
       "      <td>12</td>\n",
       "      <td>8</td>\n",
       "      <td>13</td>\n",
       "      <td>15</td>\n",
       "      <td>18</td>\n",
       "      <td>12</td>\n",
       "      <td>...</td>\n",
       "      <td>21</td>\n",
       "      <td>10</td>\n",
       "      <td>10</td>\n",
       "      <td>15</td>\n",
       "      <td>13</td>\n",
       "      <td>13</td>\n",
       "      <td>19</td>\n",
       "      <td>20</td>\n",
       "      <td>5</td>\n",
       "      <td>17</td>\n",
       "    </tr>\n",
       "    <tr>\n",
       "      <th>DMZ2497</th>\n",
       "      <td>20</td>\n",
       "      <td>9</td>\n",
       "      <td>13</td>\n",
       "      <td>13</td>\n",
       "      <td>6</td>\n",
       "      <td>21</td>\n",
       "      <td>21</td>\n",
       "      <td>15</td>\n",
       "      <td>16</td>\n",
       "      <td>21</td>\n",
       "      <td>...</td>\n",
       "      <td>13</td>\n",
       "      <td>17</td>\n",
       "      <td>7</td>\n",
       "      <td>14</td>\n",
       "      <td>21</td>\n",
       "      <td>14</td>\n",
       "      <td>10</td>\n",
       "      <td>5</td>\n",
       "      <td>20</td>\n",
       "      <td>24</td>\n",
       "    </tr>\n",
       "    <tr>\n",
       "      <th>DMZ2498</th>\n",
       "      <td>21</td>\n",
       "      <td>7</td>\n",
       "      <td>24</td>\n",
       "      <td>20</td>\n",
       "      <td>14</td>\n",
       "      <td>18</td>\n",
       "      <td>22</td>\n",
       "      <td>19</td>\n",
       "      <td>7</td>\n",
       "      <td>18</td>\n",
       "      <td>...</td>\n",
       "      <td>5</td>\n",
       "      <td>21</td>\n",
       "      <td>5</td>\n",
       "      <td>8</td>\n",
       "      <td>16</td>\n",
       "      <td>10</td>\n",
       "      <td>10</td>\n",
       "      <td>17</td>\n",
       "      <td>13</td>\n",
       "      <td>22</td>\n",
       "    </tr>\n",
       "    <tr>\n",
       "      <th>DMZ2499</th>\n",
       "      <td>5</td>\n",
       "      <td>11</td>\n",
       "      <td>10</td>\n",
       "      <td>15</td>\n",
       "      <td>5</td>\n",
       "      <td>8</td>\n",
       "      <td>7</td>\n",
       "      <td>22</td>\n",
       "      <td>18</td>\n",
       "      <td>6</td>\n",
       "      <td>...</td>\n",
       "      <td>16</td>\n",
       "      <td>11</td>\n",
       "      <td>12</td>\n",
       "      <td>18</td>\n",
       "      <td>8</td>\n",
       "      <td>21</td>\n",
       "      <td>8</td>\n",
       "      <td>12</td>\n",
       "      <td>17</td>\n",
       "      <td>22</td>\n",
       "    </tr>\n",
       "    <tr>\n",
       "      <th>DMZ2500</th>\n",
       "      <td>21</td>\n",
       "      <td>18</td>\n",
       "      <td>20</td>\n",
       "      <td>20</td>\n",
       "      <td>24</td>\n",
       "      <td>17</td>\n",
       "      <td>7</td>\n",
       "      <td>8</td>\n",
       "      <td>18</td>\n",
       "      <td>17</td>\n",
       "      <td>...</td>\n",
       "      <td>24</td>\n",
       "      <td>22</td>\n",
       "      <td>22</td>\n",
       "      <td>19</td>\n",
       "      <td>11</td>\n",
       "      <td>11</td>\n",
       "      <td>22</td>\n",
       "      <td>10</td>\n",
       "      <td>8</td>\n",
       "      <td>7</td>\n",
       "    </tr>\n",
       "  </tbody>\n",
       "</table>\n",
       "<p>2500 rows × 45 columns</p>\n",
       "</div>"
      ],
      "text/plain": [
       "         Ampang Intake  Batang Kali  Bernam River Head  WTP1  WTP2  WTP3  \\\n",
       "DMZ001               5           24                 10    20     6    12   \n",
       "DMZ002               8           19                  7    16    13     8   \n",
       "DMZ003              24            9                 22    10    14     5   \n",
       "DMZ004              11           13                  7     7    18    22   \n",
       "DMZ005              13           11                 16    13    21    10   \n",
       "...                ...          ...                ...   ...   ...   ...   \n",
       "DMZ2496              6           18                  8    10    12     8   \n",
       "DMZ2497             20            9                 13    13     6    21   \n",
       "DMZ2498             21            7                 24    20    14    18   \n",
       "DMZ2499              5           11                 10    15     5     8   \n",
       "DMZ2500             21           18                 20    20    24    17   \n",
       "\n",
       "         WTP4  WTP5  WTP6  WTP7  ...  WTP33  WTP34  WTP35  WTP36  WTP37  \\\n",
       "DMZ001     17    17    13    17  ...     22      9     16     17     13   \n",
       "DMZ002     21    18    15    10  ...     20     11     22     10     24   \n",
       "DMZ003     15    22    16     9  ...     19      7     11      5      8   \n",
       "DMZ004     10     8     9     5  ...     11     10     19      5     21   \n",
       "DMZ005     21    20    10    10  ...     22     10      8     21      7   \n",
       "...       ...   ...   ...   ...  ...    ...    ...    ...    ...    ...   \n",
       "DMZ2496    13    15    18    12  ...     21     10     10     15     13   \n",
       "DMZ2497    21    15    16    21  ...     13     17      7     14     21   \n",
       "DMZ2498    22    19     7    18  ...      5     21      5      8     16   \n",
       "DMZ2499     7    22    18     6  ...     16     11     12     18      8   \n",
       "DMZ2500     7     8    18    17  ...     24     22     22     19     11   \n",
       "\n",
       "         WTP38  WTP39  WTP40  Wangsa Maju  Sungai Tengi  \n",
       "DMZ001      11     11     17           23            18  \n",
       "DMZ002      19     24      7           18            16  \n",
       "DMZ003      11     16     22           13            15  \n",
       "DMZ004      18      5     13           13            13  \n",
       "DMZ005       9     15     22           18            11  \n",
       "...        ...    ...    ...          ...           ...  \n",
       "DMZ2496     13     19     20            5            17  \n",
       "DMZ2497     14     10      5           20            24  \n",
       "DMZ2498     10     10     17           13            22  \n",
       "DMZ2499     21      8     12           17            22  \n",
       "DMZ2500     11     22     10            8             7  \n",
       "\n",
       "[2500 rows x 45 columns]"
      ]
     },
     "execution_count": 59,
     "metadata": {},
     "output_type": "execute_result"
    }
   ],
   "source": [
    "new_variable_cost"
   ]
  },
  {
   "cell_type": "code",
   "execution_count": 60,
   "metadata": {},
   "outputs": [],
   "source": [
    "# Exporting\n",
    "# new_variable_cost.to_excel(\"../dataset2/variable_costs.xlsx\")\n",
    "\n",
    "# Importing\n",
    "new_variable_cost = pd.read_excel(\"../dataset2/variable_costs.xlsx\", index_col=0)\n"
   ]
  },
  {
   "cell_type": "code",
   "execution_count": 61,
   "metadata": {},
   "outputs": [
    {
     "data": {
      "text/plain": [
       "Text(0.5, 1.0, 'Distribution of Variable Cost')"
      ]
     },
     "execution_count": 61,
     "metadata": {},
     "output_type": "execute_result"
    },
    {
     "data": {
      "image/png": "[encoded data removed]",
      "text/plain": [
       "<Figure size 432x288 with 1 Axes>"
      ]
     },
     "metadata": {
      "needs_background": "light"
     },
     "output_type": "display_data"
    }
   ],
   "source": [
    "temp=new_variable_cost.values\n",
    "# temp = loss\n",
    "# temp = np.array(loss)\n",
    "temp = temp.flatten()\n",
    "sns.histplot(temp)\n",
    "plt.title(\"Distribution of Variable Cost\")"
   ]
  },
  {
   "cell_type": "markdown",
   "metadata": {},
   "source": [
    "### Transport Cost for each combination of (DMZ, WTP)"
   ]
  },
  {
   "cell_type": "markdown",
   "metadata": {},
   "source": [
    "No transport cost was generated and used for the optimisation "
   ]
  },
  {
   "cell_type": "code",
   "execution_count": 62,
   "metadata": {},
   "outputs": [],
   "source": [
    "# transport_cost = pd.read_excel(\"../dataset/freight_costs.xlsx\", index_col=0)\n",
    "# transport_cost.head()"
   ]
  },
  {
   "cell_type": "markdown",
   "metadata": {},
   "source": [
    "### Demand for each DMZ"
   ]
  },
  {
   "cell_type": "code",
   "execution_count": 63,
   "metadata": {},
   "outputs": [
    {
     "name": "stderr",
     "output_type": "stream",
     "text": [
      "C:\\Users\\XA155XB\\Anaconda3\\envs\\walmart2\\lib\\site-packages\\seaborn\\distributions.py:2619: FutureWarning: `distplot` is a deprecated function and will be removed in a future version. Please adapt your code to use either `displot` (a figure-level function with similar flexibility) or `histplot` (an axes-level function for histograms).\n",
      "  warnings.warn(msg, FutureWarning)\n"
     ]
    },
    {
     "name": "stdout",
     "output_type": "stream",
     "text": [
      "165000.0 800000000.0 1.4142135623730951 3.0\n"
     ]
    },
    {
     "data": {
      "image/png": "[encoded data removed]",
      "text/plain": [
       "<Figure size 432x288 with 1 Axes>"
      ]
     },
     "metadata": {
      "needs_background": "light"
     },
     "output_type": "display_data"
    }
   ],
   "source": [
    "# Using Chi-squared distribution\n",
    "\n",
    "# Parameters of the distribution\n",
    "df = 4        # Degree of freedom. Controls the skewness\n",
    "loc=125000    # Amount to shift the location of the distribution\n",
    "scale=10000   # Scale the distribution\n",
    "\n",
    "demand= stats.chi2.rvs(df, size=len(DMZ), loc=loc, scale=scale)\n",
    "\n",
    "temp = np.array(demand).flatten()\n",
    "sns.distplot(temp)\n",
    "\n",
    "mean, var, skew, kurt = stats.chi2.stats(df, moments='mvsk', loc=loc, scale=scale)\n",
    "\n",
    "print(mean, var, skew, kurt)"
   ]
  },
  {
   "cell_type": "code",
   "execution_count": 64,
   "metadata": {},
   "outputs": [],
   "source": [
    "# new_demand = pd.DataFrame(demand, index=DMZ, columns=[\"Demand\"])\n",
    "# new_demand = new_demand.round(5)\n",
    "\n",
    "# # Exporting\n",
    "# new_demand.to_excel(\"../dataset2/demand_chisq.xlsx\")\n"
   ]
  },
  {
   "cell_type": "code",
   "execution_count": 65,
   "metadata": {},
   "outputs": [
    {
     "name": "stderr",
     "output_type": "stream",
     "text": [
      "C:\\Users\\XA155XB\\Anaconda3\\envs\\walmart2\\lib\\site-packages\\seaborn\\distributions.py:2619: FutureWarning: `distplot` is a deprecated function and will be removed in a future version. Please adapt your code to use either `displot` (a figure-level function with similar flexibility) or `histplot` (an axes-level function for histograms).\n",
      "  warnings.warn(msg, FutureWarning)\n"
     ]
    },
    {
     "name": "stdout",
     "output_type": "stream",
     "text": [
      "161941.76058678058 82394354.08801413 0.9772874682383684 0.8482995754166126\n"
     ]
    },
    {
     "data": {
      "image/png": "[encoded data removed]",
      "text/plain": [
       "<Figure size 432x288 with 1 Axes>"
      ]
     },
     "metadata": {
      "needs_background": "light"
     },
     "output_type": "display_data"
    }
   ],
   "source": [
    "# Using Skew norm\n",
    "\n",
    "# Parameters of the distribution\n",
    "a = 15        # Skewness of the distribution. In this case, it is positvely skewed\n",
    "loc=150000    # Amount to shift the location of the distribution\n",
    "scale=15000   # Scale the distribution\n",
    "\n",
    "demand= stats.skewnorm.rvs(a, size=len(DMZ), loc=loc, scale=scale)\n",
    "\n",
    "temp = np.array(demand).flatten()\n",
    "sns.distplot(temp)\n",
    "\n",
    "mean, var, skew, kurt =  stats.skewnorm.stats(a, moments='mvsk', loc=loc, scale=scale)\n",
    "\n",
    "print(mean, var, skew, kurt)"
   ]
  },
  {
   "cell_type": "code",
   "execution_count": 66,
   "metadata": {},
   "outputs": [],
   "source": [
    "# new_demand = pd.DataFrame(demand, index=DMZ, columns=[\"Demand\"])\n",
    "# new_demand = new_demand.round(5)\n",
    "\n",
    "# # Exporting\n",
    "# new_demand.to_excel(\"../dataset2/demand_skewnorm.xlsx\")"
   ]
  },
  {
   "cell_type": "code",
   "execution_count": 67,
   "metadata": {},
   "outputs": [],
   "source": [
    "# Importing\n",
    "new_demand = pd.read_excel(\"../dataset2/demand_chisq.xlsx\", index_col=0)\n",
    "# new_demand = pd.read_excel(\"../dataset2/demand_skewnorm.xlsx\")\n"
   ]
  },
  {
   "cell_type": "code",
   "execution_count": 68,
   "metadata": {},
   "outputs": [
    {
     "name": "stderr",
     "output_type": "stream",
     "text": [
      "C:\\Users\\XA155XB\\Anaconda3\\envs\\walmart2\\lib\\site-packages\\seaborn\\distributions.py:2619: FutureWarning: `distplot` is a deprecated function and will be removed in a future version. Please adapt your code to use either `displot` (a figure-level function with similar flexibility) or `histplot` (an axes-level function for histograms).\n",
      "  warnings.warn(msg, FutureWarning)\n"
     ]
    },
    {
     "data": {
      "text/plain": [
       "Text(0.5, 1.0, 'Distribution of DMZ Demand')"
      ]
     },
     "execution_count": 68,
     "metadata": {},
     "output_type": "execute_result"
    },
    {
     "data": {
      "image/png": "[encoded data removed]",
      "text/plain": [
       "<Figure size 432x288 with 1 Axes>"
      ]
     },
     "metadata": {
      "needs_background": "light"
     },
     "output_type": "display_data"
    }
   ],
   "source": [
    "temp = new_demand.values\n",
    "temp = temp.flatten()\n",
    "sns.distplot(temp)\n",
    "plt.title(\"Distribution of DMZ Demand\")"
   ]
  }
 ],
 "metadata": {
  "interpreter": {
   "hash": "72e137730043a9d28e550d479c35f325097005b4b6ed0d5116ad82d1d7549aec"
  },
  "kernelspec": {
   "display_name": "Python 3.8.2 64-bit ('walmart2': conda)",
   "language": "python",
   "name": "python3"
  },
  "language_info": {
   "codemirror_mode": {
    "name": "ipython",
    "version": 3
   },
   "file_extension": ".py",
   "mimetype": "text/x-python",
   "name": "python",
   "nbconvert_exporter": "python",
   "pygments_lexer": "ipython3",
   "version": "3.7.10"
  },
  "orig_nbformat": 4
 },
 "nbformat": 4,
 "nbformat_minor": 2
}
