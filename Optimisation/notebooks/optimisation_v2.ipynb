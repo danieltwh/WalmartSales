{
 "cells": [
  {
   "cell_type": "code",
   "execution_count": 397,
   "metadata": {},
   "outputs": [],
   "source": [
    "import numpy as np\n",
    "import pandas as pd\n",
    "import matplotlib.pyplot as plt\n",
    "import seaborn as sns\n",
    "\n",
    "from pulp import *"
   ]
  },
  {
   "cell_type": "markdown",
   "metadata": {},
   "source": [
    "## Reading in Dataset"
   ]
  },
  {
   "cell_type": "markdown",
   "metadata": {},
   "source": [
    "### Fixed Cost of each WTP"
   ]
  },
  {
   "cell_type": "code",
   "execution_count": 398,
   "metadata": {},
   "outputs": [
    {
     "data": {
      "text/html": [
       "<div>\n",
       "<style scoped>\n",
       "    .dataframe tbody tr th:only-of-type {\n",
       "        vertical-align: middle;\n",
       "    }\n",
       "\n",
       "    .dataframe tbody tr th {\n",
       "        vertical-align: top;\n",
       "    }\n",
       "\n",
       "    .dataframe thead th {\n",
       "        text-align: right;\n",
       "    }\n",
       "</style>\n",
       "<table border=\"1\" class=\"dataframe\">\n",
       "  <thead>\n",
       "    <tr style=\"text-align: right;\">\n",
       "      <th></th>\n",
       "      <th>Low</th>\n",
       "      <th>High</th>\n",
       "    </tr>\n",
       "    <tr>\n",
       "      <th>WTP</th>\n",
       "      <th></th>\n",
       "      <th></th>\n",
       "    </tr>\n",
       "  </thead>\n",
       "  <tbody>\n",
       "    <tr>\n",
       "      <th>Ampang Intake</th>\n",
       "      <td>6500</td>\n",
       "      <td>9500</td>\n",
       "    </tr>\n",
       "    <tr>\n",
       "      <th>Batang Kali</th>\n",
       "      <td>4980</td>\n",
       "      <td>7270</td>\n",
       "    </tr>\n",
       "    <tr>\n",
       "      <th>Bernam River Head</th>\n",
       "      <td>6230</td>\n",
       "      <td>9100</td>\n",
       "    </tr>\n",
       "    <tr>\n",
       "      <th>Wangsa Maju</th>\n",
       "      <td>3230</td>\n",
       "      <td>4730</td>\n",
       "    </tr>\n",
       "    <tr>\n",
       "      <th>Sungai Tengi</th>\n",
       "      <td>2110</td>\n",
       "      <td>6160</td>\n",
       "    </tr>\n",
       "  </tbody>\n",
       "</table>\n",
       "</div>"
      ],
      "text/plain": [
       "                    Low  High\n",
       "WTP                          \n",
       "Ampang Intake      6500  9500\n",
       "Batang Kali        4980  7270\n",
       "Bernam River Head  6230  9100\n",
       "Wangsa Maju        3230  4730\n",
       "Sungai Tengi       2110  6160"
      ]
     },
     "execution_count": 398,
     "metadata": {},
     "output_type": "execute_result"
    }
   ],
   "source": [
    "fixed_cost = pd.read_excel(\"../dataset/fixed_cost.xlsx\", index_col=0)\n",
    "fixed_cost.head()"
   ]
  },
  {
   "cell_type": "markdown",
   "metadata": {},
   "source": [
    "### Capacity of each WTP"
   ]
  },
  {
   "cell_type": "code",
   "execution_count": 399,
   "metadata": {},
   "outputs": [
    {
     "data": {
      "text/html": [
       "<div>\n",
       "<style scoped>\n",
       "    .dataframe tbody tr th:only-of-type {\n",
       "        vertical-align: middle;\n",
       "    }\n",
       "\n",
       "    .dataframe tbody tr th {\n",
       "        vertical-align: top;\n",
       "    }\n",
       "\n",
       "    .dataframe thead th {\n",
       "        text-align: right;\n",
       "    }\n",
       "</style>\n",
       "<table border=\"1\" class=\"dataframe\">\n",
       "  <thead>\n",
       "    <tr style=\"text-align: right;\">\n",
       "      <th></th>\n",
       "      <th>Capacity</th>\n",
       "    </tr>\n",
       "    <tr>\n",
       "      <th>WTP</th>\n",
       "      <th></th>\n",
       "    </tr>\n",
       "  </thead>\n",
       "  <tbody>\n",
       "    <tr>\n",
       "      <th>Ampang Intake</th>\n",
       "      <td>2000000</td>\n",
       "    </tr>\n",
       "    <tr>\n",
       "      <th>Batang Kali</th>\n",
       "      <td>2000000</td>\n",
       "    </tr>\n",
       "    <tr>\n",
       "      <th>Bernam River Head</th>\n",
       "      <td>2000000</td>\n",
       "    </tr>\n",
       "    <tr>\n",
       "      <th>Wangsa Maju</th>\n",
       "      <td>2000000</td>\n",
       "    </tr>\n",
       "    <tr>\n",
       "      <th>Sungai Tengi</th>\n",
       "      <td>2000000</td>\n",
       "    </tr>\n",
       "  </tbody>\n",
       "</table>\n",
       "</div>"
      ],
      "text/plain": [
       "                   Capacity\n",
       "WTP                        \n",
       "Ampang Intake       2000000\n",
       "Batang Kali         2000000\n",
       "Bernam River Head   2000000\n",
       "Wangsa Maju         2000000\n",
       "Sungai Tengi        2000000"
      ]
     },
     "execution_count": 399,
     "metadata": {},
     "output_type": "execute_result"
    }
   ],
   "source": [
    "capacity = pd.read_excel(\"../dataset/capacity.xlsx\", index_col=0)\n",
    "capacity.head()"
   ]
  },
  {
   "cell_type": "markdown",
   "metadata": {},
   "source": [
    "### Distribution Loss"
   ]
  },
  {
   "cell_type": "code",
   "execution_count": 400,
   "metadata": {},
   "outputs": [
    {
     "data": {
      "text/html": [
       "<div>\n",
       "<style scoped>\n",
       "    .dataframe tbody tr th:only-of-type {\n",
       "        vertical-align: middle;\n",
       "    }\n",
       "\n",
       "    .dataframe tbody tr th {\n",
       "        vertical-align: top;\n",
       "    }\n",
       "\n",
       "    .dataframe thead th {\n",
       "        text-align: right;\n",
       "    }\n",
       "</style>\n",
       "<table border=\"1\" class=\"dataframe\">\n",
       "  <thead>\n",
       "    <tr style=\"text-align: right;\">\n",
       "      <th></th>\n",
       "      <th>Ampang Intake</th>\n",
       "      <th>Batang Kali</th>\n",
       "      <th>Bernam River Head</th>\n",
       "      <th>Wangsa Maju</th>\n",
       "      <th>Sungai Tengi</th>\n",
       "    </tr>\n",
       "    <tr>\n",
       "      <th>Distribution Loss</th>\n",
       "      <th></th>\n",
       "      <th></th>\n",
       "      <th></th>\n",
       "      <th></th>\n",
       "      <th></th>\n",
       "    </tr>\n",
       "  </thead>\n",
       "  <tbody>\n",
       "    <tr>\n",
       "      <th>DMZ1</th>\n",
       "      <td>0.25</td>\n",
       "      <td>0.21</td>\n",
       "      <td>0.28</td>\n",
       "      <td>0.30</td>\n",
       "      <td>0.29</td>\n",
       "    </tr>\n",
       "    <tr>\n",
       "      <th>DMZ2</th>\n",
       "      <td>0.27</td>\n",
       "      <td>0.35</td>\n",
       "      <td>0.30</td>\n",
       "      <td>0.26</td>\n",
       "      <td>0.25</td>\n",
       "    </tr>\n",
       "    <tr>\n",
       "      <th>DMZ3</th>\n",
       "      <td>0.28</td>\n",
       "      <td>0.29</td>\n",
       "      <td>0.25</td>\n",
       "      <td>0.26</td>\n",
       "      <td>0.31</td>\n",
       "    </tr>\n",
       "    <tr>\n",
       "      <th>DMZ4</th>\n",
       "      <td>0.25</td>\n",
       "      <td>0.29</td>\n",
       "      <td>0.27</td>\n",
       "      <td>0.24</td>\n",
       "      <td>0.34</td>\n",
       "    </tr>\n",
       "    <tr>\n",
       "      <th>DMZ5</th>\n",
       "      <td>0.28</td>\n",
       "      <td>0.32</td>\n",
       "      <td>0.34</td>\n",
       "      <td>0.23</td>\n",
       "      <td>0.26</td>\n",
       "    </tr>\n",
       "  </tbody>\n",
       "</table>\n",
       "</div>"
      ],
      "text/plain": [
       "                   Ampang Intake  Batang Kali  Bernam River Head  Wangsa Maju  \\\n",
       "Distribution Loss                                                               \n",
       "DMZ1                        0.25         0.21               0.28         0.30   \n",
       "DMZ2                        0.27         0.35               0.30         0.26   \n",
       "DMZ3                        0.28         0.29               0.25         0.26   \n",
       "DMZ4                        0.25         0.29               0.27         0.24   \n",
       "DMZ5                        0.28         0.32               0.34         0.23   \n",
       "\n",
       "                   Sungai Tengi  \n",
       "Distribution Loss                \n",
       "DMZ1                       0.29  \n",
       "DMZ2                       0.25  \n",
       "DMZ3                       0.31  \n",
       "DMZ4                       0.34  \n",
       "DMZ5                       0.26  "
      ]
     },
     "execution_count": 400,
     "metadata": {},
     "output_type": "execute_result"
    }
   ],
   "source": [
    "distribution_loss = pd.read_excel(\"../dataset/distribution_loss.xlsx\", index_col=0)\n",
    "distribution_loss"
   ]
  },
  {
   "cell_type": "markdown",
   "metadata": {},
   "source": [
    "### Links between WTP and DMZ"
   ]
  },
  {
   "cell_type": "code",
   "execution_count": 401,
   "metadata": {},
   "outputs": [
    {
     "data": {
      "text/html": [
       "<div>\n",
       "<style scoped>\n",
       "    .dataframe tbody tr th:only-of-type {\n",
       "        vertical-align: middle;\n",
       "    }\n",
       "\n",
       "    .dataframe tbody tr th {\n",
       "        vertical-align: top;\n",
       "    }\n",
       "\n",
       "    .dataframe thead th {\n",
       "        text-align: right;\n",
       "    }\n",
       "</style>\n",
       "<table border=\"1\" class=\"dataframe\">\n",
       "  <thead>\n",
       "    <tr style=\"text-align: right;\">\n",
       "      <th></th>\n",
       "      <th>Ampang Intake</th>\n",
       "      <th>Batang Kali</th>\n",
       "      <th>Bernam River Head</th>\n",
       "      <th>Wangsa Maju</th>\n",
       "      <th>Sungai Tengi</th>\n",
       "    </tr>\n",
       "    <tr>\n",
       "      <th>Links</th>\n",
       "      <th></th>\n",
       "      <th></th>\n",
       "      <th></th>\n",
       "      <th></th>\n",
       "      <th></th>\n",
       "    </tr>\n",
       "  </thead>\n",
       "  <tbody>\n",
       "    <tr>\n",
       "      <th>DMZ1</th>\n",
       "      <td>1</td>\n",
       "      <td>1</td>\n",
       "      <td>0</td>\n",
       "      <td>1</td>\n",
       "      <td>1</td>\n",
       "    </tr>\n",
       "    <tr>\n",
       "      <th>DMZ2</th>\n",
       "      <td>0</td>\n",
       "      <td>1</td>\n",
       "      <td>0</td>\n",
       "      <td>1</td>\n",
       "      <td>1</td>\n",
       "    </tr>\n",
       "    <tr>\n",
       "      <th>DMZ3</th>\n",
       "      <td>1</td>\n",
       "      <td>0</td>\n",
       "      <td>1</td>\n",
       "      <td>1</td>\n",
       "      <td>0</td>\n",
       "    </tr>\n",
       "    <tr>\n",
       "      <th>DMZ4</th>\n",
       "      <td>0</td>\n",
       "      <td>0</td>\n",
       "      <td>1</td>\n",
       "      <td>0</td>\n",
       "      <td>1</td>\n",
       "    </tr>\n",
       "    <tr>\n",
       "      <th>DMZ5</th>\n",
       "      <td>0</td>\n",
       "      <td>1</td>\n",
       "      <td>0</td>\n",
       "      <td>1</td>\n",
       "      <td>1</td>\n",
       "    </tr>\n",
       "  </tbody>\n",
       "</table>\n",
       "</div>"
      ],
      "text/plain": [
       "       Ampang Intake  Batang Kali  Bernam River Head  Wangsa Maju  \\\n",
       "Links                                                               \n",
       "DMZ1               1            1                  0            1   \n",
       "DMZ2               0            1                  0            1   \n",
       "DMZ3               1            0                  1            1   \n",
       "DMZ4               0            0                  1            0   \n",
       "DMZ5               0            1                  0            1   \n",
       "\n",
       "       Sungai Tengi  \n",
       "Links                \n",
       "DMZ1              1  \n",
       "DMZ2              1  \n",
       "DMZ3              0  \n",
       "DMZ4              1  \n",
       "DMZ5              1  "
      ]
     },
     "execution_count": 401,
     "metadata": {},
     "output_type": "execute_result"
    }
   ],
   "source": [
    "linkage = pd.read_excel(\"../dataset/linkage.xlsx\", index_col=0)\n",
    "linkage"
   ]
  },
  {
   "cell_type": "markdown",
   "metadata": {},
   "source": [
    "### Variable Cost for each combination of (DMZ, WTP)"
   ]
  },
  {
   "cell_type": "code",
   "execution_count": 402,
   "metadata": {},
   "outputs": [
    {
     "data": {
      "text/html": [
       "<div>\n",
       "<style scoped>\n",
       "    .dataframe tbody tr th:only-of-type {\n",
       "        vertical-align: middle;\n",
       "    }\n",
       "\n",
       "    .dataframe tbody tr th {\n",
       "        vertical-align: top;\n",
       "    }\n",
       "\n",
       "    .dataframe thead th {\n",
       "        text-align: right;\n",
       "    }\n",
       "</style>\n",
       "<table border=\"1\" class=\"dataframe\">\n",
       "  <thead>\n",
       "    <tr style=\"text-align: right;\">\n",
       "      <th></th>\n",
       "      <th>Ampang Intake</th>\n",
       "      <th>Batang Kali</th>\n",
       "      <th>Bernam River Head</th>\n",
       "      <th>Wangsa Maju</th>\n",
       "      <th>Sungai Tengi</th>\n",
       "    </tr>\n",
       "    <tr>\n",
       "      <th>Variable Costs</th>\n",
       "      <th></th>\n",
       "      <th></th>\n",
       "      <th></th>\n",
       "      <th></th>\n",
       "      <th></th>\n",
       "    </tr>\n",
       "  </thead>\n",
       "  <tbody>\n",
       "    <tr>\n",
       "      <th>DMZ1</th>\n",
       "      <td>12</td>\n",
       "      <td>12</td>\n",
       "      <td>12</td>\n",
       "      <td>12</td>\n",
       "      <td>12</td>\n",
       "    </tr>\n",
       "    <tr>\n",
       "      <th>DMZ2</th>\n",
       "      <td>13</td>\n",
       "      <td>13</td>\n",
       "      <td>13</td>\n",
       "      <td>13</td>\n",
       "      <td>13</td>\n",
       "    </tr>\n",
       "    <tr>\n",
       "      <th>DMZ3</th>\n",
       "      <td>10</td>\n",
       "      <td>10</td>\n",
       "      <td>10</td>\n",
       "      <td>10</td>\n",
       "      <td>10</td>\n",
       "    </tr>\n",
       "    <tr>\n",
       "      <th>DMZ4</th>\n",
       "      <td>8</td>\n",
       "      <td>8</td>\n",
       "      <td>8</td>\n",
       "      <td>8</td>\n",
       "      <td>8</td>\n",
       "    </tr>\n",
       "    <tr>\n",
       "      <th>DMZ5</th>\n",
       "      <td>5</td>\n",
       "      <td>5</td>\n",
       "      <td>5</td>\n",
       "      <td>5</td>\n",
       "      <td>5</td>\n",
       "    </tr>\n",
       "  </tbody>\n",
       "</table>\n",
       "</div>"
      ],
      "text/plain": [
       "                Ampang Intake  Batang Kali  Bernam River Head  Wangsa Maju  \\\n",
       "Variable Costs                                                               \n",
       "DMZ1                       12           12                 12           12   \n",
       "DMZ2                       13           13                 13           13   \n",
       "DMZ3                       10           10                 10           10   \n",
       "DMZ4                        8            8                  8            8   \n",
       "DMZ5                        5            5                  5            5   \n",
       "\n",
       "                Sungai Tengi  \n",
       "Variable Costs                \n",
       "DMZ1                      12  \n",
       "DMZ2                      13  \n",
       "DMZ3                      10  \n",
       "DMZ4                       8  \n",
       "DMZ5                       5  "
      ]
     },
     "execution_count": 402,
     "metadata": {},
     "output_type": "execute_result"
    }
   ],
   "source": [
    "variable_cost = pd.read_excel(\"../dataset/variable_costs.xlsx\", index_col=0)\n",
    "variable_cost.head()"
   ]
  },
  {
   "cell_type": "markdown",
   "metadata": {},
   "source": [
    "### Transport Cost for each combination of (DMZ, WTP)"
   ]
  },
  {
   "cell_type": "code",
   "execution_count": 403,
   "metadata": {},
   "outputs": [
    {
     "data": {
      "text/html": [
       "<div>\n",
       "<style scoped>\n",
       "    .dataframe tbody tr th:only-of-type {\n",
       "        vertical-align: middle;\n",
       "    }\n",
       "\n",
       "    .dataframe tbody tr th {\n",
       "        vertical-align: top;\n",
       "    }\n",
       "\n",
       "    .dataframe thead th {\n",
       "        text-align: right;\n",
       "    }\n",
       "</style>\n",
       "<table border=\"1\" class=\"dataframe\">\n",
       "  <thead>\n",
       "    <tr style=\"text-align: right;\">\n",
       "      <th></th>\n",
       "      <th>Ampang Intake</th>\n",
       "      <th>Batang Kali</th>\n",
       "      <th>Bernam River Head</th>\n",
       "      <th>Wangsa Maju</th>\n",
       "      <th>Sungai Tengi</th>\n",
       "    </tr>\n",
       "    <tr>\n",
       "      <th>Freight Costs ($/Container)</th>\n",
       "      <th></th>\n",
       "      <th></th>\n",
       "      <th></th>\n",
       "      <th></th>\n",
       "      <th></th>\n",
       "    </tr>\n",
       "  </thead>\n",
       "  <tbody>\n",
       "    <tr>\n",
       "      <th>DMZ1</th>\n",
       "      <td>0</td>\n",
       "      <td>12250</td>\n",
       "      <td>1100</td>\n",
       "      <td>16100</td>\n",
       "      <td>8778</td>\n",
       "    </tr>\n",
       "    <tr>\n",
       "      <th>DMZ2</th>\n",
       "      <td>13335</td>\n",
       "      <td>0</td>\n",
       "      <td>8617</td>\n",
       "      <td>20244</td>\n",
       "      <td>10073</td>\n",
       "    </tr>\n",
       "    <tr>\n",
       "      <th>DMZ3</th>\n",
       "      <td>15400</td>\n",
       "      <td>22750</td>\n",
       "      <td>0</td>\n",
       "      <td>43610</td>\n",
       "      <td>14350</td>\n",
       "    </tr>\n",
       "    <tr>\n",
       "      <th>DMZ4</th>\n",
       "      <td>16450</td>\n",
       "      <td>22050</td>\n",
       "      <td>28000</td>\n",
       "      <td>0</td>\n",
       "      <td>29750</td>\n",
       "    </tr>\n",
       "    <tr>\n",
       "      <th>DMZ5</th>\n",
       "      <td>13650</td>\n",
       "      <td>15400</td>\n",
       "      <td>24500</td>\n",
       "      <td>29400</td>\n",
       "      <td>0</td>\n",
       "    </tr>\n",
       "  </tbody>\n",
       "</table>\n",
       "</div>"
      ],
      "text/plain": [
       "                             Ampang Intake  Batang Kali  Bernam River Head  \\\n",
       "Freight Costs ($/Container)                                                  \n",
       "DMZ1                                     0        12250               1100   \n",
       "DMZ2                                 13335            0               8617   \n",
       "DMZ3                                 15400        22750                  0   \n",
       "DMZ4                                 16450        22050              28000   \n",
       "DMZ5                                 13650        15400              24500   \n",
       "\n",
       "                             Wangsa Maju  Sungai Tengi  \n",
       "Freight Costs ($/Container)                             \n",
       "DMZ1                               16100          8778  \n",
       "DMZ2                               20244         10073  \n",
       "DMZ3                               43610         14350  \n",
       "DMZ4                                   0         29750  \n",
       "DMZ5                               29400             0  "
      ]
     },
     "execution_count": 403,
     "metadata": {},
     "output_type": "execute_result"
    }
   ],
   "source": [
    "transport_cost = pd.read_excel(\"../dataset/freight_costs.xlsx\", index_col=0)\n",
    "transport_cost.head()"
   ]
  },
  {
   "cell_type": "markdown",
   "metadata": {},
   "source": [
    "### Demand for each DMZ"
   ]
  },
  {
   "cell_type": "code",
   "execution_count": 404,
   "metadata": {},
   "outputs": [
    {
     "data": {
      "text/html": [
       "<div>\n",
       "<style scoped>\n",
       "    .dataframe tbody tr th:only-of-type {\n",
       "        vertical-align: middle;\n",
       "    }\n",
       "\n",
       "    .dataframe tbody tr th {\n",
       "        vertical-align: top;\n",
       "    }\n",
       "\n",
       "    .dataframe thead th {\n",
       "        text-align: right;\n",
       "    }\n",
       "</style>\n",
       "<table border=\"1\" class=\"dataframe\">\n",
       "  <thead>\n",
       "    <tr style=\"text-align: right;\">\n",
       "      <th></th>\n",
       "      <th>Demand</th>\n",
       "    </tr>\n",
       "    <tr>\n",
       "      <th>DMZ</th>\n",
       "      <th></th>\n",
       "    </tr>\n",
       "  </thead>\n",
       "  <tbody>\n",
       "    <tr>\n",
       "      <th>DMZ1</th>\n",
       "      <td>2800000</td>\n",
       "    </tr>\n",
       "    <tr>\n",
       "      <th>DMZ2</th>\n",
       "      <td>90000</td>\n",
       "    </tr>\n",
       "    <tr>\n",
       "      <th>DMZ3</th>\n",
       "      <td>1700000</td>\n",
       "    </tr>\n",
       "    <tr>\n",
       "      <th>DMZ4</th>\n",
       "      <td>145000</td>\n",
       "    </tr>\n",
       "    <tr>\n",
       "      <th>DMZ5</th>\n",
       "      <td>160000</td>\n",
       "    </tr>\n",
       "  </tbody>\n",
       "</table>\n",
       "</div>"
      ],
      "text/plain": [
       "       Demand\n",
       "DMZ          \n",
       "DMZ1  2800000\n",
       "DMZ2    90000\n",
       "DMZ3  1700000\n",
       "DMZ4   145000\n",
       "DMZ5   160000"
      ]
     },
     "execution_count": 404,
     "metadata": {},
     "output_type": "execute_result"
    }
   ],
   "source": [
    "demand = pd.read_excel(\"../dataset/demand.xlsx\", index_col=0)\n",
    "demand.head()"
   ]
  },
  {
   "cell_type": "code",
   "execution_count": 405,
   "metadata": {},
   "outputs": [
    {
     "data": {
      "text/html": [
       "<div>\n",
       "<style scoped>\n",
       "    .dataframe tbody tr th:only-of-type {\n",
       "        vertical-align: middle;\n",
       "    }\n",
       "\n",
       "    .dataframe tbody tr th {\n",
       "        vertical-align: top;\n",
       "    }\n",
       "\n",
       "    .dataframe thead th {\n",
       "        text-align: right;\n",
       "    }\n",
       "</style>\n",
       "<table border=\"1\" class=\"dataframe\">\n",
       "  <thead>\n",
       "    <tr style=\"text-align: right;\">\n",
       "      <th></th>\n",
       "      <th>Demand</th>\n",
       "    </tr>\n",
       "    <tr>\n",
       "      <th>DMZ</th>\n",
       "      <th></th>\n",
       "    </tr>\n",
       "  </thead>\n",
       "  <tbody>\n",
       "    <tr>\n",
       "      <th>DMZ1</th>\n",
       "      <td>2800000.0</td>\n",
       "    </tr>\n",
       "    <tr>\n",
       "      <th>DMZ2</th>\n",
       "      <td>90000.0</td>\n",
       "    </tr>\n",
       "    <tr>\n",
       "      <th>DMZ3</th>\n",
       "      <td>1700000.0</td>\n",
       "    </tr>\n",
       "    <tr>\n",
       "      <th>DMZ4</th>\n",
       "      <td>145000.0</td>\n",
       "    </tr>\n",
       "    <tr>\n",
       "      <th>DMZ5</th>\n",
       "      <td>160000.0</td>\n",
       "    </tr>\n",
       "  </tbody>\n",
       "</table>\n",
       "</div>"
      ],
      "text/plain": [
       "         Demand\n",
       "DMZ            \n",
       "DMZ1  2800000.0\n",
       "DMZ2    90000.0\n",
       "DMZ3  1700000.0\n",
       "DMZ4   145000.0\n",
       "DMZ5   160000.0"
      ]
     },
     "execution_count": 405,
     "metadata": {},
     "output_type": "execute_result"
    }
   ],
   "source": [
    "demand[\"Demand\"] = pd.to_numeric(demand[\"Demand\"], downcast=\"float\")\n",
    "demand.head()"
   ]
  },
  {
   "cell_type": "markdown",
   "metadata": {},
   "source": [
    "## Optimisation"
   ]
  },
  {
   "cell_type": "code",
   "execution_count": 406,
   "metadata": {},
   "outputs": [],
   "source": [
    "# List of all the WTPs\n",
    "wtp = list(capacity.index)\n",
    "\n",
    "# List of all the DMZs\n",
    "dmz = list(demand.index)\n",
    "\n",
    "# List of (DMZ, WTP) pairs\n",
    "dmz_wtp_pairs = [(d, w) for d in dmz for w in wtp]"
   ]
  },
  {
   "cell_type": "code",
   "execution_count": 407,
   "metadata": {},
   "outputs": [
    {
     "data": {
      "text/plain": [
       "2800000.0"
      ]
     },
     "execution_count": 407,
     "metadata": {},
     "output_type": "execute_result"
    }
   ],
   "source": [
    "demand.loc[dmz[0], \"Demand\"]"
   ]
  },
  {
   "cell_type": "code",
   "execution_count": 408,
   "metadata": {},
   "outputs": [
    {
     "name": "stderr",
     "output_type": "stream",
     "text": [
      "C:\\Users\\XA155XB\\Anaconda3\\envs\\walmart2\\lib\\site-packages\\pulp\\pulp.py:1352: UserWarning: Spaces are not permitted in the name. Converted to '_'\n",
      "  warnings.warn(\"Spaces are not permitted in the name. Converted to '_'\")\n"
     ]
    }
   ],
   "source": [
    "# Creating the Linear Optimisation Class\n",
    "model = LpProblem(\"Optimising water supply\", LpMinimize)"
   ]
  },
  {
   "cell_type": "code",
   "execution_count": 409,
   "metadata": {},
   "outputs": [],
   "source": [
    "# Creating Decision Variables\n",
    "output = LpVariable.dicts(\"Volume\", dmz_wtp_pairs, lowBound=0, upBound=None, cat='continuous')"
   ]
  },
  {
   "cell_type": "code",
   "execution_count": 410,
   "metadata": {},
   "outputs": [
    {
     "data": {
      "text/plain": [
       "['Ampang Intake',\n",
       " 'Batang Kali',\n",
       " 'Bernam River Head',\n",
       " 'Wangsa Maju',\n",
       " 'Sungai Tengi']"
      ]
     },
     "execution_count": 410,
     "metadata": {},
     "output_type": "execute_result"
    }
   ],
   "source": [
    "wtp"
   ]
  },
  {
   "cell_type": "code",
   "execution_count": 411,
   "metadata": {},
   "outputs": [],
   "source": [
    "# Define the Objective Function\n",
    "model += \\\n",
    "     lpSum([fixed_cost.loc[w, \"High\"] * 1000 for w in wtp]) + \\\n",
    "     lpSum([(variable_cost.loc[d, w] + transport_cost.loc[d, w]) * output[(d, w)] for d in dmz for w in wtp])"
   ]
  },
  {
   "cell_type": "code",
   "execution_count": 412,
   "metadata": {},
   "outputs": [],
   "source": [
    "curr_dmz=dmz[1]\n",
    "curr_wtp=wtp[0]"
   ]
  },
  {
   "cell_type": "code",
   "execution_count": 413,
   "metadata": {},
   "outputs": [
    {
     "data": {
      "text/plain": [
       "0"
      ]
     },
     "execution_count": 413,
     "metadata": {},
     "output_type": "execute_result"
    }
   ],
   "source": [
    "linkage.loc[curr_dmz, curr_wtp]"
   ]
  },
  {
   "cell_type": "code",
   "execution_count": 414,
   "metadata": {},
   "outputs": [
    {
     "data": {
      "text/plain": [
       "0.73"
      ]
     },
     "execution_count": 414,
     "metadata": {},
     "output_type": "execute_result"
    }
   ],
   "source": [
    "1- distribution_loss.loc[curr_dmz, curr_wtp]"
   ]
  },
  {
   "cell_type": "code",
   "execution_count": 415,
   "metadata": {},
   "outputs": [
    {
     "data": {
      "text/plain": [
       "0"
      ]
     },
     "execution_count": 415,
     "metadata": {},
     "output_type": "execute_result"
    }
   ],
   "source": [
    "output[(curr_dmz, curr_wtp)] * (1- distribution_loss.loc[curr_dmz, curr_wtp]) * (linkage.loc[curr_dmz, curr_wtp])"
   ]
  },
  {
   "cell_type": "code",
   "execution_count": 416,
   "metadata": {},
   "outputs": [],
   "source": [
    "# type(demand.loc[\"DMZ1\", \"Demand\"])\n",
    "# type(1-distribution_loss.loc[\"DMZ1\", wtp[0]])"
   ]
  },
  {
   "cell_type": "code",
   "execution_count": 417,
   "metadata": {},
   "outputs": [],
   "source": [
    "# Adding Constraints\n",
    "\n",
    "## Meet demand for each DMZ\n",
    "for d in dmz:\n",
    "    model += lpSum([ (output[(d, w)] * (1-distribution_loss.loc[d, w]) * (linkage.loc[d, w])) for w in wtp]) >= demand.loc[d, \"Demand\"]\n",
    "\n",
    "## Within the WTP capacity\n",
    "for w in wtp:\n",
    "    model += lpSum([output[(d, w)] for d in dmz]) <= capacity.loc[w, \"Capacity\"]\n",
    "\n",
    "## No linkage constraint\n",
    "\n"
   ]
  },
  {
   "cell_type": "code",
   "execution_count": 418,
   "metadata": {},
   "outputs": [
    {
     "data": {
      "text/plain": [
       "1"
      ]
     },
     "execution_count": 418,
     "metadata": {},
     "output_type": "execute_result"
    }
   ],
   "source": [
    "# Solve the model\n",
    "model.solve()"
   ]
  },
  {
   "cell_type": "code",
   "execution_count": 419,
   "metadata": {},
   "outputs": [
    {
     "name": "stdout",
     "output_type": "stream",
     "text": [
      "Total Costs = 30,821,880,900 ($/Month)\n",
      "\n",
      "Status: Optimal\n"
     ]
    }
   ],
   "source": [
    "print(\"Total Costs = {:,} ($/Month)\".format(int(value(model.objective))))\n",
    "print('\\n' + \"Status: {}\".format(LpStatus[model.status]))"
   ]
  },
  {
   "cell_type": "markdown",
   "metadata": {},
   "source": [
    "## Results"
   ]
  },
  {
   "cell_type": "code",
   "execution_count": 420,
   "metadata": {},
   "outputs": [],
   "source": [
    "dict_wtp = {}\n",
    "dict_dmz = {}"
   ]
  },
  {
   "cell_type": "code",
   "execution_count": 467,
   "metadata": {},
   "outputs": [
    {
     "data": {
      "text/html": [
       "<div>\n",
       "<style scoped>\n",
       "    .dataframe tbody tr th:only-of-type {\n",
       "        vertical-align: middle;\n",
       "    }\n",
       "\n",
       "    .dataframe tbody tr th {\n",
       "        vertical-align: top;\n",
       "    }\n",
       "\n",
       "    .dataframe thead th {\n",
       "        text-align: right;\n",
       "    }\n",
       "</style>\n",
       "<table border=\"1\" class=\"dataframe\">\n",
       "  <thead>\n",
       "    <tr style=\"text-align: right;\">\n",
       "      <th></th>\n",
       "    </tr>\n",
       "  </thead>\n",
       "  <tbody>\n",
       "  </tbody>\n",
       "</table>\n",
       "</div>"
      ],
      "text/plain": [
       "Empty DataFrame\n",
       "Columns: []\n",
       "Index: []"
      ]
     },
     "execution_count": 467,
     "metadata": {},
     "output_type": "execute_result"
    }
   ],
   "source": [
    "# df = pd.DataFrame(0, index=dmz, columns = wtp)\n",
    "# df\n",
    "\n",
    "df = pd.DataFrame()\n",
    "df"
   ]
  },
  {
   "cell_type": "code",
   "execution_count": 468,
   "metadata": {},
   "outputs": [],
   "source": [
    "# Getting the results\n",
    "for v in model.variables():\n",
    "    # print(v.name, v.varValue)\n",
    "    name = v.name.replace(\"Volume_\", \"\").replace(\"_\", \"\")\n",
    "    # print(name)\n",
    "\n",
    "    combi = eval(name)\n",
    "    # print(combi[0])\n",
    "\n",
    "    curr_dmz = combi[0]\n",
    "    curr_wtp = combi[1]\n",
    "    volume = v.varValue\n",
    "\n",
    "    # print(\"DMZ: \", dmz, \" \", \"WTP: \", wtp, \" \", \"Value: \", volume)\n",
    "\n",
    "    df.loc[curr_dmz, curr_wtp] = volume\n"
   ]
  },
  {
   "cell_type": "code",
   "execution_count": 469,
   "metadata": {},
   "outputs": [
    {
     "data": {
      "text/html": [
       "<div>\n",
       "<style scoped>\n",
       "    .dataframe tbody tr th:only-of-type {\n",
       "        vertical-align: middle;\n",
       "    }\n",
       "\n",
       "    .dataframe tbody tr th {\n",
       "        vertical-align: top;\n",
       "    }\n",
       "\n",
       "    .dataframe thead th {\n",
       "        text-align: right;\n",
       "    }\n",
       "</style>\n",
       "<table border=\"1\" class=\"dataframe\">\n",
       "  <thead>\n",
       "    <tr style=\"text-align: right;\">\n",
       "      <th></th>\n",
       "      <th>AmpangIntake</th>\n",
       "      <th>BatangKali</th>\n",
       "      <th>BernamRiverHead</th>\n",
       "      <th>SungaiTengi</th>\n",
       "      <th>WangsaMaju</th>\n",
       "    </tr>\n",
       "  </thead>\n",
       "  <tbody>\n",
       "    <tr>\n",
       "      <th>DMZ1</th>\n",
       "      <td>1722222.20</td>\n",
       "      <td>503584.42</td>\n",
       "      <td>0.0</td>\n",
       "      <td>1564086.80</td>\n",
       "      <td>0.0</td>\n",
       "    </tr>\n",
       "    <tr>\n",
       "      <th>DMZ2</th>\n",
       "      <td>0.00</td>\n",
       "      <td>138461.54</td>\n",
       "      <td>0.0</td>\n",
       "      <td>0.00</td>\n",
       "      <td>0.0</td>\n",
       "    </tr>\n",
       "    <tr>\n",
       "      <th>DMZ3</th>\n",
       "      <td>277777.78</td>\n",
       "      <td>0.00</td>\n",
       "      <td>2000000.0</td>\n",
       "      <td>0.00</td>\n",
       "      <td>0.0</td>\n",
       "    </tr>\n",
       "    <tr>\n",
       "      <th>DMZ4</th>\n",
       "      <td>0.00</td>\n",
       "      <td>0.00</td>\n",
       "      <td>0.0</td>\n",
       "      <td>219696.97</td>\n",
       "      <td>0.0</td>\n",
       "    </tr>\n",
       "    <tr>\n",
       "      <th>DMZ5</th>\n",
       "      <td>0.00</td>\n",
       "      <td>0.00</td>\n",
       "      <td>0.0</td>\n",
       "      <td>216216.22</td>\n",
       "      <td>0.0</td>\n",
       "    </tr>\n",
       "  </tbody>\n",
       "</table>\n",
       "</div>"
      ],
      "text/plain": [
       "      AmpangIntake  BatangKali  BernamRiverHead  SungaiTengi  WangsaMaju\n",
       "DMZ1    1722222.20   503584.42              0.0   1564086.80         0.0\n",
       "DMZ2          0.00   138461.54              0.0         0.00         0.0\n",
       "DMZ3     277777.78        0.00        2000000.0         0.00         0.0\n",
       "DMZ4          0.00        0.00              0.0    219696.97         0.0\n",
       "DMZ5          0.00        0.00              0.0    216216.22         0.0"
      ]
     },
     "execution_count": 469,
     "metadata": {},
     "output_type": "execute_result"
    }
   ],
   "source": [
    "# Supply of water from each WTP to each DMZ (including distribution loss)\n",
    "df"
   ]
  },
  {
   "cell_type": "code",
   "execution_count": 470,
   "metadata": {},
   "outputs": [],
   "source": [
    "df.columns = [\"Ampang Intake\", \"Batang Kali\", \"Bername River Head\", \"Sungai Tengi\", \"Wangsa Maju\"]\n",
    "df = df[[\"Ampang Intake\", \"Batang Kali\", \"Bername River Head\", \"Wangsa Maju\", \"Sungai Tengi\", ]]"
   ]
  },
  {
   "cell_type": "code",
   "execution_count": 471,
   "metadata": {},
   "outputs": [
    {
     "data": {
      "text/html": [
       "<div>\n",
       "<style scoped>\n",
       "    .dataframe tbody tr th:only-of-type {\n",
       "        vertical-align: middle;\n",
       "    }\n",
       "\n",
       "    .dataframe tbody tr th {\n",
       "        vertical-align: top;\n",
       "    }\n",
       "\n",
       "    .dataframe thead th {\n",
       "        text-align: right;\n",
       "    }\n",
       "</style>\n",
       "<table border=\"1\" class=\"dataframe\">\n",
       "  <thead>\n",
       "    <tr style=\"text-align: right;\">\n",
       "      <th></th>\n",
       "      <th>Ampang Intake</th>\n",
       "      <th>Batang Kali</th>\n",
       "      <th>Bername River Head</th>\n",
       "      <th>Wangsa Maju</th>\n",
       "      <th>Sungai Tengi</th>\n",
       "    </tr>\n",
       "  </thead>\n",
       "  <tbody>\n",
       "    <tr>\n",
       "      <th>DMZ1</th>\n",
       "      <td>1722222.20</td>\n",
       "      <td>503584.42</td>\n",
       "      <td>0.0</td>\n",
       "      <td>0.0</td>\n",
       "      <td>1564086.80</td>\n",
       "    </tr>\n",
       "    <tr>\n",
       "      <th>DMZ2</th>\n",
       "      <td>0.00</td>\n",
       "      <td>138461.54</td>\n",
       "      <td>0.0</td>\n",
       "      <td>0.0</td>\n",
       "      <td>0.00</td>\n",
       "    </tr>\n",
       "    <tr>\n",
       "      <th>DMZ3</th>\n",
       "      <td>277777.78</td>\n",
       "      <td>0.00</td>\n",
       "      <td>2000000.0</td>\n",
       "      <td>0.0</td>\n",
       "      <td>0.00</td>\n",
       "    </tr>\n",
       "    <tr>\n",
       "      <th>DMZ4</th>\n",
       "      <td>0.00</td>\n",
       "      <td>0.00</td>\n",
       "      <td>0.0</td>\n",
       "      <td>0.0</td>\n",
       "      <td>219696.97</td>\n",
       "    </tr>\n",
       "    <tr>\n",
       "      <th>DMZ5</th>\n",
       "      <td>0.00</td>\n",
       "      <td>0.00</td>\n",
       "      <td>0.0</td>\n",
       "      <td>0.0</td>\n",
       "      <td>216216.22</td>\n",
       "    </tr>\n",
       "  </tbody>\n",
       "</table>\n",
       "</div>"
      ],
      "text/plain": [
       "      Ampang Intake  Batang Kali  Bername River Head  Wangsa Maju  \\\n",
       "DMZ1     1722222.20    503584.42                 0.0          0.0   \n",
       "DMZ2           0.00    138461.54                 0.0          0.0   \n",
       "DMZ3      277777.78         0.00           2000000.0          0.0   \n",
       "DMZ4           0.00         0.00                 0.0          0.0   \n",
       "DMZ5           0.00         0.00                 0.0          0.0   \n",
       "\n",
       "      Sungai Tengi  \n",
       "DMZ1    1564086.80  \n",
       "DMZ2          0.00  \n",
       "DMZ3          0.00  \n",
       "DMZ4     219696.97  \n",
       "DMZ5     216216.22  "
      ]
     },
     "execution_count": 471,
     "metadata": {},
     "output_type": "execute_result"
    }
   ],
   "source": [
    "# Supply of water from each WTP to each DMZ (including distribution loss)\n",
    "df"
   ]
  },
  {
   "cell_type": "code",
   "execution_count": 448,
   "metadata": {},
   "outputs": [
    {
     "data": {
      "text/html": [
       "<div>\n",
       "<style scoped>\n",
       "    .dataframe tbody tr th:only-of-type {\n",
       "        vertical-align: middle;\n",
       "    }\n",
       "\n",
       "    .dataframe tbody tr th {\n",
       "        vertical-align: top;\n",
       "    }\n",
       "\n",
       "    .dataframe thead th {\n",
       "        text-align: right;\n",
       "    }\n",
       "</style>\n",
       "<table border=\"1\" class=\"dataframe\">\n",
       "  <thead>\n",
       "    <tr style=\"text-align: right;\">\n",
       "      <th></th>\n",
       "      <th>Ampang Intake</th>\n",
       "      <th>Batang Kali</th>\n",
       "      <th>Bernam River Head</th>\n",
       "      <th>Wangsa Maju</th>\n",
       "      <th>Sungai Tengi</th>\n",
       "    </tr>\n",
       "    <tr>\n",
       "      <th>Distribution Loss</th>\n",
       "      <th></th>\n",
       "      <th></th>\n",
       "      <th></th>\n",
       "      <th></th>\n",
       "      <th></th>\n",
       "    </tr>\n",
       "  </thead>\n",
       "  <tbody>\n",
       "    <tr>\n",
       "      <th>DMZ1</th>\n",
       "      <td>0.25</td>\n",
       "      <td>0.21</td>\n",
       "      <td>0.28</td>\n",
       "      <td>0.30</td>\n",
       "      <td>0.29</td>\n",
       "    </tr>\n",
       "    <tr>\n",
       "      <th>DMZ2</th>\n",
       "      <td>0.27</td>\n",
       "      <td>0.35</td>\n",
       "      <td>0.30</td>\n",
       "      <td>0.26</td>\n",
       "      <td>0.25</td>\n",
       "    </tr>\n",
       "    <tr>\n",
       "      <th>DMZ3</th>\n",
       "      <td>0.28</td>\n",
       "      <td>0.29</td>\n",
       "      <td>0.25</td>\n",
       "      <td>0.26</td>\n",
       "      <td>0.31</td>\n",
       "    </tr>\n",
       "    <tr>\n",
       "      <th>DMZ4</th>\n",
       "      <td>0.25</td>\n",
       "      <td>0.29</td>\n",
       "      <td>0.27</td>\n",
       "      <td>0.24</td>\n",
       "      <td>0.34</td>\n",
       "    </tr>\n",
       "    <tr>\n",
       "      <th>DMZ5</th>\n",
       "      <td>0.28</td>\n",
       "      <td>0.32</td>\n",
       "      <td>0.34</td>\n",
       "      <td>0.23</td>\n",
       "      <td>0.26</td>\n",
       "    </tr>\n",
       "  </tbody>\n",
       "</table>\n",
       "</div>"
      ],
      "text/plain": [
       "                   Ampang Intake  Batang Kali  Bernam River Head  Wangsa Maju  \\\n",
       "Distribution Loss                                                               \n",
       "DMZ1                        0.25         0.21               0.28         0.30   \n",
       "DMZ2                        0.27         0.35               0.30         0.26   \n",
       "DMZ3                        0.28         0.29               0.25         0.26   \n",
       "DMZ4                        0.25         0.29               0.27         0.24   \n",
       "DMZ5                        0.28         0.32               0.34         0.23   \n",
       "\n",
       "                   Sungai Tengi  \n",
       "Distribution Loss                \n",
       "DMZ1                       0.29  \n",
       "DMZ2                       0.25  \n",
       "DMZ3                       0.31  \n",
       "DMZ4                       0.34  \n",
       "DMZ5                       0.26  "
      ]
     },
     "execution_count": 448,
     "metadata": {},
     "output_type": "execute_result"
    }
   ],
   "source": [
    "distribution_loss"
   ]
  },
  {
   "cell_type": "code",
   "execution_count": 449,
   "metadata": {},
   "outputs": [],
   "source": [
    "useful_amount = 1- distribution_loss.values"
   ]
  },
  {
   "cell_type": "code",
   "execution_count": 450,
   "metadata": {},
   "outputs": [
    {
     "data": {
      "text/plain": [
       "array([[1291666.65  ,  397831.6918,       0.    ,       0.    ,\n",
       "        1110501.628 ],\n",
       "       [      0.    ,   90000.001 ,       0.    ,       0.    ,\n",
       "              0.    ],\n",
       "       [ 200000.0016,       0.    , 1500000.    ,       0.    ,\n",
       "              0.    ],\n",
       "       [      0.    ,       0.    ,       0.    ,       0.    ,\n",
       "         145000.0002],\n",
       "       [      0.    ,       0.    ,       0.    ,       0.    ,\n",
       "         160000.0028]])"
      ]
     },
     "execution_count": 450,
     "metadata": {},
     "output_type": "execute_result"
    }
   ],
   "source": [
    "temp = df.values * useful_amount\n",
    "temp"
   ]
  },
  {
   "cell_type": "code",
   "execution_count": 451,
   "metadata": {},
   "outputs": [
    {
     "data": {
      "text/plain": [
       "(5, 5)"
      ]
     },
     "execution_count": 451,
     "metadata": {},
     "output_type": "execute_result"
    }
   ],
   "source": [
    "temp.shape"
   ]
  },
  {
   "cell_type": "code",
   "execution_count": 459,
   "metadata": {},
   "outputs": [
    {
     "data": {
      "text/html": [
       "<div>\n",
       "<style scoped>\n",
       "    .dataframe tbody tr th:only-of-type {\n",
       "        vertical-align: middle;\n",
       "    }\n",
       "\n",
       "    .dataframe tbody tr th {\n",
       "        vertical-align: top;\n",
       "    }\n",
       "\n",
       "    .dataframe thead th {\n",
       "        text-align: right;\n",
       "    }\n",
       "</style>\n",
       "<table border=\"1\" class=\"dataframe\">\n",
       "  <thead>\n",
       "    <tr style=\"text-align: right;\">\n",
       "      <th></th>\n",
       "      <th>Ampang Intake</th>\n",
       "      <th>Batang Kali</th>\n",
       "      <th>Bernam River Head</th>\n",
       "      <th>Wangsa Maju</th>\n",
       "      <th>Sungai Tengi</th>\n",
       "    </tr>\n",
       "  </thead>\n",
       "  <tbody>\n",
       "    <tr>\n",
       "      <th>DMZ1</th>\n",
       "      <td>1291666.650</td>\n",
       "      <td>397831.692</td>\n",
       "      <td>0.0</td>\n",
       "      <td>0.0</td>\n",
       "      <td>1110501.628</td>\n",
       "    </tr>\n",
       "    <tr>\n",
       "      <th>DMZ2</th>\n",
       "      <td>0.000</td>\n",
       "      <td>90000.001</td>\n",
       "      <td>0.0</td>\n",
       "      <td>0.0</td>\n",
       "      <td>0.000</td>\n",
       "    </tr>\n",
       "    <tr>\n",
       "      <th>DMZ3</th>\n",
       "      <td>200000.002</td>\n",
       "      <td>0.000</td>\n",
       "      <td>1500000.0</td>\n",
       "      <td>0.0</td>\n",
       "      <td>0.000</td>\n",
       "    </tr>\n",
       "    <tr>\n",
       "      <th>DMZ4</th>\n",
       "      <td>0.000</td>\n",
       "      <td>0.000</td>\n",
       "      <td>0.0</td>\n",
       "      <td>0.0</td>\n",
       "      <td>145000.000</td>\n",
       "    </tr>\n",
       "    <tr>\n",
       "      <th>DMZ5</th>\n",
       "      <td>0.000</td>\n",
       "      <td>0.000</td>\n",
       "      <td>0.0</td>\n",
       "      <td>0.0</td>\n",
       "      <td>160000.003</td>\n",
       "    </tr>\n",
       "  </tbody>\n",
       "</table>\n",
       "</div>"
      ],
      "text/plain": [
       "      Ampang Intake  Batang Kali  Bernam River Head  Wangsa Maju  Sungai Tengi\n",
       "DMZ1    1291666.650   397831.692                0.0          0.0   1110501.628\n",
       "DMZ2          0.000    90000.001                0.0          0.0         0.000\n",
       "DMZ3     200000.002        0.000          1500000.0          0.0         0.000\n",
       "DMZ4          0.000        0.000                0.0          0.0    145000.000\n",
       "DMZ5          0.000        0.000                0.0          0.0    160000.003"
      ]
     },
     "execution_count": 459,
     "metadata": {},
     "output_type": "execute_result"
    }
   ],
   "source": [
    "# Supply of water from each WTP to each DMZ, after accounting for water loss\n",
    "final_df = pd.DataFrame(temp, columns = wtp, index=dmz)\n",
    "final_df.round(3)"
   ]
  },
  {
   "cell_type": "code",
   "execution_count": 432,
   "metadata": {},
   "outputs": [
    {
     "data": {
      "text/plain": [
       "['Ampang Intake',\n",
       " 'Batang Kali',\n",
       " 'Bernam River Head',\n",
       " 'Wangsa Maju',\n",
       " 'Sungai Tengi']"
      ]
     },
     "execution_count": 432,
     "metadata": {},
     "output_type": "execute_result"
    }
   ],
   "source": [
    "wtp"
   ]
  },
  {
   "cell_type": "code",
   "execution_count": 460,
   "metadata": {},
   "outputs": [
    {
     "data": {
      "text/plain": [
       "DMZ1    2.800000e+06\n",
       "DMZ2    9.000000e+04\n",
       "DMZ3    1.700000e+06\n",
       "DMZ4    1.450000e+05\n",
       "DMZ5    1.600000e+05\n",
       "dtype: float64"
      ]
     },
     "execution_count": 460,
     "metadata": {},
     "output_type": "execute_result"
    }
   ],
   "source": [
    "supply = final_df.sum(axis=1)\n",
    "supply"
   ]
  },
  {
   "cell_type": "code",
   "execution_count": 461,
   "metadata": {},
   "outputs": [
    {
     "name": "stdout",
     "output_type": "stream",
     "text": [
      "2799999.9698 >= 2800000.0 ?\n",
      "True\n",
      "90000.001 >= 90000.0 ?\n",
      "True\n",
      "1700000.0016 >= 1700000.0 ?\n",
      "True\n",
      "145000.00019999998 >= 145000.0 ?\n",
      "True\n",
      "160000.0028 >= 160000.0 ?\n",
      "True\n"
     ]
    }
   ],
   "source": [
    "for curr_dmz in dmz:\n",
    "    print(supply[curr_dmz], \">=\", demand.loc[curr_dmz, \"Demand\"], \"?\")\n",
    "    # print(supply[curr_dmz] >= demand.loc[curr_dmz, \"Demand\"])\n",
    "    a = supply[curr_dmz]\n",
    "    b = demand.loc[curr_dmz, \"Demand\"]\n",
    "    print(np.isclose(a, b, rtol=1e-05, atol=1e-08, equal_nan=False))"
   ]
  },
  {
   "cell_type": "code",
   "execution_count": 462,
   "metadata": {},
   "outputs": [
    {
     "data": {
      "text/plain": [
       "Ampang Intake        1.491667e+06\n",
       "Batang Kali          4.878317e+05\n",
       "Bernam River Head    1.500000e+06\n",
       "Wangsa Maju          0.000000e+00\n",
       "Sungai Tengi         1.415502e+06\n",
       "dtype: float64"
      ]
     },
     "execution_count": 462,
     "metadata": {},
     "output_type": "execute_result"
    }
   ],
   "source": [
    "final_df.sum(axis=0)"
   ]
  },
  {
   "cell_type": "code",
   "execution_count": 430,
   "metadata": {},
   "outputs": [
    {
     "data": {
      "text/plain": [
       "160000.0"
      ]
     },
     "execution_count": 430,
     "metadata": {},
     "output_type": "execute_result"
    }
   ],
   "source": [
    "demand.loc[\"DMZ5\", \"Demand\"]"
   ]
  },
  {
   "cell_type": "code",
   "execution_count": null,
   "metadata": {},
   "outputs": [],
   "source": []
  }
 ],
 "metadata": {
  "interpreter": {
   "hash": "e26b667785f8ca5ba6997721f5ec4cff9487137f5f1e1e2f7d55c394a6833ac9"
  },
  "kernelspec": {
   "display_name": "Python 3.7.10 64-bit ('walmart2': conda)",
   "language": "python",
   "name": "python3"
  },
  "language_info": {
   "codemirror_mode": {
    "name": "ipython",
    "version": 3
   },
   "file_extension": ".py",
   "mimetype": "text/x-python",
   "name": "python",
   "nbconvert_exporter": "python",
   "pygments_lexer": "ipython3",
   "version": "3.7.10"
  },
  "orig_nbformat": 4
 },
 "nbformat": 4,
 "nbformat_minor": 2
}
