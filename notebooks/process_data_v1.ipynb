{
 "cells": [
  {
   "cell_type": "code",
   "execution_count": 132,
   "metadata": {},
   "outputs": [],
   "source": [
    "import numpy as np\n",
    "import pandas as pd\n",
    "import matplotlib.pyplot as plt\n",
    "import seaborn as sns\n",
    "import json\n",
    "from functools import reduce\n",
    "\n",
    "\n",
    "# Azure Blob Storage SDK\n",
    "from azure.storage.blob import BlobClient, BlobServiceClient\n",
    "\n",
    "conn_str = (\n",
    "    \n",
    ")\n",
    "\n",
    "# AzureML SDK\n",
    "from azureml.core import Workspace, Experiment, Datastore, Dataset, Run"
   ]
  },
  {
   "cell_type": "code",
   "execution_count": 117,
   "metadata": {},
   "outputs": [],
   "source": [
    "EXPERIMENT_NAME = \"my-experiment\"\n",
    "\n",
    "# PROCESS_DATA_CONFIG = json.load(open(\"process_data_config_v2.json\"))\n",
    "PROCESS_DATA_CONFIG = json.loads(\"\"\"\n",
    "        { \"demand\": {\t\n",
    "        \"group\": [\"Region\"],\n",
    "        \"time\": \"Date\",\n",
    "        \"features\" : {\n",
    "            \"Weekly_Sales\": [\"impute_mdian\"]}\n",
    "        }\n",
    "    }\n",
    "    \"\"\"\n",
    ")"
   ]
  },
  {
   "cell_type": "code",
   "execution_count": 120,
   "metadata": {},
   "outputs": [
    {
     "name": "stdout",
     "output_type": "stream",
     "text": [
      "{'demand': {'group': ['Region'], 'time': 'Date', 'features': {'Weekly_Sales': ['impute_mdian']}}}\n"
     ]
    }
   ],
   "source": [
    "print(PROCESS_DATA_CONFIG)"
   ]
  },
  {
   "cell_type": "code",
   "execution_count": 133,
   "metadata": {},
   "outputs": [
    {
     "name": "stdout",
     "output_type": "stream",
     "text": [
      "{ \"demand\": {\t\n",
      "    \"group\": [\"Region\"],\n",
      "    \"time\": \"Date\",\n",
      "    \"features\" : {\n",
      "        \"Weekly_Sales\": [\"impute_mdian\"]}\n",
      "    }\n",
      "}\n",
      "\n"
     ]
    }
   ],
   "source": [
    "with open(\"process_data_config_v2.json\", \"r\") as f:\n",
    "    json_file = f.read()\n",
    "print(json_file)"
   ]
  },
  {
   "cell_type": "code",
   "execution_count": 136,
   "metadata": {},
   "outputs": [
    {
     "data": {
      "text/plain": [
       "'{ \"demand\": {\\t\\n    \"group\": [\"Region\"],\\n    \"time\": \"Date\",\\n    \"features\" : {\\n        \"Weekly_Sales\": [\"impute_mdian\"]}\\n    }\\n}\\n'"
      ]
     },
     "execution_count": 136,
     "metadata": {},
     "output_type": "execute_result"
    }
   ],
   "source": [
    "str(json_file)"
   ]
  },
  {
   "cell_type": "code",
   "execution_count": 135,
   "metadata": {},
   "outputs": [
    {
     "data": {
      "text/plain": [
       "{'demand': {'group': ['Region'],\n",
       "  'time': 'Date',\n",
       "  'features': {'Weekly_Sales': ['impute_mdian']}}}"
      ]
     },
     "execution_count": 135,
     "metadata": {},
     "output_type": "execute_result"
    }
   ],
   "source": [
    "json.loads(json_file)"
   ]
  },
  {
   "cell_type": "code",
   "execution_count": 125,
   "metadata": {},
   "outputs": [
    {
     "data": {
      "text/plain": [
       "{'demand': {'group': ['Region'],\n",
       "  'time': 'Date',\n",
       "  'features': {'Weekly_Sales': ['impute_mdian']}}}"
      ]
     },
     "execution_count": 125,
     "metadata": {},
     "output_type": "execute_result"
    }
   ],
   "source": [
    "json.loads(\"\"\"{ \"demand\": {\t\n",
    "    \"group\": [\"Region\"],\n",
    "    \"time\": \"Date\",\n",
    "    \"features\" : {\n",
    "        \"Weekly_Sales\": [\"impute_mdian\"]}\n",
    "    }\n",
    "}\"\"\")"
   ]
  },
  {
   "cell_type": "markdown",
   "metadata": {},
   "source": [
    "##  For Script"
   ]
  },
  {
   "cell_type": "code",
   "execution_count": 38,
   "metadata": {},
   "outputs": [
    {
     "data": {
      "text/plain": [
       "{'demand': {'group': ['Region'],\n",
       "  'time': 'Date',\n",
       "  'features': {'Weekly_Sales': ['impute_mdian']}}}"
      ]
     },
     "execution_count": 38,
     "metadata": {},
     "output_type": "execute_result"
    }
   ],
   "source": [
    "PROCESS_DATA_CONFIG"
   ]
  },
  {
   "cell_type": "code",
   "execution_count": 108,
   "metadata": {},
   "outputs": [],
   "source": [
    "ws = Workspace.get(name=\"Walmart-Sales\", \n",
    "subscription_id =  \"ef0073f1-56e3-462f-80b3-3beb320211e4\",\n",
    "resource_group = \"Walmart-1\"\n",
    ")\n",
    "\n",
    "experiment = Experiment(ws, name=EXPERIMENT_NAME)\n",
    "\n",
    "experiment_id = experiment.id"
   ]
  },
  {
   "cell_type": "code",
   "execution_count": 15,
   "metadata": {},
   "outputs": [],
   "source": [
    "registered_datasets = list(ws.datasets.keys())"
   ]
  },
  {
   "cell_type": "code",
   "execution_count": 41,
   "metadata": {},
   "outputs": [
    {
     "data": {
      "text/plain": [
       "{'demand': {'group': ['Region'],\n",
       "  'time': 'Date',\n",
       "  'features': {'Weekly_Sales': ['impute_mdian']}}}"
      ]
     },
     "execution_count": 41,
     "metadata": {},
     "output_type": "execute_result"
    }
   ],
   "source": [
    "PROCESS_DATA_CONFIG"
   ]
  },
  {
   "cell_type": "code",
   "execution_count": 93,
   "metadata": {},
   "outputs": [],
   "source": [
    "datasets = []\n",
    "\n",
    "for dataset_name, d in PROCESS_DATA_CONFIG.items():\n",
    "    if dataset_name in registered_datasets:\n",
    "        dataset = Dataset.get_by_name(ws, name = dataset_name)\n",
    "        df = dataset.to_pandas_dataframe()\n",
    "\n",
    "        GROUP = d['group']\n",
    "        TIME = d[\"time\"]\n",
    "\n",
    "         # Formating\n",
    "        if type(GROUP) == str:\n",
    "            GROUP = [GROUP]\n",
    "\n",
    "        # Perform all the necessary steps\n",
    "        ## TODO: Map the steps to the function to perform transformation\n",
    "\n",
    "       \n",
    "\n",
    "        # Append the tuple to the list of datasets\n",
    "        datasets.append((df, GROUP, TIME))\n",
    "        \n",
    "    else:\n",
    "        print(dataset_name, \"not registered\")\n"
   ]
  },
  {
   "cell_type": "code",
   "execution_count": 94,
   "metadata": {},
   "outputs": [],
   "source": [
    "# datasets.append((df, [\"Region\"], \"Date\"))\n",
    "# datasets.append((df, [\"Region\"], \"Date\"))\n",
    "# datasets.append((df, [\"Region\"], \"Date\"))"
   ]
  },
  {
   "cell_type": "code",
   "execution_count": 95,
   "metadata": {},
   "outputs": [],
   "source": [
    "def merge_dataframe(df1_info, df2_info):\n",
    "    df1, df1_group, df1_time = df1_info\n",
    "    df2, df2_group, df2_time = df2_info\n",
    "    return (pd.merge(df1, df2, how='left', left_on = df1_group + [df1_time], right_on = df2_group + [df2_time]), df1_group, df1_time)"
   ]
  },
  {
   "cell_type": "code",
   "execution_count": 111,
   "metadata": {},
   "outputs": [],
   "source": [
    "# Merging all datasets\n",
    "\n",
    "final_df, df_group, df_time = reduce(merge_dataframe, datasets)"
   ]
  },
  {
   "cell_type": "code",
   "execution_count": 115,
   "metadata": {},
   "outputs": [
    {
     "data": {
      "text/plain": [
       "{'etag': '\"0x8D9D646E1D48E1D\"',\n",
       " 'last_modified': datetime.datetime(2022, 1, 13, 3, 43, 37, tzinfo=datetime.timezone.utc),\n",
       " 'content_md5': bytearray(b'\\xfc\\x96\\xedCj\\x0b\\xb6\\xe3,5\\x01\\xfdn\\xcc\\x08K'),\n",
       " 'client_request_id': 'fd7fd750-7422-11ec-9a25-415645000030',\n",
       " 'request_id': '8017744a-301e-00a0-712f-086152000000',\n",
       " 'version': '2019-07-07',\n",
       " 'date': datetime.datetime(2022, 1, 13, 3, 43, 37, tzinfo=datetime.timezone.utc),\n",
       " 'request_server_encrypted': True,\n",
       " 'encryption_key_sha256': None,\n",
       " 'encryption_scope': None,\n",
       " 'error_code': None}"
      ]
     },
     "execution_count": 115,
     "metadata": {},
     "output_type": "execute_result"
    }
   ],
   "source": [
    "########## Upload File to features ###############\n",
    "FILE_TO_UPLOAD = f\"{experiment_id}.csv\"\n",
    "\n",
    "# Storage account name and account key\n",
    "STORAGE_ACCOUNT_NAME = \"walmartsales2005913347\"\n",
    "STORAGE_ACCOUNT_KEY = \"uPu7IRa/73JZvkiEBVBAsb8D36g1ZeoRT0YMG7l7ConyJe8aoVKoTwDpDESjZRhs0Mnt6wai7Dwh/IfSAa/B0g==\"\n",
    "\n",
    "conn_string = (\n",
    "     'DefaultEndpointsProtocol=https;'\n",
    "    + f'AccountName={STORAGE_ACCOUNT_NAME};'\n",
    "    + f'AccountKey={STORAGE_ACCOUNT_KEY};'\n",
    "    + 'EndpointSuffix=core.windows.net'\n",
    ")\n",
    "\n",
    "blob_client_upload = BlobClient.from_connection_string(conn_string, \n",
    "    container_name=\"features\",\n",
    "    blob_name= f\"{FILE_TO_UPLOAD}\"\n",
    ")\n",
    "\n",
    "blob_client_upload.upload_blob(\n",
    "    final_df.to_csv(index=False, header=True).encode()\n",
    ")"
   ]
  },
  {
   "cell_type": "code",
   "execution_count": null,
   "metadata": {},
   "outputs": [],
   "source": []
  },
  {
   "cell_type": "code",
   "execution_count": null,
   "metadata": {},
   "outputs": [],
   "source": []
  },
  {
   "cell_type": "code",
   "execution_count": null,
   "metadata": {},
   "outputs": [],
   "source": [
    "def impute_median(df, col):\n",
    "    "
   ]
  },
  {
   "cell_type": "code",
   "execution_count": 99,
   "metadata": {},
   "outputs": [],
   "source": [
    "steps_to_func = {\n",
    "    \"impute_median\": \"\"\n",
    "}"
   ]
  },
  {
   "cell_type": "code",
   "execution_count": null,
   "metadata": {},
   "outputs": [],
   "source": []
  },
  {
   "cell_type": "code",
   "execution_count": null,
   "metadata": {},
   "outputs": [],
   "source": []
  },
  {
   "cell_type": "code",
   "execution_count": null,
   "metadata": {},
   "outputs": [],
   "source": []
  },
  {
   "cell_type": "code",
   "execution_count": null,
   "metadata": {},
   "outputs": [],
   "source": []
  },
  {
   "cell_type": "code",
   "execution_count": null,
   "metadata": {},
   "outputs": [],
   "source": []
  }
 ],
 "metadata": {
  "interpreter": {
   "hash": "e26b667785f8ca5ba6997721f5ec4cff9487137f5f1e1e2f7d55c394a6833ac9"
  },
  "kernelspec": {
   "display_name": "Python 3.7.10 64-bit ('walmart2': conda)",
   "language": "python",
   "name": "python3"
  },
  "language_info": {
   "codemirror_mode": {
    "name": "ipython",
    "version": 3
   },
   "file_extension": ".py",
   "mimetype": "text/x-python",
   "name": "python",
   "nbconvert_exporter": "python",
   "pygments_lexer": "ipython3",
   "version": "3.7.10"
  },
  "orig_nbformat": 4
 },
 "nbformat": 4,
 "nbformat_minor": 2
}
