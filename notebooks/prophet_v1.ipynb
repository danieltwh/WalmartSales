{
 "cells": [
  {
   "cell_type": "code",
   "execution_count": 1,
   "metadata": {},
   "outputs": [
    {
     "name": "stderr",
     "output_type": "stream",
     "text": [
      "C:\\Users\\XA155XB\\Anaconda3\\envs\\walmart2\\lib\\site-packages\\numpy\\_distributor_init.py:32: UserWarning: loaded more than 1 DLL from .libs:\n",
      "C:\\Users\\XA155XB\\Anaconda3\\envs\\walmart2\\lib\\site-packages\\numpy\\.libs\\libopenblas.QVLO2T66WEPI7JZ63PS3HMOHFEY472BC.gfortran-win_amd64.dll\n",
      "C:\\Users\\XA155XB\\Anaconda3\\envs\\walmart2\\lib\\site-packages\\numpy\\.libs\\libopenblas.XWYDX2IKJW2NMTWSFYNGFUWKQU3LYTCZ.gfortran-win_amd64.dll\n",
      "  stacklevel=1)\n"
     ]
    }
   ],
   "source": [
    "import numpy as np\n",
    "import pandas as pd\n",
    "import matplotlib.pyplot as plt\n",
    "import seaborn as sns\n",
    "\n",
    "import os\n",
    "import sys\n",
    "sys.path.append(\"../src/utils\")\n",
    "from eda_tools import *\n",
    "from evaluate_model import *"
   ]
  },
  {
   "cell_type": "markdown",
   "metadata": {},
   "source": [
    "## Reading in Dataset"
   ]
  },
  {
   "cell_type": "markdown",
   "metadata": {},
   "source": [
    "### Weekly Sales"
   ]
  },
  {
   "cell_type": "code",
   "execution_count": 2,
   "metadata": {},
   "outputs": [
    {
     "data": {
      "text/html": [
       "<div>\n",
       "<style scoped>\n",
       "    .dataframe tbody tr th:only-of-type {\n",
       "        vertical-align: middle;\n",
       "    }\n",
       "\n",
       "    .dataframe tbody tr th {\n",
       "        vertical-align: top;\n",
       "    }\n",
       "\n",
       "    .dataframe thead th {\n",
       "        text-align: right;\n",
       "    }\n",
       "</style>\n",
       "<table border=\"1\" class=\"dataframe\">\n",
       "  <thead>\n",
       "    <tr style=\"text-align: right;\">\n",
       "      <th></th>\n",
       "      <th>Region</th>\n",
       "      <th>DMZ</th>\n",
       "      <th>Date</th>\n",
       "      <th>Weekly_Sales</th>\n",
       "      <th>IsHoliday</th>\n",
       "      <th>DMZ.1</th>\n",
       "    </tr>\n",
       "  </thead>\n",
       "  <tbody>\n",
       "    <tr>\n",
       "      <th>0</th>\n",
       "      <td>1</td>\n",
       "      <td>1</td>\n",
       "      <td>5/2/2010</td>\n",
       "      <td>24924.50</td>\n",
       "      <td>False</td>\n",
       "      <td>1</td>\n",
       "    </tr>\n",
       "    <tr>\n",
       "      <th>1</th>\n",
       "      <td>1</td>\n",
       "      <td>1</td>\n",
       "      <td>12/2/2010</td>\n",
       "      <td>46039.49</td>\n",
       "      <td>True</td>\n",
       "      <td>1</td>\n",
       "    </tr>\n",
       "    <tr>\n",
       "      <th>2</th>\n",
       "      <td>1</td>\n",
       "      <td>1</td>\n",
       "      <td>19/2/10</td>\n",
       "      <td>41595.55</td>\n",
       "      <td>False</td>\n",
       "      <td>1</td>\n",
       "    </tr>\n",
       "    <tr>\n",
       "      <th>3</th>\n",
       "      <td>1</td>\n",
       "      <td>1</td>\n",
       "      <td>26/2/10</td>\n",
       "      <td>19403.54</td>\n",
       "      <td>False</td>\n",
       "      <td>1</td>\n",
       "    </tr>\n",
       "    <tr>\n",
       "      <th>4</th>\n",
       "      <td>1</td>\n",
       "      <td>1</td>\n",
       "      <td>5/3/2010</td>\n",
       "      <td>21827.90</td>\n",
       "      <td>False</td>\n",
       "      <td>1</td>\n",
       "    </tr>\n",
       "  </tbody>\n",
       "</table>\n",
       "</div>"
      ],
      "text/plain": [
       "   Region  DMZ       Date  Weekly_Sales  IsHoliday  DMZ.1\n",
       "0       1    1   5/2/2010      24924.50      False      1\n",
       "1       1    1  12/2/2010      46039.49       True      1\n",
       "2       1    1    19/2/10      41595.55      False      1\n",
       "3       1    1    26/2/10      19403.54      False      1\n",
       "4       1    1   5/3/2010      21827.90      False      1"
      ]
     },
     "execution_count": 2,
     "metadata": {},
     "output_type": "execute_result"
    }
   ],
   "source": [
    "sales = pd.read_csv(\"../walmart_sales/train.csv\")\n",
    "sales.head()"
   ]
  },
  {
   "cell_type": "code",
   "execution_count": 3,
   "metadata": {},
   "outputs": [
    {
     "data": {
      "text/html": [
       "<div>\n",
       "<style scoped>\n",
       "    .dataframe tbody tr th:only-of-type {\n",
       "        vertical-align: middle;\n",
       "    }\n",
       "\n",
       "    .dataframe tbody tr th {\n",
       "        vertical-align: top;\n",
       "    }\n",
       "\n",
       "    .dataframe thead th {\n",
       "        text-align: right;\n",
       "    }\n",
       "</style>\n",
       "<table border=\"1\" class=\"dataframe\">\n",
       "  <thead>\n",
       "    <tr style=\"text-align: right;\">\n",
       "      <th></th>\n",
       "      <th>Region</th>\n",
       "      <th>DMZ</th>\n",
       "      <th>Date</th>\n",
       "      <th>Weekly_Sales</th>\n",
       "      <th>IsHoliday</th>\n",
       "    </tr>\n",
       "  </thead>\n",
       "  <tbody>\n",
       "    <tr>\n",
       "      <th>0</th>\n",
       "      <td>1</td>\n",
       "      <td>1</td>\n",
       "      <td>2010-05-02</td>\n",
       "      <td>24924.50</td>\n",
       "      <td>False</td>\n",
       "    </tr>\n",
       "    <tr>\n",
       "      <th>1</th>\n",
       "      <td>1</td>\n",
       "      <td>1</td>\n",
       "      <td>2010-12-02</td>\n",
       "      <td>46039.49</td>\n",
       "      <td>True</td>\n",
       "    </tr>\n",
       "    <tr>\n",
       "      <th>2</th>\n",
       "      <td>1</td>\n",
       "      <td>1</td>\n",
       "      <td>2010-02-19</td>\n",
       "      <td>41595.55</td>\n",
       "      <td>False</td>\n",
       "    </tr>\n",
       "    <tr>\n",
       "      <th>3</th>\n",
       "      <td>1</td>\n",
       "      <td>1</td>\n",
       "      <td>2010-02-26</td>\n",
       "      <td>19403.54</td>\n",
       "      <td>False</td>\n",
       "    </tr>\n",
       "    <tr>\n",
       "      <th>4</th>\n",
       "      <td>1</td>\n",
       "      <td>1</td>\n",
       "      <td>2010-05-03</td>\n",
       "      <td>21827.90</td>\n",
       "      <td>False</td>\n",
       "    </tr>\n",
       "  </tbody>\n",
       "</table>\n",
       "</div>"
      ],
      "text/plain": [
       "   Region  DMZ       Date  Weekly_Sales  IsHoliday\n",
       "0       1    1 2010-05-02      24924.50      False\n",
       "1       1    1 2010-12-02      46039.49       True\n",
       "2       1    1 2010-02-19      41595.55      False\n",
       "3       1    1 2010-02-26      19403.54      False\n",
       "4       1    1 2010-05-03      21827.90      False"
      ]
     },
     "execution_count": 3,
     "metadata": {},
     "output_type": "execute_result"
    }
   ],
   "source": [
    "# Converting dates\n",
    "sales[\"Date\"] = pd.to_datetime(sales[\"Date\"])\n",
    "\n",
    "# Dropping DMZ.1 column\n",
    "sales = sales.drop([\"DMZ.1\"], axis=1)\n",
    "\n",
    "sales.head()"
   ]
  },
  {
   "cell_type": "code",
   "execution_count": 4,
   "metadata": {},
   "outputs": [
    {
     "data": {
      "text/html": [
       "<div>\n",
       "<style scoped>\n",
       "    .dataframe tbody tr th:only-of-type {\n",
       "        vertical-align: middle;\n",
       "    }\n",
       "\n",
       "    .dataframe tbody tr th {\n",
       "        vertical-align: top;\n",
       "    }\n",
       "\n",
       "    .dataframe thead th {\n",
       "        text-align: right;\n",
       "    }\n",
       "</style>\n",
       "<table border=\"1\" class=\"dataframe\">\n",
       "  <thead>\n",
       "    <tr style=\"text-align: right;\">\n",
       "      <th></th>\n",
       "      <th>Region</th>\n",
       "      <th>DMZ</th>\n",
       "      <th>Date</th>\n",
       "      <th>Weekly_Sales</th>\n",
       "      <th>IsHoliday</th>\n",
       "    </tr>\n",
       "  </thead>\n",
       "  <tbody>\n",
       "    <tr>\n",
       "      <th>Total</th>\n",
       "      <td>117604</td>\n",
       "      <td>117604</td>\n",
       "      <td>117604</td>\n",
       "      <td>117604</td>\n",
       "      <td>117604</td>\n",
       "    </tr>\n",
       "    <tr>\n",
       "      <th>Missing</th>\n",
       "      <td>0</td>\n",
       "      <td>0</td>\n",
       "      <td>0</td>\n",
       "      <td>0</td>\n",
       "      <td>0</td>\n",
       "    </tr>\n",
       "    <tr>\n",
       "      <th>Percent Missing(%)</th>\n",
       "      <td>0.0</td>\n",
       "      <td>0.0</td>\n",
       "      <td>0.0</td>\n",
       "      <td>0.0</td>\n",
       "      <td>0.0</td>\n",
       "    </tr>\n",
       "    <tr>\n",
       "      <th>Types</th>\n",
       "      <td>int64</td>\n",
       "      <td>int64</td>\n",
       "      <td>datetime64[ns]</td>\n",
       "      <td>float64</td>\n",
       "      <td>bool</td>\n",
       "    </tr>\n",
       "  </tbody>\n",
       "</table>\n",
       "</div>"
      ],
      "text/plain": [
       "                    Region     DMZ            Date Weekly_Sales IsHoliday\n",
       "Total               117604  117604          117604       117604    117604\n",
       "Missing                  0       0               0            0         0\n",
       "Percent Missing(%)     0.0     0.0             0.0          0.0       0.0\n",
       "Types                int64   int64  datetime64[ns]      float64      bool"
      ]
     },
     "execution_count": 4,
     "metadata": {},
     "output_type": "execute_result"
    }
   ],
   "source": [
    "missing_data(sales)"
   ]
  },
  {
   "cell_type": "markdown",
   "metadata": {},
   "source": [
    "### Weekly Sales by Region"
   ]
  },
  {
   "cell_type": "code",
   "execution_count": 5,
   "metadata": {},
   "outputs": [],
   "source": [
    "region_sales = pd.read_csv('../walmart_sales/train_region_v2.csv')\n",
    "# Converting dates\n",
    "region_sales[\"Date\"] = pd.to_datetime(region_sales[\"Date\"])"
   ]
  },
  {
   "cell_type": "code",
   "execution_count": 6,
   "metadata": {},
   "outputs": [
    {
     "data": {
      "text/html": [
       "<div>\n",
       "<style scoped>\n",
       "    .dataframe tbody tr th:only-of-type {\n",
       "        vertical-align: middle;\n",
       "    }\n",
       "\n",
       "    .dataframe tbody tr th {\n",
       "        vertical-align: top;\n",
       "    }\n",
       "\n",
       "    .dataframe thead th {\n",
       "        text-align: right;\n",
       "    }\n",
       "</style>\n",
       "<table border=\"1\" class=\"dataframe\">\n",
       "  <thead>\n",
       "    <tr style=\"text-align: right;\">\n",
       "      <th></th>\n",
       "      <th>Region</th>\n",
       "      <th>Date</th>\n",
       "      <th>Weekly_Sales</th>\n",
       "    </tr>\n",
       "  </thead>\n",
       "  <tbody>\n",
       "    <tr>\n",
       "      <th>0</th>\n",
       "      <td>1</td>\n",
       "      <td>2010-02-05</td>\n",
       "      <td>1643690.90</td>\n",
       "    </tr>\n",
       "    <tr>\n",
       "      <th>1</th>\n",
       "      <td>1</td>\n",
       "      <td>2010-02-12</td>\n",
       "      <td>1641957.44</td>\n",
       "    </tr>\n",
       "    <tr>\n",
       "      <th>2</th>\n",
       "      <td>1</td>\n",
       "      <td>2010-02-19</td>\n",
       "      <td>1611968.17</td>\n",
       "    </tr>\n",
       "    <tr>\n",
       "      <th>3</th>\n",
       "      <td>1</td>\n",
       "      <td>2010-02-26</td>\n",
       "      <td>1409727.59</td>\n",
       "    </tr>\n",
       "    <tr>\n",
       "      <th>4</th>\n",
       "      <td>1</td>\n",
       "      <td>2010-03-05</td>\n",
       "      <td>1554806.68</td>\n",
       "    </tr>\n",
       "    <tr>\n",
       "      <th>...</th>\n",
       "      <td>...</td>\n",
       "      <td>...</td>\n",
       "      <td>...</td>\n",
       "    </tr>\n",
       "    <tr>\n",
       "      <th>1711</th>\n",
       "      <td>12</td>\n",
       "      <td>2012-09-28</td>\n",
       "      <td>880415.67</td>\n",
       "    </tr>\n",
       "    <tr>\n",
       "      <th>1712</th>\n",
       "      <td>12</td>\n",
       "      <td>2012-10-05</td>\n",
       "      <td>979825.92</td>\n",
       "    </tr>\n",
       "    <tr>\n",
       "      <th>1713</th>\n",
       "      <td>12</td>\n",
       "      <td>2012-10-12</td>\n",
       "      <td>934917.47</td>\n",
       "    </tr>\n",
       "    <tr>\n",
       "      <th>1714</th>\n",
       "      <td>12</td>\n",
       "      <td>2012-10-19</td>\n",
       "      <td>960945.43</td>\n",
       "    </tr>\n",
       "    <tr>\n",
       "      <th>1715</th>\n",
       "      <td>12</td>\n",
       "      <td>2012-10-26</td>\n",
       "      <td>974697.60</td>\n",
       "    </tr>\n",
       "  </tbody>\n",
       "</table>\n",
       "<p>1716 rows × 3 columns</p>\n",
       "</div>"
      ],
      "text/plain": [
       "      Region       Date  Weekly_Sales\n",
       "0          1 2010-02-05    1643690.90\n",
       "1          1 2010-02-12    1641957.44\n",
       "2          1 2010-02-19    1611968.17\n",
       "3          1 2010-02-26    1409727.59\n",
       "4          1 2010-03-05    1554806.68\n",
       "...      ...        ...           ...\n",
       "1711      12 2012-09-28     880415.67\n",
       "1712      12 2012-10-05     979825.92\n",
       "1713      12 2012-10-12     934917.47\n",
       "1714      12 2012-10-19     960945.43\n",
       "1715      12 2012-10-26     974697.60\n",
       "\n",
       "[1716 rows x 3 columns]"
      ]
     },
     "execution_count": 6,
     "metadata": {},
     "output_type": "execute_result"
    }
   ],
   "source": [
    "region_sales"
   ]
  },
  {
   "cell_type": "markdown",
   "metadata": {},
   "source": [
    "### Store information"
   ]
  },
  {
   "cell_type": "code",
   "execution_count": 7,
   "metadata": {},
   "outputs": [
    {
     "data": {
      "text/html": [
       "<div>\n",
       "<style scoped>\n",
       "    .dataframe tbody tr th:only-of-type {\n",
       "        vertical-align: middle;\n",
       "    }\n",
       "\n",
       "    .dataframe tbody tr th {\n",
       "        vertical-align: top;\n",
       "    }\n",
       "\n",
       "    .dataframe thead th {\n",
       "        text-align: right;\n",
       "    }\n",
       "</style>\n",
       "<table border=\"1\" class=\"dataframe\">\n",
       "  <thead>\n",
       "    <tr style=\"text-align: right;\">\n",
       "      <th></th>\n",
       "      <th>Region</th>\n",
       "      <th>Type</th>\n",
       "      <th>Size</th>\n",
       "    </tr>\n",
       "  </thead>\n",
       "  <tbody>\n",
       "    <tr>\n",
       "      <th>0</th>\n",
       "      <td>1</td>\n",
       "      <td>A</td>\n",
       "      <td>151315</td>\n",
       "    </tr>\n",
       "    <tr>\n",
       "      <th>1</th>\n",
       "      <td>2</td>\n",
       "      <td>A</td>\n",
       "      <td>202307</td>\n",
       "    </tr>\n",
       "    <tr>\n",
       "      <th>2</th>\n",
       "      <td>3</td>\n",
       "      <td>B</td>\n",
       "      <td>37392</td>\n",
       "    </tr>\n",
       "    <tr>\n",
       "      <th>3</th>\n",
       "      <td>4</td>\n",
       "      <td>A</td>\n",
       "      <td>205863</td>\n",
       "    </tr>\n",
       "    <tr>\n",
       "      <th>4</th>\n",
       "      <td>5</td>\n",
       "      <td>B</td>\n",
       "      <td>34875</td>\n",
       "    </tr>\n",
       "  </tbody>\n",
       "</table>\n",
       "</div>"
      ],
      "text/plain": [
       "   Region Type    Size\n",
       "0       1    A  151315\n",
       "1       2    A  202307\n",
       "2       3    B   37392\n",
       "3       4    A  205863\n",
       "4       5    B   34875"
      ]
     },
     "execution_count": 7,
     "metadata": {},
     "output_type": "execute_result"
    }
   ],
   "source": [
    "store_features = pd.read_csv(\"../walmart_sales/stores.csv\")\n",
    "store_features.head()"
   ]
  },
  {
   "cell_type": "markdown",
   "metadata": {},
   "source": [
    "### Other features"
   ]
  },
  {
   "cell_type": "code",
   "execution_count": 8,
   "metadata": {},
   "outputs": [],
   "source": [
    "other_features = pd.read_csv(\"../walmart_sales/features.csv\")\n",
    "# Converting dates\n",
    "other_features[\"Date\"] = pd.to_datetime(other_features[\"Date\"])"
   ]
  },
  {
   "cell_type": "code",
   "execution_count": 9,
   "metadata": {},
   "outputs": [
    {
     "data": {
      "text/html": [
       "<div>\n",
       "<style scoped>\n",
       "    .dataframe tbody tr th:only-of-type {\n",
       "        vertical-align: middle;\n",
       "    }\n",
       "\n",
       "    .dataframe tbody tr th {\n",
       "        vertical-align: top;\n",
       "    }\n",
       "\n",
       "    .dataframe thead th {\n",
       "        text-align: right;\n",
       "    }\n",
       "</style>\n",
       "<table border=\"1\" class=\"dataframe\">\n",
       "  <thead>\n",
       "    <tr style=\"text-align: right;\">\n",
       "      <th></th>\n",
       "      <th>Region</th>\n",
       "      <th>Date</th>\n",
       "      <th>Temperature</th>\n",
       "      <th>Fuel_Price</th>\n",
       "      <th>MarkDown1</th>\n",
       "      <th>MarkDown2</th>\n",
       "      <th>MarkDown3</th>\n",
       "      <th>MarkDown4</th>\n",
       "      <th>MarkDown5</th>\n",
       "      <th>CPI</th>\n",
       "      <th>Unemployment</th>\n",
       "      <th>IsHoliday</th>\n",
       "    </tr>\n",
       "  </thead>\n",
       "  <tbody>\n",
       "    <tr>\n",
       "      <th>0</th>\n",
       "      <td>1</td>\n",
       "      <td>2010-02-05</td>\n",
       "      <td>42.31</td>\n",
       "      <td>2.572</td>\n",
       "      <td>NaN</td>\n",
       "      <td>NaN</td>\n",
       "      <td>NaN</td>\n",
       "      <td>NaN</td>\n",
       "      <td>NaN</td>\n",
       "      <td>211.096358</td>\n",
       "      <td>8.106</td>\n",
       "      <td>False</td>\n",
       "    </tr>\n",
       "    <tr>\n",
       "      <th>1</th>\n",
       "      <td>1</td>\n",
       "      <td>2010-02-12</td>\n",
       "      <td>38.51</td>\n",
       "      <td>2.548</td>\n",
       "      <td>NaN</td>\n",
       "      <td>NaN</td>\n",
       "      <td>NaN</td>\n",
       "      <td>NaN</td>\n",
       "      <td>NaN</td>\n",
       "      <td>211.242170</td>\n",
       "      <td>8.106</td>\n",
       "      <td>True</td>\n",
       "    </tr>\n",
       "    <tr>\n",
       "      <th>2</th>\n",
       "      <td>1</td>\n",
       "      <td>2010-02-19</td>\n",
       "      <td>39.93</td>\n",
       "      <td>2.514</td>\n",
       "      <td>NaN</td>\n",
       "      <td>NaN</td>\n",
       "      <td>NaN</td>\n",
       "      <td>NaN</td>\n",
       "      <td>NaN</td>\n",
       "      <td>211.289143</td>\n",
       "      <td>8.106</td>\n",
       "      <td>False</td>\n",
       "    </tr>\n",
       "    <tr>\n",
       "      <th>3</th>\n",
       "      <td>1</td>\n",
       "      <td>2010-02-26</td>\n",
       "      <td>46.63</td>\n",
       "      <td>2.561</td>\n",
       "      <td>NaN</td>\n",
       "      <td>NaN</td>\n",
       "      <td>NaN</td>\n",
       "      <td>NaN</td>\n",
       "      <td>NaN</td>\n",
       "      <td>211.319643</td>\n",
       "      <td>8.106</td>\n",
       "      <td>False</td>\n",
       "    </tr>\n",
       "    <tr>\n",
       "      <th>4</th>\n",
       "      <td>1</td>\n",
       "      <td>2010-03-05</td>\n",
       "      <td>46.50</td>\n",
       "      <td>2.625</td>\n",
       "      <td>NaN</td>\n",
       "      <td>NaN</td>\n",
       "      <td>NaN</td>\n",
       "      <td>NaN</td>\n",
       "      <td>NaN</td>\n",
       "      <td>211.350143</td>\n",
       "      <td>8.106</td>\n",
       "      <td>False</td>\n",
       "    </tr>\n",
       "  </tbody>\n",
       "</table>\n",
       "</div>"
      ],
      "text/plain": [
       "   Region       Date  Temperature  Fuel_Price  MarkDown1  MarkDown2  \\\n",
       "0       1 2010-02-05        42.31       2.572        NaN        NaN   \n",
       "1       1 2010-02-12        38.51       2.548        NaN        NaN   \n",
       "2       1 2010-02-19        39.93       2.514        NaN        NaN   \n",
       "3       1 2010-02-26        46.63       2.561        NaN        NaN   \n",
       "4       1 2010-03-05        46.50       2.625        NaN        NaN   \n",
       "\n",
       "   MarkDown3  MarkDown4  MarkDown5         CPI  Unemployment  IsHoliday  \n",
       "0        NaN        NaN        NaN  211.096358         8.106      False  \n",
       "1        NaN        NaN        NaN  211.242170         8.106       True  \n",
       "2        NaN        NaN        NaN  211.289143         8.106      False  \n",
       "3        NaN        NaN        NaN  211.319643         8.106      False  \n",
       "4        NaN        NaN        NaN  211.350143         8.106      False  "
      ]
     },
     "execution_count": 9,
     "metadata": {},
     "output_type": "execute_result"
    }
   ],
   "source": [
    "other_features.head()"
   ]
  },
  {
   "cell_type": "code",
   "execution_count": 10,
   "metadata": {},
   "outputs": [],
   "source": [
    "# Drop MarkDown columns\n",
    "other_features.drop([\"MarkDown1\", \"MarkDown2\", \"MarkDown3\", \"MarkDown4\", \"MarkDown5\"], axis=1, inplace=True)"
   ]
  },
  {
   "cell_type": "code",
   "execution_count": 11,
   "metadata": {},
   "outputs": [
    {
     "data": {
      "text/html": [
       "<div>\n",
       "<style scoped>\n",
       "    .dataframe tbody tr th:only-of-type {\n",
       "        vertical-align: middle;\n",
       "    }\n",
       "\n",
       "    .dataframe tbody tr th {\n",
       "        vertical-align: top;\n",
       "    }\n",
       "\n",
       "    .dataframe thead th {\n",
       "        text-align: right;\n",
       "    }\n",
       "</style>\n",
       "<table border=\"1\" class=\"dataframe\">\n",
       "  <thead>\n",
       "    <tr style=\"text-align: right;\">\n",
       "      <th></th>\n",
       "      <th>Region</th>\n",
       "      <th>Date</th>\n",
       "      <th>Temperature</th>\n",
       "      <th>Fuel_Price</th>\n",
       "      <th>CPI</th>\n",
       "      <th>Unemployment</th>\n",
       "      <th>IsHoliday</th>\n",
       "    </tr>\n",
       "  </thead>\n",
       "  <tbody>\n",
       "    <tr>\n",
       "      <th>0</th>\n",
       "      <td>1</td>\n",
       "      <td>2010-02-05</td>\n",
       "      <td>42.31</td>\n",
       "      <td>2.572</td>\n",
       "      <td>211.096358</td>\n",
       "      <td>8.106</td>\n",
       "      <td>False</td>\n",
       "    </tr>\n",
       "    <tr>\n",
       "      <th>1</th>\n",
       "      <td>1</td>\n",
       "      <td>2010-02-12</td>\n",
       "      <td>38.51</td>\n",
       "      <td>2.548</td>\n",
       "      <td>211.242170</td>\n",
       "      <td>8.106</td>\n",
       "      <td>True</td>\n",
       "    </tr>\n",
       "    <tr>\n",
       "      <th>2</th>\n",
       "      <td>1</td>\n",
       "      <td>2010-02-19</td>\n",
       "      <td>39.93</td>\n",
       "      <td>2.514</td>\n",
       "      <td>211.289143</td>\n",
       "      <td>8.106</td>\n",
       "      <td>False</td>\n",
       "    </tr>\n",
       "    <tr>\n",
       "      <th>3</th>\n",
       "      <td>1</td>\n",
       "      <td>2010-02-26</td>\n",
       "      <td>46.63</td>\n",
       "      <td>2.561</td>\n",
       "      <td>211.319643</td>\n",
       "      <td>8.106</td>\n",
       "      <td>False</td>\n",
       "    </tr>\n",
       "    <tr>\n",
       "      <th>4</th>\n",
       "      <td>1</td>\n",
       "      <td>2010-03-05</td>\n",
       "      <td>46.50</td>\n",
       "      <td>2.625</td>\n",
       "      <td>211.350143</td>\n",
       "      <td>8.106</td>\n",
       "      <td>False</td>\n",
       "    </tr>\n",
       "  </tbody>\n",
       "</table>\n",
       "</div>"
      ],
      "text/plain": [
       "   Region       Date  Temperature  Fuel_Price         CPI  Unemployment  \\\n",
       "0       1 2010-02-05        42.31       2.572  211.096358         8.106   \n",
       "1       1 2010-02-12        38.51       2.548  211.242170         8.106   \n",
       "2       1 2010-02-19        39.93       2.514  211.289143         8.106   \n",
       "3       1 2010-02-26        46.63       2.561  211.319643         8.106   \n",
       "4       1 2010-03-05        46.50       2.625  211.350143         8.106   \n",
       "\n",
       "   IsHoliday  \n",
       "0      False  \n",
       "1       True  \n",
       "2      False  \n",
       "3      False  \n",
       "4      False  "
      ]
     },
     "execution_count": 11,
     "metadata": {},
     "output_type": "execute_result"
    }
   ],
   "source": [
    "other_features.head()"
   ]
  },
  {
   "cell_type": "markdown",
   "metadata": {},
   "source": [
    "### Merging"
   ]
  },
  {
   "cell_type": "code",
   "execution_count": 12,
   "metadata": {},
   "outputs": [
    {
     "data": {
      "text/html": [
       "<div>\n",
       "<style scoped>\n",
       "    .dataframe tbody tr th:only-of-type {\n",
       "        vertical-align: middle;\n",
       "    }\n",
       "\n",
       "    .dataframe tbody tr th {\n",
       "        vertical-align: top;\n",
       "    }\n",
       "\n",
       "    .dataframe thead th {\n",
       "        text-align: right;\n",
       "    }\n",
       "</style>\n",
       "<table border=\"1\" class=\"dataframe\">\n",
       "  <thead>\n",
       "    <tr style=\"text-align: right;\">\n",
       "      <th></th>\n",
       "      <th>Region</th>\n",
       "      <th>Date</th>\n",
       "      <th>Weekly_Sales</th>\n",
       "    </tr>\n",
       "  </thead>\n",
       "  <tbody>\n",
       "    <tr>\n",
       "      <th>Total</th>\n",
       "      <td>1716</td>\n",
       "      <td>1716</td>\n",
       "      <td>1716</td>\n",
       "    </tr>\n",
       "    <tr>\n",
       "      <th>Missing</th>\n",
       "      <td>0</td>\n",
       "      <td>0</td>\n",
       "      <td>0</td>\n",
       "    </tr>\n",
       "    <tr>\n",
       "      <th>Percent Missing(%)</th>\n",
       "      <td>0.0</td>\n",
       "      <td>0.0</td>\n",
       "      <td>0.0</td>\n",
       "    </tr>\n",
       "    <tr>\n",
       "      <th>Types</th>\n",
       "      <td>int64</td>\n",
       "      <td>datetime64[ns]</td>\n",
       "      <td>float64</td>\n",
       "    </tr>\n",
       "  </tbody>\n",
       "</table>\n",
       "</div>"
      ],
      "text/plain": [
       "                   Region            Date Weekly_Sales\n",
       "Total                1716            1716         1716\n",
       "Missing                 0               0            0\n",
       "Percent Missing(%)    0.0             0.0          0.0\n",
       "Types               int64  datetime64[ns]      float64"
      ]
     },
     "execution_count": 12,
     "metadata": {},
     "output_type": "execute_result"
    }
   ],
   "source": [
    "missing_data(region_sales)"
   ]
  },
  {
   "cell_type": "code",
   "execution_count": 13,
   "metadata": {},
   "outputs": [
    {
     "data": {
      "text/html": [
       "<div>\n",
       "<style scoped>\n",
       "    .dataframe tbody tr th:only-of-type {\n",
       "        vertical-align: middle;\n",
       "    }\n",
       "\n",
       "    .dataframe tbody tr th {\n",
       "        vertical-align: top;\n",
       "    }\n",
       "\n",
       "    .dataframe thead th {\n",
       "        text-align: right;\n",
       "    }\n",
       "</style>\n",
       "<table border=\"1\" class=\"dataframe\">\n",
       "  <thead>\n",
       "    <tr style=\"text-align: right;\">\n",
       "      <th></th>\n",
       "      <th>Region</th>\n",
       "      <th>Date</th>\n",
       "      <th>Weekly_Sales</th>\n",
       "      <th>Temperature</th>\n",
       "      <th>Fuel_Price</th>\n",
       "      <th>CPI</th>\n",
       "      <th>Unemployment</th>\n",
       "      <th>IsHoliday</th>\n",
       "    </tr>\n",
       "  </thead>\n",
       "  <tbody>\n",
       "    <tr>\n",
       "      <th>Total</th>\n",
       "      <td>1716</td>\n",
       "      <td>1716</td>\n",
       "      <td>1716</td>\n",
       "      <td>1716</td>\n",
       "      <td>1716</td>\n",
       "      <td>1716</td>\n",
       "      <td>1716</td>\n",
       "      <td>1716</td>\n",
       "    </tr>\n",
       "    <tr>\n",
       "      <th>Missing</th>\n",
       "      <td>0</td>\n",
       "      <td>0</td>\n",
       "      <td>0</td>\n",
       "      <td>0</td>\n",
       "      <td>0</td>\n",
       "      <td>0</td>\n",
       "      <td>0</td>\n",
       "      <td>0</td>\n",
       "    </tr>\n",
       "    <tr>\n",
       "      <th>Percent Missing(%)</th>\n",
       "      <td>0.0</td>\n",
       "      <td>0.0</td>\n",
       "      <td>0.0</td>\n",
       "      <td>0.0</td>\n",
       "      <td>0.0</td>\n",
       "      <td>0.0</td>\n",
       "      <td>0.0</td>\n",
       "      <td>0.0</td>\n",
       "    </tr>\n",
       "    <tr>\n",
       "      <th>Types</th>\n",
       "      <td>int64</td>\n",
       "      <td>datetime64[ns]</td>\n",
       "      <td>float64</td>\n",
       "      <td>float64</td>\n",
       "      <td>float64</td>\n",
       "      <td>float64</td>\n",
       "      <td>float64</td>\n",
       "      <td>bool</td>\n",
       "    </tr>\n",
       "  </tbody>\n",
       "</table>\n",
       "</div>"
      ],
      "text/plain": [
       "                   Region            Date Weekly_Sales Temperature Fuel_Price  \\\n",
       "Total                1716            1716         1716        1716       1716   \n",
       "Missing                 0               0            0           0          0   \n",
       "Percent Missing(%)    0.0             0.0          0.0         0.0        0.0   \n",
       "Types               int64  datetime64[ns]      float64     float64    float64   \n",
       "\n",
       "                        CPI Unemployment IsHoliday  \n",
       "Total                  1716         1716      1716  \n",
       "Missing                   0            0         0  \n",
       "Percent Missing(%)      0.0          0.0       0.0  \n",
       "Types               float64      float64      bool  "
      ]
     },
     "execution_count": 13,
     "metadata": {},
     "output_type": "execute_result"
    }
   ],
   "source": [
    "# Merging other features and region sales\n",
    "temp1 = pd.merge(region_sales, other_features, on=[\"Region\", \"Date\"], how = \"inner\")\n",
    "missing_data(temp1)"
   ]
  },
  {
   "cell_type": "code",
   "execution_count": 14,
   "metadata": {},
   "outputs": [
    {
     "data": {
      "text/html": [
       "<div>\n",
       "<style scoped>\n",
       "    .dataframe tbody tr th:only-of-type {\n",
       "        vertical-align: middle;\n",
       "    }\n",
       "\n",
       "    .dataframe tbody tr th {\n",
       "        vertical-align: top;\n",
       "    }\n",
       "\n",
       "    .dataframe thead th {\n",
       "        text-align: right;\n",
       "    }\n",
       "</style>\n",
       "<table border=\"1\" class=\"dataframe\">\n",
       "  <thead>\n",
       "    <tr style=\"text-align: right;\">\n",
       "      <th></th>\n",
       "      <th>Region</th>\n",
       "      <th>Date</th>\n",
       "      <th>Weekly_Sales</th>\n",
       "      <th>Temperature</th>\n",
       "      <th>Fuel_Price</th>\n",
       "      <th>CPI</th>\n",
       "      <th>Unemployment</th>\n",
       "      <th>IsHoliday</th>\n",
       "      <th>Type</th>\n",
       "      <th>Size</th>\n",
       "    </tr>\n",
       "  </thead>\n",
       "  <tbody>\n",
       "    <tr>\n",
       "      <th>Total</th>\n",
       "      <td>1716</td>\n",
       "      <td>1716</td>\n",
       "      <td>1716</td>\n",
       "      <td>1716</td>\n",
       "      <td>1716</td>\n",
       "      <td>1716</td>\n",
       "      <td>1716</td>\n",
       "      <td>1716</td>\n",
       "      <td>1716</td>\n",
       "      <td>1716</td>\n",
       "    </tr>\n",
       "    <tr>\n",
       "      <th>Missing</th>\n",
       "      <td>0</td>\n",
       "      <td>0</td>\n",
       "      <td>0</td>\n",
       "      <td>0</td>\n",
       "      <td>0</td>\n",
       "      <td>0</td>\n",
       "      <td>0</td>\n",
       "      <td>0</td>\n",
       "      <td>0</td>\n",
       "      <td>0</td>\n",
       "    </tr>\n",
       "    <tr>\n",
       "      <th>Percent Missing(%)</th>\n",
       "      <td>0.0</td>\n",
       "      <td>0.0</td>\n",
       "      <td>0.0</td>\n",
       "      <td>0.0</td>\n",
       "      <td>0.0</td>\n",
       "      <td>0.0</td>\n",
       "      <td>0.0</td>\n",
       "      <td>0.0</td>\n",
       "      <td>0.0</td>\n",
       "      <td>0.0</td>\n",
       "    </tr>\n",
       "    <tr>\n",
       "      <th>Types</th>\n",
       "      <td>int64</td>\n",
       "      <td>datetime64[ns]</td>\n",
       "      <td>float64</td>\n",
       "      <td>float64</td>\n",
       "      <td>float64</td>\n",
       "      <td>float64</td>\n",
       "      <td>float64</td>\n",
       "      <td>bool</td>\n",
       "      <td>object</td>\n",
       "      <td>int64</td>\n",
       "    </tr>\n",
       "  </tbody>\n",
       "</table>\n",
       "</div>"
      ],
      "text/plain": [
       "                   Region            Date Weekly_Sales Temperature Fuel_Price  \\\n",
       "Total                1716            1716         1716        1716       1716   \n",
       "Missing                 0               0            0           0          0   \n",
       "Percent Missing(%)    0.0             0.0          0.0         0.0        0.0   \n",
       "Types               int64  datetime64[ns]      float64     float64    float64   \n",
       "\n",
       "                        CPI Unemployment IsHoliday    Type   Size  \n",
       "Total                  1716         1716      1716    1716   1716  \n",
       "Missing                   0            0         0       0      0  \n",
       "Percent Missing(%)      0.0          0.0       0.0     0.0    0.0  \n",
       "Types               float64      float64      bool  object  int64  "
      ]
     },
     "execution_count": 14,
     "metadata": {},
     "output_type": "execute_result"
    }
   ],
   "source": [
    "# Merging region features\n",
    "temp2 = pd.merge(temp1, store_features, on=[\"Region\"], how=\"inner\")\n",
    "missing_data(temp2)"
   ]
  },
  {
   "cell_type": "code",
   "execution_count": 15,
   "metadata": {},
   "outputs": [],
   "source": [
    "region = temp2.copy()"
   ]
  },
  {
   "cell_type": "code",
   "execution_count": 16,
   "metadata": {},
   "outputs": [
    {
     "data": {
      "text/html": [
       "<div>\n",
       "<style scoped>\n",
       "    .dataframe tbody tr th:only-of-type {\n",
       "        vertical-align: middle;\n",
       "    }\n",
       "\n",
       "    .dataframe tbody tr th {\n",
       "        vertical-align: top;\n",
       "    }\n",
       "\n",
       "    .dataframe thead th {\n",
       "        text-align: right;\n",
       "    }\n",
       "</style>\n",
       "<table border=\"1\" class=\"dataframe\">\n",
       "  <thead>\n",
       "    <tr style=\"text-align: right;\">\n",
       "      <th></th>\n",
       "      <th>Region</th>\n",
       "      <th>Date</th>\n",
       "      <th>Weekly_Sales</th>\n",
       "      <th>Temperature</th>\n",
       "      <th>Fuel_Price</th>\n",
       "      <th>CPI</th>\n",
       "      <th>Unemployment</th>\n",
       "      <th>IsHoliday</th>\n",
       "      <th>Type</th>\n",
       "      <th>Size</th>\n",
       "    </tr>\n",
       "  </thead>\n",
       "  <tbody>\n",
       "    <tr>\n",
       "      <th>0</th>\n",
       "      <td>1</td>\n",
       "      <td>2010-02-05</td>\n",
       "      <td>1643690.90</td>\n",
       "      <td>42.31</td>\n",
       "      <td>2.572</td>\n",
       "      <td>211.096358</td>\n",
       "      <td>8.106</td>\n",
       "      <td>False</td>\n",
       "      <td>A</td>\n",
       "      <td>151315</td>\n",
       "    </tr>\n",
       "    <tr>\n",
       "      <th>1</th>\n",
       "      <td>1</td>\n",
       "      <td>2010-02-12</td>\n",
       "      <td>1641957.44</td>\n",
       "      <td>38.51</td>\n",
       "      <td>2.548</td>\n",
       "      <td>211.242170</td>\n",
       "      <td>8.106</td>\n",
       "      <td>True</td>\n",
       "      <td>A</td>\n",
       "      <td>151315</td>\n",
       "    </tr>\n",
       "    <tr>\n",
       "      <th>2</th>\n",
       "      <td>1</td>\n",
       "      <td>2010-02-19</td>\n",
       "      <td>1611968.17</td>\n",
       "      <td>39.93</td>\n",
       "      <td>2.514</td>\n",
       "      <td>211.289143</td>\n",
       "      <td>8.106</td>\n",
       "      <td>False</td>\n",
       "      <td>A</td>\n",
       "      <td>151315</td>\n",
       "    </tr>\n",
       "    <tr>\n",
       "      <th>3</th>\n",
       "      <td>1</td>\n",
       "      <td>2010-02-26</td>\n",
       "      <td>1409727.59</td>\n",
       "      <td>46.63</td>\n",
       "      <td>2.561</td>\n",
       "      <td>211.319643</td>\n",
       "      <td>8.106</td>\n",
       "      <td>False</td>\n",
       "      <td>A</td>\n",
       "      <td>151315</td>\n",
       "    </tr>\n",
       "    <tr>\n",
       "      <th>4</th>\n",
       "      <td>1</td>\n",
       "      <td>2010-03-05</td>\n",
       "      <td>1554806.68</td>\n",
       "      <td>46.50</td>\n",
       "      <td>2.625</td>\n",
       "      <td>211.350143</td>\n",
       "      <td>8.106</td>\n",
       "      <td>False</td>\n",
       "      <td>A</td>\n",
       "      <td>151315</td>\n",
       "    </tr>\n",
       "  </tbody>\n",
       "</table>\n",
       "</div>"
      ],
      "text/plain": [
       "   Region       Date  Weekly_Sales  Temperature  Fuel_Price         CPI  \\\n",
       "0       1 2010-02-05    1643690.90        42.31       2.572  211.096358   \n",
       "1       1 2010-02-12    1641957.44        38.51       2.548  211.242170   \n",
       "2       1 2010-02-19    1611968.17        39.93       2.514  211.289143   \n",
       "3       1 2010-02-26    1409727.59        46.63       2.561  211.319643   \n",
       "4       1 2010-03-05    1554806.68        46.50       2.625  211.350143   \n",
       "\n",
       "   Unemployment  IsHoliday Type    Size  \n",
       "0         8.106      False    A  151315  \n",
       "1         8.106       True    A  151315  \n",
       "2         8.106      False    A  151315  \n",
       "3         8.106      False    A  151315  \n",
       "4         8.106      False    A  151315  "
      ]
     },
     "execution_count": 16,
     "metadata": {},
     "output_type": "execute_result"
    }
   ],
   "source": [
    "region.head()"
   ]
  },
  {
   "cell_type": "code",
   "execution_count": 18,
   "metadata": {},
   "outputs": [
    {
     "name": "stdout",
     "output_type": "stream",
     "text": [
      "143 115 28\n",
      "143 115 28\n",
      "143 115 28\n",
      "143 115 28\n",
      "143 115 28\n",
      "143 115 28\n",
      "143 115 28\n",
      "143 115 28\n",
      "143 115 28\n",
      "143 115 28\n",
      "143 115 28\n",
      "143 115 28\n"
     ]
    }
   ],
   "source": [
    "# train_df = pd.DataFrame()\n",
    "# test_df = pd.DataFrame()\n",
    "\n",
    "# n = len(region)\n",
    "# split = 0.2\n",
    "\n",
    "\n",
    "# for r in pd.unique(region[\"Region\"]):\n",
    "#     temp = region.loc[region[\"Region\"] == r, ]\n",
    "#     temp_train = temp.iloc[:-(int(split*len(temp))), :]\n",
    "#     temp_test = temp.iloc[-(int(split*len(temp))):, :]\n",
    "#     print(len(temp), len(temp_train), len(temp_test))\n",
    "#     train_df = pd.concat([train_df, temp_train], axis = 0)\n",
    "#     test_df = pd.concat([test_df, temp_test], axis = 0)\n",
    "\n",
    "# train_df.reset_index(drop=True)\n",
    "# test_df.reset_index(drop=True)\n",
    "\n",
    "train_df, test_df = train_test_split_timeseries(region, split=0.2, group=\"Region\")\n"
   ]
  },
  {
   "cell_type": "code",
   "execution_count": null,
   "metadata": {},
   "outputs": [],
   "source": []
  },
  {
   "cell_type": "code",
   "execution_count": 19,
   "metadata": {},
   "outputs": [
    {
     "data": {
      "text/html": [
       "<div>\n",
       "<style scoped>\n",
       "    .dataframe tbody tr th:only-of-type {\n",
       "        vertical-align: middle;\n",
       "    }\n",
       "\n",
       "    .dataframe tbody tr th {\n",
       "        vertical-align: top;\n",
       "    }\n",
       "\n",
       "    .dataframe thead th {\n",
       "        text-align: right;\n",
       "    }\n",
       "</style>\n",
       "<table border=\"1\" class=\"dataframe\">\n",
       "  <thead>\n",
       "    <tr style=\"text-align: right;\">\n",
       "      <th></th>\n",
       "      <th>Region</th>\n",
       "      <th>Date</th>\n",
       "      <th>Weekly_Sales</th>\n",
       "      <th>Temperature</th>\n",
       "      <th>Fuel_Price</th>\n",
       "      <th>CPI</th>\n",
       "      <th>Unemployment</th>\n",
       "      <th>IsHoliday</th>\n",
       "      <th>Type</th>\n",
       "      <th>Size</th>\n",
       "    </tr>\n",
       "  </thead>\n",
       "  <tbody>\n",
       "    <tr>\n",
       "      <th>110</th>\n",
       "      <td>1</td>\n",
       "      <td>2012-03-16</td>\n",
       "      <td>1677472.78</td>\n",
       "      <td>64.74</td>\n",
       "      <td>3.734</td>\n",
       "      <td>221.211813</td>\n",
       "      <td>7.348</td>\n",
       "      <td>False</td>\n",
       "      <td>A</td>\n",
       "      <td>151315</td>\n",
       "    </tr>\n",
       "    <tr>\n",
       "      <th>111</th>\n",
       "      <td>1</td>\n",
       "      <td>2012-03-23</td>\n",
       "      <td>1511068.07</td>\n",
       "      <td>65.93</td>\n",
       "      <td>3.787</td>\n",
       "      <td>221.286413</td>\n",
       "      <td>7.348</td>\n",
       "      <td>False</td>\n",
       "      <td>A</td>\n",
       "      <td>151315</td>\n",
       "    </tr>\n",
       "    <tr>\n",
       "      <th>112</th>\n",
       "      <td>1</td>\n",
       "      <td>2012-03-30</td>\n",
       "      <td>1649604.63</td>\n",
       "      <td>67.61</td>\n",
       "      <td>3.845</td>\n",
       "      <td>221.361012</td>\n",
       "      <td>7.348</td>\n",
       "      <td>False</td>\n",
       "      <td>A</td>\n",
       "      <td>151315</td>\n",
       "    </tr>\n",
       "    <tr>\n",
       "      <th>113</th>\n",
       "      <td>1</td>\n",
       "      <td>2012-04-06</td>\n",
       "      <td>1899676.88</td>\n",
       "      <td>70.43</td>\n",
       "      <td>3.891</td>\n",
       "      <td>221.435611</td>\n",
       "      <td>7.143</td>\n",
       "      <td>False</td>\n",
       "      <td>A</td>\n",
       "      <td>151315</td>\n",
       "    </tr>\n",
       "    <tr>\n",
       "      <th>114</th>\n",
       "      <td>1</td>\n",
       "      <td>2012-04-13</td>\n",
       "      <td>1621031.70</td>\n",
       "      <td>69.07</td>\n",
       "      <td>3.891</td>\n",
       "      <td>221.510210</td>\n",
       "      <td>7.143</td>\n",
       "      <td>False</td>\n",
       "      <td>A</td>\n",
       "      <td>151315</td>\n",
       "    </tr>\n",
       "  </tbody>\n",
       "</table>\n",
       "</div>"
      ],
      "text/plain": [
       "     Region       Date  Weekly_Sales  Temperature  Fuel_Price         CPI  \\\n",
       "110       1 2012-03-16    1677472.78        64.74       3.734  221.211813   \n",
       "111       1 2012-03-23    1511068.07        65.93       3.787  221.286413   \n",
       "112       1 2012-03-30    1649604.63        67.61       3.845  221.361012   \n",
       "113       1 2012-04-06    1899676.88        70.43       3.891  221.435611   \n",
       "114       1 2012-04-13    1621031.70        69.07       3.891  221.510210   \n",
       "\n",
       "     Unemployment  IsHoliday Type    Size  \n",
       "110         7.348      False    A  151315  \n",
       "111         7.348      False    A  151315  \n",
       "112         7.348      False    A  151315  \n",
       "113         7.143      False    A  151315  \n",
       "114         7.143      False    A  151315  "
      ]
     },
     "execution_count": 19,
     "metadata": {},
     "output_type": "execute_result"
    }
   ],
   "source": [
    "train_df[train_df[\"Region\"] == 1].tail()"
   ]
  },
  {
   "cell_type": "code",
   "execution_count": 20,
   "metadata": {},
   "outputs": [
    {
     "data": {
      "text/html": [
       "<div>\n",
       "<style scoped>\n",
       "    .dataframe tbody tr th:only-of-type {\n",
       "        vertical-align: middle;\n",
       "    }\n",
       "\n",
       "    .dataframe tbody tr th {\n",
       "        vertical-align: top;\n",
       "    }\n",
       "\n",
       "    .dataframe thead th {\n",
       "        text-align: right;\n",
       "    }\n",
       "</style>\n",
       "<table border=\"1\" class=\"dataframe\">\n",
       "  <thead>\n",
       "    <tr style=\"text-align: right;\">\n",
       "      <th></th>\n",
       "      <th>Region</th>\n",
       "      <th>Date</th>\n",
       "      <th>Weekly_Sales</th>\n",
       "      <th>Temperature</th>\n",
       "      <th>Fuel_Price</th>\n",
       "      <th>CPI</th>\n",
       "      <th>Unemployment</th>\n",
       "      <th>IsHoliday</th>\n",
       "      <th>Type</th>\n",
       "      <th>Size</th>\n",
       "    </tr>\n",
       "  </thead>\n",
       "  <tbody>\n",
       "    <tr>\n",
       "      <th>115</th>\n",
       "      <td>1</td>\n",
       "      <td>2012-04-20</td>\n",
       "      <td>1521577.87</td>\n",
       "      <td>66.76</td>\n",
       "      <td>3.877</td>\n",
       "      <td>221.564074</td>\n",
       "      <td>7.143</td>\n",
       "      <td>False</td>\n",
       "      <td>A</td>\n",
       "      <td>151315</td>\n",
       "    </tr>\n",
       "    <tr>\n",
       "      <th>116</th>\n",
       "      <td>1</td>\n",
       "      <td>2012-04-27</td>\n",
       "      <td>1468928.37</td>\n",
       "      <td>67.23</td>\n",
       "      <td>3.814</td>\n",
       "      <td>221.617937</td>\n",
       "      <td>7.143</td>\n",
       "      <td>False</td>\n",
       "      <td>A</td>\n",
       "      <td>151315</td>\n",
       "    </tr>\n",
       "    <tr>\n",
       "      <th>117</th>\n",
       "      <td>1</td>\n",
       "      <td>2012-05-04</td>\n",
       "      <td>1684519.99</td>\n",
       "      <td>75.55</td>\n",
       "      <td>3.749</td>\n",
       "      <td>221.671800</td>\n",
       "      <td>7.143</td>\n",
       "      <td>False</td>\n",
       "      <td>A</td>\n",
       "      <td>151315</td>\n",
       "    </tr>\n",
       "    <tr>\n",
       "      <th>118</th>\n",
       "      <td>1</td>\n",
       "      <td>2012-05-11</td>\n",
       "      <td>1611096.05</td>\n",
       "      <td>73.77</td>\n",
       "      <td>3.688</td>\n",
       "      <td>221.725663</td>\n",
       "      <td>7.143</td>\n",
       "      <td>False</td>\n",
       "      <td>A</td>\n",
       "      <td>151315</td>\n",
       "    </tr>\n",
       "    <tr>\n",
       "      <th>119</th>\n",
       "      <td>1</td>\n",
       "      <td>2012-05-18</td>\n",
       "      <td>1595901.87</td>\n",
       "      <td>70.33</td>\n",
       "      <td>3.630</td>\n",
       "      <td>221.742674</td>\n",
       "      <td>7.143</td>\n",
       "      <td>False</td>\n",
       "      <td>A</td>\n",
       "      <td>151315</td>\n",
       "    </tr>\n",
       "  </tbody>\n",
       "</table>\n",
       "</div>"
      ],
      "text/plain": [
       "     Region       Date  Weekly_Sales  Temperature  Fuel_Price         CPI  \\\n",
       "115       1 2012-04-20    1521577.87        66.76       3.877  221.564074   \n",
       "116       1 2012-04-27    1468928.37        67.23       3.814  221.617937   \n",
       "117       1 2012-05-04    1684519.99        75.55       3.749  221.671800   \n",
       "118       1 2012-05-11    1611096.05        73.77       3.688  221.725663   \n",
       "119       1 2012-05-18    1595901.87        70.33       3.630  221.742674   \n",
       "\n",
       "     Unemployment  IsHoliday Type    Size  \n",
       "115         7.143      False    A  151315  \n",
       "116         7.143      False    A  151315  \n",
       "117         7.143      False    A  151315  \n",
       "118         7.143      False    A  151315  \n",
       "119         7.143      False    A  151315  "
      ]
     },
     "execution_count": 20,
     "metadata": {},
     "output_type": "execute_result"
    }
   ],
   "source": [
    "test_df[test_df[\"Region\"]==1].head()"
   ]
  },
  {
   "cell_type": "code",
   "execution_count": 21,
   "metadata": {},
   "outputs": [],
   "source": [
    "# # Exporting the data\n",
    "# train_df.to_csv(\"../walmart_sales/train_payload2_azureml.csv\", index=False)\n",
    "# test_df.to_csv(\"../walmart_sales/test_payload2_azureml.csv\", index=False)"
   ]
  },
  {
   "cell_type": "markdown",
   "metadata": {},
   "source": [
    "## Feature Engineering"
   ]
  },
  {
   "cell_type": "code",
   "execution_count": null,
   "metadata": {},
   "outputs": [],
   "source": []
  },
  {
   "cell_type": "code",
   "execution_count": 71,
   "metadata": {},
   "outputs": [],
   "source": [
    "columns_to_remove = [\"Type\", \"IsHoliday\"]\n",
    "\n",
    "train1 = train_df.drop(columns_to_remove, axis=1)\n",
    "test1 = test_df.drop(columns_to_remove, axis=1)"
   ]
  },
  {
   "cell_type": "code",
   "execution_count": 73,
   "metadata": {},
   "outputs": [],
   "source": [
    "# train1[\"IsHoliday\"] = train1[\"IsHoliday\"].apply(lambda x: 1 if x else 0)\n",
    "# test1[\"IsHoliday\"] = test1[\"IsHoliday\"].apply(lambda x: 1 if x else 0)"
   ]
  },
  {
   "cell_type": "code",
   "execution_count": 74,
   "metadata": {},
   "outputs": [
    {
     "data": {
      "text/html": [
       "<div>\n",
       "<style scoped>\n",
       "    .dataframe tbody tr th:only-of-type {\n",
       "        vertical-align: middle;\n",
       "    }\n",
       "\n",
       "    .dataframe tbody tr th {\n",
       "        vertical-align: top;\n",
       "    }\n",
       "\n",
       "    .dataframe thead th {\n",
       "        text-align: right;\n",
       "    }\n",
       "</style>\n",
       "<table border=\"1\" class=\"dataframe\">\n",
       "  <thead>\n",
       "    <tr style=\"text-align: right;\">\n",
       "      <th></th>\n",
       "      <th>Region</th>\n",
       "      <th>Date</th>\n",
       "      <th>Weekly_Sales</th>\n",
       "      <th>Temperature</th>\n",
       "      <th>Fuel_Price</th>\n",
       "      <th>CPI</th>\n",
       "      <th>Unemployment</th>\n",
       "      <th>Size</th>\n",
       "    </tr>\n",
       "  </thead>\n",
       "  <tbody>\n",
       "    <tr>\n",
       "      <th>0</th>\n",
       "      <td>1</td>\n",
       "      <td>2010-02-05</td>\n",
       "      <td>1643690.90</td>\n",
       "      <td>42.31</td>\n",
       "      <td>2.572</td>\n",
       "      <td>211.096358</td>\n",
       "      <td>8.106</td>\n",
       "      <td>151315</td>\n",
       "    </tr>\n",
       "    <tr>\n",
       "      <th>1</th>\n",
       "      <td>1</td>\n",
       "      <td>2010-02-12</td>\n",
       "      <td>1641957.44</td>\n",
       "      <td>38.51</td>\n",
       "      <td>2.548</td>\n",
       "      <td>211.242170</td>\n",
       "      <td>8.106</td>\n",
       "      <td>151315</td>\n",
       "    </tr>\n",
       "    <tr>\n",
       "      <th>2</th>\n",
       "      <td>1</td>\n",
       "      <td>2010-02-19</td>\n",
       "      <td>1611968.17</td>\n",
       "      <td>39.93</td>\n",
       "      <td>2.514</td>\n",
       "      <td>211.289143</td>\n",
       "      <td>8.106</td>\n",
       "      <td>151315</td>\n",
       "    </tr>\n",
       "    <tr>\n",
       "      <th>3</th>\n",
       "      <td>1</td>\n",
       "      <td>2010-02-26</td>\n",
       "      <td>1409727.59</td>\n",
       "      <td>46.63</td>\n",
       "      <td>2.561</td>\n",
       "      <td>211.319643</td>\n",
       "      <td>8.106</td>\n",
       "      <td>151315</td>\n",
       "    </tr>\n",
       "    <tr>\n",
       "      <th>4</th>\n",
       "      <td>1</td>\n",
       "      <td>2010-03-05</td>\n",
       "      <td>1554806.68</td>\n",
       "      <td>46.50</td>\n",
       "      <td>2.625</td>\n",
       "      <td>211.350143</td>\n",
       "      <td>8.106</td>\n",
       "      <td>151315</td>\n",
       "    </tr>\n",
       "    <tr>\n",
       "      <th>...</th>\n",
       "      <td>...</td>\n",
       "      <td>...</td>\n",
       "      <td>...</td>\n",
       "      <td>...</td>\n",
       "      <td>...</td>\n",
       "      <td>...</td>\n",
       "      <td>...</td>\n",
       "      <td>...</td>\n",
       "    </tr>\n",
       "    <tr>\n",
       "      <th>1683</th>\n",
       "      <td>12</td>\n",
       "      <td>2012-03-16</td>\n",
       "      <td>1088498.52</td>\n",
       "      <td>64.44</td>\n",
       "      <td>4.273</td>\n",
       "      <td>130.826193</td>\n",
       "      <td>12.187</td>\n",
       "      <td>112238</td>\n",
       "    </tr>\n",
       "    <tr>\n",
       "      <th>1684</th>\n",
       "      <td>12</td>\n",
       "      <td>2012-03-23</td>\n",
       "      <td>1045419.87</td>\n",
       "      <td>56.26</td>\n",
       "      <td>4.038</td>\n",
       "      <td>130.896645</td>\n",
       "      <td>12.187</td>\n",
       "      <td>112238</td>\n",
       "    </tr>\n",
       "    <tr>\n",
       "      <th>1685</th>\n",
       "      <td>12</td>\n",
       "      <td>2012-03-30</td>\n",
       "      <td>1025382.22</td>\n",
       "      <td>64.36</td>\n",
       "      <td>4.294</td>\n",
       "      <td>130.967097</td>\n",
       "      <td>12.187</td>\n",
       "      <td>112238</td>\n",
       "    </tr>\n",
       "    <tr>\n",
       "      <th>1686</th>\n",
       "      <td>12</td>\n",
       "      <td>2012-04-06</td>\n",
       "      <td>1128765.71</td>\n",
       "      <td>64.05</td>\n",
       "      <td>4.121</td>\n",
       "      <td>131.037548</td>\n",
       "      <td>11.627</td>\n",
       "      <td>112238</td>\n",
       "    </tr>\n",
       "    <tr>\n",
       "      <th>1687</th>\n",
       "      <td>12</td>\n",
       "      <td>2012-04-13</td>\n",
       "      <td>1083811.19</td>\n",
       "      <td>64.28</td>\n",
       "      <td>4.254</td>\n",
       "      <td>131.108000</td>\n",
       "      <td>11.627</td>\n",
       "      <td>112238</td>\n",
       "    </tr>\n",
       "  </tbody>\n",
       "</table>\n",
       "<p>1380 rows × 8 columns</p>\n",
       "</div>"
      ],
      "text/plain": [
       "      Region       Date  Weekly_Sales  Temperature  Fuel_Price         CPI  \\\n",
       "0          1 2010-02-05    1643690.90        42.31       2.572  211.096358   \n",
       "1          1 2010-02-12    1641957.44        38.51       2.548  211.242170   \n",
       "2          1 2010-02-19    1611968.17        39.93       2.514  211.289143   \n",
       "3          1 2010-02-26    1409727.59        46.63       2.561  211.319643   \n",
       "4          1 2010-03-05    1554806.68        46.50       2.625  211.350143   \n",
       "...      ...        ...           ...          ...         ...         ...   \n",
       "1683      12 2012-03-16    1088498.52        64.44       4.273  130.826193   \n",
       "1684      12 2012-03-23    1045419.87        56.26       4.038  130.896645   \n",
       "1685      12 2012-03-30    1025382.22        64.36       4.294  130.967097   \n",
       "1686      12 2012-04-06    1128765.71        64.05       4.121  131.037548   \n",
       "1687      12 2012-04-13    1083811.19        64.28       4.254  131.108000   \n",
       "\n",
       "      Unemployment    Size  \n",
       "0            8.106  151315  \n",
       "1            8.106  151315  \n",
       "2            8.106  151315  \n",
       "3            8.106  151315  \n",
       "4            8.106  151315  \n",
       "...            ...     ...  \n",
       "1683        12.187  112238  \n",
       "1684        12.187  112238  \n",
       "1685        12.187  112238  \n",
       "1686        11.627  112238  \n",
       "1687        11.627  112238  \n",
       "\n",
       "[1380 rows x 8 columns]"
      ]
     },
     "execution_count": 74,
     "metadata": {},
     "output_type": "execute_result"
    }
   ],
   "source": [
    "train1"
   ]
  },
  {
   "cell_type": "code",
   "execution_count": 75,
   "metadata": {},
   "outputs": [],
   "source": [
    "train = train1\n",
    "test = test1"
   ]
  },
  {
   "cell_type": "markdown",
   "metadata": {},
   "source": [
    "## Finetuning"
   ]
  },
  {
   "cell_type": "code",
   "execution_count": 161,
   "metadata": {},
   "outputs": [],
   "source": [
    "# Python\n",
    "import itertools\n",
    "import numpy as np\n",
    "import pandas as pd\n",
    "from sklearn.model_selection import ParameterGrid\n",
    "\n",
    "from prophet import Prophet\n",
    "from prophet.diagnostics import cross_validation\n",
    "from prophet.diagnostics import performance_metrics\n",
    "from prophet.plot import plot_cross_validation_metric"
   ]
  },
  {
   "cell_type": "code",
   "execution_count": null,
   "metadata": {},
   "outputs": [],
   "source": [
    "target = \"Weekly_Sales\"\n",
    "time = \"Date\"\n",
    "group = [\"Region\"]\n",
    "\n",
    "# Time & Target column\n",
    "train = train.rename(columns = {time: \"ds\", target:\"y\"})\n",
    "test = test.rename(columns = {time: \"ds\", target:\"y\"})"
   ]
  },
  {
   "cell_type": "code",
   "execution_count": 182,
   "metadata": {},
   "outputs": [],
   "source": [
    "param_grid = {  \n",
    "    'changepoint_prior_scale': [0.01, 0.1, 0.5, 1.0, 10, 20, 30],\n",
    "    'seasonality_prior_scale': [0.01, 0.1, 1.0, 10.0, 20, 30],\n",
    "    'holidays_prior_scale': [0.01, 0.1, 1.0, 10.0, 20, 30, 40],\n",
    "}\n"
   ]
  },
  {
   "cell_type": "code",
   "execution_count": null,
   "metadata": {},
   "outputs": [],
   "source": [
    "# model = Prophet(\n",
    "#     growth=\"linear\",\n",
    "#     # changepoint_range=0.69,\n",
    "#     holidays_prior_scale=0.25, changepoint_prior_scale=0.05, \n",
    "#     seasonality_mode = \"additive\", seasonality_prior_scale= 30,\n",
    "#     yearly_seasonality=\"auto\",\n",
    "#     weekly_seasonality=\"auto\",\n",
    "#     daily_seasonality=\"auto\",\n",
    "# )"
   ]
  },
  {
   "cell_type": "code",
   "execution_count": 183,
   "metadata": {},
   "outputs": [],
   "source": [
    "grid = ParameterGrid(param_grid)\n",
    "\n",
    "df = train[train[\"Region\"] == 1]\n",
    "rmses = []  # Store the RMSEs for each params here"
   ]
  },
  {
   "cell_type": "code",
   "execution_count": 177,
   "metadata": {},
   "outputs": [
    {
     "name": "stderr",
     "output_type": "stream",
     "text": [
      "INFO:prophet:Making 1 forecasts with cutoffs between 2012-02-03 00:00:00 and 2012-02-03 00:00:00\n",
      "INFO:prophet:Applying in parallel with <concurrent.futures.process.ProcessPoolExecutor object at 0x000002B81C8D28C8>\n"
     ]
    }
   ],
   "source": [
    "df_cv = cross_validation(model, initial=\"700 days\", horizon='70 days', parallel=\"processes\")\n",
    "df_p = performance_metrics(df_cv, rolling_window=1)\n",
    "# rmses.append(df_p['rmse'].values[0])"
   ]
  },
  {
   "cell_type": "code",
   "execution_count": 178,
   "metadata": {},
   "outputs": [
    {
     "data": {
      "text/html": [
       "<div>\n",
       "<style scoped>\n",
       "    .dataframe tbody tr th:only-of-type {\n",
       "        vertical-align: middle;\n",
       "    }\n",
       "\n",
       "    .dataframe tbody tr th {\n",
       "        vertical-align: top;\n",
       "    }\n",
       "\n",
       "    .dataframe thead th {\n",
       "        text-align: right;\n",
       "    }\n",
       "</style>\n",
       "<table border=\"1\" class=\"dataframe\">\n",
       "  <thead>\n",
       "    <tr style=\"text-align: right;\">\n",
       "      <th></th>\n",
       "      <th>horizon</th>\n",
       "      <th>mse</th>\n",
       "      <th>rmse</th>\n",
       "      <th>mae</th>\n",
       "      <th>mape</th>\n",
       "      <th>mdape</th>\n",
       "      <th>smape</th>\n",
       "      <th>coverage</th>\n",
       "    </tr>\n",
       "  </thead>\n",
       "  <tbody>\n",
       "    <tr>\n",
       "      <th>0</th>\n",
       "      <td>70 days</td>\n",
       "      <td>1.418012e+10</td>\n",
       "      <td>119080.304497</td>\n",
       "      <td>97489.450256</td>\n",
       "      <td>0.056784</td>\n",
       "      <td>0.052022</td>\n",
       "      <td>0.058015</td>\n",
       "      <td>0.8</td>\n",
       "    </tr>\n",
       "  </tbody>\n",
       "</table>\n",
       "</div>"
      ],
      "text/plain": [
       "  horizon           mse           rmse           mae      mape     mdape  \\\n",
       "0 70 days  1.418012e+10  119080.304497  97489.450256  0.056784  0.052022   \n",
       "\n",
       "      smape  coverage  \n",
       "0  0.058015       0.8  "
      ]
     },
     "execution_count": 178,
     "metadata": {},
     "output_type": "execute_result"
    }
   ],
   "source": [
    "df_p"
   ]
  },
  {
   "cell_type": "code",
   "execution_count": 179,
   "metadata": {},
   "outputs": [
    {
     "data": {
      "image/png": "[encoded data removed]",
      "text/plain": [
       "<Figure size 720x432 with 1 Axes>"
      ]
     },
     "metadata": {},
     "output_type": "display_data"
    }
   ],
   "source": [
    "fig = plot_cross_validation_metric(df_cv=df_cv, metric='rmse', rolling_window=0.1)"
   ]
  },
  {
   "cell_type": "code",
   "execution_count": 184,
   "metadata": {},
   "outputs": [
    {
     "name": "stderr",
     "output_type": "stream",
     "text": [
      "INFO:prophet:Disabling weekly seasonality. Run prophet with weekly_seasonality=True to override this.\n",
      "INFO:prophet:Disabling daily seasonality. Run prophet with daily_seasonality=True to override this.\n"
     ]
    },
    {
     "name": "stdout",
     "output_type": "stream",
     "text": [
      "Temperature\n",
      "Fuel_Price\n",
      "CPI\n",
      "Unemployment\n",
      "Size\n"
     ]
    },
    {
     "name": "stderr",
     "output_type": "stream",
     "text": [
      "WARNING:prophet.models:Optimization terminated abnormally. Falling back to Newton.\n",
      "INFO:prophet:Making 1 forecasts with cutoffs between 2012-02-03 00:00:00 and 2012-02-03 00:00:00\n",
      "INFO:prophet:Applying in parallel with <concurrent.futures.process.ProcessPoolExecutor object at 0x000002B81C8C4B48>\n",
      "INFO:prophet:Disabling weekly seasonality. Run prophet with weekly_seasonality=True to override this.\n",
      "INFO:prophet:Disabling daily seasonality. Run prophet with daily_seasonality=True to override this.\n"
     ]
    },
    {
     "name": "stdout",
     "output_type": "stream",
     "text": [
      "Temperature\n",
      "Fuel_Price\n",
      "CPI\n",
      "Unemployment\n",
      "Size\n"
     ]
    },
    {
     "name": "stderr",
     "output_type": "stream",
     "text": [
      "WARNING:prophet.models:Optimization terminated abnormally. Falling back to Newton.\n",
      "INFO:prophet:Making 1 forecasts with cutoffs between 2012-02-03 00:00:00 and 2012-02-03 00:00:00\n",
      "INFO:prophet:Applying in parallel with <concurrent.futures.process.ProcessPoolExecutor object at 0x000002B81C8BC748>\n",
      "INFO:prophet:Disabling weekly seasonality. Run prophet with weekly_seasonality=True to override this.\n",
      "INFO:prophet:Disabling daily seasonality. Run prophet with daily_seasonality=True to override this.\n",
      "WARNING:prophet.models:Optimization terminated abnormally. Falling back to Newton.\n"
     ]
    },
    {
     "name": "stdout",
     "output_type": "stream",
     "text": [
      "Temperature\n",
      "Fuel_Price\n",
      "CPI\n",
      "Unemployment\n",
      "Size\n"
     ]
    },
    {
     "name": "stderr",
     "output_type": "stream",
     "text": [
      "INFO:prophet:Making 1 forecasts with cutoffs between 2012-02-03 00:00:00 and 2012-02-03 00:00:00\n",
      "INFO:prophet:Applying in parallel with <concurrent.futures.process.ProcessPoolExecutor object at 0x000002B81C9783C8>\n",
      "INFO:prophet:Disabling weekly seasonality. Run prophet with weekly_seasonality=True to override this.\n",
      "INFO:prophet:Disabling daily seasonality. Run prophet with daily_seasonality=True to override this.\n"
     ]
    },
    {
     "name": "stdout",
     "output_type": "stream",
     "text": [
      "Temperature\n",
      "Fuel_Price\n",
      "CPI\n",
      "Unemployment\n",
      "Size\n"
     ]
    },
    {
     "name": "stderr",
     "output_type": "stream",
     "text": [
      "WARNING:prophet.models:Optimization terminated abnormally. Falling back to Newton.\n",
      "INFO:prophet:Making 1 forecasts with cutoffs between 2012-02-03 00:00:00 and 2012-02-03 00:00:00\n",
      "INFO:prophet:Applying in parallel with <concurrent.futures.process.ProcessPoolExecutor object at 0x000002B81C97C288>\n",
      "INFO:prophet:Disabling weekly seasonality. Run prophet with weekly_seasonality=True to override this.\n",
      "INFO:prophet:Disabling daily seasonality. Run prophet with daily_seasonality=True to override this.\n"
     ]
    },
    {
     "name": "stdout",
     "output_type": "stream",
     "text": [
      "Temperature\n",
      "Fuel_Price\n",
      "CPI\n",
      "Unemployment\n",
      "Size\n"
     ]
    },
    {
     "name": "stderr",
     "output_type": "stream",
     "text": [
      "WARNING:prophet.models:Optimization terminated abnormally. Falling back to Newton.\n",
      "INFO:prophet:Making 1 forecasts with cutoffs between 2012-02-03 00:00:00 and 2012-02-03 00:00:00\n",
      "INFO:prophet:Applying in parallel with <concurrent.futures.process.ProcessPoolExecutor object at 0x000002B81CAB8F88>\n"
     ]
    },
    {
     "name": "stdout",
     "output_type": "stream",
     "text": [
      "Temperature\n",
      "Fuel_Price\n",
      "CPI\n",
      "Unemployment\n",
      "Size\n"
     ]
    },
    {
     "name": "stderr",
     "output_type": "stream",
     "text": [
      "INFO:prophet:Disabling weekly seasonality. Run prophet with weekly_seasonality=True to override this.\n",
      "INFO:prophet:Disabling daily seasonality. Run prophet with daily_seasonality=True to override this.\n",
      "WARNING:prophet.models:Optimization terminated abnormally. Falling back to Newton.\n",
      "INFO:prophet:Making 1 forecasts with cutoffs between 2012-02-03 00:00:00 and 2012-02-03 00:00:00\n",
      "INFO:prophet:Applying in parallel with <concurrent.futures.process.ProcessPoolExecutor object at 0x000002B81CAED148>\n",
      "INFO:prophet:Disabling weekly seasonality. Run prophet with weekly_seasonality=True to override this.\n",
      "INFO:prophet:Disabling daily seasonality. Run prophet with daily_seasonality=True to override this.\n"
     ]
    },
    {
     "name": "stdout",
     "output_type": "stream",
     "text": [
      "Temperature\n",
      "Fuel_Price\n",
      "CPI\n",
      "Unemployment\n",
      "Size\n"
     ]
    },
    {
     "name": "stderr",
     "output_type": "stream",
     "text": [
      "WARNING:prophet.models:Optimization terminated abnormally. Falling back to Newton.\n",
      "INFO:prophet:Making 1 forecasts with cutoffs between 2012-02-03 00:00:00 and 2012-02-03 00:00:00\n",
      "INFO:prophet:Applying in parallel with <concurrent.futures.process.ProcessPoolExecutor object at 0x000002B81C97F888>\n",
      "INFO:prophet:Disabling weekly seasonality. Run prophet with weekly_seasonality=True to override this.\n",
      "INFO:prophet:Disabling daily seasonality. Run prophet with daily_seasonality=True to override this.\n"
     ]
    },
    {
     "name": "stdout",
     "output_type": "stream",
     "text": [
      "Temperature\n",
      "Fuel_Price\n",
      "CPI\n",
      "Unemployment\n",
      "Size\n"
     ]
    },
    {
     "name": "stderr",
     "output_type": "stream",
     "text": [
      "WARNING:prophet.models:Optimization terminated abnormally. Falling back to Newton.\n",
      "INFO:prophet:Making 1 forecasts with cutoffs between 2012-02-03 00:00:00 and 2012-02-03 00:00:00\n",
      "INFO:prophet:Applying in parallel with <concurrent.futures.process.ProcessPoolExecutor object at 0x000002B81C987288>\n",
      "INFO:prophet:Disabling weekly seasonality. Run prophet with weekly_seasonality=True to override this.\n",
      "INFO:prophet:Disabling daily seasonality. Run prophet with daily_seasonality=True to override this.\n"
     ]
    },
    {
     "name": "stdout",
     "output_type": "stream",
     "text": [
      "Temperature\n",
      "Fuel_Price\n",
      "CPI\n",
      "Unemployment\n",
      "Size\n"
     ]
    },
    {
     "name": "stderr",
     "output_type": "stream",
     "text": [
      "WARNING:prophet.models:Optimization terminated abnormally. Falling back to Newton.\n",
      "INFO:prophet:Making 1 forecasts with cutoffs between 2012-02-03 00:00:00 and 2012-02-03 00:00:00\n",
      "INFO:prophet:Applying in parallel with <concurrent.futures.process.ProcessPoolExecutor object at 0x000002B81C979248>\n",
      "INFO:prophet:Disabling weekly seasonality. Run prophet with weekly_seasonality=True to override this.\n",
      "INFO:prophet:Disabling daily seasonality. Run prophet with daily_seasonality=True to override this.\n"
     ]
    },
    {
     "name": "stdout",
     "output_type": "stream",
     "text": [
      "Temperature\n",
      "Fuel_Price\n",
      "CPI\n",
      "Unemployment\n",
      "Size\n"
     ]
    },
    {
     "name": "stderr",
     "output_type": "stream",
     "text": [
      "WARNING:prophet.models:Optimization terminated abnormally. Falling back to Newton.\n",
      "INFO:prophet:Making 1 forecasts with cutoffs between 2012-02-03 00:00:00 and 2012-02-03 00:00:00\n",
      "INFO:prophet:Applying in parallel with <concurrent.futures.process.ProcessPoolExecutor object at 0x000002B81C8E0A08>\n",
      "INFO:prophet:Disabling weekly seasonality. Run prophet with weekly_seasonality=True to override this.\n",
      "INFO:prophet:Disabling daily seasonality. Run prophet with daily_seasonality=True to override this.\n"
     ]
    },
    {
     "name": "stdout",
     "output_type": "stream",
     "text": [
      "Temperature\n",
      "Fuel_Price\n",
      "CPI\n",
      "Unemployment\n",
      "Size\n"
     ]
    },
    {
     "name": "stderr",
     "output_type": "stream",
     "text": [
      "WARNING:prophet.models:Optimization terminated abnormally. Falling back to Newton.\n",
      "INFO:prophet:Making 1 forecasts with cutoffs between 2012-02-03 00:00:00 and 2012-02-03 00:00:00\n",
      "INFO:prophet:Applying in parallel with <concurrent.futures.process.ProcessPoolExecutor object at 0x000002B81CAE2588>\n",
      "INFO:prophet:Disabling weekly seasonality. Run prophet with weekly_seasonality=True to override this.\n",
      "INFO:prophet:Disabling daily seasonality. Run prophet with daily_seasonality=True to override this.\n"
     ]
    },
    {
     "name": "stdout",
     "output_type": "stream",
     "text": [
      "Temperature\n",
      "Fuel_Price\n",
      "CPI\n",
      "Unemployment\n",
      "Size\n"
     ]
    },
    {
     "name": "stderr",
     "output_type": "stream",
     "text": [
      "WARNING:prophet.models:Optimization terminated abnormally. Falling back to Newton.\n",
      "INFO:prophet:Making 1 forecasts with cutoffs between 2012-02-03 00:00:00 and 2012-02-03 00:00:00\n",
      "INFO:prophet:Applying in parallel with <concurrent.futures.process.ProcessPoolExecutor object at 0x000002B81C97E248>\n",
      "INFO:prophet:Disabling weekly seasonality. Run prophet with weekly_seasonality=True to override this.\n",
      "INFO:prophet:Disabling daily seasonality. Run prophet with daily_seasonality=True to override this.\n"
     ]
    },
    {
     "name": "stdout",
     "output_type": "stream",
     "text": [
      "Temperature\n",
      "Fuel_Price\n",
      "CPI\n",
      "Unemployment\n",
      "Size\n"
     ]
    },
    {
     "name": "stderr",
     "output_type": "stream",
     "text": [
      "WARNING:prophet.models:Optimization terminated abnormally. Falling back to Newton.\n",
      "INFO:prophet:Making 1 forecasts with cutoffs between 2012-02-03 00:00:00 and 2012-02-03 00:00:00\n",
      "INFO:prophet:Applying in parallel with <concurrent.futures.process.ProcessPoolExecutor object at 0x000002B81C98D948>\n",
      "INFO:prophet:Disabling weekly seasonality. Run prophet with weekly_seasonality=True to override this.\n",
      "INFO:prophet:Disabling daily seasonality. Run prophet with daily_seasonality=True to override this.\n"
     ]
    },
    {
     "name": "stdout",
     "output_type": "stream",
     "text": [
      "Temperature\n",
      "Fuel_Price\n",
      "CPI\n",
      "Unemployment\n",
      "Size\n"
     ]
    },
    {
     "name": "stderr",
     "output_type": "stream",
     "text": [
      "WARNING:prophet.models:Optimization terminated abnormally. Falling back to Newton.\n",
      "INFO:prophet:Making 1 forecasts with cutoffs between 2012-02-03 00:00:00 and 2012-02-03 00:00:00\n",
      "INFO:prophet:Applying in parallel with <concurrent.futures.process.ProcessPoolExecutor object at 0x000002B81CAB8F88>\n",
      "INFO:prophet:Disabling weekly seasonality. Run prophet with weekly_seasonality=True to override this.\n",
      "INFO:prophet:Disabling daily seasonality. Run prophet with daily_seasonality=True to override this.\n"
     ]
    },
    {
     "name": "stdout",
     "output_type": "stream",
     "text": [
      "Temperature\n",
      "Fuel_Price\n",
      "CPI\n",
      "Unemployment\n",
      "Size\n"
     ]
    },
    {
     "name": "stderr",
     "output_type": "stream",
     "text": [
      "WARNING:prophet.models:Optimization terminated abnormally. Falling back to Newton.\n",
      "INFO:prophet:Making 1 forecasts with cutoffs between 2012-02-03 00:00:00 and 2012-02-03 00:00:00\n",
      "INFO:prophet:Applying in parallel with <concurrent.futures.process.ProcessPoolExecutor object at 0x000002B81C9872C8>\n",
      "INFO:prophet:Disabling weekly seasonality. Run prophet with weekly_seasonality=True to override this.\n",
      "INFO:prophet:Disabling daily seasonality. Run prophet with daily_seasonality=True to override this.\n"
     ]
    },
    {
     "name": "stdout",
     "output_type": "stream",
     "text": [
      "Temperature\n",
      "Fuel_Price\n",
      "CPI\n",
      "Unemployment\n",
      "Size\n"
     ]
    },
    {
     "name": "stderr",
     "output_type": "stream",
     "text": [
      "WARNING:prophet.models:Optimization terminated abnormally. Falling back to Newton.\n",
      "INFO:prophet:Making 1 forecasts with cutoffs between 2012-02-03 00:00:00 and 2012-02-03 00:00:00\n",
      "INFO:prophet:Applying in parallel with <concurrent.futures.process.ProcessPoolExecutor object at 0x000002B81C98F1C8>\n",
      "INFO:prophet:Disabling weekly seasonality. Run prophet with weekly_seasonality=True to override this.\n",
      "INFO:prophet:Disabling daily seasonality. Run prophet with daily_seasonality=True to override this.\n"
     ]
    },
    {
     "name": "stdout",
     "output_type": "stream",
     "text": [
      "Temperature\n",
      "Fuel_Price\n",
      "CPI\n",
      "Unemployment\n",
      "Size\n"
     ]
    },
    {
     "name": "stderr",
     "output_type": "stream",
     "text": [
      "WARNING:prophet.models:Optimization terminated abnormally. Falling back to Newton.\n",
      "INFO:prophet:Making 1 forecasts with cutoffs between 2012-02-03 00:00:00 and 2012-02-03 00:00:00\n",
      "INFO:prophet:Applying in parallel with <concurrent.futures.process.ProcessPoolExecutor object at 0x000002B81C976308>\n",
      "INFO:prophet:Disabling weekly seasonality. Run prophet with weekly_seasonality=True to override this.\n",
      "INFO:prophet:Disabling daily seasonality. Run prophet with daily_seasonality=True to override this.\n"
     ]
    },
    {
     "name": "stdout",
     "output_type": "stream",
     "text": [
      "Temperature\n",
      "Fuel_Price\n",
      "CPI\n",
      "Unemployment\n",
      "Size\n"
     ]
    },
    {
     "name": "stderr",
     "output_type": "stream",
     "text": [
      "WARNING:prophet.models:Optimization terminated abnormally. Falling back to Newton.\n",
      "INFO:prophet:Making 1 forecasts with cutoffs between 2012-02-03 00:00:00 and 2012-02-03 00:00:00\n",
      "INFO:prophet:Applying in parallel with <concurrent.futures.process.ProcessPoolExecutor object at 0x000002B81C98DF48>\n",
      "INFO:prophet:Disabling weekly seasonality. Run prophet with weekly_seasonality=True to override this.\n",
      "INFO:prophet:Disabling daily seasonality. Run prophet with daily_seasonality=True to override this.\n"
     ]
    },
    {
     "name": "stdout",
     "output_type": "stream",
     "text": [
      "Temperature\n",
      "Fuel_Price\n",
      "CPI\n",
      "Unemployment\n",
      "Size\n"
     ]
    },
    {
     "name": "stderr",
     "output_type": "stream",
     "text": [
      "WARNING:prophet.models:Optimization terminated abnormally. Falling back to Newton.\n",
      "INFO:prophet:Making 1 forecasts with cutoffs between 2012-02-03 00:00:00 and 2012-02-03 00:00:00\n",
      "INFO:prophet:Applying in parallel with <concurrent.futures.process.ProcessPoolExecutor object at 0x000002B81C970348>\n",
      "INFO:prophet:Disabling weekly seasonality. Run prophet with weekly_seasonality=True to override this.\n",
      "INFO:prophet:Disabling daily seasonality. Run prophet with daily_seasonality=True to override this.\n"
     ]
    },
    {
     "name": "stdout",
     "output_type": "stream",
     "text": [
      "Temperature\n",
      "Fuel_Price\n",
      "CPI\n",
      "Unemployment\n",
      "Size\n"
     ]
    },
    {
     "name": "stderr",
     "output_type": "stream",
     "text": [
      "WARNING:prophet.models:Optimization terminated abnormally. Falling back to Newton.\n",
      "INFO:prophet:Making 1 forecasts with cutoffs between 2012-02-03 00:00:00 and 2012-02-03 00:00:00\n",
      "INFO:prophet:Applying in parallel with <concurrent.futures.process.ProcessPoolExecutor object at 0x000002B81C9915C8>\n",
      "INFO:prophet:Disabling weekly seasonality. Run prophet with weekly_seasonality=True to override this.\n",
      "INFO:prophet:Disabling daily seasonality. Run prophet with daily_seasonality=True to override this.\n"
     ]
    },
    {
     "name": "stdout",
     "output_type": "stream",
     "text": [
      "Temperature\n",
      "Fuel_Price\n",
      "CPI\n",
      "Unemployment\n",
      "Size\n"
     ]
    },
    {
     "name": "stderr",
     "output_type": "stream",
     "text": [
      "WARNING:prophet.models:Optimization terminated abnormally. Falling back to Newton.\n",
      "INFO:prophet:Making 1 forecasts with cutoffs between 2012-02-03 00:00:00 and 2012-02-03 00:00:00\n",
      "INFO:prophet:Applying in parallel with <concurrent.futures.process.ProcessPoolExecutor object at 0x000002B81C986488>\n",
      "INFO:prophet:Disabling weekly seasonality. Run prophet with weekly_seasonality=True to override this.\n",
      "INFO:prophet:Disabling daily seasonality. Run prophet with daily_seasonality=True to override this.\n"
     ]
    },
    {
     "name": "stdout",
     "output_type": "stream",
     "text": [
      "Temperature\n",
      "Fuel_Price\n",
      "CPI\n",
      "Unemployment\n",
      "Size\n"
     ]
    },
    {
     "name": "stderr",
     "output_type": "stream",
     "text": [
      "WARNING:prophet.models:Optimization terminated abnormally. Falling back to Newton.\n",
      "INFO:prophet:Making 1 forecasts with cutoffs between 2012-02-03 00:00:00 and 2012-02-03 00:00:00\n",
      "INFO:prophet:Applying in parallel with <concurrent.futures.process.ProcessPoolExecutor object at 0x000002B81C971148>\n",
      "INFO:prophet:Disabling weekly seasonality. Run prophet with weekly_seasonality=True to override this.\n",
      "INFO:prophet:Disabling daily seasonality. Run prophet with daily_seasonality=True to override this.\n"
     ]
    },
    {
     "name": "stdout",
     "output_type": "stream",
     "text": [
      "Temperature\n",
      "Fuel_Price\n",
      "CPI\n",
      "Unemployment\n",
      "Size\n"
     ]
    },
    {
     "name": "stderr",
     "output_type": "stream",
     "text": [
      "WARNING:prophet.models:Optimization terminated abnormally. Falling back to Newton.\n",
      "INFO:prophet:Making 1 forecasts with cutoffs between 2012-02-03 00:00:00 and 2012-02-03 00:00:00\n",
      "INFO:prophet:Applying in parallel with <concurrent.futures.process.ProcessPoolExecutor object at 0x000002B81C986A48>\n",
      "INFO:prophet:Disabling weekly seasonality. Run prophet with weekly_seasonality=True to override this.\n",
      "INFO:prophet:Disabling daily seasonality. Run prophet with daily_seasonality=True to override this.\n"
     ]
    },
    {
     "name": "stdout",
     "output_type": "stream",
     "text": [
      "Temperature\n",
      "Fuel_Price\n",
      "CPI\n",
      "Unemployment\n",
      "Size\n"
     ]
    },
    {
     "name": "stderr",
     "output_type": "stream",
     "text": [
      "WARNING:prophet.models:Optimization terminated abnormally. Falling back to Newton.\n",
      "INFO:prophet:Making 1 forecasts with cutoffs between 2012-02-03 00:00:00 and 2012-02-03 00:00:00\n",
      "INFO:prophet:Applying in parallel with <concurrent.futures.process.ProcessPoolExecutor object at 0x000002B81CAED148>\n",
      "INFO:prophet:Disabling weekly seasonality. Run prophet with weekly_seasonality=True to override this.\n",
      "INFO:prophet:Disabling daily seasonality. Run prophet with daily_seasonality=True to override this.\n"
     ]
    },
    {
     "name": "stdout",
     "output_type": "stream",
     "text": [
      "Temperature\n",
      "Fuel_Price\n",
      "CPI\n",
      "Unemployment\n",
      "Size\n"
     ]
    },
    {
     "name": "stderr",
     "output_type": "stream",
     "text": [
      "WARNING:prophet.models:Optimization terminated abnormally. Falling back to Newton.\n",
      "INFO:prophet:Making 1 forecasts with cutoffs between 2012-02-03 00:00:00 and 2012-02-03 00:00:00\n",
      "INFO:prophet:Applying in parallel with <concurrent.futures.process.ProcessPoolExecutor object at 0x000002B81CAEA448>\n",
      "INFO:prophet:Disabling weekly seasonality. Run prophet with weekly_seasonality=True to override this.\n",
      "INFO:prophet:Disabling daily seasonality. Run prophet with daily_seasonality=True to override this.\n"
     ]
    },
    {
     "name": "stdout",
     "output_type": "stream",
     "text": [
      "Temperature\n",
      "Fuel_Price\n",
      "CPI\n",
      "Unemployment\n",
      "Size\n"
     ]
    },
    {
     "name": "stderr",
     "output_type": "stream",
     "text": [
      "WARNING:prophet.models:Optimization terminated abnormally. Falling back to Newton.\n",
      "INFO:prophet:Making 1 forecasts with cutoffs between 2012-02-03 00:00:00 and 2012-02-03 00:00:00\n",
      "INFO:prophet:Applying in parallel with <concurrent.futures.process.ProcessPoolExecutor object at 0x000002B81C97DD48>\n",
      "INFO:prophet:Disabling weekly seasonality. Run prophet with weekly_seasonality=True to override this.\n",
      "INFO:prophet:Disabling daily seasonality. Run prophet with daily_seasonality=True to override this.\n"
     ]
    },
    {
     "name": "stdout",
     "output_type": "stream",
     "text": [
      "Temperature\n",
      "Fuel_Price\n",
      "CPI\n",
      "Unemployment\n",
      "Size\n"
     ]
    },
    {
     "name": "stderr",
     "output_type": "stream",
     "text": [
      "WARNING:prophet.models:Optimization terminated abnormally. Falling back to Newton.\n",
      "INFO:prophet:Making 1 forecasts with cutoffs between 2012-02-03 00:00:00 and 2012-02-03 00:00:00\n",
      "INFO:prophet:Applying in parallel with <concurrent.futures.process.ProcessPoolExecutor object at 0x000002B81CAE8548>\n",
      "INFO:prophet:Disabling weekly seasonality. Run prophet with weekly_seasonality=True to override this.\n",
      "INFO:prophet:Disabling daily seasonality. Run prophet with daily_seasonality=True to override this.\n"
     ]
    },
    {
     "name": "stdout",
     "output_type": "stream",
     "text": [
      "Temperature\n",
      "Fuel_Price\n",
      "CPI\n",
      "Unemployment\n",
      "Size\n"
     ]
    },
    {
     "name": "stderr",
     "output_type": "stream",
     "text": [
      "WARNING:prophet.models:Optimization terminated abnormally. Falling back to Newton.\n",
      "INFO:prophet:Making 1 forecasts with cutoffs between 2012-02-03 00:00:00 and 2012-02-03 00:00:00\n",
      "INFO:prophet:Applying in parallel with <concurrent.futures.process.ProcessPoolExecutor object at 0x000002B81C9872C8>\n",
      "INFO:prophet:Disabling weekly seasonality. Run prophet with weekly_seasonality=True to override this.\n",
      "INFO:prophet:Disabling daily seasonality. Run prophet with daily_seasonality=True to override this.\n"
     ]
    },
    {
     "name": "stdout",
     "output_type": "stream",
     "text": [
      "Temperature\n",
      "Fuel_Price\n",
      "CPI\n",
      "Unemployment\n",
      "Size\n"
     ]
    },
    {
     "name": "stderr",
     "output_type": "stream",
     "text": [
      "WARNING:prophet.models:Optimization terminated abnormally. Falling back to Newton.\n",
      "INFO:prophet:Making 1 forecasts with cutoffs between 2012-02-03 00:00:00 and 2012-02-03 00:00:00\n",
      "INFO:prophet:Applying in parallel with <concurrent.futures.process.ProcessPoolExecutor object at 0x000002B81C9872C8>\n",
      "INFO:prophet:Disabling weekly seasonality. Run prophet with weekly_seasonality=True to override this.\n",
      "INFO:prophet:Disabling daily seasonality. Run prophet with daily_seasonality=True to override this.\n"
     ]
    },
    {
     "name": "stdout",
     "output_type": "stream",
     "text": [
      "Temperature\n",
      "Fuel_Price\n",
      "CPI\n",
      "Unemployment\n",
      "Size\n"
     ]
    },
    {
     "name": "stderr",
     "output_type": "stream",
     "text": [
      "WARNING:prophet.models:Optimization terminated abnormally. Falling back to Newton.\n",
      "INFO:prophet:Making 1 forecasts with cutoffs between 2012-02-03 00:00:00 and 2012-02-03 00:00:00\n",
      "INFO:prophet:Applying in parallel with <concurrent.futures.process.ProcessPoolExecutor object at 0x000002B81CAE8548>\n",
      "INFO:prophet:Disabling weekly seasonality. Run prophet with weekly_seasonality=True to override this.\n",
      "INFO:prophet:Disabling daily seasonality. Run prophet with daily_seasonality=True to override this.\n"
     ]
    },
    {
     "name": "stdout",
     "output_type": "stream",
     "text": [
      "Temperature\n",
      "Fuel_Price\n",
      "CPI\n",
      "Unemployment\n",
      "Size\n"
     ]
    },
    {
     "name": "stderr",
     "output_type": "stream",
     "text": [
      "WARNING:prophet.models:Optimization terminated abnormally. Falling back to Newton.\n",
      "INFO:prophet:Making 1 forecasts with cutoffs between 2012-02-03 00:00:00 and 2012-02-03 00:00:00\n",
      "INFO:prophet:Applying in parallel with <concurrent.futures.process.ProcessPoolExecutor object at 0x000002B81CAC6508>\n",
      "INFO:prophet:Disabling weekly seasonality. Run prophet with weekly_seasonality=True to override this.\n",
      "INFO:prophet:Disabling daily seasonality. Run prophet with daily_seasonality=True to override this.\n"
     ]
    },
    {
     "name": "stdout",
     "output_type": "stream",
     "text": [
      "Temperature\n",
      "Fuel_Price\n",
      "CPI\n",
      "Unemployment\n",
      "Size\n"
     ]
    },
    {
     "name": "stderr",
     "output_type": "stream",
     "text": [
      "WARNING:prophet.models:Optimization terminated abnormally. Falling back to Newton.\n",
      "INFO:prophet:Making 1 forecasts with cutoffs between 2012-02-03 00:00:00 and 2012-02-03 00:00:00\n",
      "INFO:prophet:Applying in parallel with <concurrent.futures.process.ProcessPoolExecutor object at 0x000002B81C97F588>\n",
      "INFO:prophet:Disabling weekly seasonality. Run prophet with weekly_seasonality=True to override this.\n",
      "INFO:prophet:Disabling daily seasonality. Run prophet with daily_seasonality=True to override this.\n"
     ]
    },
    {
     "name": "stdout",
     "output_type": "stream",
     "text": [
      "Temperature\n",
      "Fuel_Price\n",
      "CPI\n",
      "Unemployment\n",
      "Size\n"
     ]
    },
    {
     "name": "stderr",
     "output_type": "stream",
     "text": [
      "WARNING:prophet.models:Optimization terminated abnormally. Falling back to Newton.\n",
      "INFO:prophet:Making 1 forecasts with cutoffs between 2012-02-03 00:00:00 and 2012-02-03 00:00:00\n",
      "INFO:prophet:Applying in parallel with <concurrent.futures.process.ProcessPoolExecutor object at 0x000002B81C8ED088>\n",
      "INFO:prophet:Disabling weekly seasonality. Run prophet with weekly_seasonality=True to override this.\n",
      "INFO:prophet:Disabling daily seasonality. Run prophet with daily_seasonality=True to override this.\n"
     ]
    },
    {
     "name": "stdout",
     "output_type": "stream",
     "text": [
      "Temperature\n",
      "Fuel_Price\n",
      "CPI\n",
      "Unemployment\n",
      "Size\n"
     ]
    },
    {
     "name": "stderr",
     "output_type": "stream",
     "text": [
      "WARNING:prophet.models:Optimization terminated abnormally. Falling back to Newton.\n",
      "INFO:prophet:Making 1 forecasts with cutoffs between 2012-02-03 00:00:00 and 2012-02-03 00:00:00\n",
      "INFO:prophet:Applying in parallel with <concurrent.futures.process.ProcessPoolExecutor object at 0x000002B81C98D408>\n",
      "INFO:prophet:Disabling weekly seasonality. Run prophet with weekly_seasonality=True to override this.\n",
      "INFO:prophet:Disabling daily seasonality. Run prophet with daily_seasonality=True to override this.\n"
     ]
    },
    {
     "name": "stdout",
     "output_type": "stream",
     "text": [
      "Temperature\n",
      "Fuel_Price\n",
      "CPI\n",
      "Unemployment\n",
      "Size\n"
     ]
    },
    {
     "name": "stderr",
     "output_type": "stream",
     "text": [
      "WARNING:prophet.models:Optimization terminated abnormally. Falling back to Newton.\n",
      "INFO:prophet:Making 1 forecasts with cutoffs between 2012-02-03 00:00:00 and 2012-02-03 00:00:00\n",
      "INFO:prophet:Applying in parallel with <concurrent.futures.process.ProcessPoolExecutor object at 0x000002B81CAC6508>\n",
      "INFO:prophet:Disabling weekly seasonality. Run prophet with weekly_seasonality=True to override this.\n",
      "INFO:prophet:Disabling daily seasonality. Run prophet with daily_seasonality=True to override this.\n"
     ]
    },
    {
     "name": "stdout",
     "output_type": "stream",
     "text": [
      "Temperature\n",
      "Fuel_Price\n",
      "CPI\n",
      "Unemployment\n",
      "Size\n"
     ]
    },
    {
     "name": "stderr",
     "output_type": "stream",
     "text": [
      "WARNING:prophet.models:Optimization terminated abnormally. Falling back to Newton.\n",
      "INFO:prophet:Making 1 forecasts with cutoffs between 2012-02-03 00:00:00 and 2012-02-03 00:00:00\n",
      "INFO:prophet:Applying in parallel with <concurrent.futures.process.ProcessPoolExecutor object at 0x000002B81C8E0A08>\n",
      "INFO:prophet:Disabling weekly seasonality. Run prophet with weekly_seasonality=True to override this.\n",
      "INFO:prophet:Disabling daily seasonality. Run prophet with daily_seasonality=True to override this.\n",
      "WARNING:prophet.models:Optimization terminated abnormally. Falling back to Newton.\n"
     ]
    },
    {
     "name": "stdout",
     "output_type": "stream",
     "text": [
      "Temperature\n",
      "Fuel_Price\n",
      "CPI\n",
      "Unemployment\n",
      "Size\n"
     ]
    },
    {
     "name": "stderr",
     "output_type": "stream",
     "text": [
      "INFO:prophet:Making 1 forecasts with cutoffs between 2012-02-03 00:00:00 and 2012-02-03 00:00:00\n",
      "INFO:prophet:Applying in parallel with <concurrent.futures.process.ProcessPoolExecutor object at 0x000002B81CAC6508>\n",
      "INFO:prophet:Disabling weekly seasonality. Run prophet with weekly_seasonality=True to override this.\n",
      "INFO:prophet:Disabling daily seasonality. Run prophet with daily_seasonality=True to override this.\n"
     ]
    },
    {
     "name": "stdout",
     "output_type": "stream",
     "text": [
      "Temperature\n",
      "Fuel_Price\n",
      "CPI\n",
      "Unemployment\n",
      "Size\n"
     ]
    },
    {
     "name": "stderr",
     "output_type": "stream",
     "text": [
      "WARNING:prophet.models:Optimization terminated abnormally. Falling back to Newton.\n",
      "INFO:prophet:Making 1 forecasts with cutoffs between 2012-02-03 00:00:00 and 2012-02-03 00:00:00\n",
      "INFO:prophet:Applying in parallel with <concurrent.futures.process.ProcessPoolExecutor object at 0x000002B81C8ED088>\n",
      "INFO:prophet:Disabling weekly seasonality. Run prophet with weekly_seasonality=True to override this.\n",
      "INFO:prophet:Disabling daily seasonality. Run prophet with daily_seasonality=True to override this.\n"
     ]
    },
    {
     "name": "stdout",
     "output_type": "stream",
     "text": [
      "Temperature\n",
      "Fuel_Price\n",
      "CPI\n",
      "Unemployment\n",
      "Size\n"
     ]
    },
    {
     "name": "stderr",
     "output_type": "stream",
     "text": [
      "WARNING:prophet.models:Optimization terminated abnormally. Falling back to Newton.\n",
      "INFO:prophet:Making 1 forecasts with cutoffs between 2012-02-03 00:00:00 and 2012-02-03 00:00:00\n",
      "INFO:prophet:Applying in parallel with <concurrent.futures.process.ProcessPoolExecutor object at 0x000002B81C99A248>\n",
      "INFO:prophet:Disabling weekly seasonality. Run prophet with weekly_seasonality=True to override this.\n",
      "INFO:prophet:Disabling daily seasonality. Run prophet with daily_seasonality=True to override this.\n"
     ]
    },
    {
     "name": "stdout",
     "output_type": "stream",
     "text": [
      "Temperature\n",
      "Fuel_Price\n",
      "CPI\n",
      "Unemployment\n",
      "Size\n"
     ]
    },
    {
     "name": "stderr",
     "output_type": "stream",
     "text": [
      "WARNING:prophet.models:Optimization terminated abnormally. Falling back to Newton.\n",
      "INFO:prophet:Making 1 forecasts with cutoffs between 2012-02-03 00:00:00 and 2012-02-03 00:00:00\n",
      "INFO:prophet:Applying in parallel with <concurrent.futures.process.ProcessPoolExecutor object at 0x000002B81C971E48>\n",
      "INFO:prophet:Disabling weekly seasonality. Run prophet with weekly_seasonality=True to override this.\n",
      "INFO:prophet:Disabling daily seasonality. Run prophet with daily_seasonality=True to override this.\n"
     ]
    },
    {
     "name": "stdout",
     "output_type": "stream",
     "text": [
      "Temperature\n",
      "Fuel_Price\n",
      "CPI\n",
      "Unemployment\n",
      "Size\n"
     ]
    },
    {
     "name": "stderr",
     "output_type": "stream",
     "text": [
      "WARNING:prophet.models:Optimization terminated abnormally. Falling back to Newton.\n",
      "INFO:prophet:Making 1 forecasts with cutoffs between 2012-02-03 00:00:00 and 2012-02-03 00:00:00\n",
      "INFO:prophet:Applying in parallel with <concurrent.futures.process.ProcessPoolExecutor object at 0x000002B81C971E48>\n",
      "INFO:prophet:Disabling weekly seasonality. Run prophet with weekly_seasonality=True to override this.\n",
      "INFO:prophet:Disabling daily seasonality. Run prophet with daily_seasonality=True to override this.\n"
     ]
    },
    {
     "name": "stdout",
     "output_type": "stream",
     "text": [
      "Temperature\n",
      "Fuel_Price\n",
      "CPI\n",
      "Unemployment\n",
      "Size\n"
     ]
    },
    {
     "name": "stderr",
     "output_type": "stream",
     "text": [
      "WARNING:prophet.models:Optimization terminated abnormally. Falling back to Newton.\n",
      "INFO:prophet:Making 1 forecasts with cutoffs between 2012-02-03 00:00:00 and 2012-02-03 00:00:00\n",
      "INFO:prophet:Applying in parallel with <concurrent.futures.process.ProcessPoolExecutor object at 0x000002B81C991D08>\n",
      "INFO:prophet:Disabling weekly seasonality. Run prophet with weekly_seasonality=True to override this.\n",
      "INFO:prophet:Disabling daily seasonality. Run prophet with daily_seasonality=True to override this.\n"
     ]
    },
    {
     "name": "stdout",
     "output_type": "stream",
     "text": [
      "Temperature\n",
      "Fuel_Price\n",
      "CPI\n",
      "Unemployment\n",
      "Size\n"
     ]
    },
    {
     "name": "stderr",
     "output_type": "stream",
     "text": [
      "WARNING:prophet.models:Optimization terminated abnormally. Falling back to Newton.\n",
      "INFO:prophet:Making 1 forecasts with cutoffs between 2012-02-03 00:00:00 and 2012-02-03 00:00:00\n",
      "INFO:prophet:Applying in parallel with <concurrent.futures.process.ProcessPoolExecutor object at 0x000002B81C9830C8>\n",
      "INFO:prophet:Disabling weekly seasonality. Run prophet with weekly_seasonality=True to override this.\n",
      "INFO:prophet:Disabling daily seasonality. Run prophet with daily_seasonality=True to override this.\n"
     ]
    },
    {
     "name": "stdout",
     "output_type": "stream",
     "text": [
      "Temperature\n",
      "Fuel_Price\n",
      "CPI\n",
      "Unemployment\n",
      "Size\n"
     ]
    },
    {
     "name": "stderr",
     "output_type": "stream",
     "text": [
      "WARNING:prophet.models:Optimization terminated abnormally. Falling back to Newton.\n",
      "INFO:prophet:Making 1 forecasts with cutoffs between 2012-02-03 00:00:00 and 2012-02-03 00:00:00\n",
      "INFO:prophet:Applying in parallel with <concurrent.futures.process.ProcessPoolExecutor object at 0x000002B81C97DC88>\n",
      "INFO:prophet:Disabling weekly seasonality. Run prophet with weekly_seasonality=True to override this.\n",
      "INFO:prophet:Disabling daily seasonality. Run prophet with daily_seasonality=True to override this.\n"
     ]
    },
    {
     "name": "stdout",
     "output_type": "stream",
     "text": [
      "Temperature\n",
      "Fuel_Price\n",
      "CPI\n",
      "Unemployment\n",
      "Size\n"
     ]
    },
    {
     "name": "stderr",
     "output_type": "stream",
     "text": [
      "WARNING:prophet.models:Optimization terminated abnormally. Falling back to Newton.\n",
      "INFO:prophet:Making 1 forecasts with cutoffs between 2012-02-03 00:00:00 and 2012-02-03 00:00:00\n",
      "INFO:prophet:Applying in parallel with <concurrent.futures.process.ProcessPoolExecutor object at 0x000002B81C992AC8>\n",
      "INFO:prophet:Disabling weekly seasonality. Run prophet with weekly_seasonality=True to override this.\n",
      "INFO:prophet:Disabling daily seasonality. Run prophet with daily_seasonality=True to override this.\n"
     ]
    },
    {
     "name": "stdout",
     "output_type": "stream",
     "text": [
      "Temperature\n",
      "Fuel_Price\n",
      "CPI\n",
      "Unemployment\n",
      "Size\n"
     ]
    },
    {
     "name": "stderr",
     "output_type": "stream",
     "text": [
      "WARNING:prophet.models:Optimization terminated abnormally. Falling back to Newton.\n",
      "INFO:prophet:Making 1 forecasts with cutoffs between 2012-02-03 00:00:00 and 2012-02-03 00:00:00\n",
      "INFO:prophet:Applying in parallel with <concurrent.futures.process.ProcessPoolExecutor object at 0x000002B81C986C88>\n",
      "INFO:prophet:Disabling weekly seasonality. Run prophet with weekly_seasonality=True to override this.\n",
      "INFO:prophet:Disabling daily seasonality. Run prophet with daily_seasonality=True to override this.\n"
     ]
    },
    {
     "name": "stdout",
     "output_type": "stream",
     "text": [
      "Temperature\n",
      "Fuel_Price\n",
      "CPI\n",
      "Unemployment\n",
      "Size\n"
     ]
    },
    {
     "name": "stderr",
     "output_type": "stream",
     "text": [
      "WARNING:prophet.models:Optimization terminated abnormally. Falling back to Newton.\n",
      "INFO:prophet:Making 1 forecasts with cutoffs between 2012-02-03 00:00:00 and 2012-02-03 00:00:00\n",
      "INFO:prophet:Applying in parallel with <concurrent.futures.process.ProcessPoolExecutor object at 0x000002B81C998508>\n",
      "INFO:prophet:Disabling weekly seasonality. Run prophet with weekly_seasonality=True to override this.\n",
      "INFO:prophet:Disabling daily seasonality. Run prophet with daily_seasonality=True to override this.\n"
     ]
    },
    {
     "name": "stdout",
     "output_type": "stream",
     "text": [
      "Temperature\n",
      "Fuel_Price\n",
      "CPI\n",
      "Unemployment\n",
      "Size\n"
     ]
    },
    {
     "name": "stderr",
     "output_type": "stream",
     "text": [
      "WARNING:prophet.models:Optimization terminated abnormally. Falling back to Newton.\n",
      "INFO:prophet:Making 1 forecasts with cutoffs between 2012-02-03 00:00:00 and 2012-02-03 00:00:00\n",
      "INFO:prophet:Applying in parallel with <concurrent.futures.process.ProcessPoolExecutor object at 0x000002B81C98A808>\n",
      "INFO:prophet:Disabling weekly seasonality. Run prophet with weekly_seasonality=True to override this.\n",
      "INFO:prophet:Disabling daily seasonality. Run prophet with daily_seasonality=True to override this.\n"
     ]
    },
    {
     "name": "stdout",
     "output_type": "stream",
     "text": [
      "Temperature\n",
      "Fuel_Price\n",
      "CPI\n",
      "Unemployment\n",
      "Size\n"
     ]
    },
    {
     "name": "stderr",
     "output_type": "stream",
     "text": [
      "WARNING:prophet.models:Optimization terminated abnormally. Falling back to Newton.\n",
      "INFO:prophet:Making 1 forecasts with cutoffs between 2012-02-03 00:00:00 and 2012-02-03 00:00:00\n",
      "INFO:prophet:Applying in parallel with <concurrent.futures.process.ProcessPoolExecutor object at 0x000002B81C9A1408>\n",
      "INFO:prophet:Disabling weekly seasonality. Run prophet with weekly_seasonality=True to override this.\n",
      "INFO:prophet:Disabling daily seasonality. Run prophet with daily_seasonality=True to override this.\n"
     ]
    },
    {
     "name": "stdout",
     "output_type": "stream",
     "text": [
      "Temperature\n",
      "Fuel_Price\n",
      "CPI\n",
      "Unemployment\n",
      "Size\n"
     ]
    },
    {
     "name": "stderr",
     "output_type": "stream",
     "text": [
      "WARNING:prophet.models:Optimization terminated abnormally. Falling back to Newton.\n",
      "INFO:prophet:Making 1 forecasts with cutoffs between 2012-02-03 00:00:00 and 2012-02-03 00:00:00\n",
      "INFO:prophet:Applying in parallel with <concurrent.futures.process.ProcessPoolExecutor object at 0x000002B81C993948>\n",
      "INFO:prophet:Disabling weekly seasonality. Run prophet with weekly_seasonality=True to override this.\n",
      "INFO:prophet:Disabling daily seasonality. Run prophet with daily_seasonality=True to override this.\n"
     ]
    },
    {
     "name": "stdout",
     "output_type": "stream",
     "text": [
      "Temperature\n",
      "Fuel_Price\n",
      "CPI\n",
      "Unemployment\n",
      "Size\n"
     ]
    },
    {
     "name": "stderr",
     "output_type": "stream",
     "text": [
      "WARNING:prophet.models:Optimization terminated abnormally. Falling back to Newton.\n",
      "INFO:prophet:Making 1 forecasts with cutoffs between 2012-02-03 00:00:00 and 2012-02-03 00:00:00\n",
      "INFO:prophet:Applying in parallel with <concurrent.futures.process.ProcessPoolExecutor object at 0x000002B81C9830C8>\n",
      "INFO:prophet:Disabling weekly seasonality. Run prophet with weekly_seasonality=True to override this.\n",
      "INFO:prophet:Disabling daily seasonality. Run prophet with daily_seasonality=True to override this.\n"
     ]
    },
    {
     "name": "stdout",
     "output_type": "stream",
     "text": [
      "Temperature\n",
      "Fuel_Price\n",
      "CPI\n",
      "Unemployment\n",
      "Size\n"
     ]
    },
    {
     "name": "stderr",
     "output_type": "stream",
     "text": [
      "WARNING:prophet.models:Optimization terminated abnormally. Falling back to Newton.\n",
      "INFO:prophet:Making 1 forecasts with cutoffs between 2012-02-03 00:00:00 and 2012-02-03 00:00:00\n",
      "INFO:prophet:Applying in parallel with <concurrent.futures.process.ProcessPoolExecutor object at 0x000002B81C99EB08>\n",
      "INFO:prophet:Disabling weekly seasonality. Run prophet with weekly_seasonality=True to override this.\n",
      "INFO:prophet:Disabling daily seasonality. Run prophet with daily_seasonality=True to override this.\n"
     ]
    },
    {
     "name": "stdout",
     "output_type": "stream",
     "text": [
      "Temperature\n",
      "Fuel_Price\n",
      "CPI\n",
      "Unemployment\n",
      "Size\n"
     ]
    },
    {
     "name": "stderr",
     "output_type": "stream",
     "text": [
      "WARNING:prophet.models:Optimization terminated abnormally. Falling back to Newton.\n",
      "INFO:prophet:Making 1 forecasts with cutoffs between 2012-02-03 00:00:00 and 2012-02-03 00:00:00\n",
      "INFO:prophet:Applying in parallel with <concurrent.futures.process.ProcessPoolExecutor object at 0x000002B81C8ED808>\n",
      "INFO:prophet:Disabling weekly seasonality. Run prophet with weekly_seasonality=True to override this.\n",
      "INFO:prophet:Disabling daily seasonality. Run prophet with daily_seasonality=True to override this.\n"
     ]
    },
    {
     "name": "stdout",
     "output_type": "stream",
     "text": [
      "Temperature\n",
      "Fuel_Price\n",
      "CPI\n",
      "Unemployment\n",
      "Size\n"
     ]
    },
    {
     "name": "stderr",
     "output_type": "stream",
     "text": [
      "WARNING:prophet.models:Optimization terminated abnormally. Falling back to Newton.\n",
      "INFO:prophet:Making 1 forecasts with cutoffs between 2012-02-03 00:00:00 and 2012-02-03 00:00:00\n",
      "INFO:prophet:Applying in parallel with <concurrent.futures.process.ProcessPoolExecutor object at 0x000002B81C998988>\n",
      "INFO:prophet:Disabling weekly seasonality. Run prophet with weekly_seasonality=True to override this.\n",
      "INFO:prophet:Disabling daily seasonality. Run prophet with daily_seasonality=True to override this.\n"
     ]
    },
    {
     "name": "stdout",
     "output_type": "stream",
     "text": [
      "Temperature\n",
      "Fuel_Price\n",
      "CPI\n",
      "Unemployment\n",
      "Size\n"
     ]
    },
    {
     "name": "stderr",
     "output_type": "stream",
     "text": [
      "WARNING:prophet.models:Optimization terminated abnormally. Falling back to Newton.\n",
      "INFO:prophet:Making 1 forecasts with cutoffs between 2012-02-03 00:00:00 and 2012-02-03 00:00:00\n",
      "INFO:prophet:Applying in parallel with <concurrent.futures.process.ProcessPoolExecutor object at 0x000002B81C971E48>\n",
      "INFO:prophet:Disabling weekly seasonality. Run prophet with weekly_seasonality=True to override this.\n",
      "INFO:prophet:Disabling daily seasonality. Run prophet with daily_seasonality=True to override this.\n"
     ]
    },
    {
     "name": "stdout",
     "output_type": "stream",
     "text": [
      "Temperature\n",
      "Fuel_Price\n",
      "CPI\n",
      "Unemployment\n",
      "Size\n"
     ]
    },
    {
     "name": "stderr",
     "output_type": "stream",
     "text": [
      "WARNING:prophet.models:Optimization terminated abnormally. Falling back to Newton.\n",
      "INFO:prophet:Making 1 forecasts with cutoffs between 2012-02-03 00:00:00 and 2012-02-03 00:00:00\n",
      "INFO:prophet:Applying in parallel with <concurrent.futures.process.ProcessPoolExecutor object at 0x000002B81C976308>\n",
      "INFO:prophet:Disabling weekly seasonality. Run prophet with weekly_seasonality=True to override this.\n",
      "INFO:prophet:Disabling daily seasonality. Run prophet with daily_seasonality=True to override this.\n"
     ]
    },
    {
     "name": "stdout",
     "output_type": "stream",
     "text": [
      "Temperature\n",
      "Fuel_Price\n",
      "CPI\n",
      "Unemployment\n",
      "Size\n"
     ]
    },
    {
     "name": "stderr",
     "output_type": "stream",
     "text": [
      "WARNING:prophet.models:Optimization terminated abnormally. Falling back to Newton.\n",
      "INFO:prophet:Making 1 forecasts with cutoffs between 2012-02-03 00:00:00 and 2012-02-03 00:00:00\n",
      "INFO:prophet:Applying in parallel with <concurrent.futures.process.ProcessPoolExecutor object at 0x000002B81CAED148>\n",
      "INFO:prophet:Disabling weekly seasonality. Run prophet with weekly_seasonality=True to override this.\n",
      "INFO:prophet:Disabling daily seasonality. Run prophet with daily_seasonality=True to override this.\n"
     ]
    },
    {
     "name": "stdout",
     "output_type": "stream",
     "text": [
      "Temperature\n",
      "Fuel_Price\n",
      "CPI\n",
      "Unemployment\n",
      "Size\n"
     ]
    },
    {
     "name": "stderr",
     "output_type": "stream",
     "text": [
      "WARNING:prophet.models:Optimization terminated abnormally. Falling back to Newton.\n",
      "INFO:prophet:Making 1 forecasts with cutoffs between 2012-02-03 00:00:00 and 2012-02-03 00:00:00\n",
      "INFO:prophet:Applying in parallel with <concurrent.futures.process.ProcessPoolExecutor object at 0x000002B81C98FD08>\n",
      "INFO:prophet:Disabling weekly seasonality. Run prophet with weekly_seasonality=True to override this.\n",
      "INFO:prophet:Disabling daily seasonality. Run prophet with daily_seasonality=True to override this.\n"
     ]
    },
    {
     "name": "stdout",
     "output_type": "stream",
     "text": [
      "Temperature\n",
      "Fuel_Price\n",
      "CPI\n",
      "Unemployment\n",
      "Size\n"
     ]
    },
    {
     "name": "stderr",
     "output_type": "stream",
     "text": [
      "WARNING:prophet.models:Optimization terminated abnormally. Falling back to Newton.\n",
      "INFO:prophet:Making 1 forecasts with cutoffs between 2012-02-03 00:00:00 and 2012-02-03 00:00:00\n",
      "INFO:prophet:Applying in parallel with <concurrent.futures.process.ProcessPoolExecutor object at 0x000002B81C980FC8>\n",
      "INFO:prophet:Disabling weekly seasonality. Run prophet with weekly_seasonality=True to override this.\n",
      "INFO:prophet:Disabling daily seasonality. Run prophet with daily_seasonality=True to override this.\n"
     ]
    },
    {
     "name": "stdout",
     "output_type": "stream",
     "text": [
      "Temperature\n",
      "Fuel_Price\n",
      "CPI\n",
      "Unemployment\n",
      "Size\n"
     ]
    },
    {
     "name": "stderr",
     "output_type": "stream",
     "text": [
      "WARNING:prophet.models:Optimization terminated abnormally. Falling back to Newton.\n",
      "INFO:prophet:Making 1 forecasts with cutoffs between 2012-02-03 00:00:00 and 2012-02-03 00:00:00\n",
      "INFO:prophet:Applying in parallel with <concurrent.futures.process.ProcessPoolExecutor object at 0x000002B81C9A6808>\n",
      "INFO:prophet:Disabling weekly seasonality. Run prophet with weekly_seasonality=True to override this.\n",
      "INFO:prophet:Disabling daily seasonality. Run prophet with daily_seasonality=True to override this.\n"
     ]
    },
    {
     "name": "stdout",
     "output_type": "stream",
     "text": [
      "Temperature\n",
      "Fuel_Price\n",
      "CPI\n",
      "Unemployment\n",
      "Size\n"
     ]
    },
    {
     "name": "stderr",
     "output_type": "stream",
     "text": [
      "WARNING:prophet.models:Optimization terminated abnormally. Falling back to Newton.\n",
      "INFO:prophet:Making 1 forecasts with cutoffs between 2012-02-03 00:00:00 and 2012-02-03 00:00:00\n",
      "INFO:prophet:Applying in parallel with <concurrent.futures.process.ProcessPoolExecutor object at 0x000002B81C990408>\n",
      "INFO:prophet:Disabling weekly seasonality. Run prophet with weekly_seasonality=True to override this.\n",
      "INFO:prophet:Disabling daily seasonality. Run prophet with daily_seasonality=True to override this.\n"
     ]
    },
    {
     "name": "stdout",
     "output_type": "stream",
     "text": [
      "Temperature\n",
      "Fuel_Price\n",
      "CPI\n",
      "Unemployment\n",
      "Size\n"
     ]
    },
    {
     "name": "stderr",
     "output_type": "stream",
     "text": [
      "WARNING:prophet.models:Optimization terminated abnormally. Falling back to Newton.\n",
      "INFO:prophet:Making 1 forecasts with cutoffs between 2012-02-03 00:00:00 and 2012-02-03 00:00:00\n",
      "INFO:prophet:Applying in parallel with <concurrent.futures.process.ProcessPoolExecutor object at 0x000002B81C971E48>\n",
      "INFO:prophet:Disabling weekly seasonality. Run prophet with weekly_seasonality=True to override this.\n",
      "INFO:prophet:Disabling daily seasonality. Run prophet with daily_seasonality=True to override this.\n",
      "WARNING:prophet.models:Optimization terminated abnormally. Falling back to Newton.\n"
     ]
    },
    {
     "name": "stdout",
     "output_type": "stream",
     "text": [
      "Temperature\n",
      "Fuel_Price\n",
      "CPI\n",
      "Unemployment\n",
      "Size\n"
     ]
    },
    {
     "name": "stderr",
     "output_type": "stream",
     "text": [
      "INFO:prophet:Making 1 forecasts with cutoffs between 2012-02-03 00:00:00 and 2012-02-03 00:00:00\n",
      "INFO:prophet:Applying in parallel with <concurrent.futures.process.ProcessPoolExecutor object at 0x000002B81C989F08>\n",
      "INFO:prophet:Disabling weekly seasonality. Run prophet with weekly_seasonality=True to override this.\n",
      "INFO:prophet:Disabling daily seasonality. Run prophet with daily_seasonality=True to override this.\n"
     ]
    },
    {
     "name": "stdout",
     "output_type": "stream",
     "text": [
      "Temperature\n",
      "Fuel_Price\n",
      "CPI\n",
      "Unemployment\n",
      "Size\n"
     ]
    },
    {
     "name": "stderr",
     "output_type": "stream",
     "text": [
      "WARNING:prophet.models:Optimization terminated abnormally. Falling back to Newton.\n",
      "INFO:prophet:Making 1 forecasts with cutoffs between 2012-02-03 00:00:00 and 2012-02-03 00:00:00\n",
      "INFO:prophet:Applying in parallel with <concurrent.futures.process.ProcessPoolExecutor object at 0x000002B81C994D88>\n",
      "INFO:prophet:Disabling weekly seasonality. Run prophet with weekly_seasonality=True to override this.\n",
      "INFO:prophet:Disabling daily seasonality. Run prophet with daily_seasonality=True to override this.\n",
      "WARNING:prophet.models:Optimization terminated abnormally. Falling back to Newton.\n"
     ]
    },
    {
     "name": "stdout",
     "output_type": "stream",
     "text": [
      "Temperature\n",
      "Fuel_Price\n",
      "CPI\n",
      "Unemployment\n",
      "Size\n"
     ]
    },
    {
     "name": "stderr",
     "output_type": "stream",
     "text": [
      "INFO:prophet:Making 1 forecasts with cutoffs between 2012-02-03 00:00:00 and 2012-02-03 00:00:00\n",
      "INFO:prophet:Applying in parallel with <concurrent.futures.process.ProcessPoolExecutor object at 0x000002B81C973648>\n",
      "INFO:prophet:Disabling weekly seasonality. Run prophet with weekly_seasonality=True to override this.\n",
      "INFO:prophet:Disabling daily seasonality. Run prophet with daily_seasonality=True to override this.\n",
      "WARNING:prophet.models:Optimization terminated abnormally. Falling back to Newton.\n",
      "INFO:prophet:Making 1 forecasts with cutoffs between 2012-02-03 00:00:00 and 2012-02-03 00:00:00\n"
     ]
    },
    {
     "name": "stdout",
     "output_type": "stream",
     "text": [
      "Temperature\n",
      "Fuel_Price\n",
      "CPI\n",
      "Unemployment\n",
      "Size\n"
     ]
    },
    {
     "name": "stderr",
     "output_type": "stream",
     "text": [
      "INFO:prophet:Applying in parallel with <concurrent.futures.process.ProcessPoolExecutor object at 0x000002B81C97D948>\n",
      "INFO:prophet:Disabling weekly seasonality. Run prophet with weekly_seasonality=True to override this.\n",
      "INFO:prophet:Disabling daily seasonality. Run prophet with daily_seasonality=True to override this.\n"
     ]
    },
    {
     "name": "stdout",
     "output_type": "stream",
     "text": [
      "Temperature\n",
      "Fuel_Price\n",
      "CPI\n",
      "Unemployment\n",
      "Size\n"
     ]
    },
    {
     "name": "stderr",
     "output_type": "stream",
     "text": [
      "WARNING:prophet.models:Optimization terminated abnormally. Falling back to Newton.\n",
      "INFO:prophet:Making 1 forecasts with cutoffs between 2012-02-03 00:00:00 and 2012-02-03 00:00:00\n",
      "INFO:prophet:Applying in parallel with <concurrent.futures.process.ProcessPoolExecutor object at 0x000002B81C99EFC8>\n",
      "INFO:prophet:Disabling weekly seasonality. Run prophet with weekly_seasonality=True to override this.\n",
      "INFO:prophet:Disabling daily seasonality. Run prophet with daily_seasonality=True to override this.\n",
      "WARNING:prophet.models:Optimization terminated abnormally. Falling back to Newton.\n"
     ]
    },
    {
     "name": "stdout",
     "output_type": "stream",
     "text": [
      "Temperature\n",
      "Fuel_Price\n",
      "CPI\n",
      "Unemployment\n",
      "Size\n"
     ]
    },
    {
     "name": "stderr",
     "output_type": "stream",
     "text": [
      "INFO:prophet:Making 1 forecasts with cutoffs between 2012-02-03 00:00:00 and 2012-02-03 00:00:00\n",
      "INFO:prophet:Applying in parallel with <concurrent.futures.process.ProcessPoolExecutor object at 0x000002B81C97CD08>\n",
      "INFO:prophet:Disabling weekly seasonality. Run prophet with weekly_seasonality=True to override this.\n",
      "INFO:prophet:Disabling daily seasonality. Run prophet with daily_seasonality=True to override this.\n",
      "WARNING:prophet.models:Optimization terminated abnormally. Falling back to Newton.\n",
      "INFO:prophet:Making 1 forecasts with cutoffs between 2012-02-03 00:00:00 and 2012-02-03 00:00:00\n"
     ]
    },
    {
     "name": "stdout",
     "output_type": "stream",
     "text": [
      "Temperature\n",
      "Fuel_Price\n",
      "CPI\n",
      "Unemployment\n",
      "Size\n"
     ]
    },
    {
     "name": "stderr",
     "output_type": "stream",
     "text": [
      "INFO:prophet:Applying in parallel with <concurrent.futures.process.ProcessPoolExecutor object at 0x000002B81C97B508>\n",
      "INFO:prophet:Disabling weekly seasonality. Run prophet with weekly_seasonality=True to override this.\n",
      "INFO:prophet:Disabling daily seasonality. Run prophet with daily_seasonality=True to override this.\n"
     ]
    },
    {
     "name": "stdout",
     "output_type": "stream",
     "text": [
      "Temperature\n",
      "Fuel_Price\n",
      "CPI\n",
      "Unemployment\n",
      "Size\n"
     ]
    },
    {
     "name": "stderr",
     "output_type": "stream",
     "text": [
      "WARNING:prophet.models:Optimization terminated abnormally. Falling back to Newton.\n",
      "INFO:prophet:Making 1 forecasts with cutoffs between 2012-02-03 00:00:00 and 2012-02-03 00:00:00\n",
      "INFO:prophet:Applying in parallel with <concurrent.futures.process.ProcessPoolExecutor object at 0x000002B81C8E0A08>\n",
      "INFO:prophet:Disabling weekly seasonality. Run prophet with weekly_seasonality=True to override this.\n",
      "INFO:prophet:Disabling daily seasonality. Run prophet with daily_seasonality=True to override this.\n",
      "WARNING:prophet.models:Optimization terminated abnormally. Falling back to Newton.\n"
     ]
    },
    {
     "name": "stdout",
     "output_type": "stream",
     "text": [
      "Temperature\n",
      "Fuel_Price\n",
      "CPI\n",
      "Unemployment\n",
      "Size\n"
     ]
    },
    {
     "name": "stderr",
     "output_type": "stream",
     "text": [
      "INFO:prophet:Making 1 forecasts with cutoffs between 2012-02-03 00:00:00 and 2012-02-03 00:00:00\n",
      "INFO:prophet:Applying in parallel with <concurrent.futures.process.ProcessPoolExecutor object at 0x000002B81C991108>\n",
      "INFO:prophet:Disabling weekly seasonality. Run prophet with weekly_seasonality=True to override this.\n",
      "INFO:prophet:Disabling daily seasonality. Run prophet with daily_seasonality=True to override this.\n",
      "WARNING:prophet.models:Optimization terminated abnormally. Falling back to Newton.\n"
     ]
    },
    {
     "name": "stdout",
     "output_type": "stream",
     "text": [
      "Temperature\n",
      "Fuel_Price\n",
      "CPI\n",
      "Unemployment\n",
      "Size\n"
     ]
    },
    {
     "name": "stderr",
     "output_type": "stream",
     "text": [
      "INFO:prophet:Making 1 forecasts with cutoffs between 2012-02-03 00:00:00 and 2012-02-03 00:00:00\n",
      "INFO:prophet:Applying in parallel with <concurrent.futures.process.ProcessPoolExecutor object at 0x000002B81C99E2C8>\n",
      "INFO:prophet:Disabling weekly seasonality. Run prophet with weekly_seasonality=True to override this.\n",
      "INFO:prophet:Disabling daily seasonality. Run prophet with daily_seasonality=True to override this.\n",
      "WARNING:prophet.models:Optimization terminated abnormally. Falling back to Newton.\n"
     ]
    },
    {
     "name": "stdout",
     "output_type": "stream",
     "text": [
      "Temperature\n",
      "Fuel_Price\n",
      "CPI\n",
      "Unemployment\n",
      "Size\n"
     ]
    },
    {
     "name": "stderr",
     "output_type": "stream",
     "text": [
      "INFO:prophet:Making 1 forecasts with cutoffs between 2012-02-03 00:00:00 and 2012-02-03 00:00:00\n",
      "INFO:prophet:Applying in parallel with <concurrent.futures.process.ProcessPoolExecutor object at 0x000002B81C989F08>\n",
      "INFO:prophet:Disabling weekly seasonality. Run prophet with weekly_seasonality=True to override this.\n",
      "INFO:prophet:Disabling daily seasonality. Run prophet with daily_seasonality=True to override this.\n"
     ]
    },
    {
     "name": "stdout",
     "output_type": "stream",
     "text": [
      "Temperature\n",
      "Fuel_Price\n",
      "CPI\n",
      "Unemployment\n",
      "Size\n"
     ]
    },
    {
     "name": "stderr",
     "output_type": "stream",
     "text": [
      "WARNING:prophet.models:Optimization terminated abnormally. Falling back to Newton.\n",
      "INFO:prophet:Making 1 forecasts with cutoffs between 2012-02-03 00:00:00 and 2012-02-03 00:00:00\n",
      "INFO:prophet:Applying in parallel with <concurrent.futures.process.ProcessPoolExecutor object at 0x000002B81C973548>\n",
      "INFO:prophet:Disabling weekly seasonality. Run prophet with weekly_seasonality=True to override this.\n",
      "INFO:prophet:Disabling daily seasonality. Run prophet with daily_seasonality=True to override this.\n",
      "WARNING:prophet.models:Optimization terminated abnormally. Falling back to Newton.\n"
     ]
    },
    {
     "name": "stdout",
     "output_type": "stream",
     "text": [
      "Temperature\n",
      "Fuel_Price\n",
      "CPI\n",
      "Unemployment\n",
      "Size\n"
     ]
    },
    {
     "name": "stderr",
     "output_type": "stream",
     "text": [
      "INFO:prophet:Making 1 forecasts with cutoffs between 2012-02-03 00:00:00 and 2012-02-03 00:00:00\n",
      "INFO:prophet:Applying in parallel with <concurrent.futures.process.ProcessPoolExecutor object at 0x000002B81C98D408>\n",
      "INFO:prophet:Disabling weekly seasonality. Run prophet with weekly_seasonality=True to override this.\n",
      "INFO:prophet:Disabling daily seasonality. Run prophet with daily_seasonality=True to override this.\n"
     ]
    },
    {
     "name": "stdout",
     "output_type": "stream",
     "text": [
      "Temperature\n",
      "Fuel_Price\n",
      "CPI\n",
      "Unemployment\n",
      "Size\n"
     ]
    },
    {
     "name": "stderr",
     "output_type": "stream",
     "text": [
      "WARNING:prophet.models:Optimization terminated abnormally. Falling back to Newton.\n",
      "INFO:prophet:Making 1 forecasts with cutoffs between 2012-02-03 00:00:00 and 2012-02-03 00:00:00\n",
      "INFO:prophet:Applying in parallel with <concurrent.futures.process.ProcessPoolExecutor object at 0x000002B81C994288>\n",
      "INFO:prophet:Disabling weekly seasonality. Run prophet with weekly_seasonality=True to override this.\n",
      "INFO:prophet:Disabling daily seasonality. Run prophet with daily_seasonality=True to override this.\n"
     ]
    },
    {
     "name": "stdout",
     "output_type": "stream",
     "text": [
      "Temperature\n",
      "Fuel_Price\n",
      "CPI\n",
      "Unemployment\n",
      "Size\n"
     ]
    },
    {
     "name": "stderr",
     "output_type": "stream",
     "text": [
      "WARNING:prophet.models:Optimization terminated abnormally. Falling back to Newton.\n",
      "INFO:prophet:Making 1 forecasts with cutoffs between 2012-02-03 00:00:00 and 2012-02-03 00:00:00\n",
      "INFO:prophet:Applying in parallel with <concurrent.futures.process.ProcessPoolExecutor object at 0x000002B81C970D48>\n",
      "INFO:prophet:Disabling weekly seasonality. Run prophet with weekly_seasonality=True to override this.\n",
      "INFO:prophet:Disabling daily seasonality. Run prophet with daily_seasonality=True to override this.\n"
     ]
    },
    {
     "name": "stdout",
     "output_type": "stream",
     "text": [
      "Temperature\n",
      "Fuel_Price\n",
      "CPI\n",
      "Unemployment\n",
      "Size\n"
     ]
    },
    {
     "name": "stderr",
     "output_type": "stream",
     "text": [
      "WARNING:prophet.models:Optimization terminated abnormally. Falling back to Newton.\n",
      "INFO:prophet:Making 1 forecasts with cutoffs between 2012-02-03 00:00:00 and 2012-02-03 00:00:00\n",
      "INFO:prophet:Applying in parallel with <concurrent.futures.process.ProcessPoolExecutor object at 0x000002B81C991588>\n",
      "INFO:prophet:Disabling weekly seasonality. Run prophet with weekly_seasonality=True to override this.\n",
      "INFO:prophet:Disabling daily seasonality. Run prophet with daily_seasonality=True to override this.\n"
     ]
    },
    {
     "name": "stdout",
     "output_type": "stream",
     "text": [
      "Temperature\n",
      "Fuel_Price\n",
      "CPI\n",
      "Unemployment\n",
      "Size\n"
     ]
    }
   ],
   "source": [
    "# # Generate all combinations of parameters\n",
    "# all_params = [dict(zip(param_grid.keys(), v)) for v in itertools.product(*param_grid.values())]\n",
    "\n",
    "\n",
    "# # Use cross validation to evaluate all parameters\n",
    "# for params in all_params:\n",
    "#     m = Prophet(**params).fit(df)  # Fit model with given params\n",
    "#     df_cv = cross_validation(m, cutoffs=cutoffs, horizon='20 weeks', parallel=\"processes\")\n",
    "#     df_p = performance_metrics(df_cv, rolling_window=1)\n",
    "#     rmses.append(df_p['rmse'].values[0])\n",
    "\n",
    "# # Find the best parameters\n",
    "# tuning_results = pd.DataFrame(all_params)\n",
    "# tuning_results['rmse'] = rmses\n",
    "# print(tuning_results)\n",
    "\n",
    "\n",
    "# Using scikit-learn ParameterGrid\n",
    "# Use cross validation to evaluate all parameters\n",
    "for params in grid:\n",
    "    m = Prophet(**params) # model with given params\n",
    "    m.add_country_holidays(country_name=\"US\")\n",
    "\n",
    "    for col in df.drop([\"ds\", \"y\"] + group, axis=1).columns:\n",
    "        print(col)\n",
    "        m.add_regressor(name=col, standardize='auto', mode='additive')\n",
    "    \n",
    "    m.fit(df)  # Fit \n",
    "    df_cv = cross_validation(m, initial=\"700 days\", horizon='70 days', parallel=\"processes\")\n",
    "    df_p = performance_metrics(df_cv, rolling_window=1)\n",
    "    rmses.append(df_p['rmse'].values[0])\n"
   ]
  },
  {
   "cell_type": "code",
   "execution_count": null,
   "metadata": {},
   "outputs": [],
   "source": [
    "tuning_results = pd.DataFrame(grid)"
   ]
  },
  {
   "cell_type": "code",
   "execution_count": null,
   "metadata": {},
   "outputs": [],
   "source": [
    "# Find the best parameters\n",
    "tuning_results = pd.DataFrame(grid)\n",
    "tuning_results['rmse'] = rmses\n",
    "print(tuning_results)"
   ]
  },
  {
   "cell_type": "code",
   "execution_count": null,
   "metadata": {},
   "outputs": [],
   "source": [
    "tuning_results.to_csv(\"output.csv\")"
   ]
  },
  {
   "cell_type": "code",
   "execution_count": null,
   "metadata": {},
   "outputs": [],
   "source": [
    "best_params = grid[np.argmin(rmses)]\n",
    "print(best_params)"
   ]
  },
  {
   "cell_type": "markdown",
   "metadata": {},
   "source": [
    "## Prophet training"
   ]
  },
  {
   "cell_type": "code",
   "execution_count": 123,
   "metadata": {},
   "outputs": [],
   "source": [
    "from prophet import Prophet\n",
    "from prophet.diagnostics import cross_validation\n",
    "from prophet.diagnostics import performance_metrics\n",
    "from prophet.plot import plot_cross_validation_metric"
   ]
  },
  {
   "cell_type": "code",
   "execution_count": 76,
   "metadata": {},
   "outputs": [],
   "source": [
    "target = \"Weekly_Sales\"\n",
    "time = \"Date\"\n",
    "group = [\"Region\"]\n",
    "\n",
    "# Time & Target column\n",
    "train = train.rename(columns = {time: \"ds\", target:\"y\"})\n",
    "test = test.rename(columns = {time: \"ds\", target:\"y\"})"
   ]
  },
  {
   "cell_type": "code",
   "execution_count": 110,
   "metadata": {},
   "outputs": [],
   "source": [
    "model = Prophet(\n",
    "    growth=\"linear\",\n",
    "    changepoint_range=0.69,\n",
    "    holidays_prior_scale=0.25, changepoint_prior_scale=0.05, \n",
    "    seasonality_mode = \"additive\", seasonality_prior_scale= 30,\n",
    "    yearly_seasonality=\"auto\",\n",
    "    weekly_seasonality=\"auto\",\n",
    "    daily_seasonality=\"auto\",\n",
    ")"
   ]
  },
  {
   "cell_type": "code",
   "execution_count": 111,
   "metadata": {},
   "outputs": [
    {
     "name": "stdout",
     "output_type": "stream",
     "text": [
      "Temperature\n",
      "Fuel_Price\n",
      "CPI\n",
      "Unemployment\n",
      "Size\n"
     ]
    }
   ],
   "source": [
    "model.add_country_holidays(country_name=\"US\")\n",
    "\n",
    "for col in train.drop([\"ds\", \"y\"] + group, axis=1).columns:\n",
    "    print(col)\n",
    "    model.add_regressor(name=col, standardize='auto', mode='additive')"
   ]
  },
  {
   "cell_type": "code",
   "execution_count": 112,
   "metadata": {},
   "outputs": [
    {
     "data": {
      "text/plain": [
       "OrderedDict([('Temperature',\n",
       "              {'prior_scale': 0.25,\n",
       "               'standardize': 'auto',\n",
       "               'mu': 0.0,\n",
       "               'std': 1.0,\n",
       "               'mode': 'additive'}),\n",
       "             ('Fuel_Price',\n",
       "              {'prior_scale': 0.25,\n",
       "               'standardize': 'auto',\n",
       "               'mu': 0.0,\n",
       "               'std': 1.0,\n",
       "               'mode': 'additive'}),\n",
       "             ('CPI',\n",
       "              {'prior_scale': 0.25,\n",
       "               'standardize': 'auto',\n",
       "               'mu': 0.0,\n",
       "               'std': 1.0,\n",
       "               'mode': 'additive'}),\n",
       "             ('Unemployment',\n",
       "              {'prior_scale': 0.25,\n",
       "               'standardize': 'auto',\n",
       "               'mu': 0.0,\n",
       "               'std': 1.0,\n",
       "               'mode': 'additive'}),\n",
       "             ('Size',\n",
       "              {'prior_scale': 0.25,\n",
       "               'standardize': 'auto',\n",
       "               'mu': 0.0,\n",
       "               'std': 1.0,\n",
       "               'mode': 'additive'})])"
      ]
     },
     "execution_count": 112,
     "metadata": {},
     "output_type": "execute_result"
    }
   ],
   "source": [
    "model.extra_regressors"
   ]
  },
  {
   "cell_type": "code",
   "execution_count": 113,
   "metadata": {},
   "outputs": [
    {
     "name": "stderr",
     "output_type": "stream",
     "text": [
      "INFO:prophet:Disabling weekly seasonality. Run prophet with weekly_seasonality=True to override this.\n",
      "INFO:prophet:Disabling daily seasonality. Run prophet with daily_seasonality=True to override this.\n",
      "WARNING:prophet.models:Optimization terminated abnormally. Falling back to Newton.\n"
     ]
    },
    {
     "data": {
      "text/plain": [
       "<prophet.forecaster.Prophet at 0x2b81b9ece48>"
      ]
     },
     "execution_count": 113,
     "metadata": {},
     "output_type": "execute_result"
    }
   ],
   "source": [
    "model.fit(train[train[\"Region\"]==1])"
   ]
  },
  {
   "cell_type": "code",
   "execution_count": 114,
   "metadata": {},
   "outputs": [
    {
     "data": {
      "text/html": [
       "<div>\n",
       "<style scoped>\n",
       "    .dataframe tbody tr th:only-of-type {\n",
       "        vertical-align: middle;\n",
       "    }\n",
       "\n",
       "    .dataframe tbody tr th {\n",
       "        vertical-align: top;\n",
       "    }\n",
       "\n",
       "    .dataframe thead th {\n",
       "        text-align: right;\n",
       "    }\n",
       "</style>\n",
       "<table border=\"1\" class=\"dataframe\">\n",
       "  <thead>\n",
       "    <tr style=\"text-align: right;\">\n",
       "      <th></th>\n",
       "      <th>Region</th>\n",
       "      <th>ds</th>\n",
       "      <th>y</th>\n",
       "      <th>Temperature</th>\n",
       "      <th>Fuel_Price</th>\n",
       "      <th>CPI</th>\n",
       "      <th>Unemployment</th>\n",
       "      <th>Size</th>\n",
       "    </tr>\n",
       "  </thead>\n",
       "  <tbody>\n",
       "    <tr>\n",
       "      <th>115</th>\n",
       "      <td>1</td>\n",
       "      <td>2012-04-20</td>\n",
       "      <td>1521577.87</td>\n",
       "      <td>66.76</td>\n",
       "      <td>3.877</td>\n",
       "      <td>221.564074</td>\n",
       "      <td>7.143</td>\n",
       "      <td>151315</td>\n",
       "    </tr>\n",
       "    <tr>\n",
       "      <th>116</th>\n",
       "      <td>1</td>\n",
       "      <td>2012-04-27</td>\n",
       "      <td>1468928.37</td>\n",
       "      <td>67.23</td>\n",
       "      <td>3.814</td>\n",
       "      <td>221.617937</td>\n",
       "      <td>7.143</td>\n",
       "      <td>151315</td>\n",
       "    </tr>\n",
       "    <tr>\n",
       "      <th>117</th>\n",
       "      <td>1</td>\n",
       "      <td>2012-05-04</td>\n",
       "      <td>1684519.99</td>\n",
       "      <td>75.55</td>\n",
       "      <td>3.749</td>\n",
       "      <td>221.671800</td>\n",
       "      <td>7.143</td>\n",
       "      <td>151315</td>\n",
       "    </tr>\n",
       "    <tr>\n",
       "      <th>118</th>\n",
       "      <td>1</td>\n",
       "      <td>2012-05-11</td>\n",
       "      <td>1611096.05</td>\n",
       "      <td>73.77</td>\n",
       "      <td>3.688</td>\n",
       "      <td>221.725663</td>\n",
       "      <td>7.143</td>\n",
       "      <td>151315</td>\n",
       "    </tr>\n",
       "    <tr>\n",
       "      <th>119</th>\n",
       "      <td>1</td>\n",
       "      <td>2012-05-18</td>\n",
       "      <td>1595901.87</td>\n",
       "      <td>70.33</td>\n",
       "      <td>3.630</td>\n",
       "      <td>221.742674</td>\n",
       "      <td>7.143</td>\n",
       "      <td>151315</td>\n",
       "    </tr>\n",
       "    <tr>\n",
       "      <th>...</th>\n",
       "      <td>...</td>\n",
       "      <td>...</td>\n",
       "      <td>...</td>\n",
       "      <td>...</td>\n",
       "      <td>...</td>\n",
       "      <td>...</td>\n",
       "      <td>...</td>\n",
       "      <td>...</td>\n",
       "    </tr>\n",
       "    <tr>\n",
       "      <th>1711</th>\n",
       "      <td>12</td>\n",
       "      <td>2012-09-28</td>\n",
       "      <td>880415.67</td>\n",
       "      <td>81.22</td>\n",
       "      <td>3.966</td>\n",
       "      <td>131.043000</td>\n",
       "      <td>10.926</td>\n",
       "      <td>112238</td>\n",
       "    </tr>\n",
       "    <tr>\n",
       "      <th>1712</th>\n",
       "      <td>12</td>\n",
       "      <td>2012-10-05</td>\n",
       "      <td>979825.92</td>\n",
       "      <td>81.61</td>\n",
       "      <td>3.966</td>\n",
       "      <td>131.075667</td>\n",
       "      <td>10.199</td>\n",
       "      <td>112238</td>\n",
       "    </tr>\n",
       "    <tr>\n",
       "      <th>1713</th>\n",
       "      <td>12</td>\n",
       "      <td>2012-10-12</td>\n",
       "      <td>934917.47</td>\n",
       "      <td>71.74</td>\n",
       "      <td>4.468</td>\n",
       "      <td>131.108333</td>\n",
       "      <td>10.199</td>\n",
       "      <td>112238</td>\n",
       "    </tr>\n",
       "    <tr>\n",
       "      <th>1714</th>\n",
       "      <td>12</td>\n",
       "      <td>2012-10-19</td>\n",
       "      <td>960945.43</td>\n",
       "      <td>68.66</td>\n",
       "      <td>4.449</td>\n",
       "      <td>131.149968</td>\n",
       "      <td>10.199</td>\n",
       "      <td>112238</td>\n",
       "    </tr>\n",
       "    <tr>\n",
       "      <th>1715</th>\n",
       "      <td>12</td>\n",
       "      <td>2012-10-26</td>\n",
       "      <td>974697.60</td>\n",
       "      <td>65.95</td>\n",
       "      <td>4.301</td>\n",
       "      <td>131.193097</td>\n",
       "      <td>10.199</td>\n",
       "      <td>112238</td>\n",
       "    </tr>\n",
       "  </tbody>\n",
       "</table>\n",
       "<p>336 rows × 8 columns</p>\n",
       "</div>"
      ],
      "text/plain": [
       "      Region         ds           y  Temperature  Fuel_Price         CPI  \\\n",
       "115        1 2012-04-20  1521577.87        66.76       3.877  221.564074   \n",
       "116        1 2012-04-27  1468928.37        67.23       3.814  221.617937   \n",
       "117        1 2012-05-04  1684519.99        75.55       3.749  221.671800   \n",
       "118        1 2012-05-11  1611096.05        73.77       3.688  221.725663   \n",
       "119        1 2012-05-18  1595901.87        70.33       3.630  221.742674   \n",
       "...      ...        ...         ...          ...         ...         ...   \n",
       "1711      12 2012-09-28   880415.67        81.22       3.966  131.043000   \n",
       "1712      12 2012-10-05   979825.92        81.61       3.966  131.075667   \n",
       "1713      12 2012-10-12   934917.47        71.74       4.468  131.108333   \n",
       "1714      12 2012-10-19   960945.43        68.66       4.449  131.149968   \n",
       "1715      12 2012-10-26   974697.60        65.95       4.301  131.193097   \n",
       "\n",
       "      Unemployment    Size  \n",
       "115          7.143  151315  \n",
       "116          7.143  151315  \n",
       "117          7.143  151315  \n",
       "118          7.143  151315  \n",
       "119          7.143  151315  \n",
       "...            ...     ...  \n",
       "1711        10.926  112238  \n",
       "1712        10.199  112238  \n",
       "1713        10.199  112238  \n",
       "1714        10.199  112238  \n",
       "1715        10.199  112238  \n",
       "\n",
       "[336 rows x 8 columns]"
      ]
     },
     "execution_count": 114,
     "metadata": {},
     "output_type": "execute_result"
    }
   ],
   "source": [
    "test"
   ]
  },
  {
   "cell_type": "code",
   "execution_count": 115,
   "metadata": {},
   "outputs": [],
   "source": [
    "# Predicting with model\n",
    "result = []\n",
    "\n",
    "forecast = model.predict(df=test.drop([\"y\"], axis=1))\n",
    "\n"
   ]
  },
  {
   "cell_type": "code",
   "execution_count": 143,
   "metadata": {},
   "outputs": [
    {
     "data": {
      "text/plain": [
       "28"
      ]
     },
     "execution_count": 143,
     "metadata": {},
     "output_type": "execute_result"
    }
   ],
   "source": [
    "len(test[test[\"Region\"]==1])"
   ]
  },
  {
   "cell_type": "code",
   "execution_count": 149,
   "metadata": {},
   "outputs": [
    {
     "data": {
      "text/html": [
       "<div>\n",
       "<style scoped>\n",
       "    .dataframe tbody tr th:only-of-type {\n",
       "        vertical-align: middle;\n",
       "    }\n",
       "\n",
       "    .dataframe tbody tr th {\n",
       "        vertical-align: top;\n",
       "    }\n",
       "\n",
       "    .dataframe thead th {\n",
       "        text-align: right;\n",
       "    }\n",
       "</style>\n",
       "<table border=\"1\" class=\"dataframe\">\n",
       "  <thead>\n",
       "    <tr style=\"text-align: right;\">\n",
       "      <th></th>\n",
       "      <th>ds</th>\n",
       "    </tr>\n",
       "  </thead>\n",
       "  <tbody>\n",
       "    <tr>\n",
       "      <th>0</th>\n",
       "      <td>2010-02-05</td>\n",
       "    </tr>\n",
       "    <tr>\n",
       "      <th>1</th>\n",
       "      <td>2010-02-12</td>\n",
       "    </tr>\n",
       "    <tr>\n",
       "      <th>2</th>\n",
       "      <td>2010-02-19</td>\n",
       "    </tr>\n",
       "    <tr>\n",
       "      <th>3</th>\n",
       "      <td>2010-02-26</td>\n",
       "    </tr>\n",
       "    <tr>\n",
       "      <th>4</th>\n",
       "      <td>2010-03-05</td>\n",
       "    </tr>\n",
       "    <tr>\n",
       "      <th>...</th>\n",
       "      <td>...</td>\n",
       "    </tr>\n",
       "    <tr>\n",
       "      <th>138</th>\n",
       "      <td>2012-05-07</td>\n",
       "    </tr>\n",
       "    <tr>\n",
       "      <th>139</th>\n",
       "      <td>2012-05-08</td>\n",
       "    </tr>\n",
       "    <tr>\n",
       "      <th>140</th>\n",
       "      <td>2012-05-09</td>\n",
       "    </tr>\n",
       "    <tr>\n",
       "      <th>141</th>\n",
       "      <td>2012-05-10</td>\n",
       "    </tr>\n",
       "    <tr>\n",
       "      <th>142</th>\n",
       "      <td>2012-05-11</td>\n",
       "    </tr>\n",
       "  </tbody>\n",
       "</table>\n",
       "<p>143 rows × 1 columns</p>\n",
       "</div>"
      ],
      "text/plain": [
       "            ds\n",
       "0   2010-02-05\n",
       "1   2010-02-12\n",
       "2   2010-02-19\n",
       "3   2010-02-26\n",
       "4   2010-03-05\n",
       "..         ...\n",
       "138 2012-05-07\n",
       "139 2012-05-08\n",
       "140 2012-05-09\n",
       "141 2012-05-10\n",
       "142 2012-05-11\n",
       "\n",
       "[143 rows x 1 columns]"
      ]
     },
     "execution_count": 149,
     "metadata": {},
     "output_type": "execute_result"
    }
   ],
   "source": [
    "forecast2 = model.make_future_dataframe(periods=len(test[test[\"Region\"]==1]))\n",
    "# forecast2 = model.predict(forecast2)\n",
    "forecast2"
   ]
  },
  {
   "cell_type": "code",
   "execution_count": 116,
   "metadata": {},
   "outputs": [
    {
     "data": {
      "text/html": [
       "<div>\n",
       "<style scoped>\n",
       "    .dataframe tbody tr th:only-of-type {\n",
       "        vertical-align: middle;\n",
       "    }\n",
       "\n",
       "    .dataframe tbody tr th {\n",
       "        vertical-align: top;\n",
       "    }\n",
       "\n",
       "    .dataframe thead th {\n",
       "        text-align: right;\n",
       "    }\n",
       "</style>\n",
       "<table border=\"1\" class=\"dataframe\">\n",
       "  <thead>\n",
       "    <tr style=\"text-align: right;\">\n",
       "      <th></th>\n",
       "      <th>ds</th>\n",
       "      <th>trend</th>\n",
       "      <th>yhat_lower</th>\n",
       "      <th>yhat_upper</th>\n",
       "      <th>trend_lower</th>\n",
       "      <th>trend_upper</th>\n",
       "      <th>CPI</th>\n",
       "      <th>CPI_lower</th>\n",
       "      <th>CPI_upper</th>\n",
       "      <th>Christmas Day</th>\n",
       "      <th>...</th>\n",
       "      <th>holidays</th>\n",
       "      <th>holidays_lower</th>\n",
       "      <th>holidays_upper</th>\n",
       "      <th>yearly</th>\n",
       "      <th>yearly_lower</th>\n",
       "      <th>yearly_upper</th>\n",
       "      <th>multiplicative_terms</th>\n",
       "      <th>multiplicative_terms_lower</th>\n",
       "      <th>multiplicative_terms_upper</th>\n",
       "      <th>yhat</th>\n",
       "    </tr>\n",
       "  </thead>\n",
       "  <tbody>\n",
       "    <tr>\n",
       "      <th>0</th>\n",
       "      <td>2012-04-20</td>\n",
       "      <td>-1.762261e+06</td>\n",
       "      <td>1.527175e+06</td>\n",
       "      <td>1.779576e+06</td>\n",
       "      <td>-1.762261e+06</td>\n",
       "      <td>-1.762261e+06</td>\n",
       "      <td>1.044913e+05</td>\n",
       "      <td>1.044913e+05</td>\n",
       "      <td>1.044913e+05</td>\n",
       "      <td>0.0</td>\n",
       "      <td>...</td>\n",
       "      <td>0.0</td>\n",
       "      <td>0.0</td>\n",
       "      <td>0.0</td>\n",
       "      <td>-33963.593264</td>\n",
       "      <td>-33963.593264</td>\n",
       "      <td>-33963.593264</td>\n",
       "      <td>0.0</td>\n",
       "      <td>0.0</td>\n",
       "      <td>0.0</td>\n",
       "      <td>1.651929e+06</td>\n",
       "    </tr>\n",
       "    <tr>\n",
       "      <th>1</th>\n",
       "      <td>2012-04-20</td>\n",
       "      <td>-1.762261e+06</td>\n",
       "      <td>-6.841751e+05</td>\n",
       "      <td>-4.433216e+05</td>\n",
       "      <td>-1.762261e+06</td>\n",
       "      <td>-1.762261e+06</td>\n",
       "      <td>-2.476302e+05</td>\n",
       "      <td>-2.476302e+05</td>\n",
       "      <td>-2.476302e+05</td>\n",
       "      <td>0.0</td>\n",
       "      <td>...</td>\n",
       "      <td>0.0</td>\n",
       "      <td>0.0</td>\n",
       "      <td>0.0</td>\n",
       "      <td>-33963.593264</td>\n",
       "      <td>-33963.593264</td>\n",
       "      <td>-33963.593264</td>\n",
       "      <td>0.0</td>\n",
       "      <td>0.0</td>\n",
       "      <td>0.0</td>\n",
       "      <td>-5.636628e+05</td>\n",
       "    </tr>\n",
       "    <tr>\n",
       "      <th>2</th>\n",
       "      <td>2012-04-20</td>\n",
       "      <td>-1.762261e+06</td>\n",
       "      <td>2.793337e+06</td>\n",
       "      <td>3.042680e+06</td>\n",
       "      <td>-1.762261e+06</td>\n",
       "      <td>-1.762261e+06</td>\n",
       "      <td>1.282234e+05</td>\n",
       "      <td>1.282234e+05</td>\n",
       "      <td>1.282234e+05</td>\n",
       "      <td>0.0</td>\n",
       "      <td>...</td>\n",
       "      <td>0.0</td>\n",
       "      <td>0.0</td>\n",
       "      <td>0.0</td>\n",
       "      <td>-33963.593264</td>\n",
       "      <td>-33963.593264</td>\n",
       "      <td>-33963.593264</td>\n",
       "      <td>0.0</td>\n",
       "      <td>0.0</td>\n",
       "      <td>0.0</td>\n",
       "      <td>2.910563e+06</td>\n",
       "    </tr>\n",
       "    <tr>\n",
       "      <th>3</th>\n",
       "      <td>2012-04-20</td>\n",
       "      <td>-1.762261e+06</td>\n",
       "      <td>1.233992e+06</td>\n",
       "      <td>1.478079e+06</td>\n",
       "      <td>-1.762261e+06</td>\n",
       "      <td>-1.762261e+06</td>\n",
       "      <td>1.598421e+05</td>\n",
       "      <td>1.598421e+05</td>\n",
       "      <td>1.598421e+05</td>\n",
       "      <td>0.0</td>\n",
       "      <td>...</td>\n",
       "      <td>0.0</td>\n",
       "      <td>0.0</td>\n",
       "      <td>0.0</td>\n",
       "      <td>-33963.593264</td>\n",
       "      <td>-33963.593264</td>\n",
       "      <td>-33963.593264</td>\n",
       "      <td>0.0</td>\n",
       "      <td>0.0</td>\n",
       "      <td>0.0</td>\n",
       "      <td>1.352026e+06</td>\n",
       "    </tr>\n",
       "    <tr>\n",
       "      <th>4</th>\n",
       "      <td>2012-04-20</td>\n",
       "      <td>-1.762261e+06</td>\n",
       "      <td>-7.932685e+05</td>\n",
       "      <td>-5.511113e+05</td>\n",
       "      <td>-1.762261e+06</td>\n",
       "      <td>-1.762261e+06</td>\n",
       "      <td>1.131632e+05</td>\n",
       "      <td>1.131632e+05</td>\n",
       "      <td>1.131632e+05</td>\n",
       "      <td>0.0</td>\n",
       "      <td>...</td>\n",
       "      <td>0.0</td>\n",
       "      <td>0.0</td>\n",
       "      <td>0.0</td>\n",
       "      <td>-33963.593264</td>\n",
       "      <td>-33963.593264</td>\n",
       "      <td>-33963.593264</td>\n",
       "      <td>0.0</td>\n",
       "      <td>0.0</td>\n",
       "      <td>0.0</td>\n",
       "      <td>-6.709371e+05</td>\n",
       "    </tr>\n",
       "    <tr>\n",
       "      <th>...</th>\n",
       "      <td>...</td>\n",
       "      <td>...</td>\n",
       "      <td>...</td>\n",
       "      <td>...</td>\n",
       "      <td>...</td>\n",
       "      <td>...</td>\n",
       "      <td>...</td>\n",
       "      <td>...</td>\n",
       "      <td>...</td>\n",
       "      <td>...</td>\n",
       "      <td>...</td>\n",
       "      <td>...</td>\n",
       "      <td>...</td>\n",
       "      <td>...</td>\n",
       "      <td>...</td>\n",
       "      <td>...</td>\n",
       "      <td>...</td>\n",
       "      <td>...</td>\n",
       "      <td>...</td>\n",
       "      <td>...</td>\n",
       "      <td>...</td>\n",
       "    </tr>\n",
       "    <tr>\n",
       "      <th>331</th>\n",
       "      <td>2012-10-26</td>\n",
       "      <td>-1.796937e+06</td>\n",
       "      <td>-7.940397e+05</td>\n",
       "      <td>-5.430286e+05</td>\n",
       "      <td>-1.796941e+06</td>\n",
       "      <td>-1.796933e+06</td>\n",
       "      <td>1.845898e+05</td>\n",
       "      <td>1.845898e+05</td>\n",
       "      <td>1.845898e+05</td>\n",
       "      <td>0.0</td>\n",
       "      <td>...</td>\n",
       "      <td>0.0</td>\n",
       "      <td>0.0</td>\n",
       "      <td>0.0</td>\n",
       "      <td>-76104.346575</td>\n",
       "      <td>-76104.346575</td>\n",
       "      <td>-76104.346575</td>\n",
       "      <td>0.0</td>\n",
       "      <td>0.0</td>\n",
       "      <td>0.0</td>\n",
       "      <td>-6.586160e+05</td>\n",
       "    </tr>\n",
       "    <tr>\n",
       "      <th>332</th>\n",
       "      <td>2012-10-26</td>\n",
       "      <td>-1.796937e+06</td>\n",
       "      <td>2.668166e+06</td>\n",
       "      <td>2.911797e+06</td>\n",
       "      <td>-1.796941e+06</td>\n",
       "      <td>-1.796933e+06</td>\n",
       "      <td>1.268560e+05</td>\n",
       "      <td>1.268560e+05</td>\n",
       "      <td>1.268560e+05</td>\n",
       "      <td>0.0</td>\n",
       "      <td>...</td>\n",
       "      <td>0.0</td>\n",
       "      <td>0.0</td>\n",
       "      <td>0.0</td>\n",
       "      <td>-76104.346575</td>\n",
       "      <td>-76104.346575</td>\n",
       "      <td>-76104.346575</td>\n",
       "      <td>0.0</td>\n",
       "      <td>0.0</td>\n",
       "      <td>0.0</td>\n",
       "      <td>2.788039e+06</td>\n",
       "    </tr>\n",
       "    <tr>\n",
       "      <th>333</th>\n",
       "      <td>2012-10-26</td>\n",
       "      <td>-1.796937e+06</td>\n",
       "      <td>1.525701e+06</td>\n",
       "      <td>1.779261e+06</td>\n",
       "      <td>-1.796941e+06</td>\n",
       "      <td>-1.796933e+06</td>\n",
       "      <td>1.322603e+05</td>\n",
       "      <td>1.322603e+05</td>\n",
       "      <td>1.322603e+05</td>\n",
       "      <td>0.0</td>\n",
       "      <td>...</td>\n",
       "      <td>0.0</td>\n",
       "      <td>0.0</td>\n",
       "      <td>0.0</td>\n",
       "      <td>-76104.346575</td>\n",
       "      <td>-76104.346575</td>\n",
       "      <td>-76104.346575</td>\n",
       "      <td>0.0</td>\n",
       "      <td>0.0</td>\n",
       "      <td>0.0</td>\n",
       "      <td>1.655217e+06</td>\n",
       "    </tr>\n",
       "    <tr>\n",
       "      <th>334</th>\n",
       "      <td>2012-10-26</td>\n",
       "      <td>-1.796937e+06</td>\n",
       "      <td>2.856832e+06</td>\n",
       "      <td>3.106393e+06</td>\n",
       "      <td>-1.796941e+06</td>\n",
       "      <td>-1.796933e+06</td>\n",
       "      <td>1.845898e+05</td>\n",
       "      <td>1.845898e+05</td>\n",
       "      <td>1.845898e+05</td>\n",
       "      <td>0.0</td>\n",
       "      <td>...</td>\n",
       "      <td>0.0</td>\n",
       "      <td>0.0</td>\n",
       "      <td>0.0</td>\n",
       "      <td>-76104.346575</td>\n",
       "      <td>-76104.346575</td>\n",
       "      <td>-76104.346575</td>\n",
       "      <td>0.0</td>\n",
       "      <td>0.0</td>\n",
       "      <td>0.0</td>\n",
       "      <td>2.977913e+06</td>\n",
       "    </tr>\n",
       "    <tr>\n",
       "      <th>335</th>\n",
       "      <td>2012-10-26</td>\n",
       "      <td>-1.796937e+06</td>\n",
       "      <td>-1.050704e+06</td>\n",
       "      <td>-8.133883e+05</td>\n",
       "      <td>-1.796941e+06</td>\n",
       "      <td>-1.796933e+06</td>\n",
       "      <td>-1.230231e+06</td>\n",
       "      <td>-1.230231e+06</td>\n",
       "      <td>-1.230231e+06</td>\n",
       "      <td>0.0</td>\n",
       "      <td>...</td>\n",
       "      <td>0.0</td>\n",
       "      <td>0.0</td>\n",
       "      <td>0.0</td>\n",
       "      <td>-76104.346575</td>\n",
       "      <td>-76104.346575</td>\n",
       "      <td>-76104.346575</td>\n",
       "      <td>0.0</td>\n",
       "      <td>0.0</td>\n",
       "      <td>0.0</td>\n",
       "      <td>-9.346243e+05</td>\n",
       "    </tr>\n",
       "  </tbody>\n",
       "</table>\n",
       "<p>336 rows × 79 columns</p>\n",
       "</div>"
      ],
      "text/plain": [
       "            ds         trend    yhat_lower    yhat_upper   trend_lower  \\\n",
       "0   2012-04-20 -1.762261e+06  1.527175e+06  1.779576e+06 -1.762261e+06   \n",
       "1   2012-04-20 -1.762261e+06 -6.841751e+05 -4.433216e+05 -1.762261e+06   \n",
       "2   2012-04-20 -1.762261e+06  2.793337e+06  3.042680e+06 -1.762261e+06   \n",
       "3   2012-04-20 -1.762261e+06  1.233992e+06  1.478079e+06 -1.762261e+06   \n",
       "4   2012-04-20 -1.762261e+06 -7.932685e+05 -5.511113e+05 -1.762261e+06   \n",
       "..         ...           ...           ...           ...           ...   \n",
       "331 2012-10-26 -1.796937e+06 -7.940397e+05 -5.430286e+05 -1.796941e+06   \n",
       "332 2012-10-26 -1.796937e+06  2.668166e+06  2.911797e+06 -1.796941e+06   \n",
       "333 2012-10-26 -1.796937e+06  1.525701e+06  1.779261e+06 -1.796941e+06   \n",
       "334 2012-10-26 -1.796937e+06  2.856832e+06  3.106393e+06 -1.796941e+06   \n",
       "335 2012-10-26 -1.796937e+06 -1.050704e+06 -8.133883e+05 -1.796941e+06   \n",
       "\n",
       "      trend_upper           CPI     CPI_lower     CPI_upper  Christmas Day  \\\n",
       "0   -1.762261e+06  1.044913e+05  1.044913e+05  1.044913e+05            0.0   \n",
       "1   -1.762261e+06 -2.476302e+05 -2.476302e+05 -2.476302e+05            0.0   \n",
       "2   -1.762261e+06  1.282234e+05  1.282234e+05  1.282234e+05            0.0   \n",
       "3   -1.762261e+06  1.598421e+05  1.598421e+05  1.598421e+05            0.0   \n",
       "4   -1.762261e+06  1.131632e+05  1.131632e+05  1.131632e+05            0.0   \n",
       "..            ...           ...           ...           ...            ...   \n",
       "331 -1.796933e+06  1.845898e+05  1.845898e+05  1.845898e+05            0.0   \n",
       "332 -1.796933e+06  1.268560e+05  1.268560e+05  1.268560e+05            0.0   \n",
       "333 -1.796933e+06  1.322603e+05  1.322603e+05  1.322603e+05            0.0   \n",
       "334 -1.796933e+06  1.845898e+05  1.845898e+05  1.845898e+05            0.0   \n",
       "335 -1.796933e+06 -1.230231e+06 -1.230231e+06 -1.230231e+06            0.0   \n",
       "\n",
       "     ...  holidays  holidays_lower  holidays_upper        yearly  \\\n",
       "0    ...       0.0             0.0             0.0 -33963.593264   \n",
       "1    ...       0.0             0.0             0.0 -33963.593264   \n",
       "2    ...       0.0             0.0             0.0 -33963.593264   \n",
       "3    ...       0.0             0.0             0.0 -33963.593264   \n",
       "4    ...       0.0             0.0             0.0 -33963.593264   \n",
       "..   ...       ...             ...             ...           ...   \n",
       "331  ...       0.0             0.0             0.0 -76104.346575   \n",
       "332  ...       0.0             0.0             0.0 -76104.346575   \n",
       "333  ...       0.0             0.0             0.0 -76104.346575   \n",
       "334  ...       0.0             0.0             0.0 -76104.346575   \n",
       "335  ...       0.0             0.0             0.0 -76104.346575   \n",
       "\n",
       "     yearly_lower  yearly_upper  multiplicative_terms  \\\n",
       "0   -33963.593264 -33963.593264                   0.0   \n",
       "1   -33963.593264 -33963.593264                   0.0   \n",
       "2   -33963.593264 -33963.593264                   0.0   \n",
       "3   -33963.593264 -33963.593264                   0.0   \n",
       "4   -33963.593264 -33963.593264                   0.0   \n",
       "..            ...           ...                   ...   \n",
       "331 -76104.346575 -76104.346575                   0.0   \n",
       "332 -76104.346575 -76104.346575                   0.0   \n",
       "333 -76104.346575 -76104.346575                   0.0   \n",
       "334 -76104.346575 -76104.346575                   0.0   \n",
       "335 -76104.346575 -76104.346575                   0.0   \n",
       "\n",
       "     multiplicative_terms_lower  multiplicative_terms_upper          yhat  \n",
       "0                           0.0                         0.0  1.651929e+06  \n",
       "1                           0.0                         0.0 -5.636628e+05  \n",
       "2                           0.0                         0.0  2.910563e+06  \n",
       "3                           0.0                         0.0  1.352026e+06  \n",
       "4                           0.0                         0.0 -6.709371e+05  \n",
       "..                          ...                         ...           ...  \n",
       "331                         0.0                         0.0 -6.586160e+05  \n",
       "332                         0.0                         0.0  2.788039e+06  \n",
       "333                         0.0                         0.0  1.655217e+06  \n",
       "334                         0.0                         0.0  2.977913e+06  \n",
       "335                         0.0                         0.0 -9.346243e+05  \n",
       "\n",
       "[336 rows x 79 columns]"
      ]
     },
     "execution_count": 116,
     "metadata": {},
     "output_type": "execute_result"
    }
   ],
   "source": [
    "forecast"
   ]
  },
  {
   "cell_type": "markdown",
   "metadata": {},
   "source": [
    "## Evaluation"
   ]
  },
  {
   "cell_type": "code",
   "execution_count": 117,
   "metadata": {},
   "outputs": [],
   "source": [
    "from prophet.utilities import regressor_coefficients"
   ]
  },
  {
   "cell_type": "code",
   "execution_count": 118,
   "metadata": {},
   "outputs": [
    {
     "data": {
      "text/html": [
       "<div>\n",
       "<style scoped>\n",
       "    .dataframe tbody tr th:only-of-type {\n",
       "        vertical-align: middle;\n",
       "    }\n",
       "\n",
       "    .dataframe tbody tr th {\n",
       "        vertical-align: top;\n",
       "    }\n",
       "\n",
       "    .dataframe thead th {\n",
       "        text-align: right;\n",
       "    }\n",
       "</style>\n",
       "<table border=\"1\" class=\"dataframe\">\n",
       "  <thead>\n",
       "    <tr style=\"text-align: right;\">\n",
       "      <th></th>\n",
       "      <th>regressor</th>\n",
       "      <th>regressor_mode</th>\n",
       "      <th>center</th>\n",
       "      <th>coef_lower</th>\n",
       "      <th>coef</th>\n",
       "      <th>coef_upper</th>\n",
       "    </tr>\n",
       "  </thead>\n",
       "  <tbody>\n",
       "    <tr>\n",
       "      <th>0</th>\n",
       "      <td>Temperature</td>\n",
       "      <td>additive</td>\n",
       "      <td>66.336174</td>\n",
       "      <td>1160.064367</td>\n",
       "      <td>1160.064367</td>\n",
       "      <td>1160.064367</td>\n",
       "    </tr>\n",
       "    <tr>\n",
       "      <th>1</th>\n",
       "      <td>Fuel_Price</td>\n",
       "      <td>additive</td>\n",
       "      <td>3.139365</td>\n",
       "      <td>46593.754510</td>\n",
       "      <td>46593.754510</td>\n",
       "      <td>46593.754510</td>\n",
       "    </tr>\n",
       "    <tr>\n",
       "      <th>2</th>\n",
       "      <td>CPI</td>\n",
       "      <td>additive</td>\n",
       "      <td>214.489211</td>\n",
       "      <td>14769.369114</td>\n",
       "      <td>14769.369114</td>\n",
       "      <td>14769.369114</td>\n",
       "    </tr>\n",
       "    <tr>\n",
       "      <th>3</th>\n",
       "      <td>Unemployment</td>\n",
       "      <td>additive</td>\n",
       "      <td>7.770617</td>\n",
       "      <td>-117257.932386</td>\n",
       "      <td>-117257.932386</td>\n",
       "      <td>-117257.932386</td>\n",
       "    </tr>\n",
       "    <tr>\n",
       "      <th>4</th>\n",
       "      <td>Size</td>\n",
       "      <td>additive</td>\n",
       "      <td>0.000000</td>\n",
       "      <td>21.380623</td>\n",
       "      <td>21.380623</td>\n",
       "      <td>21.380623</td>\n",
       "    </tr>\n",
       "  </tbody>\n",
       "</table>\n",
       "</div>"
      ],
      "text/plain": [
       "      regressor regressor_mode      center     coef_lower           coef  \\\n",
       "0   Temperature       additive   66.336174    1160.064367    1160.064367   \n",
       "1    Fuel_Price       additive    3.139365   46593.754510   46593.754510   \n",
       "2           CPI       additive  214.489211   14769.369114   14769.369114   \n",
       "3  Unemployment       additive    7.770617 -117257.932386 -117257.932386   \n",
       "4          Size       additive    0.000000      21.380623      21.380623   \n",
       "\n",
       "      coef_upper  \n",
       "0    1160.064367  \n",
       "1   46593.754510  \n",
       "2   14769.369114  \n",
       "3 -117257.932386  \n",
       "4      21.380623  "
      ]
     },
     "execution_count": 118,
     "metadata": {},
     "output_type": "execute_result"
    }
   ],
   "source": [
    "regressor_coefficients(model)"
   ]
  },
  {
   "cell_type": "code",
   "execution_count": 119,
   "metadata": {},
   "outputs": [
    {
     "data": {
      "text/plain": [
       "array(['2010-02-05T00:00:00.000000000', '2010-02-12T00:00:00.000000000',\n",
       "       '2010-02-19T00:00:00.000000000', ...,\n",
       "       '2012-10-12T00:00:00.000000000', '2012-10-19T00:00:00.000000000',\n",
       "       '2012-10-26T00:00:00.000000000'], dtype='datetime64[ns]')"
      ]
     },
     "execution_count": 119,
     "metadata": {},
     "output_type": "execute_result"
    }
   ],
   "source": [
    "pd.concat([train[\"ds\"], test[\"ds\"]]).values"
   ]
  },
  {
   "cell_type": "code",
   "execution_count": 120,
   "metadata": {},
   "outputs": [
    {
     "data": {
      "image/png": "[encoded data removed]",
      "text/plain": [
       "<Figure size 864x432 with 1 Axes>"
      ]
     },
     "metadata": {
      "needs_background": "light"
     },
     "output_type": "display_data"
    }
   ],
   "source": [
    "plot_forecast(train[\"y\"].values, forecast[\"yhat\"], test[\"y\"], time=pd.concat([train[\"ds\"], test[\"ds\"]]).values)"
   ]
  },
  {
   "cell_type": "code",
   "execution_count": 121,
   "metadata": {},
   "outputs": [
    {
     "data": {
      "text/plain": [
       "140"
      ]
     },
     "execution_count": 121,
     "metadata": {},
     "output_type": "execute_result"
    }
   ],
   "source": [
    "forecast[\"yhat\"].apply(lambda x: x<0).sum()"
   ]
  },
  {
   "cell_type": "code",
   "execution_count": 155,
   "metadata": {},
   "outputs": [],
   "source": [
    "y_test = test[test[\"Region\"] == 1][\"y\"]"
   ]
  },
  {
   "cell_type": "code",
   "execution_count": 159,
   "metadata": {},
   "outputs": [
    {
     "name": "stdout",
     "output_type": "stream",
     "text": [
      "Mean Absolute Error: 1250128.9172542936\n",
      "Mean Squared Error: 2332430200132.075\n",
      "Root Mean Squared Error: 1527229.5833083102\n",
      "Mean Percentage Error: 33.69731461123225\n",
      "Mean Absolute Percentage Error: 79.95603768596673\n"
     ]
    }
   ],
   "source": [
    "y_test = test[test[\"Region\"] == 1][\"y\"]\n",
    "y_pred = forecast[\"yhat\"]\n",
    "\n",
    "print_evaluate_model(y_test, y_pred)"
   ]
  },
  {
   "cell_type": "code",
   "execution_count": null,
   "metadata": {},
   "outputs": [],
   "source": []
  },
  {
   "cell_type": "code",
   "execution_count": null,
   "metadata": {},
   "outputs": [],
   "source": []
  },
  {
   "cell_type": "code",
   "execution_count": null,
   "metadata": {},
   "outputs": [],
   "source": []
  },
  {
   "cell_type": "code",
   "execution_count": null,
   "metadata": {},
   "outputs": [],
   "source": []
  },
  {
   "cell_type": "code",
   "execution_count": null,
   "metadata": {},
   "outputs": [],
   "source": []
  },
  {
   "cell_type": "code",
   "execution_count": null,
   "metadata": {},
   "outputs": [],
   "source": []
  },
  {
   "cell_type": "code",
   "execution_count": null,
   "metadata": {},
   "outputs": [],
   "source": []
  },
  {
   "cell_type": "markdown",
   "metadata": {},
   "source": [
    "## Misc"
   ]
  },
  {
   "cell_type": "code",
   "execution_count": 100,
   "metadata": {},
   "outputs": [
    {
     "name": "stdout",
     "output_type": "stream",
     "text": [
      "143 101 42\n",
      "143 101 42\n",
      "143 101 42\n",
      "143 101 42\n",
      "143 101 42\n",
      "143 101 42\n",
      "143 101 42\n",
      "143 101 42\n",
      "143 101 42\n",
      "143 101 42\n",
      "143 101 42\n",
      "143 101 42\n"
     ]
    }
   ],
   "source": [
    "train, test = train_test_split_timeseries(region, split=0.3, group=\"Region\")"
   ]
  },
  {
   "cell_type": "code",
   "execution_count": 101,
   "metadata": {},
   "outputs": [
    {
     "data": {
      "text/html": [
       "<div>\n",
       "<style scoped>\n",
       "    .dataframe tbody tr th:only-of-type {\n",
       "        vertical-align: middle;\n",
       "    }\n",
       "\n",
       "    .dataframe tbody tr th {\n",
       "        vertical-align: top;\n",
       "    }\n",
       "\n",
       "    .dataframe thead th {\n",
       "        text-align: right;\n",
       "    }\n",
       "</style>\n",
       "<table border=\"1\" class=\"dataframe\">\n",
       "  <thead>\n",
       "    <tr style=\"text-align: right;\">\n",
       "      <th></th>\n",
       "      <th>Region</th>\n",
       "      <th>Date</th>\n",
       "      <th>Weekly_Sales</th>\n",
       "      <th>Temperature</th>\n",
       "      <th>Fuel_Price</th>\n",
       "      <th>CPI</th>\n",
       "      <th>Unemployment</th>\n",
       "      <th>IsHoliday</th>\n",
       "      <th>Type</th>\n",
       "      <th>Size</th>\n",
       "    </tr>\n",
       "  </thead>\n",
       "  <tbody>\n",
       "    <tr>\n",
       "      <th>0</th>\n",
       "      <td>1</td>\n",
       "      <td>2010-02-05</td>\n",
       "      <td>1643690.90</td>\n",
       "      <td>42.31</td>\n",
       "      <td>2.572</td>\n",
       "      <td>211.096358</td>\n",
       "      <td>8.106</td>\n",
       "      <td>False</td>\n",
       "      <td>A</td>\n",
       "      <td>151315</td>\n",
       "    </tr>\n",
       "    <tr>\n",
       "      <th>1</th>\n",
       "      <td>1</td>\n",
       "      <td>2010-02-12</td>\n",
       "      <td>1641957.44</td>\n",
       "      <td>38.51</td>\n",
       "      <td>2.548</td>\n",
       "      <td>211.242170</td>\n",
       "      <td>8.106</td>\n",
       "      <td>True</td>\n",
       "      <td>A</td>\n",
       "      <td>151315</td>\n",
       "    </tr>\n",
       "    <tr>\n",
       "      <th>2</th>\n",
       "      <td>1</td>\n",
       "      <td>2010-02-19</td>\n",
       "      <td>1611968.17</td>\n",
       "      <td>39.93</td>\n",
       "      <td>2.514</td>\n",
       "      <td>211.289143</td>\n",
       "      <td>8.106</td>\n",
       "      <td>False</td>\n",
       "      <td>A</td>\n",
       "      <td>151315</td>\n",
       "    </tr>\n",
       "    <tr>\n",
       "      <th>3</th>\n",
       "      <td>1</td>\n",
       "      <td>2010-02-26</td>\n",
       "      <td>1409727.59</td>\n",
       "      <td>46.63</td>\n",
       "      <td>2.561</td>\n",
       "      <td>211.319643</td>\n",
       "      <td>8.106</td>\n",
       "      <td>False</td>\n",
       "      <td>A</td>\n",
       "      <td>151315</td>\n",
       "    </tr>\n",
       "    <tr>\n",
       "      <th>4</th>\n",
       "      <td>1</td>\n",
       "      <td>2010-03-05</td>\n",
       "      <td>1554806.68</td>\n",
       "      <td>46.50</td>\n",
       "      <td>2.625</td>\n",
       "      <td>211.350143</td>\n",
       "      <td>8.106</td>\n",
       "      <td>False</td>\n",
       "      <td>A</td>\n",
       "      <td>151315</td>\n",
       "    </tr>\n",
       "    <tr>\n",
       "      <th>...</th>\n",
       "      <td>...</td>\n",
       "      <td>...</td>\n",
       "      <td>...</td>\n",
       "      <td>...</td>\n",
       "      <td>...</td>\n",
       "      <td>...</td>\n",
       "      <td>...</td>\n",
       "      <td>...</td>\n",
       "      <td>...</td>\n",
       "      <td>...</td>\n",
       "    </tr>\n",
       "    <tr>\n",
       "      <th>1669</th>\n",
       "      <td>12</td>\n",
       "      <td>2011-12-09</td>\n",
       "      <td>1189646.45</td>\n",
       "      <td>42.17</td>\n",
       "      <td>3.644</td>\n",
       "      <td>129.855533</td>\n",
       "      <td>12.890</td>\n",
       "      <td>False</td>\n",
       "      <td>B</td>\n",
       "      <td>112238</td>\n",
       "    </tr>\n",
       "    <tr>\n",
       "      <th>1670</th>\n",
       "      <td>12</td>\n",
       "      <td>2011-12-16</td>\n",
       "      <td>1293404.18</td>\n",
       "      <td>43.29</td>\n",
       "      <td>3.600</td>\n",
       "      <td>129.898065</td>\n",
       "      <td>12.890</td>\n",
       "      <td>False</td>\n",
       "      <td>B</td>\n",
       "      <td>112238</td>\n",
       "    </tr>\n",
       "    <tr>\n",
       "      <th>1671</th>\n",
       "      <td>12</td>\n",
       "      <td>2011-12-23</td>\n",
       "      <td>1617612.03</td>\n",
       "      <td>45.40</td>\n",
       "      <td>3.541</td>\n",
       "      <td>129.984548</td>\n",
       "      <td>12.890</td>\n",
       "      <td>False</td>\n",
       "      <td>B</td>\n",
       "      <td>112238</td>\n",
       "    </tr>\n",
       "    <tr>\n",
       "      <th>1672</th>\n",
       "      <td>12</td>\n",
       "      <td>2011-12-30</td>\n",
       "      <td>1111638.07</td>\n",
       "      <td>44.64</td>\n",
       "      <td>3.428</td>\n",
       "      <td>130.071032</td>\n",
       "      <td>12.890</td>\n",
       "      <td>True</td>\n",
       "      <td>B</td>\n",
       "      <td>112238</td>\n",
       "    </tr>\n",
       "    <tr>\n",
       "      <th>1673</th>\n",
       "      <td>12</td>\n",
       "      <td>2012-01-06</td>\n",
       "      <td>945823.65</td>\n",
       "      <td>50.43</td>\n",
       "      <td>3.599</td>\n",
       "      <td>130.157516</td>\n",
       "      <td>12.187</td>\n",
       "      <td>False</td>\n",
       "      <td>B</td>\n",
       "      <td>112238</td>\n",
       "    </tr>\n",
       "  </tbody>\n",
       "</table>\n",
       "<p>1212 rows × 10 columns</p>\n",
       "</div>"
      ],
      "text/plain": [
       "      Region       Date  Weekly_Sales  Temperature  Fuel_Price         CPI  \\\n",
       "0          1 2010-02-05    1643690.90        42.31       2.572  211.096358   \n",
       "1          1 2010-02-12    1641957.44        38.51       2.548  211.242170   \n",
       "2          1 2010-02-19    1611968.17        39.93       2.514  211.289143   \n",
       "3          1 2010-02-26    1409727.59        46.63       2.561  211.319643   \n",
       "4          1 2010-03-05    1554806.68        46.50       2.625  211.350143   \n",
       "...      ...        ...           ...          ...         ...         ...   \n",
       "1669      12 2011-12-09    1189646.45        42.17       3.644  129.855533   \n",
       "1670      12 2011-12-16    1293404.18        43.29       3.600  129.898065   \n",
       "1671      12 2011-12-23    1617612.03        45.40       3.541  129.984548   \n",
       "1672      12 2011-12-30    1111638.07        44.64       3.428  130.071032   \n",
       "1673      12 2012-01-06     945823.65        50.43       3.599  130.157516   \n",
       "\n",
       "      Unemployment  IsHoliday Type    Size  \n",
       "0            8.106      False    A  151315  \n",
       "1            8.106       True    A  151315  \n",
       "2            8.106      False    A  151315  \n",
       "3            8.106      False    A  151315  \n",
       "4            8.106      False    A  151315  \n",
       "...            ...        ...  ...     ...  \n",
       "1669        12.890      False    B  112238  \n",
       "1670        12.890      False    B  112238  \n",
       "1671        12.890      False    B  112238  \n",
       "1672        12.890       True    B  112238  \n",
       "1673        12.187      False    B  112238  \n",
       "\n",
       "[1212 rows x 10 columns]"
      ]
     },
     "execution_count": 101,
     "metadata": {},
     "output_type": "execute_result"
    }
   ],
   "source": [
    "train"
   ]
  },
  {
   "cell_type": "code",
   "execution_count": null,
   "metadata": {},
   "outputs": [],
   "source": []
  },
  {
   "cell_type": "code",
   "execution_count": null,
   "metadata": {},
   "outputs": [],
   "source": []
  }
 ],
 "metadata": {
  "interpreter": {
   "hash": "e26b667785f8ca5ba6997721f5ec4cff9487137f5f1e1e2f7d55c394a6833ac9"
  },
  "kernelspec": {
   "display_name": "Python 3.7.10 64-bit ('walmart2': conda)",
   "language": "python",
   "name": "python3"
  },
  "language_info": {
   "codemirror_mode": {
    "name": "ipython",
    "version": 3
   },
   "file_extension": ".py",
   "mimetype": "text/x-python",
   "name": "python",
   "nbconvert_exporter": "python",
   "pygments_lexer": "ipython3",
   "version": "3.7.10"
  },
  "orig_nbformat": 4
 },
 "nbformat": 4,
 "nbformat_minor": 2
}
