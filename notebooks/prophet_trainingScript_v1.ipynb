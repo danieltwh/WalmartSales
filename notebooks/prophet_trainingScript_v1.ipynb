{
 "cells": [
  {
   "cell_type": "code",
   "execution_count": 1,
   "metadata": {},
   "outputs": [
    {
     "name": "stderr",
     "output_type": "stream",
     "text": [
      "C:\\Users\\XA155XB\\Anaconda3\\envs\\walmart2\\lib\\site-packages\\numpy\\_distributor_init.py:32: UserWarning: loaded more than 1 DLL from .libs:\n",
      "C:\\Users\\XA155XB\\Anaconda3\\envs\\walmart2\\lib\\site-packages\\numpy\\.libs\\libopenblas.QVLO2T66WEPI7JZ63PS3HMOHFEY472BC.gfortran-win_amd64.dll\n",
      "C:\\Users\\XA155XB\\Anaconda3\\envs\\walmart2\\lib\\site-packages\\numpy\\.libs\\libopenblas.XWYDX2IKJW2NMTWSFYNGFUWKQU3LYTCZ.gfortran-win_amd64.dll\n",
      "  stacklevel=1)\n",
      "Importing plotly failed. Interactive plots will not work.\n",
      "Failure while loading azureml_run_type_providers. Failed to load entrypoint automl = azureml.train.automl.run:AutoMLRun._from_run_dto with exception (numpy 1.21.5 (c:\\users\\xa155xb\\anaconda3\\envs\\walmart2\\lib\\site-packages), Requirement.parse('numpy<=1.19.3; sys_platform == \"win32\"'), {'azureml-dataset-runtime'}).\n"
     ]
    }
   ],
   "source": [
    "import numpy as np\n",
    "import pandas as pd\n",
    "import matplotlib.pyplot as plt\n",
    "import seaborn as sns\n",
    "import joblib\n",
    "\n",
    "from datetime import datetime\n",
    "\n",
    "import os\n",
    "import sys\n",
    "sys.path.append(\"../src/utils\")\n",
    "from eda_tools import *\n",
    "from evaluate_model import *\n",
    "\n",
    "# Python\n",
    "import itertools\n",
    "from sklearn.model_selection import ParameterGrid\n",
    "\n",
    "\n",
    "# Prophet\n",
    "from prophet import Prophet\n",
    "from prophet.diagnostics import cross_validation\n",
    "from prophet.diagnostics import performance_metrics\n",
    "from prophet.plot import plot_cross_validation_metric\n",
    "\n",
    "from azureml.core import Datastore, Dataset, Run\n",
    "from sklearn.linear_model import LogisticRegression\n",
    "from sklearn.metrics import f1_score"
   ]
  },
  {
   "cell_type": "markdown",
   "metadata": {},
   "source": [
    "## Reading in Dataset"
   ]
  },
  {
   "cell_type": "markdown",
   "metadata": {},
   "source": [
    "### Weekly Sales"
   ]
  },
  {
   "cell_type": "code",
   "execution_count": 2,
   "metadata": {},
   "outputs": [
    {
     "data": {
      "text/html": [
       "<div>\n",
       "<style scoped>\n",
       "    .dataframe tbody tr th:only-of-type {\n",
       "        vertical-align: middle;\n",
       "    }\n",
       "\n",
       "    .dataframe tbody tr th {\n",
       "        vertical-align: top;\n",
       "    }\n",
       "\n",
       "    .dataframe thead th {\n",
       "        text-align: right;\n",
       "    }\n",
       "</style>\n",
       "<table border=\"1\" class=\"dataframe\">\n",
       "  <thead>\n",
       "    <tr style=\"text-align: right;\">\n",
       "      <th></th>\n",
       "      <th>Region</th>\n",
       "      <th>Date</th>\n",
       "      <th>Weekly_Sales</th>\n",
       "      <th>Temperature</th>\n",
       "      <th>Fuel_Price</th>\n",
       "      <th>CPI</th>\n",
       "      <th>Unemployment</th>\n",
       "      <th>Size</th>\n",
       "    </tr>\n",
       "  </thead>\n",
       "  <tbody>\n",
       "    <tr>\n",
       "      <th>0</th>\n",
       "      <td>1</td>\n",
       "      <td>5/2/2010</td>\n",
       "      <td>1643690.90</td>\n",
       "      <td>42.31</td>\n",
       "      <td>2.572</td>\n",
       "      <td>211.096358</td>\n",
       "      <td>8.106</td>\n",
       "      <td>151315</td>\n",
       "    </tr>\n",
       "    <tr>\n",
       "      <th>1</th>\n",
       "      <td>1</td>\n",
       "      <td>12/2/2010</td>\n",
       "      <td>1641957.44</td>\n",
       "      <td>38.51</td>\n",
       "      <td>2.548</td>\n",
       "      <td>211.242170</td>\n",
       "      <td>8.106</td>\n",
       "      <td>151315</td>\n",
       "    </tr>\n",
       "    <tr>\n",
       "      <th>2</th>\n",
       "      <td>1</td>\n",
       "      <td>19/2/10</td>\n",
       "      <td>1611968.17</td>\n",
       "      <td>39.93</td>\n",
       "      <td>2.514</td>\n",
       "      <td>211.289143</td>\n",
       "      <td>8.106</td>\n",
       "      <td>151315</td>\n",
       "    </tr>\n",
       "    <tr>\n",
       "      <th>3</th>\n",
       "      <td>1</td>\n",
       "      <td>26/2/10</td>\n",
       "      <td>1409727.59</td>\n",
       "      <td>46.63</td>\n",
       "      <td>2.561</td>\n",
       "      <td>211.319643</td>\n",
       "      <td>8.106</td>\n",
       "      <td>151315</td>\n",
       "    </tr>\n",
       "    <tr>\n",
       "      <th>4</th>\n",
       "      <td>1</td>\n",
       "      <td>5/3/2010</td>\n",
       "      <td>1554806.68</td>\n",
       "      <td>46.50</td>\n",
       "      <td>2.625</td>\n",
       "      <td>211.350143</td>\n",
       "      <td>8.106</td>\n",
       "      <td>151315</td>\n",
       "    </tr>\n",
       "  </tbody>\n",
       "</table>\n",
       "</div>"
      ],
      "text/plain": [
       "   Region       Date  Weekly_Sales  Temperature  Fuel_Price         CPI  \\\n",
       "0       1   5/2/2010    1643690.90        42.31       2.572  211.096358   \n",
       "1       1  12/2/2010    1641957.44        38.51       2.548  211.242170   \n",
       "2       1    19/2/10    1611968.17        39.93       2.514  211.289143   \n",
       "3       1    26/2/10    1409727.59        46.63       2.561  211.319643   \n",
       "4       1   5/3/2010    1554806.68        46.50       2.625  211.350143   \n",
       "\n",
       "   Unemployment    Size  \n",
       "0         8.106  151315  \n",
       "1         8.106  151315  \n",
       "2         8.106  151315  \n",
       "3         8.106  151315  \n",
       "4         8.106  151315  "
      ]
     },
     "execution_count": 2,
     "metadata": {},
     "output_type": "execute_result"
    }
   ],
   "source": [
    "sales = pd.read_csv(\"../walmart_sales/train_payload2_azureml v3.csv\")\n",
    "sales.head()"
   ]
  },
  {
   "cell_type": "code",
   "execution_count": 3,
   "metadata": {},
   "outputs": [
    {
     "data": {
      "text/html": [
       "<div>\n",
       "<style scoped>\n",
       "    .dataframe tbody tr th:only-of-type {\n",
       "        vertical-align: middle;\n",
       "    }\n",
       "\n",
       "    .dataframe tbody tr th {\n",
       "        vertical-align: top;\n",
       "    }\n",
       "\n",
       "    .dataframe thead th {\n",
       "        text-align: right;\n",
       "    }\n",
       "</style>\n",
       "<table border=\"1\" class=\"dataframe\">\n",
       "  <thead>\n",
       "    <tr style=\"text-align: right;\">\n",
       "      <th></th>\n",
       "      <th>Region</th>\n",
       "      <th>Date</th>\n",
       "      <th>Weekly_Sales</th>\n",
       "      <th>Temperature</th>\n",
       "      <th>Fuel_Price</th>\n",
       "      <th>CPI</th>\n",
       "      <th>Unemployment</th>\n",
       "      <th>Size</th>\n",
       "    </tr>\n",
       "  </thead>\n",
       "  <tbody>\n",
       "    <tr>\n",
       "      <th>0</th>\n",
       "      <td>1</td>\n",
       "      <td>2010-05-02</td>\n",
       "      <td>1643690.90</td>\n",
       "      <td>42.31</td>\n",
       "      <td>2.572</td>\n",
       "      <td>211.096358</td>\n",
       "      <td>8.106</td>\n",
       "      <td>151315</td>\n",
       "    </tr>\n",
       "    <tr>\n",
       "      <th>1</th>\n",
       "      <td>1</td>\n",
       "      <td>2010-12-02</td>\n",
       "      <td>1641957.44</td>\n",
       "      <td>38.51</td>\n",
       "      <td>2.548</td>\n",
       "      <td>211.242170</td>\n",
       "      <td>8.106</td>\n",
       "      <td>151315</td>\n",
       "    </tr>\n",
       "    <tr>\n",
       "      <th>2</th>\n",
       "      <td>1</td>\n",
       "      <td>2010-02-19</td>\n",
       "      <td>1611968.17</td>\n",
       "      <td>39.93</td>\n",
       "      <td>2.514</td>\n",
       "      <td>211.289143</td>\n",
       "      <td>8.106</td>\n",
       "      <td>151315</td>\n",
       "    </tr>\n",
       "    <tr>\n",
       "      <th>3</th>\n",
       "      <td>1</td>\n",
       "      <td>2010-02-26</td>\n",
       "      <td>1409727.59</td>\n",
       "      <td>46.63</td>\n",
       "      <td>2.561</td>\n",
       "      <td>211.319643</td>\n",
       "      <td>8.106</td>\n",
       "      <td>151315</td>\n",
       "    </tr>\n",
       "    <tr>\n",
       "      <th>4</th>\n",
       "      <td>1</td>\n",
       "      <td>2010-05-03</td>\n",
       "      <td>1554806.68</td>\n",
       "      <td>46.50</td>\n",
       "      <td>2.625</td>\n",
       "      <td>211.350143</td>\n",
       "      <td>8.106</td>\n",
       "      <td>151315</td>\n",
       "    </tr>\n",
       "  </tbody>\n",
       "</table>\n",
       "</div>"
      ],
      "text/plain": [
       "   Region       Date  Weekly_Sales  Temperature  Fuel_Price         CPI  \\\n",
       "0       1 2010-05-02    1643690.90        42.31       2.572  211.096358   \n",
       "1       1 2010-12-02    1641957.44        38.51       2.548  211.242170   \n",
       "2       1 2010-02-19    1611968.17        39.93       2.514  211.289143   \n",
       "3       1 2010-02-26    1409727.59        46.63       2.561  211.319643   \n",
       "4       1 2010-05-03    1554806.68        46.50       2.625  211.350143   \n",
       "\n",
       "   Unemployment    Size  \n",
       "0         8.106  151315  \n",
       "1         8.106  151315  \n",
       "2         8.106  151315  \n",
       "3         8.106  151315  \n",
       "4         8.106  151315  "
      ]
     },
     "execution_count": 3,
     "metadata": {},
     "output_type": "execute_result"
    }
   ],
   "source": [
    "# Converting dates\n",
    "sales[\"Date\"] = pd.to_datetime(sales[\"Date\"])\n",
    "\n",
    "# # Dropping DMZ.1 column\n",
    "# sales = sales.drop([\"DMZ.1\"], axis=1)\n",
    "\n",
    "sales.head()"
   ]
  },
  {
   "cell_type": "code",
   "execution_count": 4,
   "metadata": {},
   "outputs": [
    {
     "data": {
      "text/html": [
       "<div>\n",
       "<style scoped>\n",
       "    .dataframe tbody tr th:only-of-type {\n",
       "        vertical-align: middle;\n",
       "    }\n",
       "\n",
       "    .dataframe tbody tr th {\n",
       "        vertical-align: top;\n",
       "    }\n",
       "\n",
       "    .dataframe thead th {\n",
       "        text-align: right;\n",
       "    }\n",
       "</style>\n",
       "<table border=\"1\" class=\"dataframe\">\n",
       "  <thead>\n",
       "    <tr style=\"text-align: right;\">\n",
       "      <th></th>\n",
       "      <th>Region</th>\n",
       "      <th>Date</th>\n",
       "      <th>Weekly_Sales</th>\n",
       "      <th>Temperature</th>\n",
       "      <th>Fuel_Price</th>\n",
       "      <th>CPI</th>\n",
       "      <th>Unemployment</th>\n",
       "      <th>Size</th>\n",
       "    </tr>\n",
       "  </thead>\n",
       "  <tbody>\n",
       "    <tr>\n",
       "      <th>Total</th>\n",
       "      <td>1380</td>\n",
       "      <td>1380</td>\n",
       "      <td>1380</td>\n",
       "      <td>1380</td>\n",
       "      <td>1380</td>\n",
       "      <td>1380</td>\n",
       "      <td>1380</td>\n",
       "      <td>1380</td>\n",
       "    </tr>\n",
       "    <tr>\n",
       "      <th>Missing</th>\n",
       "      <td>0</td>\n",
       "      <td>0</td>\n",
       "      <td>0</td>\n",
       "      <td>0</td>\n",
       "      <td>0</td>\n",
       "      <td>0</td>\n",
       "      <td>0</td>\n",
       "      <td>0</td>\n",
       "    </tr>\n",
       "    <tr>\n",
       "      <th>Percent Missing(%)</th>\n",
       "      <td>0.0</td>\n",
       "      <td>0.0</td>\n",
       "      <td>0.0</td>\n",
       "      <td>0.0</td>\n",
       "      <td>0.0</td>\n",
       "      <td>0.0</td>\n",
       "      <td>0.0</td>\n",
       "      <td>0.0</td>\n",
       "    </tr>\n",
       "    <tr>\n",
       "      <th>Types</th>\n",
       "      <td>int64</td>\n",
       "      <td>datetime64[ns]</td>\n",
       "      <td>float64</td>\n",
       "      <td>float64</td>\n",
       "      <td>float64</td>\n",
       "      <td>float64</td>\n",
       "      <td>float64</td>\n",
       "      <td>int64</td>\n",
       "    </tr>\n",
       "  </tbody>\n",
       "</table>\n",
       "</div>"
      ],
      "text/plain": [
       "                   Region            Date Weekly_Sales Temperature Fuel_Price  \\\n",
       "Total                1380            1380         1380        1380       1380   \n",
       "Missing                 0               0            0           0          0   \n",
       "Percent Missing(%)    0.0             0.0          0.0         0.0        0.0   \n",
       "Types               int64  datetime64[ns]      float64     float64    float64   \n",
       "\n",
       "                        CPI Unemployment   Size  \n",
       "Total                  1380         1380   1380  \n",
       "Missing                   0            0      0  \n",
       "Percent Missing(%)      0.0          0.0    0.0  \n",
       "Types               float64      float64  int64  "
      ]
     },
     "execution_count": 4,
     "metadata": {},
     "output_type": "execute_result"
    }
   ],
   "source": [
    "missing_data(sales)"
   ]
  },
  {
   "cell_type": "markdown",
   "metadata": {},
   "source": [
    "## Train Test Split"
   ]
  },
  {
   "cell_type": "code",
   "execution_count": 259,
   "metadata": {},
   "outputs": [
    {
     "name": "stdout",
     "output_type": "stream",
     "text": [
      "Dates are in the right order\n"
     ]
    }
   ],
   "source": [
    "# train_df, test_df = train_test_split_timeseries(region, split=0.2, group=\"Region\")\n",
    "train_df = pd.read_csv(\"../walmart_sales/train_payload2_azureml v3.4.csv\")\n",
    "test_df = pd.read_csv(\"../walmart_sales/test_payload2_azureml v3.4.csv\")\n",
    "\n",
    "try:\n",
    "    \n",
    "    train_df[\"Date\"] = pd.to_datetime(train_df[\"Date\"], format=\"%d/%m/%y\")\n",
    "    test_df[\"Date\"] = pd.to_datetime(test_df[\"Date\"], format=\"%d/%m/%y\")\n",
    "    print(\"Re-formatted dates\")\n",
    "except:\n",
    "    print(\"Dates are in the right order\")\n",
    "\n",
    "# train_df = train_df.drop([\"Type\"], axis=1)\n",
    "# test_df = test_df.drop([\"Type\"], axis=1)"
   ]
  },
  {
   "cell_type": "code",
   "execution_count": 258,
   "metadata": {},
   "outputs": [],
   "source": [
    "# train_df.to_csv(\"../walmart_sales/train_payload2_azureml v3.4.csv\", index=False)\n",
    "# test_df.to_csv(\"../walmart_sales/test_payload2_azureml v3.4.csv\", index=False)"
   ]
  },
  {
   "cell_type": "code",
   "execution_count": 260,
   "metadata": {},
   "outputs": [
    {
     "data": {
      "text/html": [
       "<div>\n",
       "<style scoped>\n",
       "    .dataframe tbody tr th:only-of-type {\n",
       "        vertical-align: middle;\n",
       "    }\n",
       "\n",
       "    .dataframe tbody tr th {\n",
       "        vertical-align: top;\n",
       "    }\n",
       "\n",
       "    .dataframe thead th {\n",
       "        text-align: right;\n",
       "    }\n",
       "</style>\n",
       "<table border=\"1\" class=\"dataframe\">\n",
       "  <thead>\n",
       "    <tr style=\"text-align: right;\">\n",
       "      <th></th>\n",
       "      <th>Region</th>\n",
       "      <th>Date</th>\n",
       "      <th>Weekly_Sales</th>\n",
       "      <th>Temperature</th>\n",
       "      <th>Fuel_Price</th>\n",
       "      <th>CPI</th>\n",
       "      <th>Unemployment</th>\n",
       "      <th>Size</th>\n",
       "    </tr>\n",
       "  </thead>\n",
       "  <tbody>\n",
       "    <tr>\n",
       "      <th>0</th>\n",
       "      <td>1</td>\n",
       "      <td>2010-02-05</td>\n",
       "      <td>1643690.90</td>\n",
       "      <td>42.31</td>\n",
       "      <td>2.572</td>\n",
       "      <td>211.096358</td>\n",
       "      <td>8.106</td>\n",
       "      <td>151315</td>\n",
       "    </tr>\n",
       "    <tr>\n",
       "      <th>1</th>\n",
       "      <td>1</td>\n",
       "      <td>2010-02-12</td>\n",
       "      <td>1641957.44</td>\n",
       "      <td>38.51</td>\n",
       "      <td>2.548</td>\n",
       "      <td>211.242170</td>\n",
       "      <td>8.106</td>\n",
       "      <td>151315</td>\n",
       "    </tr>\n",
       "    <tr>\n",
       "      <th>2</th>\n",
       "      <td>1</td>\n",
       "      <td>2010-02-19</td>\n",
       "      <td>1611968.17</td>\n",
       "      <td>39.93</td>\n",
       "      <td>2.514</td>\n",
       "      <td>211.289143</td>\n",
       "      <td>8.106</td>\n",
       "      <td>151315</td>\n",
       "    </tr>\n",
       "    <tr>\n",
       "      <th>3</th>\n",
       "      <td>1</td>\n",
       "      <td>2010-02-26</td>\n",
       "      <td>1409727.59</td>\n",
       "      <td>46.63</td>\n",
       "      <td>2.561</td>\n",
       "      <td>211.319643</td>\n",
       "      <td>8.106</td>\n",
       "      <td>151315</td>\n",
       "    </tr>\n",
       "    <tr>\n",
       "      <th>4</th>\n",
       "      <td>1</td>\n",
       "      <td>2010-03-05</td>\n",
       "      <td>1554806.68</td>\n",
       "      <td>46.50</td>\n",
       "      <td>2.625</td>\n",
       "      <td>211.350143</td>\n",
       "      <td>8.106</td>\n",
       "      <td>151315</td>\n",
       "    </tr>\n",
       "    <tr>\n",
       "      <th>...</th>\n",
       "      <td>...</td>\n",
       "      <td>...</td>\n",
       "      <td>...</td>\n",
       "      <td>...</td>\n",
       "      <td>...</td>\n",
       "      <td>...</td>\n",
       "      <td>...</td>\n",
       "      <td>...</td>\n",
       "    </tr>\n",
       "    <tr>\n",
       "      <th>1375</th>\n",
       "      <td>12</td>\n",
       "      <td>2012-03-16</td>\n",
       "      <td>1088498.52</td>\n",
       "      <td>64.44</td>\n",
       "      <td>4.273</td>\n",
       "      <td>130.826193</td>\n",
       "      <td>12.187</td>\n",
       "      <td>112238</td>\n",
       "    </tr>\n",
       "    <tr>\n",
       "      <th>1376</th>\n",
       "      <td>12</td>\n",
       "      <td>2012-03-23</td>\n",
       "      <td>1045419.87</td>\n",
       "      <td>56.26</td>\n",
       "      <td>4.038</td>\n",
       "      <td>130.896645</td>\n",
       "      <td>12.187</td>\n",
       "      <td>112238</td>\n",
       "    </tr>\n",
       "    <tr>\n",
       "      <th>1377</th>\n",
       "      <td>12</td>\n",
       "      <td>2012-03-30</td>\n",
       "      <td>1025382.22</td>\n",
       "      <td>64.36</td>\n",
       "      <td>4.294</td>\n",
       "      <td>130.967097</td>\n",
       "      <td>12.187</td>\n",
       "      <td>112238</td>\n",
       "    </tr>\n",
       "    <tr>\n",
       "      <th>1378</th>\n",
       "      <td>12</td>\n",
       "      <td>2012-04-06</td>\n",
       "      <td>1128765.71</td>\n",
       "      <td>64.05</td>\n",
       "      <td>4.121</td>\n",
       "      <td>131.037548</td>\n",
       "      <td>11.627</td>\n",
       "      <td>112238</td>\n",
       "    </tr>\n",
       "    <tr>\n",
       "      <th>1379</th>\n",
       "      <td>12</td>\n",
       "      <td>2012-04-13</td>\n",
       "      <td>1083811.19</td>\n",
       "      <td>64.28</td>\n",
       "      <td>4.254</td>\n",
       "      <td>131.108000</td>\n",
       "      <td>11.627</td>\n",
       "      <td>112238</td>\n",
       "    </tr>\n",
       "  </tbody>\n",
       "</table>\n",
       "<p>1380 rows × 8 columns</p>\n",
       "</div>"
      ],
      "text/plain": [
       "      Region        Date  Weekly_Sales  Temperature  Fuel_Price         CPI  \\\n",
       "0          1  2010-02-05    1643690.90        42.31       2.572  211.096358   \n",
       "1          1  2010-02-12    1641957.44        38.51       2.548  211.242170   \n",
       "2          1  2010-02-19    1611968.17        39.93       2.514  211.289143   \n",
       "3          1  2010-02-26    1409727.59        46.63       2.561  211.319643   \n",
       "4          1  2010-03-05    1554806.68        46.50       2.625  211.350143   \n",
       "...      ...         ...           ...          ...         ...         ...   \n",
       "1375      12  2012-03-16    1088498.52        64.44       4.273  130.826193   \n",
       "1376      12  2012-03-23    1045419.87        56.26       4.038  130.896645   \n",
       "1377      12  2012-03-30    1025382.22        64.36       4.294  130.967097   \n",
       "1378      12  2012-04-06    1128765.71        64.05       4.121  131.037548   \n",
       "1379      12  2012-04-13    1083811.19        64.28       4.254  131.108000   \n",
       "\n",
       "      Unemployment    Size  \n",
       "0            8.106  151315  \n",
       "1            8.106  151315  \n",
       "2            8.106  151315  \n",
       "3            8.106  151315  \n",
       "4            8.106  151315  \n",
       "...            ...     ...  \n",
       "1375        12.187  112238  \n",
       "1376        12.187  112238  \n",
       "1377        12.187  112238  \n",
       "1378        11.627  112238  \n",
       "1379        11.627  112238  \n",
       "\n",
       "[1380 rows x 8 columns]"
      ]
     },
     "execution_count": 260,
     "metadata": {},
     "output_type": "execute_result"
    }
   ],
   "source": [
    "train_df"
   ]
  },
  {
   "cell_type": "code",
   "execution_count": 261,
   "metadata": {},
   "outputs": [
    {
     "data": {
      "text/html": [
       "<div>\n",
       "<style scoped>\n",
       "    .dataframe tbody tr th:only-of-type {\n",
       "        vertical-align: middle;\n",
       "    }\n",
       "\n",
       "    .dataframe tbody tr th {\n",
       "        vertical-align: top;\n",
       "    }\n",
       "\n",
       "    .dataframe thead th {\n",
       "        text-align: right;\n",
       "    }\n",
       "</style>\n",
       "<table border=\"1\" class=\"dataframe\">\n",
       "  <thead>\n",
       "    <tr style=\"text-align: right;\">\n",
       "      <th></th>\n",
       "      <th>Region</th>\n",
       "      <th>Date</th>\n",
       "      <th>Weekly_Sales</th>\n",
       "      <th>Temperature</th>\n",
       "      <th>Fuel_Price</th>\n",
       "      <th>CPI</th>\n",
       "      <th>Unemployment</th>\n",
       "      <th>Size</th>\n",
       "    </tr>\n",
       "  </thead>\n",
       "  <tbody>\n",
       "    <tr>\n",
       "      <th>Total</th>\n",
       "      <td>1380</td>\n",
       "      <td>1380</td>\n",
       "      <td>1380</td>\n",
       "      <td>1380</td>\n",
       "      <td>1380</td>\n",
       "      <td>1380</td>\n",
       "      <td>1380</td>\n",
       "      <td>1380</td>\n",
       "    </tr>\n",
       "    <tr>\n",
       "      <th>Missing</th>\n",
       "      <td>0</td>\n",
       "      <td>0</td>\n",
       "      <td>0</td>\n",
       "      <td>0</td>\n",
       "      <td>0</td>\n",
       "      <td>0</td>\n",
       "      <td>0</td>\n",
       "      <td>0</td>\n",
       "    </tr>\n",
       "    <tr>\n",
       "      <th>Percent Missing(%)</th>\n",
       "      <td>0.0</td>\n",
       "      <td>0.0</td>\n",
       "      <td>0.0</td>\n",
       "      <td>0.0</td>\n",
       "      <td>0.0</td>\n",
       "      <td>0.0</td>\n",
       "      <td>0.0</td>\n",
       "      <td>0.0</td>\n",
       "    </tr>\n",
       "    <tr>\n",
       "      <th>Types</th>\n",
       "      <td>int64</td>\n",
       "      <td>object</td>\n",
       "      <td>float64</td>\n",
       "      <td>float64</td>\n",
       "      <td>float64</td>\n",
       "      <td>float64</td>\n",
       "      <td>float64</td>\n",
       "      <td>int64</td>\n",
       "    </tr>\n",
       "  </tbody>\n",
       "</table>\n",
       "</div>"
      ],
      "text/plain": [
       "                   Region    Date Weekly_Sales Temperature Fuel_Price  \\\n",
       "Total                1380    1380         1380        1380       1380   \n",
       "Missing                 0       0            0           0          0   \n",
       "Percent Missing(%)    0.0     0.0          0.0         0.0        0.0   \n",
       "Types               int64  object      float64     float64    float64   \n",
       "\n",
       "                        CPI Unemployment   Size  \n",
       "Total                  1380         1380   1380  \n",
       "Missing                   0            0      0  \n",
       "Percent Missing(%)      0.0          0.0    0.0  \n",
       "Types               float64      float64  int64  "
      ]
     },
     "execution_count": 261,
     "metadata": {},
     "output_type": "execute_result"
    }
   ],
   "source": [
    "missing_data(train_df)"
   ]
  },
  {
   "cell_type": "code",
   "execution_count": 262,
   "metadata": {},
   "outputs": [
    {
     "data": {
      "text/html": [
       "<div>\n",
       "<style scoped>\n",
       "    .dataframe tbody tr th:only-of-type {\n",
       "        vertical-align: middle;\n",
       "    }\n",
       "\n",
       "    .dataframe tbody tr th {\n",
       "        vertical-align: top;\n",
       "    }\n",
       "\n",
       "    .dataframe thead th {\n",
       "        text-align: right;\n",
       "    }\n",
       "</style>\n",
       "<table border=\"1\" class=\"dataframe\">\n",
       "  <thead>\n",
       "    <tr style=\"text-align: right;\">\n",
       "      <th></th>\n",
       "      <th>Region</th>\n",
       "      <th>Date</th>\n",
       "      <th>Weekly_Sales</th>\n",
       "      <th>Temperature</th>\n",
       "      <th>Fuel_Price</th>\n",
       "      <th>CPI</th>\n",
       "      <th>Unemployment</th>\n",
       "      <th>Size</th>\n",
       "    </tr>\n",
       "  </thead>\n",
       "  <tbody>\n",
       "    <tr>\n",
       "      <th>Total</th>\n",
       "      <td>336</td>\n",
       "      <td>336</td>\n",
       "      <td>336</td>\n",
       "      <td>336</td>\n",
       "      <td>336</td>\n",
       "      <td>336</td>\n",
       "      <td>336</td>\n",
       "      <td>336</td>\n",
       "    </tr>\n",
       "    <tr>\n",
       "      <th>Missing</th>\n",
       "      <td>0</td>\n",
       "      <td>0</td>\n",
       "      <td>0</td>\n",
       "      <td>0</td>\n",
       "      <td>0</td>\n",
       "      <td>0</td>\n",
       "      <td>0</td>\n",
       "      <td>0</td>\n",
       "    </tr>\n",
       "    <tr>\n",
       "      <th>Percent Missing(%)</th>\n",
       "      <td>0.0</td>\n",
       "      <td>0.0</td>\n",
       "      <td>0.0</td>\n",
       "      <td>0.0</td>\n",
       "      <td>0.0</td>\n",
       "      <td>0.0</td>\n",
       "      <td>0.0</td>\n",
       "      <td>0.0</td>\n",
       "    </tr>\n",
       "    <tr>\n",
       "      <th>Types</th>\n",
       "      <td>int64</td>\n",
       "      <td>object</td>\n",
       "      <td>float64</td>\n",
       "      <td>float64</td>\n",
       "      <td>float64</td>\n",
       "      <td>float64</td>\n",
       "      <td>float64</td>\n",
       "      <td>int64</td>\n",
       "    </tr>\n",
       "  </tbody>\n",
       "</table>\n",
       "</div>"
      ],
      "text/plain": [
       "                   Region    Date Weekly_Sales Temperature Fuel_Price  \\\n",
       "Total                 336     336          336         336        336   \n",
       "Missing                 0       0            0           0          0   \n",
       "Percent Missing(%)    0.0     0.0          0.0         0.0        0.0   \n",
       "Types               int64  object      float64     float64    float64   \n",
       "\n",
       "                        CPI Unemployment   Size  \n",
       "Total                   336          336    336  \n",
       "Missing                   0            0      0  \n",
       "Percent Missing(%)      0.0          0.0    0.0  \n",
       "Types               float64      float64  int64  "
      ]
     },
     "execution_count": 262,
     "metadata": {},
     "output_type": "execute_result"
    }
   ],
   "source": [
    "missing_data(test_df)"
   ]
  },
  {
   "cell_type": "markdown",
   "metadata": {},
   "source": [
    "## One-Hot Encode Categorical Variables"
   ]
  },
  {
   "cell_type": "code",
   "execution_count": 263,
   "metadata": {},
   "outputs": [],
   "source": [
    "target = \"Weekly_Sales\"\n",
    "time = \"Date\"\n",
    "group = [\"Region\"]"
   ]
  },
  {
   "cell_type": "code",
   "execution_count": 264,
   "metadata": {},
   "outputs": [],
   "source": [
    "# Time & Target column\n",
    "train = train_df.rename(columns = {time: \"ds\", target:\"y\"})\n",
    "test = test_df.rename(columns = {time: \"ds\", target:\"y\"})\n",
    "\n",
    "train.set_index(group, inplace=True)\n",
    "test.set_index(group, inplace=True)"
   ]
  },
  {
   "cell_type": "code",
   "execution_count": 265,
   "metadata": {},
   "outputs": [],
   "source": [
    "# Getting the categorical variables\n",
    "temp_train = train.drop([\"ds\", \"y\" ], axis=1)\n",
    "\n",
    "cat_variables = temp_train.select_dtypes(include=\"O\").keys()"
   ]
  },
  {
   "cell_type": "code",
   "execution_count": 266,
   "metadata": {},
   "outputs": [],
   "source": [
    "# One-hot encode\n",
    "for cat_variable in cat_variables:\n",
    "    # Take only top 10 lables\n",
    "    top_10 = list(temp_train[cat_variable].value_counts().sort_values(ascending=False).head(10).index)\n",
    "\n",
    "    # Drop one to avoid perfect multicollinearity\n",
    "    top_10 = top_10[1:]\n",
    "\n",
    "    # Encoding the labels\n",
    "    ### Train dataset ###\n",
    "    for label in top_10:\n",
    "        train[cat_variable + \"_\" + label] = np.where(train[cat_variable]==label, 1, 0)\n",
    "\n",
    "    # Remove original column\n",
    "    train.drop([cat_variable], axis=1, inplace=True)\n",
    "\n",
    "    ### Test dataset ###\n",
    "    for label in top_10:\n",
    "        test[cat_variable + \"_\" + label] = np.where(test[cat_variable]==label, 1, 0)\n",
    "\n",
    "    # Remove original column\n",
    "    test.drop([cat_variable], axis=1, inplace=True)\n",
    "\n"
   ]
  },
  {
   "cell_type": "markdown",
   "metadata": {},
   "source": [
    "## Prophet training"
   ]
  },
  {
   "cell_type": "code",
   "execution_count": 267,
   "metadata": {},
   "outputs": [],
   "source": [
    "# # Time & Target column\n",
    "# train = train_df.rename(columns = {time: \"ds\", target:\"y\"})\n",
    "# test = test_df.rename(columns = {time: \"ds\", target:\"y\"})\n",
    "\n",
    "# Additional Regressors\n",
    "ADDITIONAL_REGRESSORS = train.drop([\"ds\", \"y\"], axis=1).columns"
   ]
  },
  {
   "cell_type": "code",
   "execution_count": 268,
   "metadata": {},
   "outputs": [
    {
     "data": {
      "text/plain": [
       "Index(['Temperature', 'Fuel_Price', 'CPI', 'Unemployment', 'Size'], dtype='object')"
      ]
     },
     "execution_count": 268,
     "metadata": {},
     "output_type": "execute_result"
    }
   ],
   "source": [
    "ADDITIONAL_REGRESSORS"
   ]
  },
  {
   "cell_type": "code",
   "execution_count": 269,
   "metadata": {},
   "outputs": [],
   "source": [
    "GROUPS = train.index.unique()\n",
    "# GROUPS = [ (x, ) for x in train.index.unique()]"
   ]
  },
  {
   "cell_type": "code",
   "execution_count": 270,
   "metadata": {},
   "outputs": [
    {
     "data": {
      "text/plain": [
       "Int64Index([1, 2, 3, 4, 5, 6, 7, 8, 9, 10, 11, 12], dtype='int64', name='Region')"
      ]
     },
     "execution_count": 270,
     "metadata": {},
     "output_type": "execute_result"
    }
   ],
   "source": [
    "GROUPS"
   ]
  },
  {
   "cell_type": "code",
   "execution_count": 195,
   "metadata": {},
   "outputs": [],
   "source": [
    "model_collection = {}\n",
    "\n",
    "for region in GROUPS:\n",
    "    model = Prophet(\n",
    "        growth=\"linear\",\n",
    "        changepoint_range=0.69,\n",
    "        holidays_prior_scale=0.25, changepoint_prior_scale=0.05, \n",
    "        seasonality_mode = \"additive\", seasonality_prior_scale= 30,\n",
    "        yearly_seasonality=\"auto\",\n",
    "        weekly_seasonality=\"auto\",\n",
    "        daily_seasonality=\"auto\",\n",
    "    )\n",
    "    model.add_country_holidays(country_name=\"US\")\n",
    "\n",
    "    for col in ADDITIONAL_REGRESSORS:\n",
    "        # print(col)\n",
    "        model.add_regressor(name=col, standardize='auto', mode='additive')\n",
    "    model_collection[region] = model"
   ]
  },
  {
   "cell_type": "code",
   "execution_count": 271,
   "metadata": {},
   "outputs": [
    {
     "data": {
      "text/html": [
       "<div>\n",
       "<style scoped>\n",
       "    .dataframe tbody tr th:only-of-type {\n",
       "        vertical-align: middle;\n",
       "    }\n",
       "\n",
       "    .dataframe tbody tr th {\n",
       "        vertical-align: top;\n",
       "    }\n",
       "\n",
       "    .dataframe thead th {\n",
       "        text-align: right;\n",
       "    }\n",
       "</style>\n",
       "<table border=\"1\" class=\"dataframe\">\n",
       "  <thead>\n",
       "    <tr style=\"text-align: right;\">\n",
       "      <th></th>\n",
       "      <th>ds</th>\n",
       "      <th>y</th>\n",
       "      <th>Temperature</th>\n",
       "      <th>Fuel_Price</th>\n",
       "      <th>CPI</th>\n",
       "      <th>Unemployment</th>\n",
       "      <th>Size</th>\n",
       "    </tr>\n",
       "    <tr>\n",
       "      <th>Region</th>\n",
       "      <th></th>\n",
       "      <th></th>\n",
       "      <th></th>\n",
       "      <th></th>\n",
       "      <th></th>\n",
       "      <th></th>\n",
       "      <th></th>\n",
       "    </tr>\n",
       "  </thead>\n",
       "  <tbody>\n",
       "    <tr>\n",
       "      <th>1</th>\n",
       "      <td>2010-02-05</td>\n",
       "      <td>1643690.90</td>\n",
       "      <td>42.31</td>\n",
       "      <td>2.572</td>\n",
       "      <td>211.096358</td>\n",
       "      <td>8.106</td>\n",
       "      <td>151315</td>\n",
       "    </tr>\n",
       "    <tr>\n",
       "      <th>1</th>\n",
       "      <td>2010-02-12</td>\n",
       "      <td>1641957.44</td>\n",
       "      <td>38.51</td>\n",
       "      <td>2.548</td>\n",
       "      <td>211.242170</td>\n",
       "      <td>8.106</td>\n",
       "      <td>151315</td>\n",
       "    </tr>\n",
       "    <tr>\n",
       "      <th>1</th>\n",
       "      <td>2010-02-19</td>\n",
       "      <td>1611968.17</td>\n",
       "      <td>39.93</td>\n",
       "      <td>2.514</td>\n",
       "      <td>211.289143</td>\n",
       "      <td>8.106</td>\n",
       "      <td>151315</td>\n",
       "    </tr>\n",
       "    <tr>\n",
       "      <th>1</th>\n",
       "      <td>2010-02-26</td>\n",
       "      <td>1409727.59</td>\n",
       "      <td>46.63</td>\n",
       "      <td>2.561</td>\n",
       "      <td>211.319643</td>\n",
       "      <td>8.106</td>\n",
       "      <td>151315</td>\n",
       "    </tr>\n",
       "    <tr>\n",
       "      <th>1</th>\n",
       "      <td>2010-03-05</td>\n",
       "      <td>1554806.68</td>\n",
       "      <td>46.50</td>\n",
       "      <td>2.625</td>\n",
       "      <td>211.350143</td>\n",
       "      <td>8.106</td>\n",
       "      <td>151315</td>\n",
       "    </tr>\n",
       "    <tr>\n",
       "      <th>...</th>\n",
       "      <td>...</td>\n",
       "      <td>...</td>\n",
       "      <td>...</td>\n",
       "      <td>...</td>\n",
       "      <td>...</td>\n",
       "      <td>...</td>\n",
       "      <td>...</td>\n",
       "    </tr>\n",
       "    <tr>\n",
       "      <th>1</th>\n",
       "      <td>2012-03-16</td>\n",
       "      <td>1677472.78</td>\n",
       "      <td>64.74</td>\n",
       "      <td>3.734</td>\n",
       "      <td>221.211813</td>\n",
       "      <td>7.348</td>\n",
       "      <td>151315</td>\n",
       "    </tr>\n",
       "    <tr>\n",
       "      <th>1</th>\n",
       "      <td>2012-03-23</td>\n",
       "      <td>1511068.07</td>\n",
       "      <td>65.93</td>\n",
       "      <td>3.787</td>\n",
       "      <td>221.286413</td>\n",
       "      <td>7.348</td>\n",
       "      <td>151315</td>\n",
       "    </tr>\n",
       "    <tr>\n",
       "      <th>1</th>\n",
       "      <td>2012-03-30</td>\n",
       "      <td>1649604.63</td>\n",
       "      <td>67.61</td>\n",
       "      <td>3.845</td>\n",
       "      <td>221.361012</td>\n",
       "      <td>7.348</td>\n",
       "      <td>151315</td>\n",
       "    </tr>\n",
       "    <tr>\n",
       "      <th>1</th>\n",
       "      <td>2012-04-06</td>\n",
       "      <td>1899676.88</td>\n",
       "      <td>70.43</td>\n",
       "      <td>3.891</td>\n",
       "      <td>221.435611</td>\n",
       "      <td>7.143</td>\n",
       "      <td>151315</td>\n",
       "    </tr>\n",
       "    <tr>\n",
       "      <th>1</th>\n",
       "      <td>2012-04-13</td>\n",
       "      <td>1621031.70</td>\n",
       "      <td>69.07</td>\n",
       "      <td>3.891</td>\n",
       "      <td>221.510210</td>\n",
       "      <td>7.143</td>\n",
       "      <td>151315</td>\n",
       "    </tr>\n",
       "  </tbody>\n",
       "</table>\n",
       "<p>115 rows × 7 columns</p>\n",
       "</div>"
      ],
      "text/plain": [
       "                ds           y  Temperature  Fuel_Price         CPI  \\\n",
       "Region                                                                \n",
       "1       2010-02-05  1643690.90        42.31       2.572  211.096358   \n",
       "1       2010-02-12  1641957.44        38.51       2.548  211.242170   \n",
       "1       2010-02-19  1611968.17        39.93       2.514  211.289143   \n",
       "1       2010-02-26  1409727.59        46.63       2.561  211.319643   \n",
       "1       2010-03-05  1554806.68        46.50       2.625  211.350143   \n",
       "...            ...         ...          ...         ...         ...   \n",
       "1       2012-03-16  1677472.78        64.74       3.734  221.211813   \n",
       "1       2012-03-23  1511068.07        65.93       3.787  221.286413   \n",
       "1       2012-03-30  1649604.63        67.61       3.845  221.361012   \n",
       "1       2012-04-06  1899676.88        70.43       3.891  221.435611   \n",
       "1       2012-04-13  1621031.70        69.07       3.891  221.510210   \n",
       "\n",
       "        Unemployment    Size  \n",
       "Region                        \n",
       "1              8.106  151315  \n",
       "1              8.106  151315  \n",
       "1              8.106  151315  \n",
       "1              8.106  151315  \n",
       "1              8.106  151315  \n",
       "...              ...     ...  \n",
       "1              7.348  151315  \n",
       "1              7.348  151315  \n",
       "1              7.348  151315  \n",
       "1              7.143  151315  \n",
       "1              7.143  151315  \n",
       "\n",
       "[115 rows x 7 columns]"
      ]
     },
     "execution_count": 271,
     "metadata": {},
     "output_type": "execute_result"
    }
   ],
   "source": [
    "# train_df[train_df[\"Region\"] == 1]\n",
    "train.loc[1,:]"
   ]
  },
  {
   "cell_type": "code",
   "execution_count": 27,
   "metadata": {},
   "outputs": [
    {
     "name": "stderr",
     "output_type": "stream",
     "text": [
      "INFO:prophet:Disabling daily seasonality. Run prophet with daily_seasonality=True to override this.\n",
      "WARNING:prophet.models:Optimization terminated abnormally. Falling back to Newton.\n"
     ]
    },
    {
     "data": {
      "text/plain": [
       "<prophet.forecaster.Prophet at 0x15065574808>"
      ]
     },
     "execution_count": 27,
     "metadata": {},
     "output_type": "execute_result"
    }
   ],
   "source": [
    "model_collection[4].fit(temp)"
   ]
  },
  {
   "cell_type": "code",
   "execution_count": 32,
   "metadata": {},
   "outputs": [],
   "source": []
  },
  {
   "cell_type": "code",
   "execution_count": 41,
   "metadata": {},
   "outputs": [],
   "source": [
    "# __here__ = os.path.dirname(__file__)\n",
    "# output_dir = os.path.join(__here__, 'outputs')\n",
    "\n",
    "output_dir = os.path.join(os.getcwd(), \"models\")\n",
    "os.makedirs(output_dir, exist_ok=True)\n",
    "model_path = os.path.join(output_dir, \"model.pkl\")"
   ]
  },
  {
   "cell_type": "code",
   "execution_count": 44,
   "metadata": {},
   "outputs": [
    {
     "data": {
      "text/plain": [
       "['c:\\\\Users\\\\XA155XB\\\\OneDrive - EY\\\\Documents\\\\GitHub\\\\WalmartSales\\\\notebooks\\\\models\\\\model.pkl']"
      ]
     },
     "execution_count": 44,
     "metadata": {},
     "output_type": "execute_result"
    }
   ],
   "source": [
    "joblib.dump(model_collection, model_path)"
   ]
  },
  {
   "cell_type": "code",
   "execution_count": 46,
   "metadata": {},
   "outputs": [],
   "source": [
    "model_collection = joblib.load(model_path)"
   ]
  },
  {
   "cell_type": "code",
   "execution_count": 103,
   "metadata": {},
   "outputs": [
    {
     "name": "stderr",
     "output_type": "stream",
     "text": [
      "INFO:prophet:Disabling daily seasonality. Run prophet with daily_seasonality=True to override this.\n",
      "WARNING:prophet.models:Optimization terminated abnormally. Falling back to Newton.\n"
     ]
    },
    {
     "name": "stdout",
     "output_type": "stream",
     "text": [
      "1\n"
     ]
    },
    {
     "name": "stderr",
     "output_type": "stream",
     "text": [
      "INFO:prophet:Disabling daily seasonality. Run prophet with daily_seasonality=True to override this.\n"
     ]
    },
    {
     "name": "stdout",
     "output_type": "stream",
     "text": [
      "2\n"
     ]
    },
    {
     "name": "stderr",
     "output_type": "stream",
     "text": [
      "WARNING:prophet.models:Optimization terminated abnormally. Falling back to Newton.\n",
      "INFO:prophet:Disabling daily seasonality. Run prophet with daily_seasonality=True to override this.\n",
      "INFO:prophet:Disabling daily seasonality. Run prophet with daily_seasonality=True to override this.\n"
     ]
    },
    {
     "name": "stdout",
     "output_type": "stream",
     "text": [
      "3\n",
      "4\n"
     ]
    },
    {
     "name": "stderr",
     "output_type": "stream",
     "text": [
      "WARNING:prophet.models:Optimization terminated abnormally. Falling back to Newton.\n"
     ]
    },
    {
     "ename": "KeyboardInterrupt",
     "evalue": "",
     "output_type": "error",
     "traceback": [
      "\u001b[1;31m---------------------------------------------------------------------------\u001b[0m",
      "\u001b[1;31mRuntimeError\u001b[0m                              Traceback (most recent call last)",
      "\u001b[1;32m~\\Anaconda3\\envs\\walmart2\\lib\\site-packages\\prophet\\models.py\u001b[0m in \u001b[0;36mfit\u001b[1;34m(self, stan_init, stan_data, **kwargs)\u001b[0m\n\u001b[0;32m    263\u001b[0m         \u001b[1;32mtry\u001b[0m\u001b[1;33m:\u001b[0m\u001b[1;33m\u001b[0m\u001b[1;33m\u001b[0m\u001b[0m\n\u001b[1;32m--> 264\u001b[1;33m             \u001b[0mself\u001b[0m\u001b[1;33m.\u001b[0m\u001b[0mstan_fit\u001b[0m \u001b[1;33m=\u001b[0m \u001b[0mself\u001b[0m\u001b[1;33m.\u001b[0m\u001b[0mmodel\u001b[0m\u001b[1;33m.\u001b[0m\u001b[0moptimizing\u001b[0m\u001b[1;33m(\u001b[0m\u001b[1;33m**\u001b[0m\u001b[0margs\u001b[0m\u001b[1;33m)\u001b[0m\u001b[1;33m\u001b[0m\u001b[1;33m\u001b[0m\u001b[0m\n\u001b[0m\u001b[0;32m    265\u001b[0m         \u001b[1;32mexcept\u001b[0m \u001b[0mRuntimeError\u001b[0m \u001b[1;32mas\u001b[0m \u001b[0me\u001b[0m\u001b[1;33m:\u001b[0m\u001b[1;33m\u001b[0m\u001b[1;33m\u001b[0m\u001b[0m\n",
      "\u001b[1;32m~\\Anaconda3\\envs\\walmart2\\lib\\site-packages\\pystan\\model.py\u001b[0m in \u001b[0;36moptimizing\u001b[1;34m(self, data, seed, init, sample_file, algorithm, verbose, as_vector, **kwargs)\u001b[0m\n\u001b[0;32m    580\u001b[0m \u001b[1;33m\u001b[0m\u001b[0m\n\u001b[1;32m--> 581\u001b[1;33m         \u001b[0mret\u001b[0m\u001b[1;33m,\u001b[0m \u001b[0msample\u001b[0m \u001b[1;33m=\u001b[0m \u001b[0mfit\u001b[0m\u001b[1;33m.\u001b[0m\u001b[0m_call_sampler\u001b[0m\u001b[1;33m(\u001b[0m\u001b[0mstan_args\u001b[0m\u001b[1;33m)\u001b[0m\u001b[1;33m\u001b[0m\u001b[1;33m\u001b[0m\u001b[0m\n\u001b[0m\u001b[0;32m    582\u001b[0m         \u001b[0mpars\u001b[0m \u001b[1;33m=\u001b[0m \u001b[0mpystan\u001b[0m\u001b[1;33m.\u001b[0m\u001b[0mmisc\u001b[0m\u001b[1;33m.\u001b[0m\u001b[0m_par_vector2dict\u001b[0m\u001b[1;33m(\u001b[0m\u001b[0msample\u001b[0m\u001b[1;33m[\u001b[0m\u001b[1;34m'par'\u001b[0m\u001b[1;33m]\u001b[0m\u001b[1;33m,\u001b[0m \u001b[0mm_pars\u001b[0m\u001b[1;33m,\u001b[0m \u001b[0mp_dims\u001b[0m\u001b[1;33m)\u001b[0m\u001b[1;33m\u001b[0m\u001b[1;33m\u001b[0m\u001b[0m\n",
      "\u001b[1;32mstanfit4anon_model_f5236004a3fd5b8429270d00efcc0cf9_8664350951230556669.pyx\u001b[0m in \u001b[0;36mstanfit4anon_model_f5236004a3fd5b8429270d00efcc0cf9_8664350951230556669.StanFit4Model._call_sampler\u001b[1;34m()\u001b[0m\n",
      "\u001b[1;32mstanfit4anon_model_f5236004a3fd5b8429270d00efcc0cf9_8664350951230556669.pyx\u001b[0m in \u001b[0;36mstanfit4anon_model_f5236004a3fd5b8429270d00efcc0cf9_8664350951230556669._call_sampler\u001b[1;34m()\u001b[0m\n",
      "\u001b[1;31mRuntimeError\u001b[0m: Something went wrong after call_sampler.",
      "\nDuring handling of the above exception, another exception occurred:\n",
      "\u001b[1;31mKeyboardInterrupt\u001b[0m                         Traceback (most recent call last)",
      "\u001b[1;32m~\\AppData\\Local\\Temp/ipykernel_5176/1957363894.py\u001b[0m in \u001b[0;36m<module>\u001b[1;34m\u001b[0m\n\u001b[0;32m      4\u001b[0m     \u001b[0mcurr_train\u001b[0m \u001b[1;33m=\u001b[0m \u001b[0mtrain\u001b[0m\u001b[1;33m.\u001b[0m\u001b[0mloc\u001b[0m\u001b[1;33m[\u001b[0m\u001b[0mregion\u001b[0m\u001b[1;33m,\u001b[0m \u001b[1;33m:\u001b[0m\u001b[1;33m]\u001b[0m\u001b[1;33m\u001b[0m\u001b[1;33m\u001b[0m\u001b[0m\n\u001b[0;32m      5\u001b[0m \u001b[1;33m\u001b[0m\u001b[0m\n\u001b[1;32m----> 6\u001b[1;33m     \u001b[0mmodel\u001b[0m\u001b[1;33m.\u001b[0m\u001b[0mfit\u001b[0m\u001b[1;33m(\u001b[0m\u001b[0mcurr_train\u001b[0m\u001b[1;33m)\u001b[0m\u001b[1;33m\u001b[0m\u001b[1;33m\u001b[0m\u001b[0m\n\u001b[0m",
      "\u001b[1;32m~\\Anaconda3\\envs\\walmart2\\lib\\site-packages\\prophet\\forecaster.py\u001b[0m in \u001b[0;36mfit\u001b[1;34m(self, df, **kwargs)\u001b[0m\n\u001b[0;32m   1169\u001b[0m             \u001b[0mself\u001b[0m\u001b[1;33m.\u001b[0m\u001b[0mparams\u001b[0m \u001b[1;33m=\u001b[0m \u001b[0mself\u001b[0m\u001b[1;33m.\u001b[0m\u001b[0mstan_backend\u001b[0m\u001b[1;33m.\u001b[0m\u001b[0msampling\u001b[0m\u001b[1;33m(\u001b[0m\u001b[0mstan_init\u001b[0m\u001b[1;33m,\u001b[0m \u001b[0mdat\u001b[0m\u001b[1;33m,\u001b[0m \u001b[0mself\u001b[0m\u001b[1;33m.\u001b[0m\u001b[0mmcmc_samples\u001b[0m\u001b[1;33m,\u001b[0m \u001b[1;33m**\u001b[0m\u001b[0mkwargs\u001b[0m\u001b[1;33m)\u001b[0m\u001b[1;33m\u001b[0m\u001b[1;33m\u001b[0m\u001b[0m\n\u001b[0;32m   1170\u001b[0m         \u001b[1;32melse\u001b[0m\u001b[1;33m:\u001b[0m\u001b[1;33m\u001b[0m\u001b[1;33m\u001b[0m\u001b[0m\n\u001b[1;32m-> 1171\u001b[1;33m             \u001b[0mself\u001b[0m\u001b[1;33m.\u001b[0m\u001b[0mparams\u001b[0m \u001b[1;33m=\u001b[0m \u001b[0mself\u001b[0m\u001b[1;33m.\u001b[0m\u001b[0mstan_backend\u001b[0m\u001b[1;33m.\u001b[0m\u001b[0mfit\u001b[0m\u001b[1;33m(\u001b[0m\u001b[0mstan_init\u001b[0m\u001b[1;33m,\u001b[0m \u001b[0mdat\u001b[0m\u001b[1;33m,\u001b[0m \u001b[1;33m**\u001b[0m\u001b[0mkwargs\u001b[0m\u001b[1;33m)\u001b[0m\u001b[1;33m\u001b[0m\u001b[1;33m\u001b[0m\u001b[0m\n\u001b[0m\u001b[0;32m   1172\u001b[0m \u001b[1;33m\u001b[0m\u001b[0m\n\u001b[0;32m   1173\u001b[0m         \u001b[0mself\u001b[0m\u001b[1;33m.\u001b[0m\u001b[0mstan_fit\u001b[0m \u001b[1;33m=\u001b[0m \u001b[0mself\u001b[0m\u001b[1;33m.\u001b[0m\u001b[0mstan_backend\u001b[0m\u001b[1;33m.\u001b[0m\u001b[0mstan_fit\u001b[0m\u001b[1;33m\u001b[0m\u001b[1;33m\u001b[0m\u001b[0m\n",
      "\u001b[1;32m~\\Anaconda3\\envs\\walmart2\\lib\\site-packages\\prophet\\models.py\u001b[0m in \u001b[0;36mfit\u001b[1;34m(self, stan_init, stan_data, **kwargs)\u001b[0m\n\u001b[0;32m    270\u001b[0m                 )\n\u001b[0;32m    271\u001b[0m                 \u001b[0margs\u001b[0m\u001b[1;33m[\u001b[0m\u001b[1;34m'algorithm'\u001b[0m\u001b[1;33m]\u001b[0m \u001b[1;33m=\u001b[0m \u001b[1;34m'Newton'\u001b[0m\u001b[1;33m\u001b[0m\u001b[1;33m\u001b[0m\u001b[0m\n\u001b[1;32m--> 272\u001b[1;33m                 \u001b[0mself\u001b[0m\u001b[1;33m.\u001b[0m\u001b[0mstan_fit\u001b[0m \u001b[1;33m=\u001b[0m \u001b[0mself\u001b[0m\u001b[1;33m.\u001b[0m\u001b[0mmodel\u001b[0m\u001b[1;33m.\u001b[0m\u001b[0moptimizing\u001b[0m\u001b[1;33m(\u001b[0m\u001b[1;33m**\u001b[0m\u001b[0margs\u001b[0m\u001b[1;33m)\u001b[0m\u001b[1;33m\u001b[0m\u001b[1;33m\u001b[0m\u001b[0m\n\u001b[0m\u001b[0;32m    273\u001b[0m             \u001b[1;32melse\u001b[0m\u001b[1;33m:\u001b[0m\u001b[1;33m\u001b[0m\u001b[1;33m\u001b[0m\u001b[0m\n\u001b[0;32m    274\u001b[0m                 \u001b[1;32mraise\u001b[0m \u001b[0me\u001b[0m\u001b[1;33m\u001b[0m\u001b[1;33m\u001b[0m\u001b[0m\n",
      "\u001b[1;32m~\\Anaconda3\\envs\\walmart2\\lib\\site-packages\\pystan\\model.py\u001b[0m in \u001b[0;36moptimizing\u001b[1;34m(self, data, seed, init, sample_file, algorithm, verbose, as_vector, **kwargs)\u001b[0m\n\u001b[0;32m    579\u001b[0m         \u001b[0mstan_args\u001b[0m \u001b[1;33m=\u001b[0m \u001b[0mpystan\u001b[0m\u001b[1;33m.\u001b[0m\u001b[0mmisc\u001b[0m\u001b[1;33m.\u001b[0m\u001b[0m_get_valid_stan_args\u001b[0m\u001b[1;33m(\u001b[0m\u001b[0mstan_args\u001b[0m\u001b[1;33m)\u001b[0m\u001b[1;33m\u001b[0m\u001b[1;33m\u001b[0m\u001b[0m\n\u001b[0;32m    580\u001b[0m \u001b[1;33m\u001b[0m\u001b[0m\n\u001b[1;32m--> 581\u001b[1;33m         \u001b[0mret\u001b[0m\u001b[1;33m,\u001b[0m \u001b[0msample\u001b[0m \u001b[1;33m=\u001b[0m \u001b[0mfit\u001b[0m\u001b[1;33m.\u001b[0m\u001b[0m_call_sampler\u001b[0m\u001b[1;33m(\u001b[0m\u001b[0mstan_args\u001b[0m\u001b[1;33m)\u001b[0m\u001b[1;33m\u001b[0m\u001b[1;33m\u001b[0m\u001b[0m\n\u001b[0m\u001b[0;32m    582\u001b[0m         \u001b[0mpars\u001b[0m \u001b[1;33m=\u001b[0m \u001b[0mpystan\u001b[0m\u001b[1;33m.\u001b[0m\u001b[0mmisc\u001b[0m\u001b[1;33m.\u001b[0m\u001b[0m_par_vector2dict\u001b[0m\u001b[1;33m(\u001b[0m\u001b[0msample\u001b[0m\u001b[1;33m[\u001b[0m\u001b[1;34m'par'\u001b[0m\u001b[1;33m]\u001b[0m\u001b[1;33m,\u001b[0m \u001b[0mm_pars\u001b[0m\u001b[1;33m,\u001b[0m \u001b[0mp_dims\u001b[0m\u001b[1;33m)\u001b[0m\u001b[1;33m\u001b[0m\u001b[1;33m\u001b[0m\u001b[0m\n\u001b[0;32m    583\u001b[0m         \u001b[1;32mif\u001b[0m \u001b[1;32mnot\u001b[0m \u001b[0mas_vector\u001b[0m\u001b[1;33m:\u001b[0m\u001b[1;33m\u001b[0m\u001b[1;33m\u001b[0m\u001b[0m\n",
      "\u001b[1;32mstanfit4anon_model_f5236004a3fd5b8429270d00efcc0cf9_8664350951230556669.pyx\u001b[0m in \u001b[0;36mstanfit4anon_model_f5236004a3fd5b8429270d00efcc0cf9_8664350951230556669.StanFit4Model._call_sampler\u001b[1;34m()\u001b[0m\n",
      "\u001b[1;32mstanfit4anon_model_f5236004a3fd5b8429270d00efcc0cf9_8664350951230556669.pyx\u001b[0m in \u001b[0;36mstanfit4anon_model_f5236004a3fd5b8429270d00efcc0cf9_8664350951230556669._call_sampler\u001b[1;34m()\u001b[0m\n",
      "\u001b[1;32mstanfit4anon_model_f5236004a3fd5b8429270d00efcc0cf9_8664350951230556669.pyx\u001b[0m in \u001b[0;36mstanfit4anon_model_f5236004a3fd5b8429270d00efcc0cf9_8664350951230556669._dict_from_stanargs\u001b[1;34m()\u001b[0m\n",
      "\u001b[1;32m~\\Anaconda3\\envs\\walmart2\\lib\\enum.py\u001b[0m in \u001b[0;36m__call__\u001b[1;34m(cls, value, names, module, qualname, type, start)\u001b[0m\n\u001b[0;32m    313\u001b[0m         \"\"\"\n\u001b[0;32m    314\u001b[0m         \u001b[1;32mif\u001b[0m \u001b[0mnames\u001b[0m \u001b[1;32mis\u001b[0m \u001b[1;32mNone\u001b[0m\u001b[1;33m:\u001b[0m  \u001b[1;31m# simple value lookup\u001b[0m\u001b[1;33m\u001b[0m\u001b[1;33m\u001b[0m\u001b[0m\n\u001b[1;32m--> 315\u001b[1;33m             \u001b[1;32mreturn\u001b[0m \u001b[0mcls\u001b[0m\u001b[1;33m.\u001b[0m\u001b[0m__new__\u001b[0m\u001b[1;33m(\u001b[0m\u001b[0mcls\u001b[0m\u001b[1;33m,\u001b[0m \u001b[0mvalue\u001b[0m\u001b[1;33m)\u001b[0m\u001b[1;33m\u001b[0m\u001b[1;33m\u001b[0m\u001b[0m\n\u001b[0m\u001b[0;32m    316\u001b[0m         \u001b[1;31m# otherwise, functional API: we're creating a new Enum type\u001b[0m\u001b[1;33m\u001b[0m\u001b[1;33m\u001b[0m\u001b[1;33m\u001b[0m\u001b[0m\n\u001b[0;32m    317\u001b[0m         \u001b[1;32mreturn\u001b[0m \u001b[0mcls\u001b[0m\u001b[1;33m.\u001b[0m\u001b[0m_create_\u001b[0m\u001b[1;33m(\u001b[0m\u001b[0mvalue\u001b[0m\u001b[1;33m,\u001b[0m \u001b[0mnames\u001b[0m\u001b[1;33m,\u001b[0m \u001b[0mmodule\u001b[0m\u001b[1;33m=\u001b[0m\u001b[0mmodule\u001b[0m\u001b[1;33m,\u001b[0m \u001b[0mqualname\u001b[0m\u001b[1;33m=\u001b[0m\u001b[0mqualname\u001b[0m\u001b[1;33m,\u001b[0m \u001b[0mtype\u001b[0m\u001b[1;33m=\u001b[0m\u001b[0mtype\u001b[0m\u001b[1;33m,\u001b[0m \u001b[0mstart\u001b[0m\u001b[1;33m=\u001b[0m\u001b[0mstart\u001b[0m\u001b[1;33m)\u001b[0m\u001b[1;33m\u001b[0m\u001b[1;33m\u001b[0m\u001b[0m\n",
      "\u001b[1;31mKeyboardInterrupt\u001b[0m: "
     ]
    }
   ],
   "source": [
    "# Training\n",
    "for region, model in list(model_collection.items())[:3]:\n",
    "    print(region)\n",
    "    curr_train = train.loc[region, :]\n",
    "\n",
    "    model.fit(curr_train)"
   ]
  },
  {
   "cell_type": "markdown",
   "metadata": {},
   "source": [
    "## AzureML SDK"
   ]
  },
  {
   "cell_type": "code",
   "execution_count": 1,
   "metadata": {},
   "outputs": [
    {
     "name": "stderr",
     "output_type": "stream",
     "text": [
      "Failure while loading azureml_run_type_providers. Failed to load entrypoint automl = azureml.train.automl.run:AutoMLRun._from_run_dto with exception (numpy 1.21.5 (c:\\users\\xa155xb\\anaconda3\\envs\\walmart2\\lib\\site-packages), Requirement.parse('numpy<=1.19.3; sys_platform == \"win32\"'), {'azureml-dataset-runtime'}).\n"
     ]
    }
   ],
   "source": [
    "from azureml.core import Workspace\n",
    "\n",
    "# ws = Workspace.from_config()\n",
    "\n",
    "ws = Workspace.get(name=\"Walmart-Sales\", \n",
    "    subscription_id =  \"ef0073f1-56e3-462f-80b3-3beb320211e4\",\n",
    "    resource_group = \"Walmart-1\"\n",
    ")"
   ]
  },
  {
   "cell_type": "code",
   "execution_count": 23,
   "metadata": {},
   "outputs": [],
   "source": [
    "from azureml.core import Experiment\n",
    "\n",
    "# create an experiment variable\n",
    "experiment = Experiment(workspace = ws, name = \"walmart-sales-1\")"
   ]
  },
  {
   "cell_type": "code",
   "execution_count": 24,
   "metadata": {},
   "outputs": [
    {
     "data": {
      "text/plain": [
       "'d8196ed6-ecff-42c1-a740-2356ea8a73c1'"
      ]
     },
     "execution_count": 24,
     "metadata": {},
     "output_type": "execute_result"
    }
   ],
   "source": [
    "experiment.id"
   ]
  },
  {
   "cell_type": "code",
   "execution_count": 13,
   "metadata": {},
   "outputs": [],
   "source": [
    "run_ids = []\n",
    "for run in experiment.get_runs():\n",
    "    run_ids.append(run)"
   ]
  },
  {
   "cell_type": "code",
   "execution_count": 14,
   "metadata": {},
   "outputs": [],
   "source": [
    "run_id = run_ids[0]"
   ]
  },
  {
   "cell_type": "code",
   "execution_count": 15,
   "metadata": {},
   "outputs": [
    {
     "data": {
      "text/plain": [
       "['models/model.pkl']"
      ]
     },
     "execution_count": 15,
     "metadata": {},
     "output_type": "execute_result"
    }
   ],
   "source": [
    "run_id.get_file_names()"
   ]
  },
  {
   "cell_type": "code",
   "execution_count": 21,
   "metadata": {},
   "outputs": [],
   "source": [
    "# run_id.download_file(name=\"models/model.pkl\", output_file_path = \"./models/model.pkl\")"
   ]
  },
  {
   "cell_type": "code",
   "execution_count": 27,
   "metadata": {},
   "outputs": [
    {
     "data": {
      "text/plain": [
       "'51cfffda-52b7-4b3b-9248-b56b321175dc'"
      ]
     },
     "execution_count": 27,
     "metadata": {},
     "output_type": "execute_result"
    }
   ],
   "source": [
    "run_id.experiment.id"
   ]
  },
  {
   "cell_type": "code",
   "execution_count": null,
   "metadata": {},
   "outputs": [],
   "source": []
  },
  {
   "cell_type": "code",
   "execution_count": null,
   "metadata": {},
   "outputs": [],
   "source": []
  },
  {
   "cell_type": "code",
   "execution_count": 286,
   "metadata": {},
   "outputs": [],
   "source": [
    "\n",
    "\n",
    "# start the experiment\n",
    "run = experiment.start_logging()\n"
   ]
  },
  {
   "cell_type": "code",
   "execution_count": 287,
   "metadata": {},
   "outputs": [],
   "source": [
    "# Getting the regressors to add to prophet\n",
    "ADDITIONAL_REGRESSORS = train.drop([\"ds\", \"y\"], axis=1).columns\n",
    "\n",
    "# Getting the unique groups\n",
    "GROUPS = train.index.unique()"
   ]
  },
  {
   "cell_type": "code",
   "execution_count": 288,
   "metadata": {},
   "outputs": [],
   "source": [
    "# Creating Model\n",
    "model_collection = {}\n",
    "\n",
    "for region in GROUPS:\n",
    "    model = Prophet(\n",
    "        growth=\"linear\",\n",
    "        changepoint_range=0.69,\n",
    "        holidays_prior_scale=0.25, changepoint_prior_scale=0.05, \n",
    "        seasonality_mode = \"additive\", seasonality_prior_scale= 30,\n",
    "        yearly_seasonality=\"auto\",\n",
    "        weekly_seasonality=\"auto\",\n",
    "        daily_seasonality=\"auto\",\n",
    "    )\n",
    "    model.add_country_holidays(country_name=\"US\")\n",
    "\n",
    "    for col in ADDITIONAL_REGRESSORS:\n",
    "        # print(col)\n",
    "        model.add_regressor(name=col, standardize='auto', mode='additive')\n",
    "    model_collection[region] = model"
   ]
  },
  {
   "cell_type": "code",
   "execution_count": 289,
   "metadata": {},
   "outputs": [
    {
     "name": "stderr",
     "output_type": "stream",
     "text": [
      "INFO:prophet:Disabling weekly seasonality. Run prophet with weekly_seasonality=True to override this.\n",
      "INFO:prophet:Disabling daily seasonality. Run prophet with daily_seasonality=True to override this.\n",
      "WARNING:prophet.models:Optimization terminated abnormally. Falling back to Newton.\n"
     ]
    },
    {
     "name": "stdout",
     "output_type": "stream",
     "text": [
      "1\n"
     ]
    },
    {
     "name": "stderr",
     "output_type": "stream",
     "text": [
      "INFO:prophet:Disabling weekly seasonality. Run prophet with weekly_seasonality=True to override this.\n",
      "INFO:prophet:Disabling daily seasonality. Run prophet with daily_seasonality=True to override this.\n",
      "WARNING:prophet.models:Optimization terminated abnormally. Falling back to Newton.\n"
     ]
    },
    {
     "name": "stdout",
     "output_type": "stream",
     "text": [
      "2\n"
     ]
    },
    {
     "name": "stderr",
     "output_type": "stream",
     "text": [
      "INFO:prophet:Disabling weekly seasonality. Run prophet with weekly_seasonality=True to override this.\n",
      "INFO:prophet:Disabling daily seasonality. Run prophet with daily_seasonality=True to override this.\n"
     ]
    },
    {
     "name": "stdout",
     "output_type": "stream",
     "text": [
      "3\n"
     ]
    }
   ],
   "source": [
    "# Training\n",
    "for region, model in list(model_collection.items())[:3]:\n",
    "    print(region)\n",
    "    curr_train = train.loc[region, :]\n",
    "\n",
    "    model.fit(curr_train)"
   ]
  },
  {
   "cell_type": "code",
   "execution_count": 290,
   "metadata": {},
   "outputs": [
    {
     "data": {
      "text/plain": [
       "['c:\\\\Users\\\\XA155XB\\\\OneDrive - EY\\\\Documents\\\\GitHub\\\\WalmartSales\\\\notebooks\\\\models\\\\model.pkl']"
      ]
     },
     "execution_count": 290,
     "metadata": {},
     "output_type": "execute_result"
    }
   ],
   "source": [
    "# Defining path to save the model\n",
    "\n",
    "# __here__ = os.path.dirname(__file__)\n",
    "# output_dir = os.path.join(__here__, 'outputs')\n",
    "\n",
    "output_dir = os.path.join(os.getcwd(), \"models\")\n",
    "os.makedirs(output_dir, exist_ok=True)\n",
    "model_path = os.path.join(output_dir, \"model.pkl\")\n",
    "\n",
    "# Saving the model\n",
    "joblib.dump(model_collection, model_path)"
   ]
  },
  {
   "cell_type": "code",
   "execution_count": null,
   "metadata": {},
   "outputs": [],
   "source": []
  },
  {
   "cell_type": "code",
   "execution_count": 291,
   "metadata": {},
   "outputs": [],
   "source": [
    "path = run.upload_file(\"models/model.pkl\", model_path)"
   ]
  },
  {
   "cell_type": "code",
   "execution_count": 292,
   "metadata": {},
   "outputs": [],
   "source": [
    "master_model = run.register_model(\n",
    "    model_name = \"Prophet\",\n",
    "    model_path = \"models/model.pkl\"\n",
    ")\n",
    "\n",
    "run.log(\"Model_ID\", master_model.id)"
   ]
  },
  {
   "cell_type": "code",
   "execution_count": 293,
   "metadata": {},
   "outputs": [
    {
     "data": {
      "text/plain": [
       "'Prophet:4'"
      ]
     },
     "execution_count": 293,
     "metadata": {},
     "output_type": "execute_result"
    }
   ],
   "source": [
    "master_model.id"
   ]
  },
  {
   "cell_type": "code",
   "execution_count": 294,
   "metadata": {},
   "outputs": [],
   "source": [
    "# Log the row count\n",
    "run.log('observations', len(train.loc[1, ]))\n",
    "\n",
    "# end the experiment\n",
    "run.complete()"
   ]
  },
  {
   "cell_type": "code",
   "execution_count": 285,
   "metadata": {},
   "outputs": [
    {
     "name": "stderr",
     "output_type": "stream",
     "text": [
      "INFO:azureml.data.datastore_client:<azureml.core.authentication.InteractiveLoginAuthentication object at 0x00000203A989E748>\n"
     ]
    },
    {
     "data": {
      "text/plain": [
       "{\n",
       "  \"name\": \"workspaceblobstore\",\n",
       "  \"container_name\": \"azureml-blobstore-58018f5f-a704-46b4-b4da-c5cee3b94c2d\",\n",
       "  \"account_name\": \"walmartsales2005913347\",\n",
       "  \"protocol\": \"https\",\n",
       "  \"endpoint\": \"core.windows.net\"\n",
       "}"
      ]
     },
     "execution_count": 285,
     "metadata": {},
     "output_type": "execute_result"
    }
   ],
   "source": [
    "ws.get_default_datastore()"
   ]
  },
  {
   "cell_type": "code",
   "execution_count": null,
   "metadata": {},
   "outputs": [],
   "source": [
    "ds1 = ws.datasets[\"train_payload2_azureml v3\"]\n",
    "ds1.name"
   ]
  },
  {
   "cell_type": "code",
   "execution_count": 78,
   "metadata": {},
   "outputs": [],
   "source": [
    "dataset = Dataset.get_by_name(ws, name = ds1.name)\n",
    "df = dataset.to_pandas_dataframe()"
   ]
  },
  {
   "cell_type": "code",
   "execution_count": null,
   "metadata": {},
   "outputs": [],
   "source": []
  },
  {
   "cell_type": "code",
   "execution_count": null,
   "metadata": {},
   "outputs": [],
   "source": []
  },
  {
   "cell_type": "markdown",
   "metadata": {},
   "source": [
    "## Forecasting"
   ]
  },
  {
   "cell_type": "code",
   "execution_count": 106,
   "metadata": {},
   "outputs": [],
   "source": [
    "if \"y\" in test.columns:\n",
    "    test = test.drop([\"y\"], axis=1)"
   ]
  },
  {
   "cell_type": "code",
   "execution_count": 47,
   "metadata": {},
   "outputs": [],
   "source": [
    "result = pd.DataFrame()\n",
    "\n",
    "for region, model in list(model_collection.items())[:3]:\n",
    "    temp = model.predict(df=test.loc[region, :])[[\"ds\", \"yhat\", \"yhat_lower\", \"yhat_upper\"]]\n",
    "    temp[\"Region\"] = region\n",
    "    temp = temp[[\"Region\", \"ds\", \"yhat\", \"yhat_lower\", \"yhat_upper\"]]\n",
    "    result = result.append(temp)"
   ]
  },
  {
   "cell_type": "code",
   "execution_count": 48,
   "metadata": {},
   "outputs": [
    {
     "data": {
      "text/html": [
       "<div>\n",
       "<style scoped>\n",
       "    .dataframe tbody tr th:only-of-type {\n",
       "        vertical-align: middle;\n",
       "    }\n",
       "\n",
       "    .dataframe tbody tr th {\n",
       "        vertical-align: top;\n",
       "    }\n",
       "\n",
       "    .dataframe thead th {\n",
       "        text-align: right;\n",
       "    }\n",
       "</style>\n",
       "<table border=\"1\" class=\"dataframe\">\n",
       "  <thead>\n",
       "    <tr style=\"text-align: right;\">\n",
       "      <th></th>\n",
       "      <th>ds</th>\n",
       "      <th>yhat</th>\n",
       "      <th>yhat_lower</th>\n",
       "      <th>yhat_upper</th>\n",
       "    </tr>\n",
       "    <tr>\n",
       "      <th>Region</th>\n",
       "      <th></th>\n",
       "      <th></th>\n",
       "      <th></th>\n",
       "      <th></th>\n",
       "    </tr>\n",
       "  </thead>\n",
       "  <tbody>\n",
       "    <tr>\n",
       "      <th>1</th>\n",
       "      <td>2012-01-06</td>\n",
       "      <td>1.640099e+06</td>\n",
       "      <td>1.522742e+06</td>\n",
       "      <td>1.754527e+06</td>\n",
       "    </tr>\n",
       "    <tr>\n",
       "      <th>1</th>\n",
       "      <td>2012-03-08</td>\n",
       "      <td>1.697905e+06</td>\n",
       "      <td>1.571287e+06</td>\n",
       "      <td>1.812291e+06</td>\n",
       "    </tr>\n",
       "    <tr>\n",
       "      <th>1</th>\n",
       "      <td>2012-04-05</td>\n",
       "      <td>1.702976e+06</td>\n",
       "      <td>1.585735e+06</td>\n",
       "      <td>1.814612e+06</td>\n",
       "    </tr>\n",
       "    <tr>\n",
       "      <th>1</th>\n",
       "      <td>2012-04-20</td>\n",
       "      <td>1.657801e+06</td>\n",
       "      <td>1.539653e+06</td>\n",
       "      <td>1.781177e+06</td>\n",
       "    </tr>\n",
       "    <tr>\n",
       "      <th>1</th>\n",
       "      <td>2012-04-27</td>\n",
       "      <td>1.654904e+06</td>\n",
       "      <td>1.540604e+06</td>\n",
       "      <td>1.767351e+06</td>\n",
       "    </tr>\n",
       "    <tr>\n",
       "      <th>...</th>\n",
       "      <td>...</td>\n",
       "      <td>...</td>\n",
       "      <td>...</td>\n",
       "      <td>...</td>\n",
       "    </tr>\n",
       "    <tr>\n",
       "      <th>3</th>\n",
       "      <td>2012-10-08</td>\n",
       "      <td>4.652112e+05</td>\n",
       "      <td>-3.068969e+05</td>\n",
       "      <td>1.233938e+06</td>\n",
       "    </tr>\n",
       "    <tr>\n",
       "      <th>3</th>\n",
       "      <td>2012-10-19</td>\n",
       "      <td>4.664759e+05</td>\n",
       "      <td>-2.996045e+05</td>\n",
       "      <td>1.279107e+06</td>\n",
       "    </tr>\n",
       "    <tr>\n",
       "      <th>3</th>\n",
       "      <td>2012-10-26</td>\n",
       "      <td>4.672806e+05</td>\n",
       "      <td>-2.982732e+05</td>\n",
       "      <td>1.321106e+06</td>\n",
       "    </tr>\n",
       "    <tr>\n",
       "      <th>3</th>\n",
       "      <td>2012-11-05</td>\n",
       "      <td>4.684303e+05</td>\n",
       "      <td>-3.312460e+05</td>\n",
       "      <td>1.289532e+06</td>\n",
       "    </tr>\n",
       "    <tr>\n",
       "      <th>3</th>\n",
       "      <td>2012-12-10</td>\n",
       "      <td>4.724542e+05</td>\n",
       "      <td>-2.931511e+05</td>\n",
       "      <td>1.224886e+06</td>\n",
       "    </tr>\n",
       "  </tbody>\n",
       "</table>\n",
       "<p>84 rows × 4 columns</p>\n",
       "</div>"
      ],
      "text/plain": [
       "               ds          yhat    yhat_lower    yhat_upper\n",
       "Region                                                     \n",
       "1      2012-01-06  1.640099e+06  1.522742e+06  1.754527e+06\n",
       "1      2012-03-08  1.697905e+06  1.571287e+06  1.812291e+06\n",
       "1      2012-04-05  1.702976e+06  1.585735e+06  1.814612e+06\n",
       "1      2012-04-20  1.657801e+06  1.539653e+06  1.781177e+06\n",
       "1      2012-04-27  1.654904e+06  1.540604e+06  1.767351e+06\n",
       "...           ...           ...           ...           ...\n",
       "3      2012-10-08  4.652112e+05 -3.068969e+05  1.233938e+06\n",
       "3      2012-10-19  4.664759e+05 -2.996045e+05  1.279107e+06\n",
       "3      2012-10-26  4.672806e+05 -2.982732e+05  1.321106e+06\n",
       "3      2012-11-05  4.684303e+05 -3.312460e+05  1.289532e+06\n",
       "3      2012-12-10  4.724542e+05 -2.931511e+05  1.224886e+06\n",
       "\n",
       "[84 rows x 4 columns]"
      ]
     },
     "execution_count": 48,
     "metadata": {},
     "output_type": "execute_result"
    }
   ],
   "source": [
    "result.set_index(group)"
   ]
  },
  {
   "cell_type": "code",
   "execution_count": null,
   "metadata": {},
   "outputs": [],
   "source": []
  },
  {
   "cell_type": "code",
   "execution_count": 295,
   "metadata": {},
   "outputs": [],
   "source": [
    "from azureml.core.model import Model"
   ]
  },
  {
   "cell_type": "code",
   "execution_count": 296,
   "metadata": {},
   "outputs": [
    {
     "name": "stderr",
     "output_type": "stream",
     "text": [
      "INFO:adal-python:a0005f78-f9bb-46ac-a473-796a253a8d3a - CacheDriver:Cached token is expired at 2022-01-06 20:43:40.915866.  Refreshing\n",
      "INFO:adal-python:a0005f78-f9bb-46ac-a473-796a253a8d3a - TokenRequest:Getting a new token from a refresh token\n",
      "INFO:adal-python:a0005f78-f9bb-46ac-a473-796a253a8d3a - CacheDriver:Returning token refreshed after expiry.\n"
     ]
    }
   ],
   "source": [
    "model_path = Model.get_model_path(\"Prophet\", _workspace=ws)"
   ]
  },
  {
   "cell_type": "code",
   "execution_count": 297,
   "metadata": {},
   "outputs": [
    {
     "data": {
      "text/plain": [
       "'azureml-models\\\\Prophet\\\\4\\\\model.pkl'"
      ]
     },
     "execution_count": 297,
     "metadata": {},
     "output_type": "execute_result"
    }
   ],
   "source": [
    "model_path"
   ]
  },
  {
   "cell_type": "code",
   "execution_count": 298,
   "metadata": {},
   "outputs": [],
   "source": [
    "model = joblib.load(model_path)"
   ]
  },
  {
   "cell_type": "code",
   "execution_count": 299,
   "metadata": {},
   "outputs": [
    {
     "data": {
      "text/plain": [
       "<prophet.forecaster.Prophet at 0x203a995c088>"
      ]
     },
     "execution_count": 299,
     "metadata": {},
     "output_type": "execute_result"
    }
   ],
   "source": [
    "model[1]"
   ]
  },
  {
   "cell_type": "code",
   "execution_count": 24,
   "metadata": {},
   "outputs": [],
   "source": [
    "# Dataset for inference\n",
    "ds2 = ws.datasets[\"test_payload2_azureml v3\"]\n",
    "ds2.name\n",
    "dataset = Dataset.get_by_name(ws, name = ds2.name)\n",
    "df = dataset.to_pandas_dataframe()\n",
    "df = df.set_index(group)"
   ]
  },
  {
   "cell_type": "code",
   "execution_count": 29,
   "metadata": {},
   "outputs": [],
   "source": [
    "# Formatting Test dataset for prediction\n",
    "df = df.rename(columns = {target: \"y\", time: \"ds\"})"
   ]
  },
  {
   "cell_type": "code",
   "execution_count": 301,
   "metadata": {},
   "outputs": [],
   "source": [
    "df = test"
   ]
  },
  {
   "cell_type": "code",
   "execution_count": 302,
   "metadata": {},
   "outputs": [],
   "source": [
    "# GROUPS = [ (x, ) for x in df.index.unique()]\n",
    "GROUPS = list(df.index.unique())"
   ]
  },
  {
   "cell_type": "code",
   "execution_count": 303,
   "metadata": {},
   "outputs": [],
   "source": [
    "final_groups = list(df.index.names)"
   ]
  },
  {
   "cell_type": "code",
   "execution_count": null,
   "metadata": {},
   "outputs": [],
   "source": []
  },
  {
   "cell_type": "code",
   "execution_count": 305,
   "metadata": {},
   "outputs": [],
   "source": [
    "results = pd.DataFrame()\n",
    "\n",
    "# Batch prediction\n",
    "for region in GROUPS[:3]:\n",
    "    forecast = model[region].predict(df.loc[region, ])\n",
    "\n",
    "    if len(group) >= 2:\n",
    "        counter = 0\n",
    "        for group_cat in final_groups:\n",
    "            forecast[group_cat] = region[counter]\n",
    "            forecast = forecast[final_groups + [\"ds\", \"yhat\", \"yhat_lower\", \"yhat_upper\"]]\n",
    "            counter += 1\n",
    "    else:\n",
    "        forecast[group] = region\n",
    "        forecast = forecast[group + [\"ds\", \"yhat\", \"yhat_lower\", \"yhat_upper\"]]\n",
    "\n",
    "    \n",
    "    results = results.append(forecast)\n",
    "\n",
    "results = results.set_index(group)"
   ]
  },
  {
   "cell_type": "code",
   "execution_count": 306,
   "metadata": {},
   "outputs": [
    {
     "data": {
      "text/plain": [
       "84"
      ]
     },
     "execution_count": 306,
     "metadata": {},
     "output_type": "execute_result"
    }
   ],
   "source": [
    "len(results)"
   ]
  },
  {
   "cell_type": "code",
   "execution_count": 307,
   "metadata": {},
   "outputs": [
    {
     "data": {
      "text/plain": [
       "84"
      ]
     },
     "execution_count": 307,
     "metadata": {},
     "output_type": "execute_result"
    }
   ],
   "source": [
    "len(df.loc[1:3, ])"
   ]
  },
  {
   "cell_type": "code",
   "execution_count": 308,
   "metadata": {},
   "outputs": [
    {
     "data": {
      "text/html": [
       "<div>\n",
       "<style scoped>\n",
       "    .dataframe tbody tr th:only-of-type {\n",
       "        vertical-align: middle;\n",
       "    }\n",
       "\n",
       "    .dataframe tbody tr th {\n",
       "        vertical-align: top;\n",
       "    }\n",
       "\n",
       "    .dataframe thead th {\n",
       "        text-align: right;\n",
       "    }\n",
       "</style>\n",
       "<table border=\"1\" class=\"dataframe\">\n",
       "  <thead>\n",
       "    <tr style=\"text-align: right;\">\n",
       "      <th></th>\n",
       "      <th>ds</th>\n",
       "      <th>yhat</th>\n",
       "      <th>yhat_lower</th>\n",
       "      <th>yhat_upper</th>\n",
       "    </tr>\n",
       "    <tr>\n",
       "      <th>Region</th>\n",
       "      <th></th>\n",
       "      <th></th>\n",
       "      <th></th>\n",
       "      <th></th>\n",
       "    </tr>\n",
       "  </thead>\n",
       "  <tbody>\n",
       "    <tr>\n",
       "      <th>1</th>\n",
       "      <td>2012-04-20</td>\n",
       "      <td>1.651970e+06</td>\n",
       "      <td>1.531945e+06</td>\n",
       "      <td>1.780034e+06</td>\n",
       "    </tr>\n",
       "    <tr>\n",
       "      <th>1</th>\n",
       "      <td>2012-04-27</td>\n",
       "      <td>1.626229e+06</td>\n",
       "      <td>1.505128e+06</td>\n",
       "      <td>1.743309e+06</td>\n",
       "    </tr>\n",
       "    <tr>\n",
       "      <th>1</th>\n",
       "      <td>2012-05-04</td>\n",
       "      <td>1.617002e+06</td>\n",
       "      <td>1.502217e+06</td>\n",
       "      <td>1.741401e+06</td>\n",
       "    </tr>\n",
       "    <tr>\n",
       "      <th>1</th>\n",
       "      <td>2012-05-11</td>\n",
       "      <td>1.613032e+06</td>\n",
       "      <td>1.491294e+06</td>\n",
       "      <td>1.726702e+06</td>\n",
       "    </tr>\n",
       "    <tr>\n",
       "      <th>1</th>\n",
       "      <td>2012-05-18</td>\n",
       "      <td>1.616998e+06</td>\n",
       "      <td>1.492250e+06</td>\n",
       "      <td>1.738939e+06</td>\n",
       "    </tr>\n",
       "    <tr>\n",
       "      <th>...</th>\n",
       "      <td>...</td>\n",
       "      <td>...</td>\n",
       "      <td>...</td>\n",
       "      <td>...</td>\n",
       "    </tr>\n",
       "    <tr>\n",
       "      <th>3</th>\n",
       "      <td>2012-09-28</td>\n",
       "      <td>3.701886e+05</td>\n",
       "      <td>-3.683704e+05</td>\n",
       "      <td>1.163608e+06</td>\n",
       "    </tr>\n",
       "    <tr>\n",
       "      <th>3</th>\n",
       "      <td>2012-10-05</td>\n",
       "      <td>3.698304e+05</td>\n",
       "      <td>-4.332135e+05</td>\n",
       "      <td>1.120905e+06</td>\n",
       "    </tr>\n",
       "    <tr>\n",
       "      <th>3</th>\n",
       "      <td>2012-10-12</td>\n",
       "      <td>3.694723e+05</td>\n",
       "      <td>-3.857876e+05</td>\n",
       "      <td>1.136627e+06</td>\n",
       "    </tr>\n",
       "    <tr>\n",
       "      <th>3</th>\n",
       "      <td>2012-10-19</td>\n",
       "      <td>3.691141e+05</td>\n",
       "      <td>-3.984762e+05</td>\n",
       "      <td>1.134706e+06</td>\n",
       "    </tr>\n",
       "    <tr>\n",
       "      <th>3</th>\n",
       "      <td>2012-10-26</td>\n",
       "      <td>3.687559e+05</td>\n",
       "      <td>-3.701250e+05</td>\n",
       "      <td>1.114269e+06</td>\n",
       "    </tr>\n",
       "  </tbody>\n",
       "</table>\n",
       "<p>84 rows × 4 columns</p>\n",
       "</div>"
      ],
      "text/plain": [
       "               ds          yhat    yhat_lower    yhat_upper\n",
       "Region                                                     \n",
       "1      2012-04-20  1.651970e+06  1.531945e+06  1.780034e+06\n",
       "1      2012-04-27  1.626229e+06  1.505128e+06  1.743309e+06\n",
       "1      2012-05-04  1.617002e+06  1.502217e+06  1.741401e+06\n",
       "1      2012-05-11  1.613032e+06  1.491294e+06  1.726702e+06\n",
       "1      2012-05-18  1.616998e+06  1.492250e+06  1.738939e+06\n",
       "...           ...           ...           ...           ...\n",
       "3      2012-09-28  3.701886e+05 -3.683704e+05  1.163608e+06\n",
       "3      2012-10-05  3.698304e+05 -4.332135e+05  1.120905e+06\n",
       "3      2012-10-12  3.694723e+05 -3.857876e+05  1.136627e+06\n",
       "3      2012-10-19  3.691141e+05 -3.984762e+05  1.134706e+06\n",
       "3      2012-10-26  3.687559e+05 -3.701250e+05  1.114269e+06\n",
       "\n",
       "[84 rows x 4 columns]"
      ]
     },
     "execution_count": 308,
     "metadata": {},
     "output_type": "execute_result"
    }
   ],
   "source": [
    "results"
   ]
  },
  {
   "cell_type": "code",
   "execution_count": 315,
   "metadata": {},
   "outputs": [
    {
     "data": {
      "text/html": [
       "<div>\n",
       "<style scoped>\n",
       "    .dataframe tbody tr th:only-of-type {\n",
       "        vertical-align: middle;\n",
       "    }\n",
       "\n",
       "    .dataframe tbody tr th {\n",
       "        vertical-align: top;\n",
       "    }\n",
       "\n",
       "    .dataframe thead th {\n",
       "        text-align: right;\n",
       "    }\n",
       "</style>\n",
       "<table border=\"1\" class=\"dataframe\">\n",
       "  <thead>\n",
       "    <tr style=\"text-align: right;\">\n",
       "      <th></th>\n",
       "      <th>ds</th>\n",
       "      <th>yhat</th>\n",
       "      <th>yhat_lower</th>\n",
       "      <th>yhat_upper</th>\n",
       "    </tr>\n",
       "    <tr>\n",
       "      <th>Region</th>\n",
       "      <th></th>\n",
       "      <th></th>\n",
       "      <th></th>\n",
       "      <th></th>\n",
       "    </tr>\n",
       "  </thead>\n",
       "  <tbody>\n",
       "    <tr>\n",
       "      <th>1</th>\n",
       "      <td>2012-04-20</td>\n",
       "      <td>1.651970e+06</td>\n",
       "      <td>1.531945e+06</td>\n",
       "      <td>1.780034e+06</td>\n",
       "    </tr>\n",
       "    <tr>\n",
       "      <th>1</th>\n",
       "      <td>2012-04-27</td>\n",
       "      <td>1.626229e+06</td>\n",
       "      <td>1.505128e+06</td>\n",
       "      <td>1.743309e+06</td>\n",
       "    </tr>\n",
       "    <tr>\n",
       "      <th>1</th>\n",
       "      <td>2012-05-04</td>\n",
       "      <td>1.617002e+06</td>\n",
       "      <td>1.502217e+06</td>\n",
       "      <td>1.741401e+06</td>\n",
       "    </tr>\n",
       "    <tr>\n",
       "      <th>1</th>\n",
       "      <td>2012-05-11</td>\n",
       "      <td>1.613032e+06</td>\n",
       "      <td>1.491294e+06</td>\n",
       "      <td>1.726702e+06</td>\n",
       "    </tr>\n",
       "    <tr>\n",
       "      <th>1</th>\n",
       "      <td>2012-05-18</td>\n",
       "      <td>1.616998e+06</td>\n",
       "      <td>1.492250e+06</td>\n",
       "      <td>1.738939e+06</td>\n",
       "    </tr>\n",
       "    <tr>\n",
       "      <th>1</th>\n",
       "      <td>2012-05-25</td>\n",
       "      <td>1.629208e+06</td>\n",
       "      <td>1.506403e+06</td>\n",
       "      <td>1.747926e+06</td>\n",
       "    </tr>\n",
       "    <tr>\n",
       "      <th>1</th>\n",
       "      <td>2012-06-01</td>\n",
       "      <td>1.628390e+06</td>\n",
       "      <td>1.512677e+06</td>\n",
       "      <td>1.751820e+06</td>\n",
       "    </tr>\n",
       "    <tr>\n",
       "      <th>1</th>\n",
       "      <td>2012-06-08</td>\n",
       "      <td>1.628568e+06</td>\n",
       "      <td>1.506797e+06</td>\n",
       "      <td>1.762371e+06</td>\n",
       "    </tr>\n",
       "    <tr>\n",
       "      <th>1</th>\n",
       "      <td>2012-06-15</td>\n",
       "      <td>1.633041e+06</td>\n",
       "      <td>1.503536e+06</td>\n",
       "      <td>1.745841e+06</td>\n",
       "    </tr>\n",
       "    <tr>\n",
       "      <th>1</th>\n",
       "      <td>2012-06-22</td>\n",
       "      <td>1.629683e+06</td>\n",
       "      <td>1.507868e+06</td>\n",
       "      <td>1.757936e+06</td>\n",
       "    </tr>\n",
       "    <tr>\n",
       "      <th>1</th>\n",
       "      <td>2012-06-29</td>\n",
       "      <td>1.616258e+06</td>\n",
       "      <td>1.490861e+06</td>\n",
       "      <td>1.736481e+06</td>\n",
       "    </tr>\n",
       "    <tr>\n",
       "      <th>1</th>\n",
       "      <td>2012-07-06</td>\n",
       "      <td>1.606128e+06</td>\n",
       "      <td>1.481528e+06</td>\n",
       "      <td>1.730312e+06</td>\n",
       "    </tr>\n",
       "    <tr>\n",
       "      <th>1</th>\n",
       "      <td>2012-07-13</td>\n",
       "      <td>1.578210e+06</td>\n",
       "      <td>1.454032e+06</td>\n",
       "      <td>1.702737e+06</td>\n",
       "    </tr>\n",
       "    <tr>\n",
       "      <th>1</th>\n",
       "      <td>2012-07-20</td>\n",
       "      <td>1.582184e+06</td>\n",
       "      <td>1.460877e+06</td>\n",
       "      <td>1.701853e+06</td>\n",
       "    </tr>\n",
       "    <tr>\n",
       "      <th>1</th>\n",
       "      <td>2012-07-27</td>\n",
       "      <td>1.605307e+06</td>\n",
       "      <td>1.486368e+06</td>\n",
       "      <td>1.728831e+06</td>\n",
       "    </tr>\n",
       "    <tr>\n",
       "      <th>1</th>\n",
       "      <td>2012-08-03</td>\n",
       "      <td>1.630435e+06</td>\n",
       "      <td>1.521938e+06</td>\n",
       "      <td>1.752552e+06</td>\n",
       "    </tr>\n",
       "    <tr>\n",
       "      <th>1</th>\n",
       "      <td>2012-08-10</td>\n",
       "      <td>1.652065e+06</td>\n",
       "      <td>1.530967e+06</td>\n",
       "      <td>1.773162e+06</td>\n",
       "    </tr>\n",
       "    <tr>\n",
       "      <th>1</th>\n",
       "      <td>2012-08-17</td>\n",
       "      <td>1.676742e+06</td>\n",
       "      <td>1.548671e+06</td>\n",
       "      <td>1.791795e+06</td>\n",
       "    </tr>\n",
       "    <tr>\n",
       "      <th>1</th>\n",
       "      <td>2012-08-24</td>\n",
       "      <td>1.689471e+06</td>\n",
       "      <td>1.563152e+06</td>\n",
       "      <td>1.806009e+06</td>\n",
       "    </tr>\n",
       "    <tr>\n",
       "      <th>1</th>\n",
       "      <td>2012-08-31</td>\n",
       "      <td>1.692364e+06</td>\n",
       "      <td>1.567411e+06</td>\n",
       "      <td>1.811908e+06</td>\n",
       "    </tr>\n",
       "    <tr>\n",
       "      <th>1</th>\n",
       "      <td>2012-09-07</td>\n",
       "      <td>1.670265e+06</td>\n",
       "      <td>1.557503e+06</td>\n",
       "      <td>1.793289e+06</td>\n",
       "    </tr>\n",
       "    <tr>\n",
       "      <th>1</th>\n",
       "      <td>2012-09-14</td>\n",
       "      <td>1.618469e+06</td>\n",
       "      <td>1.496865e+06</td>\n",
       "      <td>1.739519e+06</td>\n",
       "    </tr>\n",
       "    <tr>\n",
       "      <th>1</th>\n",
       "      <td>2012-09-21</td>\n",
       "      <td>1.597779e+06</td>\n",
       "      <td>1.472067e+06</td>\n",
       "      <td>1.719385e+06</td>\n",
       "    </tr>\n",
       "    <tr>\n",
       "      <th>1</th>\n",
       "      <td>2012-09-28</td>\n",
       "      <td>1.626533e+06</td>\n",
       "      <td>1.504542e+06</td>\n",
       "      <td>1.748042e+06</td>\n",
       "    </tr>\n",
       "    <tr>\n",
       "      <th>1</th>\n",
       "      <td>2012-10-05</td>\n",
       "      <td>1.691076e+06</td>\n",
       "      <td>1.560185e+06</td>\n",
       "      <td>1.815503e+06</td>\n",
       "    </tr>\n",
       "    <tr>\n",
       "      <th>1</th>\n",
       "      <td>2012-10-12</td>\n",
       "      <td>1.691884e+06</td>\n",
       "      <td>1.561183e+06</td>\n",
       "      <td>1.811272e+06</td>\n",
       "    </tr>\n",
       "    <tr>\n",
       "      <th>1</th>\n",
       "      <td>2012-10-19</td>\n",
       "      <td>1.671660e+06</td>\n",
       "      <td>1.548861e+06</td>\n",
       "      <td>1.798444e+06</td>\n",
       "    </tr>\n",
       "    <tr>\n",
       "      <th>1</th>\n",
       "      <td>2012-10-26</td>\n",
       "      <td>1.655358e+06</td>\n",
       "      <td>1.530590e+06</td>\n",
       "      <td>1.778464e+06</td>\n",
       "    </tr>\n",
       "  </tbody>\n",
       "</table>\n",
       "</div>"
      ],
      "text/plain": [
       "               ds          yhat    yhat_lower    yhat_upper\n",
       "Region                                                     \n",
       "1      2012-04-20  1.651970e+06  1.531945e+06  1.780034e+06\n",
       "1      2012-04-27  1.626229e+06  1.505128e+06  1.743309e+06\n",
       "1      2012-05-04  1.617002e+06  1.502217e+06  1.741401e+06\n",
       "1      2012-05-11  1.613032e+06  1.491294e+06  1.726702e+06\n",
       "1      2012-05-18  1.616998e+06  1.492250e+06  1.738939e+06\n",
       "1      2012-05-25  1.629208e+06  1.506403e+06  1.747926e+06\n",
       "1      2012-06-01  1.628390e+06  1.512677e+06  1.751820e+06\n",
       "1      2012-06-08  1.628568e+06  1.506797e+06  1.762371e+06\n",
       "1      2012-06-15  1.633041e+06  1.503536e+06  1.745841e+06\n",
       "1      2012-06-22  1.629683e+06  1.507868e+06  1.757936e+06\n",
       "1      2012-06-29  1.616258e+06  1.490861e+06  1.736481e+06\n",
       "1      2012-07-06  1.606128e+06  1.481528e+06  1.730312e+06\n",
       "1      2012-07-13  1.578210e+06  1.454032e+06  1.702737e+06\n",
       "1      2012-07-20  1.582184e+06  1.460877e+06  1.701853e+06\n",
       "1      2012-07-27  1.605307e+06  1.486368e+06  1.728831e+06\n",
       "1      2012-08-03  1.630435e+06  1.521938e+06  1.752552e+06\n",
       "1      2012-08-10  1.652065e+06  1.530967e+06  1.773162e+06\n",
       "1      2012-08-17  1.676742e+06  1.548671e+06  1.791795e+06\n",
       "1      2012-08-24  1.689471e+06  1.563152e+06  1.806009e+06\n",
       "1      2012-08-31  1.692364e+06  1.567411e+06  1.811908e+06\n",
       "1      2012-09-07  1.670265e+06  1.557503e+06  1.793289e+06\n",
       "1      2012-09-14  1.618469e+06  1.496865e+06  1.739519e+06\n",
       "1      2012-09-21  1.597779e+06  1.472067e+06  1.719385e+06\n",
       "1      2012-09-28  1.626533e+06  1.504542e+06  1.748042e+06\n",
       "1      2012-10-05  1.691076e+06  1.560185e+06  1.815503e+06\n",
       "1      2012-10-12  1.691884e+06  1.561183e+06  1.811272e+06\n",
       "1      2012-10-19  1.671660e+06  1.548861e+06  1.798444e+06\n",
       "1      2012-10-26  1.655358e+06  1.530590e+06  1.778464e+06"
      ]
     },
     "execution_count": 315,
     "metadata": {},
     "output_type": "execute_result"
    }
   ],
   "source": [
    "results.loc[1]"
   ]
  },
  {
   "cell_type": "code",
   "execution_count": 316,
   "metadata": {},
   "outputs": [
    {
     "name": "stderr",
     "output_type": "stream",
     "text": [
      "INFO:azureml.data.datastore_client:<azureml.core.authentication.InteractiveLoginAuthentication object at 0x00000203A989E748>\n"
     ]
    },
    {
     "data": {
      "text/plain": [
       "{'azureml': {\n",
       "   \"name\": \"azureml\",\n",
       "   \"container_name\": \"azureml\",\n",
       "   \"account_name\": \"walmartsales2005913347\",\n",
       "   \"protocol\": \"https\",\n",
       "   \"endpoint\": \"core.windows.net\"\n",
       " },\n",
       " 'azureml_globaldatasets': {\n",
       "   \"name\": \"azureml_globaldatasets\",\n",
       "   \"container_name\": \"globaldatasets\",\n",
       "   \"account_name\": \"mmstoragesoutheastasia\",\n",
       "   \"protocol\": \"https\",\n",
       "   \"endpoint\": \"core.windows.net\"\n",
       " },\n",
       " 'workspacefilestore': {\n",
       "   \"name\": \"workspacefilestore\",\n",
       "   \"container_name\": \"azureml-filestore-58018f5f-a704-46b4-b4da-c5cee3b94c2d\",\n",
       "   \"account_name\": \"walmartsales2005913347\",\n",
       "   \"protocol\": \"https\",\n",
       "   \"endpoint\": \"core.windows.net\"\n",
       " },\n",
       " 'workspaceblobstore': {\n",
       "   \"name\": \"workspaceblobstore\",\n",
       "   \"container_name\": \"azureml-blobstore-58018f5f-a704-46b4-b4da-c5cee3b94c2d\",\n",
       "   \"account_name\": \"walmartsales2005913347\",\n",
       "   \"protocol\": \"https\",\n",
       "   \"endpoint\": \"core.windows.net\"\n",
       " },\n",
       " 'workspaceartifactstore': {\n",
       "   \"name\": \"workspaceartifactstore\",\n",
       "   \"container_name\": \"azureml\",\n",
       "   \"account_name\": \"walmartsales2005913347\",\n",
       "   \"protocol\": \"https\",\n",
       "   \"endpoint\": \"core.windows.net\"\n",
       " },\n",
       " 'workspaceworkingdirectory': {\n",
       "   \"name\": \"workspaceworkingdirectory\",\n",
       "   \"container_name\": \"codeshare-58018f5f-a704-46b4-b4da-c5cee3b94c2d\",\n",
       "   \"account_name\": \"walmartsales2005913347\",\n",
       "   \"protocol\": \"https\",\n",
       "   \"endpoint\": \"core.windows.net\"\n",
       " }}"
      ]
     },
     "execution_count": 316,
     "metadata": {},
     "output_type": "execute_result"
    }
   ],
   "source": [
    "ws.datastores"
   ]
  },
  {
   "cell_type": "code",
   "execution_count": 406,
   "metadata": {},
   "outputs": [
    {
     "name": "stderr",
     "output_type": "stream",
     "text": [
      "INFO:azureml.data.datastore_client:<azureml.core.authentication.InteractiveLoginAuthentication object at 0x00000203A989E748>\n",
      "INFO:adal-python:248f57af-f7d0-4350-a0c7-ac49b19c2140 - CacheDriver:Cached token is expired at 2022-01-06 23:12:26.790362.  Refreshing\n",
      "INFO:adal-python:248f57af-f7d0-4350-a0c7-ac49b19c2140 - TokenRequest:Getting a new token from a refresh token\n",
      "INFO:adal-python:248f57af-f7d0-4350-a0c7-ac49b19c2140 - CacheDriver:Returning token refreshed after expiry.\n"
     ]
    }
   ],
   "source": [
    "datastore = Datastore.get(ws, datastore_name = \"predictions\")"
   ]
  },
  {
   "cell_type": "code",
   "execution_count": 412,
   "metadata": {},
   "outputs": [],
   "source": [
    "\n",
    "LOCAL_DIR = os.path.join(os.getcwd(), \"predictions\")\n",
    "PRED_FILE_NAME = \"prophet_predictions_{save_time}.csv\".format(save_time = datetime.now().strftime(\"%d%m%y_%H%M\"))\n",
    "LOCAL_PATH = os.path.join(LOCAL_DIR, PRED_FILE_NAME)\n",
    "results.to_csv(LOCAL_PATH, index=True)"
   ]
  },
  {
   "cell_type": "code",
   "execution_count": 413,
   "metadata": {},
   "outputs": [
    {
     "data": {
      "text/plain": [
       "'prophet_predictions_060122_2351.csv'"
      ]
     },
     "execution_count": 413,
     "metadata": {},
     "output_type": "execute_result"
    }
   ],
   "source": [
    "\"prophet_predictions_{save_time}.csv\".format(save_time = datetime.now().strftime(\"%d%m%y_%H%M\"))"
   ]
  },
  {
   "cell_type": "code",
   "execution_count": 417,
   "metadata": {},
   "outputs": [],
   "source": [
    "# datastore.upload(\n",
    "#     src_dir= LOCAL_DIR,\n",
    "#     # target_path = \"/prophet/prophet_predictions_{save_time}.csv\".format(save_time = datetime.now().strftime(\"%d%m%y_%H%M\"))\n",
    "#     target_path = \"prophet/\",\n",
    "#     overwrite=True\n",
    "# )\n",
    "\n",
    "# datastore.upload(src_dir = LOCAL_PATH)"
   ]
  },
  {
   "cell_type": "code",
   "execution_count": 370,
   "metadata": {},
   "outputs": [
    {
     "data": {
      "text/plain": [
       "'c:\\\\Users\\\\XA155XB\\\\OneDrive - EY\\\\Documents\\\\GitHub\\\\WalmartSales\\\\notebooks\\\\predictions\\\\prophet_predictions.csv'"
      ]
     },
     "execution_count": 370,
     "metadata": {},
     "output_type": "execute_result"
    }
   ],
   "source": [
    "LOCAL_PATH"
   ]
  },
  {
   "cell_type": "code",
   "execution_count": 416,
   "metadata": {},
   "outputs": [
    {
     "name": "stderr",
     "output_type": "stream",
     "text": [
      "INFO:azureml.data.azure_storage_datastore:Called AzureBlobDatastore.upload_files\n",
      "INFO:azureml.data.azure_storage_datastore:Uploading an estimated of 1 files\n"
     ]
    },
    {
     "name": "stdout",
     "output_type": "stream",
     "text": [
      "Uploading an estimated of 1 files\n"
     ]
    },
    {
     "name": "stderr",
     "output_type": "stream",
     "text": [
      "INFO:azureml.data.azure_storage_datastore.task_upload_prophet/prophet_predictions_060122_2351.csv:Uploading c:\\Users\\XA155XB\\OneDrive - EY\\Documents\\GitHub\\WalmartSales\\notebooks\\predictions\\prophet_predictions_060122_2351.csv\n",
      "INFO:azureml.data.azure_storage_datastore.task_upload_prophet/prophet_predictions_060122_2351.csv:Uploaded c:\\Users\\XA155XB\\OneDrive - EY\\Documents\\GitHub\\WalmartSales\\notebooks\\predictions\\prophet_predictions_060122_2351.csv, 1 files out of an estimated total of 1\n",
      "INFO:azureml.data.azure_storage_datastore:Uploaded 1 files\n",
      "INFO:azureml.data.azure_storage_datastore:Finished AzureBlobDatastore.upload with count=1.\n"
     ]
    },
    {
     "name": "stdout",
     "output_type": "stream",
     "text": [
      "Uploading c:\\Users\\XA155XB\\OneDrive - EY\\Documents\\GitHub\\WalmartSales\\notebooks\\predictions\\prophet_predictions_060122_2351.csv\n",
      "Uploaded c:\\Users\\XA155XB\\OneDrive - EY\\Documents\\GitHub\\WalmartSales\\notebooks\\predictions\\prophet_predictions_060122_2351.csv, 1 files out of an estimated total of 1\n",
      "Uploaded 1 files\n"
     ]
    },
    {
     "data": {
      "text/plain": [
       "$AZUREML_DATAREFERENCE_3bf25f0559494fb9aa1ecf84261a0a83"
      ]
     },
     "execution_count": 416,
     "metadata": {},
     "output_type": "execute_result"
    }
   ],
   "source": [
    "datastore.upload_files(\n",
    "    files = [LOCAL_PATH],\n",
    "    # target_path=\"./\"\n",
    "    target_path = \"prophet/\",\n",
    "    # target_path = \"prophet/\",\n",
    "    overwrite=True\n",
    ")"
   ]
  },
  {
   "cell_type": "code",
   "execution_count": null,
   "metadata": {},
   "outputs": [],
   "source": []
  },
  {
   "cell_type": "code",
   "execution_count": null,
   "metadata": {},
   "outputs": [],
   "source": []
  },
  {
   "cell_type": "code",
   "execution_count": null,
   "metadata": {},
   "outputs": [],
   "source": []
  },
  {
   "cell_type": "code",
   "execution_count": null,
   "metadata": {},
   "outputs": [],
   "source": []
  },
  {
   "cell_type": "code",
   "execution_count": null,
   "metadata": {},
   "outputs": [],
   "source": []
  },
  {
   "cell_type": "code",
   "execution_count": null,
   "metadata": {},
   "outputs": [],
   "source": []
  },
  {
   "cell_type": "code",
   "execution_count": 110,
   "metadata": {},
   "outputs": [],
   "source": [
    "# model = Prophet(\n",
    "#     growth=\"linear\",\n",
    "#     changepoint_range=0.69,\n",
    "#     holidays_prior_scale=0.25, changepoint_prior_scale=0.05, \n",
    "#     seasonality_mode = \"additive\", seasonality_prior_scale= 30,\n",
    "#     yearly_seasonality=\"auto\",\n",
    "#     weekly_seasonality=\"auto\",\n",
    "#     daily_seasonality=\"auto\",\n",
    "# )"
   ]
  },
  {
   "cell_type": "code",
   "execution_count": 111,
   "metadata": {},
   "outputs": [
    {
     "name": "stdout",
     "output_type": "stream",
     "text": [
      "Temperature\n",
      "Fuel_Price\n",
      "CPI\n",
      "Unemployment\n",
      "Size\n"
     ]
    }
   ],
   "source": [
    "model.add_country_holidays(country_name=\"US\")\n",
    "\n",
    "for col in train.drop([\"ds\", \"y\"] + group, axis=1).columns:\n",
    "    print(col)\n",
    "    model.add_regressor(name=col, standardize='auto', mode='additive')"
   ]
  },
  {
   "cell_type": "code",
   "execution_count": 112,
   "metadata": {},
   "outputs": [
    {
     "data": {
      "text/plain": [
       "OrderedDict([('Temperature',\n",
       "              {'prior_scale': 0.25,\n",
       "               'standardize': 'auto',\n",
       "               'mu': 0.0,\n",
       "               'std': 1.0,\n",
       "               'mode': 'additive'}),\n",
       "             ('Fuel_Price',\n",
       "              {'prior_scale': 0.25,\n",
       "               'standardize': 'auto',\n",
       "               'mu': 0.0,\n",
       "               'std': 1.0,\n",
       "               'mode': 'additive'}),\n",
       "             ('CPI',\n",
       "              {'prior_scale': 0.25,\n",
       "               'standardize': 'auto',\n",
       "               'mu': 0.0,\n",
       "               'std': 1.0,\n",
       "               'mode': 'additive'}),\n",
       "             ('Unemployment',\n",
       "              {'prior_scale': 0.25,\n",
       "               'standardize': 'auto',\n",
       "               'mu': 0.0,\n",
       "               'std': 1.0,\n",
       "               'mode': 'additive'}),\n",
       "             ('Size',\n",
       "              {'prior_scale': 0.25,\n",
       "               'standardize': 'auto',\n",
       "               'mu': 0.0,\n",
       "               'std': 1.0,\n",
       "               'mode': 'additive'})])"
      ]
     },
     "execution_count": 112,
     "metadata": {},
     "output_type": "execute_result"
    }
   ],
   "source": [
    "model.extra_regressors"
   ]
  },
  {
   "cell_type": "code",
   "execution_count": 113,
   "metadata": {},
   "outputs": [
    {
     "name": "stderr",
     "output_type": "stream",
     "text": [
      "INFO:prophet:Disabling weekly seasonality. Run prophet with weekly_seasonality=True to override this.\n",
      "INFO:prophet:Disabling daily seasonality. Run prophet with daily_seasonality=True to override this.\n",
      "WARNING:prophet.models:Optimization terminated abnormally. Falling back to Newton.\n"
     ]
    },
    {
     "data": {
      "text/plain": [
       "<prophet.forecaster.Prophet at 0x2b81b9ece48>"
      ]
     },
     "execution_count": 113,
     "metadata": {},
     "output_type": "execute_result"
    }
   ],
   "source": [
    "model.fit(train[train[\"Region\"]==1])"
   ]
  },
  {
   "cell_type": "code",
   "execution_count": 114,
   "metadata": {},
   "outputs": [
    {
     "data": {
      "text/html": [
       "<div>\n",
       "<style scoped>\n",
       "    .dataframe tbody tr th:only-of-type {\n",
       "        vertical-align: middle;\n",
       "    }\n",
       "\n",
       "    .dataframe tbody tr th {\n",
       "        vertical-align: top;\n",
       "    }\n",
       "\n",
       "    .dataframe thead th {\n",
       "        text-align: right;\n",
       "    }\n",
       "</style>\n",
       "<table border=\"1\" class=\"dataframe\">\n",
       "  <thead>\n",
       "    <tr style=\"text-align: right;\">\n",
       "      <th></th>\n",
       "      <th>Region</th>\n",
       "      <th>ds</th>\n",
       "      <th>y</th>\n",
       "      <th>Temperature</th>\n",
       "      <th>Fuel_Price</th>\n",
       "      <th>CPI</th>\n",
       "      <th>Unemployment</th>\n",
       "      <th>Size</th>\n",
       "    </tr>\n",
       "  </thead>\n",
       "  <tbody>\n",
       "    <tr>\n",
       "      <th>115</th>\n",
       "      <td>1</td>\n",
       "      <td>2012-04-20</td>\n",
       "      <td>1521577.87</td>\n",
       "      <td>66.76</td>\n",
       "      <td>3.877</td>\n",
       "      <td>221.564074</td>\n",
       "      <td>7.143</td>\n",
       "      <td>151315</td>\n",
       "    </tr>\n",
       "    <tr>\n",
       "      <th>116</th>\n",
       "      <td>1</td>\n",
       "      <td>2012-04-27</td>\n",
       "      <td>1468928.37</td>\n",
       "      <td>67.23</td>\n",
       "      <td>3.814</td>\n",
       "      <td>221.617937</td>\n",
       "      <td>7.143</td>\n",
       "      <td>151315</td>\n",
       "    </tr>\n",
       "    <tr>\n",
       "      <th>117</th>\n",
       "      <td>1</td>\n",
       "      <td>2012-05-04</td>\n",
       "      <td>1684519.99</td>\n",
       "      <td>75.55</td>\n",
       "      <td>3.749</td>\n",
       "      <td>221.671800</td>\n",
       "      <td>7.143</td>\n",
       "      <td>151315</td>\n",
       "    </tr>\n",
       "    <tr>\n",
       "      <th>118</th>\n",
       "      <td>1</td>\n",
       "      <td>2012-05-11</td>\n",
       "      <td>1611096.05</td>\n",
       "      <td>73.77</td>\n",
       "      <td>3.688</td>\n",
       "      <td>221.725663</td>\n",
       "      <td>7.143</td>\n",
       "      <td>151315</td>\n",
       "    </tr>\n",
       "    <tr>\n",
       "      <th>119</th>\n",
       "      <td>1</td>\n",
       "      <td>2012-05-18</td>\n",
       "      <td>1595901.87</td>\n",
       "      <td>70.33</td>\n",
       "      <td>3.630</td>\n",
       "      <td>221.742674</td>\n",
       "      <td>7.143</td>\n",
       "      <td>151315</td>\n",
       "    </tr>\n",
       "    <tr>\n",
       "      <th>...</th>\n",
       "      <td>...</td>\n",
       "      <td>...</td>\n",
       "      <td>...</td>\n",
       "      <td>...</td>\n",
       "      <td>...</td>\n",
       "      <td>...</td>\n",
       "      <td>...</td>\n",
       "      <td>...</td>\n",
       "    </tr>\n",
       "    <tr>\n",
       "      <th>1711</th>\n",
       "      <td>12</td>\n",
       "      <td>2012-09-28</td>\n",
       "      <td>880415.67</td>\n",
       "      <td>81.22</td>\n",
       "      <td>3.966</td>\n",
       "      <td>131.043000</td>\n",
       "      <td>10.926</td>\n",
       "      <td>112238</td>\n",
       "    </tr>\n",
       "    <tr>\n",
       "      <th>1712</th>\n",
       "      <td>12</td>\n",
       "      <td>2012-10-05</td>\n",
       "      <td>979825.92</td>\n",
       "      <td>81.61</td>\n",
       "      <td>3.966</td>\n",
       "      <td>131.075667</td>\n",
       "      <td>10.199</td>\n",
       "      <td>112238</td>\n",
       "    </tr>\n",
       "    <tr>\n",
       "      <th>1713</th>\n",
       "      <td>12</td>\n",
       "      <td>2012-10-12</td>\n",
       "      <td>934917.47</td>\n",
       "      <td>71.74</td>\n",
       "      <td>4.468</td>\n",
       "      <td>131.108333</td>\n",
       "      <td>10.199</td>\n",
       "      <td>112238</td>\n",
       "    </tr>\n",
       "    <tr>\n",
       "      <th>1714</th>\n",
       "      <td>12</td>\n",
       "      <td>2012-10-19</td>\n",
       "      <td>960945.43</td>\n",
       "      <td>68.66</td>\n",
       "      <td>4.449</td>\n",
       "      <td>131.149968</td>\n",
       "      <td>10.199</td>\n",
       "      <td>112238</td>\n",
       "    </tr>\n",
       "    <tr>\n",
       "      <th>1715</th>\n",
       "      <td>12</td>\n",
       "      <td>2012-10-26</td>\n",
       "      <td>974697.60</td>\n",
       "      <td>65.95</td>\n",
       "      <td>4.301</td>\n",
       "      <td>131.193097</td>\n",
       "      <td>10.199</td>\n",
       "      <td>112238</td>\n",
       "    </tr>\n",
       "  </tbody>\n",
       "</table>\n",
       "<p>336 rows × 8 columns</p>\n",
       "</div>"
      ],
      "text/plain": [
       "      Region         ds           y  Temperature  Fuel_Price         CPI  \\\n",
       "115        1 2012-04-20  1521577.87        66.76       3.877  221.564074   \n",
       "116        1 2012-04-27  1468928.37        67.23       3.814  221.617937   \n",
       "117        1 2012-05-04  1684519.99        75.55       3.749  221.671800   \n",
       "118        1 2012-05-11  1611096.05        73.77       3.688  221.725663   \n",
       "119        1 2012-05-18  1595901.87        70.33       3.630  221.742674   \n",
       "...      ...        ...         ...          ...         ...         ...   \n",
       "1711      12 2012-09-28   880415.67        81.22       3.966  131.043000   \n",
       "1712      12 2012-10-05   979825.92        81.61       3.966  131.075667   \n",
       "1713      12 2012-10-12   934917.47        71.74       4.468  131.108333   \n",
       "1714      12 2012-10-19   960945.43        68.66       4.449  131.149968   \n",
       "1715      12 2012-10-26   974697.60        65.95       4.301  131.193097   \n",
       "\n",
       "      Unemployment    Size  \n",
       "115          7.143  151315  \n",
       "116          7.143  151315  \n",
       "117          7.143  151315  \n",
       "118          7.143  151315  \n",
       "119          7.143  151315  \n",
       "...            ...     ...  \n",
       "1711        10.926  112238  \n",
       "1712        10.199  112238  \n",
       "1713        10.199  112238  \n",
       "1714        10.199  112238  \n",
       "1715        10.199  112238  \n",
       "\n",
       "[336 rows x 8 columns]"
      ]
     },
     "execution_count": 114,
     "metadata": {},
     "output_type": "execute_result"
    }
   ],
   "source": [
    "test"
   ]
  },
  {
   "cell_type": "code",
   "execution_count": 115,
   "metadata": {},
   "outputs": [],
   "source": [
    "# Predicting with model\n",
    "result = []\n",
    "\n",
    "forecast = model.predict(df=test.drop([\"y\"], axis=1))\n",
    "\n"
   ]
  },
  {
   "cell_type": "code",
   "execution_count": 143,
   "metadata": {},
   "outputs": [
    {
     "data": {
      "text/plain": [
       "28"
      ]
     },
     "execution_count": 143,
     "metadata": {},
     "output_type": "execute_result"
    }
   ],
   "source": [
    "len(test[test[\"Region\"]==1])"
   ]
  },
  {
   "cell_type": "code",
   "execution_count": 149,
   "metadata": {},
   "outputs": [
    {
     "data": {
      "text/html": [
       "<div>\n",
       "<style scoped>\n",
       "    .dataframe tbody tr th:only-of-type {\n",
       "        vertical-align: middle;\n",
       "    }\n",
       "\n",
       "    .dataframe tbody tr th {\n",
       "        vertical-align: top;\n",
       "    }\n",
       "\n",
       "    .dataframe thead th {\n",
       "        text-align: right;\n",
       "    }\n",
       "</style>\n",
       "<table border=\"1\" class=\"dataframe\">\n",
       "  <thead>\n",
       "    <tr style=\"text-align: right;\">\n",
       "      <th></th>\n",
       "      <th>ds</th>\n",
       "    </tr>\n",
       "  </thead>\n",
       "  <tbody>\n",
       "    <tr>\n",
       "      <th>0</th>\n",
       "      <td>2010-02-05</td>\n",
       "    </tr>\n",
       "    <tr>\n",
       "      <th>1</th>\n",
       "      <td>2010-02-12</td>\n",
       "    </tr>\n",
       "    <tr>\n",
       "      <th>2</th>\n",
       "      <td>2010-02-19</td>\n",
       "    </tr>\n",
       "    <tr>\n",
       "      <th>3</th>\n",
       "      <td>2010-02-26</td>\n",
       "    </tr>\n",
       "    <tr>\n",
       "      <th>4</th>\n",
       "      <td>2010-03-05</td>\n",
       "    </tr>\n",
       "    <tr>\n",
       "      <th>...</th>\n",
       "      <td>...</td>\n",
       "    </tr>\n",
       "    <tr>\n",
       "      <th>138</th>\n",
       "      <td>2012-05-07</td>\n",
       "    </tr>\n",
       "    <tr>\n",
       "      <th>139</th>\n",
       "      <td>2012-05-08</td>\n",
       "    </tr>\n",
       "    <tr>\n",
       "      <th>140</th>\n",
       "      <td>2012-05-09</td>\n",
       "    </tr>\n",
       "    <tr>\n",
       "      <th>141</th>\n",
       "      <td>2012-05-10</td>\n",
       "    </tr>\n",
       "    <tr>\n",
       "      <th>142</th>\n",
       "      <td>2012-05-11</td>\n",
       "    </tr>\n",
       "  </tbody>\n",
       "</table>\n",
       "<p>143 rows × 1 columns</p>\n",
       "</div>"
      ],
      "text/plain": [
       "            ds\n",
       "0   2010-02-05\n",
       "1   2010-02-12\n",
       "2   2010-02-19\n",
       "3   2010-02-26\n",
       "4   2010-03-05\n",
       "..         ...\n",
       "138 2012-05-07\n",
       "139 2012-05-08\n",
       "140 2012-05-09\n",
       "141 2012-05-10\n",
       "142 2012-05-11\n",
       "\n",
       "[143 rows x 1 columns]"
      ]
     },
     "execution_count": 149,
     "metadata": {},
     "output_type": "execute_result"
    }
   ],
   "source": [
    "forecast2 = model.make_future_dataframe(periods=len(test[test[\"Region\"]==1]))\n",
    "# forecast2 = model.predict(forecast2)\n",
    "forecast2"
   ]
  },
  {
   "cell_type": "code",
   "execution_count": 116,
   "metadata": {},
   "outputs": [
    {
     "data": {
      "text/html": [
       "<div>\n",
       "<style scoped>\n",
       "    .dataframe tbody tr th:only-of-type {\n",
       "        vertical-align: middle;\n",
       "    }\n",
       "\n",
       "    .dataframe tbody tr th {\n",
       "        vertical-align: top;\n",
       "    }\n",
       "\n",
       "    .dataframe thead th {\n",
       "        text-align: right;\n",
       "    }\n",
       "</style>\n",
       "<table border=\"1\" class=\"dataframe\">\n",
       "  <thead>\n",
       "    <tr style=\"text-align: right;\">\n",
       "      <th></th>\n",
       "      <th>ds</th>\n",
       "      <th>trend</th>\n",
       "      <th>yhat_lower</th>\n",
       "      <th>yhat_upper</th>\n",
       "      <th>trend_lower</th>\n",
       "      <th>trend_upper</th>\n",
       "      <th>CPI</th>\n",
       "      <th>CPI_lower</th>\n",
       "      <th>CPI_upper</th>\n",
       "      <th>Christmas Day</th>\n",
       "      <th>...</th>\n",
       "      <th>holidays</th>\n",
       "      <th>holidays_lower</th>\n",
       "      <th>holidays_upper</th>\n",
       "      <th>yearly</th>\n",
       "      <th>yearly_lower</th>\n",
       "      <th>yearly_upper</th>\n",
       "      <th>multiplicative_terms</th>\n",
       "      <th>multiplicative_terms_lower</th>\n",
       "      <th>multiplicative_terms_upper</th>\n",
       "      <th>yhat</th>\n",
       "    </tr>\n",
       "  </thead>\n",
       "  <tbody>\n",
       "    <tr>\n",
       "      <th>0</th>\n",
       "      <td>2012-04-20</td>\n",
       "      <td>-1.762261e+06</td>\n",
       "      <td>1.527175e+06</td>\n",
       "      <td>1.779576e+06</td>\n",
       "      <td>-1.762261e+06</td>\n",
       "      <td>-1.762261e+06</td>\n",
       "      <td>1.044913e+05</td>\n",
       "      <td>1.044913e+05</td>\n",
       "      <td>1.044913e+05</td>\n",
       "      <td>0.0</td>\n",
       "      <td>...</td>\n",
       "      <td>0.0</td>\n",
       "      <td>0.0</td>\n",
       "      <td>0.0</td>\n",
       "      <td>-33963.593264</td>\n",
       "      <td>-33963.593264</td>\n",
       "      <td>-33963.593264</td>\n",
       "      <td>0.0</td>\n",
       "      <td>0.0</td>\n",
       "      <td>0.0</td>\n",
       "      <td>1.651929e+06</td>\n",
       "    </tr>\n",
       "    <tr>\n",
       "      <th>1</th>\n",
       "      <td>2012-04-20</td>\n",
       "      <td>-1.762261e+06</td>\n",
       "      <td>-6.841751e+05</td>\n",
       "      <td>-4.433216e+05</td>\n",
       "      <td>-1.762261e+06</td>\n",
       "      <td>-1.762261e+06</td>\n",
       "      <td>-2.476302e+05</td>\n",
       "      <td>-2.476302e+05</td>\n",
       "      <td>-2.476302e+05</td>\n",
       "      <td>0.0</td>\n",
       "      <td>...</td>\n",
       "      <td>0.0</td>\n",
       "      <td>0.0</td>\n",
       "      <td>0.0</td>\n",
       "      <td>-33963.593264</td>\n",
       "      <td>-33963.593264</td>\n",
       "      <td>-33963.593264</td>\n",
       "      <td>0.0</td>\n",
       "      <td>0.0</td>\n",
       "      <td>0.0</td>\n",
       "      <td>-5.636628e+05</td>\n",
       "    </tr>\n",
       "    <tr>\n",
       "      <th>2</th>\n",
       "      <td>2012-04-20</td>\n",
       "      <td>-1.762261e+06</td>\n",
       "      <td>2.793337e+06</td>\n",
       "      <td>3.042680e+06</td>\n",
       "      <td>-1.762261e+06</td>\n",
       "      <td>-1.762261e+06</td>\n",
       "      <td>1.282234e+05</td>\n",
       "      <td>1.282234e+05</td>\n",
       "      <td>1.282234e+05</td>\n",
       "      <td>0.0</td>\n",
       "      <td>...</td>\n",
       "      <td>0.0</td>\n",
       "      <td>0.0</td>\n",
       "      <td>0.0</td>\n",
       "      <td>-33963.593264</td>\n",
       "      <td>-33963.593264</td>\n",
       "      <td>-33963.593264</td>\n",
       "      <td>0.0</td>\n",
       "      <td>0.0</td>\n",
       "      <td>0.0</td>\n",
       "      <td>2.910563e+06</td>\n",
       "    </tr>\n",
       "    <tr>\n",
       "      <th>3</th>\n",
       "      <td>2012-04-20</td>\n",
       "      <td>-1.762261e+06</td>\n",
       "      <td>1.233992e+06</td>\n",
       "      <td>1.478079e+06</td>\n",
       "      <td>-1.762261e+06</td>\n",
       "      <td>-1.762261e+06</td>\n",
       "      <td>1.598421e+05</td>\n",
       "      <td>1.598421e+05</td>\n",
       "      <td>1.598421e+05</td>\n",
       "      <td>0.0</td>\n",
       "      <td>...</td>\n",
       "      <td>0.0</td>\n",
       "      <td>0.0</td>\n",
       "      <td>0.0</td>\n",
       "      <td>-33963.593264</td>\n",
       "      <td>-33963.593264</td>\n",
       "      <td>-33963.593264</td>\n",
       "      <td>0.0</td>\n",
       "      <td>0.0</td>\n",
       "      <td>0.0</td>\n",
       "      <td>1.352026e+06</td>\n",
       "    </tr>\n",
       "    <tr>\n",
       "      <th>4</th>\n",
       "      <td>2012-04-20</td>\n",
       "      <td>-1.762261e+06</td>\n",
       "      <td>-7.932685e+05</td>\n",
       "      <td>-5.511113e+05</td>\n",
       "      <td>-1.762261e+06</td>\n",
       "      <td>-1.762261e+06</td>\n",
       "      <td>1.131632e+05</td>\n",
       "      <td>1.131632e+05</td>\n",
       "      <td>1.131632e+05</td>\n",
       "      <td>0.0</td>\n",
       "      <td>...</td>\n",
       "      <td>0.0</td>\n",
       "      <td>0.0</td>\n",
       "      <td>0.0</td>\n",
       "      <td>-33963.593264</td>\n",
       "      <td>-33963.593264</td>\n",
       "      <td>-33963.593264</td>\n",
       "      <td>0.0</td>\n",
       "      <td>0.0</td>\n",
       "      <td>0.0</td>\n",
       "      <td>-6.709371e+05</td>\n",
       "    </tr>\n",
       "    <tr>\n",
       "      <th>...</th>\n",
       "      <td>...</td>\n",
       "      <td>...</td>\n",
       "      <td>...</td>\n",
       "      <td>...</td>\n",
       "      <td>...</td>\n",
       "      <td>...</td>\n",
       "      <td>...</td>\n",
       "      <td>...</td>\n",
       "      <td>...</td>\n",
       "      <td>...</td>\n",
       "      <td>...</td>\n",
       "      <td>...</td>\n",
       "      <td>...</td>\n",
       "      <td>...</td>\n",
       "      <td>...</td>\n",
       "      <td>...</td>\n",
       "      <td>...</td>\n",
       "      <td>...</td>\n",
       "      <td>...</td>\n",
       "      <td>...</td>\n",
       "      <td>...</td>\n",
       "    </tr>\n",
       "    <tr>\n",
       "      <th>331</th>\n",
       "      <td>2012-10-26</td>\n",
       "      <td>-1.796937e+06</td>\n",
       "      <td>-7.940397e+05</td>\n",
       "      <td>-5.430286e+05</td>\n",
       "      <td>-1.796941e+06</td>\n",
       "      <td>-1.796933e+06</td>\n",
       "      <td>1.845898e+05</td>\n",
       "      <td>1.845898e+05</td>\n",
       "      <td>1.845898e+05</td>\n",
       "      <td>0.0</td>\n",
       "      <td>...</td>\n",
       "      <td>0.0</td>\n",
       "      <td>0.0</td>\n",
       "      <td>0.0</td>\n",
       "      <td>-76104.346575</td>\n",
       "      <td>-76104.346575</td>\n",
       "      <td>-76104.346575</td>\n",
       "      <td>0.0</td>\n",
       "      <td>0.0</td>\n",
       "      <td>0.0</td>\n",
       "      <td>-6.586160e+05</td>\n",
       "    </tr>\n",
       "    <tr>\n",
       "      <th>332</th>\n",
       "      <td>2012-10-26</td>\n",
       "      <td>-1.796937e+06</td>\n",
       "      <td>2.668166e+06</td>\n",
       "      <td>2.911797e+06</td>\n",
       "      <td>-1.796941e+06</td>\n",
       "      <td>-1.796933e+06</td>\n",
       "      <td>1.268560e+05</td>\n",
       "      <td>1.268560e+05</td>\n",
       "      <td>1.268560e+05</td>\n",
       "      <td>0.0</td>\n",
       "      <td>...</td>\n",
       "      <td>0.0</td>\n",
       "      <td>0.0</td>\n",
       "      <td>0.0</td>\n",
       "      <td>-76104.346575</td>\n",
       "      <td>-76104.346575</td>\n",
       "      <td>-76104.346575</td>\n",
       "      <td>0.0</td>\n",
       "      <td>0.0</td>\n",
       "      <td>0.0</td>\n",
       "      <td>2.788039e+06</td>\n",
       "    </tr>\n",
       "    <tr>\n",
       "      <th>333</th>\n",
       "      <td>2012-10-26</td>\n",
       "      <td>-1.796937e+06</td>\n",
       "      <td>1.525701e+06</td>\n",
       "      <td>1.779261e+06</td>\n",
       "      <td>-1.796941e+06</td>\n",
       "      <td>-1.796933e+06</td>\n",
       "      <td>1.322603e+05</td>\n",
       "      <td>1.322603e+05</td>\n",
       "      <td>1.322603e+05</td>\n",
       "      <td>0.0</td>\n",
       "      <td>...</td>\n",
       "      <td>0.0</td>\n",
       "      <td>0.0</td>\n",
       "      <td>0.0</td>\n",
       "      <td>-76104.346575</td>\n",
       "      <td>-76104.346575</td>\n",
       "      <td>-76104.346575</td>\n",
       "      <td>0.0</td>\n",
       "      <td>0.0</td>\n",
       "      <td>0.0</td>\n",
       "      <td>1.655217e+06</td>\n",
       "    </tr>\n",
       "    <tr>\n",
       "      <th>334</th>\n",
       "      <td>2012-10-26</td>\n",
       "      <td>-1.796937e+06</td>\n",
       "      <td>2.856832e+06</td>\n",
       "      <td>3.106393e+06</td>\n",
       "      <td>-1.796941e+06</td>\n",
       "      <td>-1.796933e+06</td>\n",
       "      <td>1.845898e+05</td>\n",
       "      <td>1.845898e+05</td>\n",
       "      <td>1.845898e+05</td>\n",
       "      <td>0.0</td>\n",
       "      <td>...</td>\n",
       "      <td>0.0</td>\n",
       "      <td>0.0</td>\n",
       "      <td>0.0</td>\n",
       "      <td>-76104.346575</td>\n",
       "      <td>-76104.346575</td>\n",
       "      <td>-76104.346575</td>\n",
       "      <td>0.0</td>\n",
       "      <td>0.0</td>\n",
       "      <td>0.0</td>\n",
       "      <td>2.977913e+06</td>\n",
       "    </tr>\n",
       "    <tr>\n",
       "      <th>335</th>\n",
       "      <td>2012-10-26</td>\n",
       "      <td>-1.796937e+06</td>\n",
       "      <td>-1.050704e+06</td>\n",
       "      <td>-8.133883e+05</td>\n",
       "      <td>-1.796941e+06</td>\n",
       "      <td>-1.796933e+06</td>\n",
       "      <td>-1.230231e+06</td>\n",
       "      <td>-1.230231e+06</td>\n",
       "      <td>-1.230231e+06</td>\n",
       "      <td>0.0</td>\n",
       "      <td>...</td>\n",
       "      <td>0.0</td>\n",
       "      <td>0.0</td>\n",
       "      <td>0.0</td>\n",
       "      <td>-76104.346575</td>\n",
       "      <td>-76104.346575</td>\n",
       "      <td>-76104.346575</td>\n",
       "      <td>0.0</td>\n",
       "      <td>0.0</td>\n",
       "      <td>0.0</td>\n",
       "      <td>-9.346243e+05</td>\n",
       "    </tr>\n",
       "  </tbody>\n",
       "</table>\n",
       "<p>336 rows × 79 columns</p>\n",
       "</div>"
      ],
      "text/plain": [
       "            ds         trend    yhat_lower    yhat_upper   trend_lower  \\\n",
       "0   2012-04-20 -1.762261e+06  1.527175e+06  1.779576e+06 -1.762261e+06   \n",
       "1   2012-04-20 -1.762261e+06 -6.841751e+05 -4.433216e+05 -1.762261e+06   \n",
       "2   2012-04-20 -1.762261e+06  2.793337e+06  3.042680e+06 -1.762261e+06   \n",
       "3   2012-04-20 -1.762261e+06  1.233992e+06  1.478079e+06 -1.762261e+06   \n",
       "4   2012-04-20 -1.762261e+06 -7.932685e+05 -5.511113e+05 -1.762261e+06   \n",
       "..         ...           ...           ...           ...           ...   \n",
       "331 2012-10-26 -1.796937e+06 -7.940397e+05 -5.430286e+05 -1.796941e+06   \n",
       "332 2012-10-26 -1.796937e+06  2.668166e+06  2.911797e+06 -1.796941e+06   \n",
       "333 2012-10-26 -1.796937e+06  1.525701e+06  1.779261e+06 -1.796941e+06   \n",
       "334 2012-10-26 -1.796937e+06  2.856832e+06  3.106393e+06 -1.796941e+06   \n",
       "335 2012-10-26 -1.796937e+06 -1.050704e+06 -8.133883e+05 -1.796941e+06   \n",
       "\n",
       "      trend_upper           CPI     CPI_lower     CPI_upper  Christmas Day  \\\n",
       "0   -1.762261e+06  1.044913e+05  1.044913e+05  1.044913e+05            0.0   \n",
       "1   -1.762261e+06 -2.476302e+05 -2.476302e+05 -2.476302e+05            0.0   \n",
       "2   -1.762261e+06  1.282234e+05  1.282234e+05  1.282234e+05            0.0   \n",
       "3   -1.762261e+06  1.598421e+05  1.598421e+05  1.598421e+05            0.0   \n",
       "4   -1.762261e+06  1.131632e+05  1.131632e+05  1.131632e+05            0.0   \n",
       "..            ...           ...           ...           ...            ...   \n",
       "331 -1.796933e+06  1.845898e+05  1.845898e+05  1.845898e+05            0.0   \n",
       "332 -1.796933e+06  1.268560e+05  1.268560e+05  1.268560e+05            0.0   \n",
       "333 -1.796933e+06  1.322603e+05  1.322603e+05  1.322603e+05            0.0   \n",
       "334 -1.796933e+06  1.845898e+05  1.845898e+05  1.845898e+05            0.0   \n",
       "335 -1.796933e+06 -1.230231e+06 -1.230231e+06 -1.230231e+06            0.0   \n",
       "\n",
       "     ...  holidays  holidays_lower  holidays_upper        yearly  \\\n",
       "0    ...       0.0             0.0             0.0 -33963.593264   \n",
       "1    ...       0.0             0.0             0.0 -33963.593264   \n",
       "2    ...       0.0             0.0             0.0 -33963.593264   \n",
       "3    ...       0.0             0.0             0.0 -33963.593264   \n",
       "4    ...       0.0             0.0             0.0 -33963.593264   \n",
       "..   ...       ...             ...             ...           ...   \n",
       "331  ...       0.0             0.0             0.0 -76104.346575   \n",
       "332  ...       0.0             0.0             0.0 -76104.346575   \n",
       "333  ...       0.0             0.0             0.0 -76104.346575   \n",
       "334  ...       0.0             0.0             0.0 -76104.346575   \n",
       "335  ...       0.0             0.0             0.0 -76104.346575   \n",
       "\n",
       "     yearly_lower  yearly_upper  multiplicative_terms  \\\n",
       "0   -33963.593264 -33963.593264                   0.0   \n",
       "1   -33963.593264 -33963.593264                   0.0   \n",
       "2   -33963.593264 -33963.593264                   0.0   \n",
       "3   -33963.593264 -33963.593264                   0.0   \n",
       "4   -33963.593264 -33963.593264                   0.0   \n",
       "..            ...           ...                   ...   \n",
       "331 -76104.346575 -76104.346575                   0.0   \n",
       "332 -76104.346575 -76104.346575                   0.0   \n",
       "333 -76104.346575 -76104.346575                   0.0   \n",
       "334 -76104.346575 -76104.346575                   0.0   \n",
       "335 -76104.346575 -76104.346575                   0.0   \n",
       "\n",
       "     multiplicative_terms_lower  multiplicative_terms_upper          yhat  \n",
       "0                           0.0                         0.0  1.651929e+06  \n",
       "1                           0.0                         0.0 -5.636628e+05  \n",
       "2                           0.0                         0.0  2.910563e+06  \n",
       "3                           0.0                         0.0  1.352026e+06  \n",
       "4                           0.0                         0.0 -6.709371e+05  \n",
       "..                          ...                         ...           ...  \n",
       "331                         0.0                         0.0 -6.586160e+05  \n",
       "332                         0.0                         0.0  2.788039e+06  \n",
       "333                         0.0                         0.0  1.655217e+06  \n",
       "334                         0.0                         0.0  2.977913e+06  \n",
       "335                         0.0                         0.0 -9.346243e+05  \n",
       "\n",
       "[336 rows x 79 columns]"
      ]
     },
     "execution_count": 116,
     "metadata": {},
     "output_type": "execute_result"
    }
   ],
   "source": [
    "forecast"
   ]
  },
  {
   "cell_type": "markdown",
   "metadata": {},
   "source": [
    "## Evaluation"
   ]
  },
  {
   "cell_type": "code",
   "execution_count": 117,
   "metadata": {},
   "outputs": [],
   "source": [
    "from prophet.utilities import regressor_coefficients"
   ]
  },
  {
   "cell_type": "code",
   "execution_count": 118,
   "metadata": {},
   "outputs": [
    {
     "data": {
      "text/html": [
       "<div>\n",
       "<style scoped>\n",
       "    .dataframe tbody tr th:only-of-type {\n",
       "        vertical-align: middle;\n",
       "    }\n",
       "\n",
       "    .dataframe tbody tr th {\n",
       "        vertical-align: top;\n",
       "    }\n",
       "\n",
       "    .dataframe thead th {\n",
       "        text-align: right;\n",
       "    }\n",
       "</style>\n",
       "<table border=\"1\" class=\"dataframe\">\n",
       "  <thead>\n",
       "    <tr style=\"text-align: right;\">\n",
       "      <th></th>\n",
       "      <th>regressor</th>\n",
       "      <th>regressor_mode</th>\n",
       "      <th>center</th>\n",
       "      <th>coef_lower</th>\n",
       "      <th>coef</th>\n",
       "      <th>coef_upper</th>\n",
       "    </tr>\n",
       "  </thead>\n",
       "  <tbody>\n",
       "    <tr>\n",
       "      <th>0</th>\n",
       "      <td>Temperature</td>\n",
       "      <td>additive</td>\n",
       "      <td>66.336174</td>\n",
       "      <td>1160.064367</td>\n",
       "      <td>1160.064367</td>\n",
       "      <td>1160.064367</td>\n",
       "    </tr>\n",
       "    <tr>\n",
       "      <th>1</th>\n",
       "      <td>Fuel_Price</td>\n",
       "      <td>additive</td>\n",
       "      <td>3.139365</td>\n",
       "      <td>46593.754510</td>\n",
       "      <td>46593.754510</td>\n",
       "      <td>46593.754510</td>\n",
       "    </tr>\n",
       "    <tr>\n",
       "      <th>2</th>\n",
       "      <td>CPI</td>\n",
       "      <td>additive</td>\n",
       "      <td>214.489211</td>\n",
       "      <td>14769.369114</td>\n",
       "      <td>14769.369114</td>\n",
       "      <td>14769.369114</td>\n",
       "    </tr>\n",
       "    <tr>\n",
       "      <th>3</th>\n",
       "      <td>Unemployment</td>\n",
       "      <td>additive</td>\n",
       "      <td>7.770617</td>\n",
       "      <td>-117257.932386</td>\n",
       "      <td>-117257.932386</td>\n",
       "      <td>-117257.932386</td>\n",
       "    </tr>\n",
       "    <tr>\n",
       "      <th>4</th>\n",
       "      <td>Size</td>\n",
       "      <td>additive</td>\n",
       "      <td>0.000000</td>\n",
       "      <td>21.380623</td>\n",
       "      <td>21.380623</td>\n",
       "      <td>21.380623</td>\n",
       "    </tr>\n",
       "  </tbody>\n",
       "</table>\n",
       "</div>"
      ],
      "text/plain": [
       "      regressor regressor_mode      center     coef_lower           coef  \\\n",
       "0   Temperature       additive   66.336174    1160.064367    1160.064367   \n",
       "1    Fuel_Price       additive    3.139365   46593.754510   46593.754510   \n",
       "2           CPI       additive  214.489211   14769.369114   14769.369114   \n",
       "3  Unemployment       additive    7.770617 -117257.932386 -117257.932386   \n",
       "4          Size       additive    0.000000      21.380623      21.380623   \n",
       "\n",
       "      coef_upper  \n",
       "0    1160.064367  \n",
       "1   46593.754510  \n",
       "2   14769.369114  \n",
       "3 -117257.932386  \n",
       "4      21.380623  "
      ]
     },
     "execution_count": 118,
     "metadata": {},
     "output_type": "execute_result"
    }
   ],
   "source": [
    "regressor_coefficients(model)"
   ]
  },
  {
   "cell_type": "code",
   "execution_count": 119,
   "metadata": {},
   "outputs": [
    {
     "data": {
      "text/plain": [
       "array(['2010-02-05T00:00:00.000000000', '2010-02-12T00:00:00.000000000',\n",
       "       '2010-02-19T00:00:00.000000000', ...,\n",
       "       '2012-10-12T00:00:00.000000000', '2012-10-19T00:00:00.000000000',\n",
       "       '2012-10-26T00:00:00.000000000'], dtype='datetime64[ns]')"
      ]
     },
     "execution_count": 119,
     "metadata": {},
     "output_type": "execute_result"
    }
   ],
   "source": [
    "pd.concat([train[\"ds\"], test[\"ds\"]]).values"
   ]
  },
  {
   "cell_type": "code",
   "execution_count": 120,
   "metadata": {},
   "outputs": [
    {
     "data": {
      "image/png": "[encoded data removed]",
      "text/plain": [
       "<Figure size 864x432 with 1 Axes>"
      ]
     },
     "metadata": {
      "needs_background": "light"
     },
     "output_type": "display_data"
    }
   ],
   "source": [
    "plot_forecast(train[\"y\"].values, forecast[\"yhat\"], test[\"y\"], time=pd.concat([train[\"ds\"], test[\"ds\"]]).values)"
   ]
  },
  {
   "cell_type": "code",
   "execution_count": 121,
   "metadata": {},
   "outputs": [
    {
     "data": {
      "text/plain": [
       "140"
      ]
     },
     "execution_count": 121,
     "metadata": {},
     "output_type": "execute_result"
    }
   ],
   "source": [
    "forecast[\"yhat\"].apply(lambda x: x<0).sum()"
   ]
  },
  {
   "cell_type": "code",
   "execution_count": 155,
   "metadata": {},
   "outputs": [],
   "source": [
    "y_test = test[test[\"Region\"] == 1][\"y\"]"
   ]
  },
  {
   "cell_type": "code",
   "execution_count": 159,
   "metadata": {},
   "outputs": [
    {
     "name": "stdout",
     "output_type": "stream",
     "text": [
      "Mean Absolute Error: 1250128.9172542936\n",
      "Mean Squared Error: 2332430200132.075\n",
      "Root Mean Squared Error: 1527229.5833083102\n",
      "Mean Percentage Error: 33.69731461123225\n",
      "Mean Absolute Percentage Error: 79.95603768596673\n"
     ]
    }
   ],
   "source": [
    "y_test = test[test[\"Region\"] == 1][\"y\"]\n",
    "y_pred = forecast[\"yhat\"]\n",
    "\n",
    "print_evaluate_model(y_test, y_pred)"
   ]
  },
  {
   "cell_type": "code",
   "execution_count": null,
   "metadata": {},
   "outputs": [],
   "source": []
  },
  {
   "cell_type": "code",
   "execution_count": null,
   "metadata": {},
   "outputs": [],
   "source": []
  },
  {
   "cell_type": "code",
   "execution_count": null,
   "metadata": {},
   "outputs": [],
   "source": []
  },
  {
   "cell_type": "code",
   "execution_count": null,
   "metadata": {},
   "outputs": [],
   "source": []
  },
  {
   "cell_type": "code",
   "execution_count": null,
   "metadata": {},
   "outputs": [],
   "source": []
  },
  {
   "cell_type": "code",
   "execution_count": null,
   "metadata": {},
   "outputs": [],
   "source": []
  },
  {
   "cell_type": "code",
   "execution_count": null,
   "metadata": {},
   "outputs": [],
   "source": []
  },
  {
   "cell_type": "markdown",
   "metadata": {},
   "source": [
    "## Misc"
   ]
  },
  {
   "cell_type": "code",
   "execution_count": 100,
   "metadata": {},
   "outputs": [
    {
     "name": "stdout",
     "output_type": "stream",
     "text": [
      "143 101 42\n",
      "143 101 42\n",
      "143 101 42\n",
      "143 101 42\n",
      "143 101 42\n",
      "143 101 42\n",
      "143 101 42\n",
      "143 101 42\n",
      "143 101 42\n",
      "143 101 42\n",
      "143 101 42\n",
      "143 101 42\n"
     ]
    }
   ],
   "source": [
    "train, test = train_test_split_timeseries(region, split=0.3, group=\"Region\")"
   ]
  },
  {
   "cell_type": "code",
   "execution_count": 101,
   "metadata": {},
   "outputs": [
    {
     "data": {
      "text/html": [
       "<div>\n",
       "<style scoped>\n",
       "    .dataframe tbody tr th:only-of-type {\n",
       "        vertical-align: middle;\n",
       "    }\n",
       "\n",
       "    .dataframe tbody tr th {\n",
       "        vertical-align: top;\n",
       "    }\n",
       "\n",
       "    .dataframe thead th {\n",
       "        text-align: right;\n",
       "    }\n",
       "</style>\n",
       "<table border=\"1\" class=\"dataframe\">\n",
       "  <thead>\n",
       "    <tr style=\"text-align: right;\">\n",
       "      <th></th>\n",
       "      <th>Region</th>\n",
       "      <th>Date</th>\n",
       "      <th>Weekly_Sales</th>\n",
       "      <th>Temperature</th>\n",
       "      <th>Fuel_Price</th>\n",
       "      <th>CPI</th>\n",
       "      <th>Unemployment</th>\n",
       "      <th>IsHoliday</th>\n",
       "      <th>Type</th>\n",
       "      <th>Size</th>\n",
       "    </tr>\n",
       "  </thead>\n",
       "  <tbody>\n",
       "    <tr>\n",
       "      <th>0</th>\n",
       "      <td>1</td>\n",
       "      <td>2010-02-05</td>\n",
       "      <td>1643690.90</td>\n",
       "      <td>42.31</td>\n",
       "      <td>2.572</td>\n",
       "      <td>211.096358</td>\n",
       "      <td>8.106</td>\n",
       "      <td>False</td>\n",
       "      <td>A</td>\n",
       "      <td>151315</td>\n",
       "    </tr>\n",
       "    <tr>\n",
       "      <th>1</th>\n",
       "      <td>1</td>\n",
       "      <td>2010-02-12</td>\n",
       "      <td>1641957.44</td>\n",
       "      <td>38.51</td>\n",
       "      <td>2.548</td>\n",
       "      <td>211.242170</td>\n",
       "      <td>8.106</td>\n",
       "      <td>True</td>\n",
       "      <td>A</td>\n",
       "      <td>151315</td>\n",
       "    </tr>\n",
       "    <tr>\n",
       "      <th>2</th>\n",
       "      <td>1</td>\n",
       "      <td>2010-02-19</td>\n",
       "      <td>1611968.17</td>\n",
       "      <td>39.93</td>\n",
       "      <td>2.514</td>\n",
       "      <td>211.289143</td>\n",
       "      <td>8.106</td>\n",
       "      <td>False</td>\n",
       "      <td>A</td>\n",
       "      <td>151315</td>\n",
       "    </tr>\n",
       "    <tr>\n",
       "      <th>3</th>\n",
       "      <td>1</td>\n",
       "      <td>2010-02-26</td>\n",
       "      <td>1409727.59</td>\n",
       "      <td>46.63</td>\n",
       "      <td>2.561</td>\n",
       "      <td>211.319643</td>\n",
       "      <td>8.106</td>\n",
       "      <td>False</td>\n",
       "      <td>A</td>\n",
       "      <td>151315</td>\n",
       "    </tr>\n",
       "    <tr>\n",
       "      <th>4</th>\n",
       "      <td>1</td>\n",
       "      <td>2010-03-05</td>\n",
       "      <td>1554806.68</td>\n",
       "      <td>46.50</td>\n",
       "      <td>2.625</td>\n",
       "      <td>211.350143</td>\n",
       "      <td>8.106</td>\n",
       "      <td>False</td>\n",
       "      <td>A</td>\n",
       "      <td>151315</td>\n",
       "    </tr>\n",
       "    <tr>\n",
       "      <th>...</th>\n",
       "      <td>...</td>\n",
       "      <td>...</td>\n",
       "      <td>...</td>\n",
       "      <td>...</td>\n",
       "      <td>...</td>\n",
       "      <td>...</td>\n",
       "      <td>...</td>\n",
       "      <td>...</td>\n",
       "      <td>...</td>\n",
       "      <td>...</td>\n",
       "    </tr>\n",
       "    <tr>\n",
       "      <th>1669</th>\n",
       "      <td>12</td>\n",
       "      <td>2011-12-09</td>\n",
       "      <td>1189646.45</td>\n",
       "      <td>42.17</td>\n",
       "      <td>3.644</td>\n",
       "      <td>129.855533</td>\n",
       "      <td>12.890</td>\n",
       "      <td>False</td>\n",
       "      <td>B</td>\n",
       "      <td>112238</td>\n",
       "    </tr>\n",
       "    <tr>\n",
       "      <th>1670</th>\n",
       "      <td>12</td>\n",
       "      <td>2011-12-16</td>\n",
       "      <td>1293404.18</td>\n",
       "      <td>43.29</td>\n",
       "      <td>3.600</td>\n",
       "      <td>129.898065</td>\n",
       "      <td>12.890</td>\n",
       "      <td>False</td>\n",
       "      <td>B</td>\n",
       "      <td>112238</td>\n",
       "    </tr>\n",
       "    <tr>\n",
       "      <th>1671</th>\n",
       "      <td>12</td>\n",
       "      <td>2011-12-23</td>\n",
       "      <td>1617612.03</td>\n",
       "      <td>45.40</td>\n",
       "      <td>3.541</td>\n",
       "      <td>129.984548</td>\n",
       "      <td>12.890</td>\n",
       "      <td>False</td>\n",
       "      <td>B</td>\n",
       "      <td>112238</td>\n",
       "    </tr>\n",
       "    <tr>\n",
       "      <th>1672</th>\n",
       "      <td>12</td>\n",
       "      <td>2011-12-30</td>\n",
       "      <td>1111638.07</td>\n",
       "      <td>44.64</td>\n",
       "      <td>3.428</td>\n",
       "      <td>130.071032</td>\n",
       "      <td>12.890</td>\n",
       "      <td>True</td>\n",
       "      <td>B</td>\n",
       "      <td>112238</td>\n",
       "    </tr>\n",
       "    <tr>\n",
       "      <th>1673</th>\n",
       "      <td>12</td>\n",
       "      <td>2012-01-06</td>\n",
       "      <td>945823.65</td>\n",
       "      <td>50.43</td>\n",
       "      <td>3.599</td>\n",
       "      <td>130.157516</td>\n",
       "      <td>12.187</td>\n",
       "      <td>False</td>\n",
       "      <td>B</td>\n",
       "      <td>112238</td>\n",
       "    </tr>\n",
       "  </tbody>\n",
       "</table>\n",
       "<p>1212 rows × 10 columns</p>\n",
       "</div>"
      ],
      "text/plain": [
       "      Region       Date  Weekly_Sales  Temperature  Fuel_Price         CPI  \\\n",
       "0          1 2010-02-05    1643690.90        42.31       2.572  211.096358   \n",
       "1          1 2010-02-12    1641957.44        38.51       2.548  211.242170   \n",
       "2          1 2010-02-19    1611968.17        39.93       2.514  211.289143   \n",
       "3          1 2010-02-26    1409727.59        46.63       2.561  211.319643   \n",
       "4          1 2010-03-05    1554806.68        46.50       2.625  211.350143   \n",
       "...      ...        ...           ...          ...         ...         ...   \n",
       "1669      12 2011-12-09    1189646.45        42.17       3.644  129.855533   \n",
       "1670      12 2011-12-16    1293404.18        43.29       3.600  129.898065   \n",
       "1671      12 2011-12-23    1617612.03        45.40       3.541  129.984548   \n",
       "1672      12 2011-12-30    1111638.07        44.64       3.428  130.071032   \n",
       "1673      12 2012-01-06     945823.65        50.43       3.599  130.157516   \n",
       "\n",
       "      Unemployment  IsHoliday Type    Size  \n",
       "0            8.106      False    A  151315  \n",
       "1            8.106       True    A  151315  \n",
       "2            8.106      False    A  151315  \n",
       "3            8.106      False    A  151315  \n",
       "4            8.106      False    A  151315  \n",
       "...            ...        ...  ...     ...  \n",
       "1669        12.890      False    B  112238  \n",
       "1670        12.890      False    B  112238  \n",
       "1671        12.890      False    B  112238  \n",
       "1672        12.890       True    B  112238  \n",
       "1673        12.187      False    B  112238  \n",
       "\n",
       "[1212 rows x 10 columns]"
      ]
     },
     "execution_count": 101,
     "metadata": {},
     "output_type": "execute_result"
    }
   ],
   "source": [
    "train"
   ]
  },
  {
   "cell_type": "code",
   "execution_count": null,
   "metadata": {},
   "outputs": [],
   "source": []
  },
  {
   "cell_type": "code",
   "execution_count": null,
   "metadata": {},
   "outputs": [],
   "source": []
  }
 ],
 "metadata": {
  "interpreter": {
   "hash": "e26b667785f8ca5ba6997721f5ec4cff9487137f5f1e1e2f7d55c394a6833ac9"
  },
  "kernelspec": {
   "display_name": "Python 3.7.10 64-bit ('walmart2': conda)",
   "language": "python",
   "name": "python3"
  },
  "language_info": {
   "codemirror_mode": {
    "name": "ipython",
    "version": 3
   },
   "file_extension": ".py",
   "mimetype": "text/x-python",
   "name": "python",
   "nbconvert_exporter": "python",
   "pygments_lexer": "ipython3",
   "version": "3.7.10"
  },
  "orig_nbformat": 4
 },
 "nbformat": 4,
 "nbformat_minor": 2
}
