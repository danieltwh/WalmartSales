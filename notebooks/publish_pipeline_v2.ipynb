{
 "cells": [
  {
   "cell_type": "code",
   "execution_count": 1,
   "metadata": {},
   "outputs": [
    {
     "name": "stderr",
     "output_type": "stream",
     "text": [
      "Failure while loading azureml_run_type_providers. Failed to load entrypoint automl = azureml.train.automl.run:AutoMLRun._from_run_dto with exception (numpy 1.21.5 (c:\\users\\xa155xb\\anaconda3\\envs\\walmart2\\lib\\site-packages), Requirement.parse('numpy<=1.19.3; sys_platform == \"win32\"'), {'azureml-dataset-runtime'}).\n"
     ]
    }
   ],
   "source": [
    "import os\n",
    "import sys\n",
    "\n",
    "\n",
    "from azureml.core import Workspace\n",
    "from azureml.core import Experiment, ScriptRunConfig, Environment\n",
    "from azureml.core.compute import ComputeTarget, AmlCompute\n",
    "from azureml.exceptions import ComputeTargetException\n",
    "\n",
    "\n",
    "from azureml.pipeline.core import Pipeline\n",
    "from azureml.pipeline.core import PipelineParameter\n",
    "from azureml.pipeline.steps import PythonScriptStep\n",
    "from azureml.core.runconfig import RunConfiguration"
   ]
  },
  {
   "cell_type": "markdown",
   "metadata": {},
   "source": [
    "### Create interface for AzureML Workspace"
   ]
  },
  {
   "cell_type": "code",
   "execution_count": 2,
   "metadata": {},
   "outputs": [],
   "source": [
    "ws = Workspace.get(name=\"Walmart-Sales\", \n",
    "    subscription_id =  \"ef0073f1-56e3-462f-80b3-3beb320211e4\",\n",
    "    resource_group = \"Walmart-1\"\n",
    ")"
   ]
  },
  {
   "cell_type": "markdown",
   "metadata": {},
   "source": [
    "### Pipeline Arguments"
   ]
  },
  {
   "cell_type": "code",
   "execution_count": 3,
   "metadata": {},
   "outputs": [],
   "source": [
    "# Arguments\n",
    "# EXPERIMENT_NAME = PipelineParameter(\n",
    "#     name=\"experiment_name\",\n",
    "#     default_value=\"data-processing-test-1\"\n",
    "# )\n",
    "\n",
    "CONFIG = PipelineParameter(\n",
    "    name=\"config\",\n",
    "    default_value=\"{'demand': {'group': ['Region'], 'time': 'Date', 'features': {'Weekly_Sales': ['impute_mdian']}}}\"\n",
    ")"
   ]
  },
  {
   "cell_type": "markdown",
   "metadata": {},
   "source": [
    "### Pipeline Scripts"
   ]
  },
  {
   "cell_type": "code",
   "execution_count": 4,
   "metadata": {},
   "outputs": [
    {
     "data": {
      "text/plain": [
       "'c:\\\\Users\\\\XA155XB\\\\OneDrive - EY\\\\Documents\\\\GitHub\\\\WalmartSales\\\\src'"
      ]
     },
     "execution_count": 4,
     "metadata": {},
     "output_type": "execute_result"
    }
   ],
   "source": [
    "# Set the source directory of the python script to run\n",
    "src_dir = os.path.abspath(path=\"../src\")\n",
    "src_dir"
   ]
  },
  {
   "cell_type": "code",
   "execution_count": 5,
   "metadata": {},
   "outputs": [],
   "source": [
    "# Configuring the AzureML Run\n",
    "aml_run_config = RunConfiguration()\n",
    "\n",
    "# Set the run environment\n",
    "env = Environment.get(\n",
    "    workspace = ws,\n",
    "    name = \"walmart2\"\n",
    ")\n",
    "aml_run_config.environment = env\n",
    "\n",
    "# Set the compute target for the run\n",
    "compute_target = ws.compute_targets[\"compute3\"]\n",
    "aml_run_config.target = compute_target"
   ]
  },
  {
   "cell_type": "code",
   "execution_count": 6,
   "metadata": {},
   "outputs": [],
   "source": [
    "# Setting up the pipeline script step\n",
    "process_data_step = PythonScriptStep(\n",
    "    script_name=\"process_data.py\",\n",
    "    source_directory= src_dir,\n",
    "    # arguments=[\"--experiment_name\", EXPERIMENT_NAME, \"--config\", CONFIG],\n",
    "    arguments=[\"--config\", CONFIG],\n",
    "    runconfig = aml_run_config,\n",
    "    allow_reuse=False\n",
    ")"
   ]
  },
  {
   "cell_type": "markdown",
   "metadata": {},
   "source": [
    "### Creating and Publishing AzureML Pipeline"
   ]
  },
  {
   "cell_type": "code",
   "execution_count": 7,
   "metadata": {},
   "outputs": [],
   "source": [
    "# Creating the pipeline with the python script steps\n",
    "data_pipeline = Pipeline(workspace=ws, \n",
    "    steps=[process_data_step]   # More python script steps can be added to the list in the pipeline\n",
    ")"
   ]
  },
  {
   "cell_type": "code",
   "execution_count": 8,
   "metadata": {},
   "outputs": [
    {
     "name": "stdout",
     "output_type": "stream",
     "text": [
      "Step process_data.py is ready to be created [4484198e]\n"
     ]
    },
    {
     "data": {
      "text/plain": [
       "[]"
      ]
     },
     "execution_count": 8,
     "metadata": {},
     "output_type": "execute_result"
    }
   ],
   "source": [
    "# Checking the pipeline\n",
    "data_pipeline.validate()"
   ]
  },
  {
   "cell_type": "code",
   "execution_count": 9,
   "metadata": {},
   "outputs": [
    {
     "name": "stdout",
     "output_type": "stream",
     "text": [
      "Created step process_data.py [4484198e][674649a9-87d6-40d6-b5c4-0683895ec733], (This step will run and generate new outputs)\n"
     ]
    },
    {
     "data": {
      "text/html": [
       "<table style=\"width:100%\"><tr><th>Name</th><th>Id</th><th>Status</th><th>Endpoint</th></tr><tr><td>Data_Pipeline</td><td><a href=\"https://ml.azure.com/pipelines/37913fef-6672-4943-89d6-4a3283e8b052?wsid=/subscriptions/ef0073f1-56e3-462f-80b3-3beb320211e4/resourcegroups/Walmart-1/workspaces/Walmart-Sales\" target=\"_blank\" rel=\"noopener\">37913fef-6672-4943-89d6-4a3283e8b052</a></td><td>Active</td><td><a href=\"https://southeastasia.api.azureml.ms/pipelines/v1.0/subscriptions/ef0073f1-56e3-462f-80b3-3beb320211e4/resourceGroups/Walmart-1/providers/Microsoft.MachineLearningServices/workspaces/Walmart-Sales/PipelineRuns/PipelineSubmit/37913fef-6672-4943-89d6-4a3283e8b052\" target=\"_blank\" rel=\"noopener\">REST Endpoint</a></td></tr></table>"
      ],
      "text/plain": [
       "Pipeline(Name: Data_Pipeline,\n",
       "Id: 37913fef-6672-4943-89d6-4a3283e8b052,\n",
       "Status: Active,\n",
       "Endpoint: https://southeastasia.api.azureml.ms/pipelines/v1.0/subscriptions/ef0073f1-56e3-462f-80b3-3beb320211e4/resourceGroups/Walmart-1/providers/Microsoft.MachineLearningServices/workspaces/Walmart-Sales/PipelineRuns/PipelineSubmit/37913fef-6672-4943-89d6-4a3283e8b052)"
      ]
     },
     "execution_count": 9,
     "metadata": {},
     "output_type": "execute_result"
    }
   ],
   "source": [
    "# Publishing the pipeline\n",
    "data_pipeline.publish(\n",
    "    name = \"Data_Pipeline\",\n",
    "    description = \"Data pipeline to get data from different sources\"\n",
    ")"
   ]
  },
  {
   "cell_type": "markdown",
   "metadata": {},
   "source": [
    "### Triggering the Pipeline"
   ]
  },
  {
   "cell_type": "code",
   "execution_count": 25,
   "metadata": {},
   "outputs": [],
   "source": [
    "# from azureml.core.authentication import AzureCliAuthentication\n",
    "from azureml.pipeline.core import Pipeline, PublishedPipeline\n",
    "from azureml.core import Experiment\n",
    "\n",
    "import requests"
   ]
  },
  {
   "cell_type": "code",
   "execution_count": 33,
   "metadata": {},
   "outputs": [],
   "source": [
    "# Parameters\n",
    "experiment_name = 'data-processing-test-1'\n",
    "pipeline_id = \"37913fef-6672-4943-89d6-4a3283e8b052\""
   ]
  },
  {
   "cell_type": "code",
   "execution_count": 34,
   "metadata": {},
   "outputs": [],
   "source": [
    "ws = Workspace.get(name=\"Walmart-Sales\", \n",
    "    subscription_id =  \"ef0073f1-56e3-462f-80b3-3beb320211e4\",\n",
    "    resource_group = \"Walmart-1\",\n",
    ")"
   ]
  },
  {
   "cell_type": "code",
   "execution_count": 38,
   "metadata": {},
   "outputs": [],
   "source": [
    "published_pipeline = PublishedPipeline.get(ws, pipeline_id)\n",
    "experiment = ws.experiments[experiment_name]"
   ]
  },
  {
   "cell_type": "code",
   "execution_count": 39,
   "metadata": {},
   "outputs": [
    {
     "name": "stdout",
     "output_type": "stream",
     "text": [
      "Submitted PipelineRun b56ef0fc-32bb-490f-9016-2e44258b697a\n"
     ]
    },
    {
     "name": "stderr",
     "output_type": "stream",
     "text": [
      "C:\\Users\\XA155XB\\Anaconda3\\envs\\walmart2\\lib\\site-packages\\numpy\\_distributor_init.py:32: UserWarning: loaded more than 1 DLL from .libs:\n",
      "C:\\Users\\XA155XB\\Anaconda3\\envs\\walmart2\\lib\\site-packages\\numpy\\.libs\\libopenblas.QVLO2T66WEPI7JZ63PS3HMOHFEY472BC.gfortran-win_amd64.dll\n",
      "C:\\Users\\XA155XB\\Anaconda3\\envs\\walmart2\\lib\\site-packages\\numpy\\.libs\\libopenblas.XWYDX2IKJW2NMTWSFYNGFUWKQU3LYTCZ.gfortran-win_amd64.dll\n",
      "  stacklevel=1)\n"
     ]
    },
    {
     "name": "stdout",
     "output_type": "stream",
     "text": [
      "Link to Azure Machine Learning Portal: https://ml.azure.com/experiments/data-processing-test-1/runs/b56ef0fc-32bb-490f-9016-2e44258b697a?wsid=/subscriptions/ef0073f1-56e3-462f-80b3-3beb320211e4/resourcegroups/Walmart-1/workspaces/Walmart-Sales\n"
     ]
    }
   ],
   "source": [
    "# Method 2\n",
    "pipeline_run = experiment.submit(published_pipeline,\n",
    "                                    continue_on_step_failure=True,\n",
    "                                    pipeline_parameters={\n",
    "                                        \"config\": \"{'demand': {'group': ['Region'], 'time': 'Date', 'features': {'Weekly_Sales': ['impute_mdian']}}}\"\n",
    "                                        },\n",
    "                                    # parent_run_id=\"<run_id>\"\n",
    ")"
   ]
  },
  {
   "cell_type": "code",
   "execution_count": null,
   "metadata": {},
   "outputs": [],
   "source": [
    "# # Method 3\n",
    "# cli_auth = AzureCliAuthentication()\n",
    "\n",
    "# ws = Workspace.get(name=\"Walmart-Sales\", \n",
    "#     subscription_id =  \"ef0073f1-56e3-462f-80b3-3beb320211e4\",\n",
    "#     resource_group = \"Walmart-1\",\n",
    "#     auth = cli_auth\n",
    "# )"
   ]
  },
  {
   "cell_type": "code",
   "execution_count": null,
   "metadata": {},
   "outputs": [],
   "source": []
  }
 ],
 "metadata": {
  "interpreter": {
   "hash": "e26b667785f8ca5ba6997721f5ec4cff9487137f5f1e1e2f7d55c394a6833ac9"
  },
  "kernelspec": {
   "display_name": "Python 3.7.10 64-bit ('walmart2': conda)",
   "language": "python",
   "name": "python3"
  },
  "language_info": {
   "codemirror_mode": {
    "name": "ipython",
    "version": 3
   },
   "file_extension": ".py",
   "mimetype": "text/x-python",
   "name": "python",
   "nbconvert_exporter": "python",
   "pygments_lexer": "ipython3",
   "version": "3.7.10"
  },
  "orig_nbformat": 4
 },
 "nbformat": 4,
 "nbformat_minor": 2
}
