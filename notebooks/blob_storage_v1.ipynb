{
 "cells": [
  {
   "cell_type": "code",
   "execution_count": 16,
   "metadata": {},
   "outputs": [],
   "source": [
    "import os\n",
    "from io import StringIO\n",
    "from azure.storage.blob import BlobClient\n",
    "\n",
    "import pandas as pd\n"
   ]
  },
  {
   "cell_type": "code",
   "execution_count": 6,
   "metadata": {},
   "outputs": [],
   "source": [
    "FILE_TO_UPLOAD = \"train_payload2_azureml v3.4.csv\""
   ]
  },
  {
   "cell_type": "code",
   "execution_count": 9,
   "metadata": {},
   "outputs": [],
   "source": [
    "df = pd.read_csv(f\"../walmart_sales/{FILE_TO_UPLOAD}\")"
   ]
  },
  {
   "cell_type": "code",
   "execution_count": 3,
   "metadata": {},
   "outputs": [],
   "source": [
    "STORAGE_ACCOUNT_NAME = \"walmartsales2005913347\"\n",
    "STORAGE_ACCOUNT_KEY = \"uPu7IRa/73JZvkiEBVBAsb8D36g1ZeoRT0YMG7l7ConyJe8aoVKoTwDpDESjZRhs0Mnt6wai7Dwh/IfSAa/B0g==\""
   ]
  },
  {
   "cell_type": "code",
   "execution_count": 4,
   "metadata": {},
   "outputs": [],
   "source": [
    "conn_string = (\n",
    "     'DefaultEndpointsProtocol=https;'\n",
    "    + f'AccountName={STORAGE_ACCOUNT_NAME};'\n",
    "    + f'AccountKey={STORAGE_ACCOUNT_KEY};'\n",
    "    + 'EndpointSuffix=core.windows.net'\n",
    ")"
   ]
  },
  {
   "cell_type": "code",
   "execution_count": 12,
   "metadata": {},
   "outputs": [],
   "source": [
    "blob_client = BlobClient.from_connection_string(conn_string, \n",
    "    container_name=\"payloads\",\n",
    "    blob_name= f\"sales/{FILE_TO_UPLOAD}\"\n",
    ")"
   ]
  },
  {
   "cell_type": "markdown",
   "metadata": {},
   "source": [
    "## Uploading CSV to Blob Storage"
   ]
  },
  {
   "cell_type": "code",
   "execution_count": 13,
   "metadata": {},
   "outputs": [
    {
     "data": {
      "text/plain": [
       "{'etag': '\"0x8D9D4D7A16DED76\"',\n",
       " 'last_modified': datetime.datetime(2022, 1, 11, 7, 54, 44, tzinfo=datetime.timezone.utc),\n",
       " 'content_md5': bytearray(b'\\xfc\\x96\\xedCj\\x0b\\xb6\\xe3,5\\x01\\xfdn\\xcc\\x08K'),\n",
       " 'client_request_id': 'bd1f75ac-72b3-11ec-9667-415645000030',\n",
       " 'request_id': 'be72a7ed-301e-0001-17c0-06afc9000000',\n",
       " 'version': '2019-07-07',\n",
       " 'date': datetime.datetime(2022, 1, 11, 7, 54, 43, tzinfo=datetime.timezone.utc),\n",
       " 'request_server_encrypted': True,\n",
       " 'encryption_key_sha256': None,\n",
       " 'encryption_scope': None,\n",
       " 'error_code': None}"
      ]
     },
     "execution_count": 13,
     "metadata": {},
     "output_type": "execute_result"
    }
   ],
   "source": [
    "# with open(\"\") as data:\n",
    "#     blob_client.upload(data)\n",
    "\n",
    "# Alternatively, can use pandas\n",
    "blob_client.upload_blob(\n",
    "    df.to_csv(index=False, header=True).encode()\n",
    ")"
   ]
  },
  {
   "cell_type": "markdown",
   "metadata": {},
   "source": [
    "## Downloading from Blob Storage"
   ]
  },
  {
   "cell_type": "code",
   "execution_count": 14,
   "metadata": {},
   "outputs": [],
   "source": [
    "stream = blob_client.download_blob()"
   ]
  },
  {
   "cell_type": "code",
   "execution_count": 17,
   "metadata": {},
   "outputs": [],
   "source": [
    "buffer = StringIO(stream.content_as_text())"
   ]
  },
  {
   "cell_type": "code",
   "execution_count": 19,
   "metadata": {},
   "outputs": [],
   "source": [
    "dataframe = pd.read_csv(buffer)"
   ]
  },
  {
   "cell_type": "code",
   "execution_count": 20,
   "metadata": {},
   "outputs": [
    {
     "data": {
      "text/html": [
       "<div>\n",
       "<style scoped>\n",
       "    .dataframe tbody tr th:only-of-type {\n",
       "        vertical-align: middle;\n",
       "    }\n",
       "\n",
       "    .dataframe tbody tr th {\n",
       "        vertical-align: top;\n",
       "    }\n",
       "\n",
       "    .dataframe thead th {\n",
       "        text-align: right;\n",
       "    }\n",
       "</style>\n",
       "<table border=\"1\" class=\"dataframe\">\n",
       "  <thead>\n",
       "    <tr style=\"text-align: right;\">\n",
       "      <th></th>\n",
       "      <th>Region</th>\n",
       "      <th>Date</th>\n",
       "      <th>Weekly_Sales</th>\n",
       "      <th>Temperature</th>\n",
       "      <th>Fuel_Price</th>\n",
       "      <th>CPI</th>\n",
       "      <th>Unemployment</th>\n",
       "      <th>Size</th>\n",
       "    </tr>\n",
       "  </thead>\n",
       "  <tbody>\n",
       "    <tr>\n",
       "      <th>0</th>\n",
       "      <td>1</td>\n",
       "      <td>2010-02-05</td>\n",
       "      <td>1643690.90</td>\n",
       "      <td>42.31</td>\n",
       "      <td>2.572</td>\n",
       "      <td>211.096358</td>\n",
       "      <td>8.106</td>\n",
       "      <td>151315</td>\n",
       "    </tr>\n",
       "    <tr>\n",
       "      <th>1</th>\n",
       "      <td>1</td>\n",
       "      <td>2010-02-12</td>\n",
       "      <td>1641957.44</td>\n",
       "      <td>38.51</td>\n",
       "      <td>2.548</td>\n",
       "      <td>211.242170</td>\n",
       "      <td>8.106</td>\n",
       "      <td>151315</td>\n",
       "    </tr>\n",
       "    <tr>\n",
       "      <th>2</th>\n",
       "      <td>1</td>\n",
       "      <td>2010-02-19</td>\n",
       "      <td>1611968.17</td>\n",
       "      <td>39.93</td>\n",
       "      <td>2.514</td>\n",
       "      <td>211.289143</td>\n",
       "      <td>8.106</td>\n",
       "      <td>151315</td>\n",
       "    </tr>\n",
       "    <tr>\n",
       "      <th>3</th>\n",
       "      <td>1</td>\n",
       "      <td>2010-02-26</td>\n",
       "      <td>1409727.59</td>\n",
       "      <td>46.63</td>\n",
       "      <td>2.561</td>\n",
       "      <td>211.319643</td>\n",
       "      <td>8.106</td>\n",
       "      <td>151315</td>\n",
       "    </tr>\n",
       "    <tr>\n",
       "      <th>4</th>\n",
       "      <td>1</td>\n",
       "      <td>2010-03-05</td>\n",
       "      <td>1554806.68</td>\n",
       "      <td>46.50</td>\n",
       "      <td>2.625</td>\n",
       "      <td>211.350143</td>\n",
       "      <td>8.106</td>\n",
       "      <td>151315</td>\n",
       "    </tr>\n",
       "    <tr>\n",
       "      <th>...</th>\n",
       "      <td>...</td>\n",
       "      <td>...</td>\n",
       "      <td>...</td>\n",
       "      <td>...</td>\n",
       "      <td>...</td>\n",
       "      <td>...</td>\n",
       "      <td>...</td>\n",
       "      <td>...</td>\n",
       "    </tr>\n",
       "    <tr>\n",
       "      <th>1375</th>\n",
       "      <td>12</td>\n",
       "      <td>2012-03-16</td>\n",
       "      <td>1088498.52</td>\n",
       "      <td>64.44</td>\n",
       "      <td>4.273</td>\n",
       "      <td>130.826193</td>\n",
       "      <td>12.187</td>\n",
       "      <td>112238</td>\n",
       "    </tr>\n",
       "    <tr>\n",
       "      <th>1376</th>\n",
       "      <td>12</td>\n",
       "      <td>2012-03-23</td>\n",
       "      <td>1045419.87</td>\n",
       "      <td>56.26</td>\n",
       "      <td>4.038</td>\n",
       "      <td>130.896645</td>\n",
       "      <td>12.187</td>\n",
       "      <td>112238</td>\n",
       "    </tr>\n",
       "    <tr>\n",
       "      <th>1377</th>\n",
       "      <td>12</td>\n",
       "      <td>2012-03-30</td>\n",
       "      <td>1025382.22</td>\n",
       "      <td>64.36</td>\n",
       "      <td>4.294</td>\n",
       "      <td>130.967097</td>\n",
       "      <td>12.187</td>\n",
       "      <td>112238</td>\n",
       "    </tr>\n",
       "    <tr>\n",
       "      <th>1378</th>\n",
       "      <td>12</td>\n",
       "      <td>2012-04-06</td>\n",
       "      <td>1128765.71</td>\n",
       "      <td>64.05</td>\n",
       "      <td>4.121</td>\n",
       "      <td>131.037548</td>\n",
       "      <td>11.627</td>\n",
       "      <td>112238</td>\n",
       "    </tr>\n",
       "    <tr>\n",
       "      <th>1379</th>\n",
       "      <td>12</td>\n",
       "      <td>2012-04-13</td>\n",
       "      <td>1083811.19</td>\n",
       "      <td>64.28</td>\n",
       "      <td>4.254</td>\n",
       "      <td>131.108000</td>\n",
       "      <td>11.627</td>\n",
       "      <td>112238</td>\n",
       "    </tr>\n",
       "  </tbody>\n",
       "</table>\n",
       "<p>1380 rows × 8 columns</p>\n",
       "</div>"
      ],
      "text/plain": [
       "      Region        Date  Weekly_Sales  Temperature  Fuel_Price         CPI  \\\n",
       "0          1  2010-02-05    1643690.90        42.31       2.572  211.096358   \n",
       "1          1  2010-02-12    1641957.44        38.51       2.548  211.242170   \n",
       "2          1  2010-02-19    1611968.17        39.93       2.514  211.289143   \n",
       "3          1  2010-02-26    1409727.59        46.63       2.561  211.319643   \n",
       "4          1  2010-03-05    1554806.68        46.50       2.625  211.350143   \n",
       "...      ...         ...           ...          ...         ...         ...   \n",
       "1375      12  2012-03-16    1088498.52        64.44       4.273  130.826193   \n",
       "1376      12  2012-03-23    1045419.87        56.26       4.038  130.896645   \n",
       "1377      12  2012-03-30    1025382.22        64.36       4.294  130.967097   \n",
       "1378      12  2012-04-06    1128765.71        64.05       4.121  131.037548   \n",
       "1379      12  2012-04-13    1083811.19        64.28       4.254  131.108000   \n",
       "\n",
       "      Unemployment    Size  \n",
       "0            8.106  151315  \n",
       "1            8.106  151315  \n",
       "2            8.106  151315  \n",
       "3            8.106  151315  \n",
       "4            8.106  151315  \n",
       "...            ...     ...  \n",
       "1375        12.187  112238  \n",
       "1376        12.187  112238  \n",
       "1377        12.187  112238  \n",
       "1378        11.627  112238  \n",
       "1379        11.627  112238  \n",
       "\n",
       "[1380 rows x 8 columns]"
      ]
     },
     "execution_count": 20,
     "metadata": {},
     "output_type": "execute_result"
    }
   ],
   "source": [
    "dataframe"
   ]
  },
  {
   "cell_type": "code",
   "execution_count": null,
   "metadata": {},
   "outputs": [],
   "source": []
  }
 ],
 "metadata": {
  "interpreter": {
   "hash": "e26b667785f8ca5ba6997721f5ec4cff9487137f5f1e1e2f7d55c394a6833ac9"
  },
  "kernelspec": {
   "display_name": "Python 3.7.10 64-bit ('walmart2': conda)",
   "language": "python",
   "name": "python3"
  },
  "language_info": {
   "codemirror_mode": {
    "name": "ipython",
    "version": 3
   },
   "file_extension": ".py",
   "mimetype": "text/x-python",
   "name": "python",
   "nbconvert_exporter": "python",
   "pygments_lexer": "ipython3",
   "version": "3.7.10"
  },
  "orig_nbformat": 4
 },
 "nbformat": 4,
 "nbformat_minor": 2
}
