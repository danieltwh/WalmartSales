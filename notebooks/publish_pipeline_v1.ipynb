{
 "cells": [
  {
   "cell_type": "code",
   "execution_count": 3,
   "metadata": {},
   "outputs": [],
   "source": [
    "import os\n",
    "import sys\n",
    "\n",
    "\n",
    "from azureml.core import Workspace\n",
    "from azureml.core import Experiment, ScriptRunConfig, Environment\n",
    "from azureml.core.compute import ComputeTarget, AmlCompute\n",
    "from azureml.exceptions import ComputeTargetException\n",
    "\n",
    "\n",
    "from azureml.pipeline.core import Pipeline\n",
    "from azureml.pipeline.core import PipelineParameter\n",
    "from azureml.pipeline.steps import PythonScriptStep\n",
    "from azureml.core.runconfig import RunConfiguration"
   ]
  },
  {
   "cell_type": "code",
   "execution_count": 80,
   "metadata": {},
   "outputs": [],
   "source": [
    "ws = Workspace.get(name=\"Walmart-Sales\", \n",
    "    subscription_id =  \"ef0073f1-56e3-462f-80b3-3beb320211e4\",\n",
    "    resource_group = \"Walmart-1\"\n",
    ")"
   ]
  },
  {
   "cell_type": "code",
   "execution_count": 81,
   "metadata": {},
   "outputs": [],
   "source": [
    "# Arguments\n",
    "EXPERIMENT_NAME = PipelineParameter(\n",
    "    name=\"experiment_name\",\n",
    "    default_value=\"data-processing-test-1\"\n",
    ")\n",
    "\n",
    "CONFIG = PipelineParameter(\n",
    "    name=\"config\",\n",
    "    default_value=\"{'demand': {'group': ['Region'], 'time': 'Date', 'features': {'Weekly_Sales': ['impute_mdian']}}}\"\n",
    ")"
   ]
  },
  {
   "cell_type": "code",
   "execution_count": 82,
   "metadata": {},
   "outputs": [],
   "source": [
    "src_dir = os.path.abspath(path=\"../src\")"
   ]
  },
  {
   "cell_type": "code",
   "execution_count": 83,
   "metadata": {},
   "outputs": [],
   "source": [
    "aml_run_config = RunConfiguration()"
   ]
  },
  {
   "cell_type": "code",
   "execution_count": 84,
   "metadata": {},
   "outputs": [],
   "source": [
    "run_config = ScriptRunConfig(\n",
    "    source_directory=src_dir,\n",
    "    script = \"process_data.py\"\n",
    ")"
   ]
  },
  {
   "cell_type": "code",
   "execution_count": 85,
   "metadata": {},
   "outputs": [],
   "source": [
    "env = Environment.get(\n",
    "    workspace = ws,\n",
    "    name = \"walmart2\"\n",
    ")\n",
    "aml_run_config.environment = env"
   ]
  },
  {
   "cell_type": "code",
   "execution_count": 86,
   "metadata": {},
   "outputs": [],
   "source": [
    "compute_target = ws.compute_targets[\"compute3\"]\n",
    "aml_run_config.target = compute_target"
   ]
  },
  {
   "cell_type": "code",
   "execution_count": 87,
   "metadata": {},
   "outputs": [
    {
     "data": {
      "text/plain": [
       "'c:\\\\Users\\\\XA155XB\\\\OneDrive - EY\\\\Documents\\\\GitHub\\\\WalmartSales\\\\src'"
      ]
     },
     "execution_count": 87,
     "metadata": {},
     "output_type": "execute_result"
    }
   ],
   "source": [
    "src_dir"
   ]
  },
  {
   "cell_type": "code",
   "execution_count": 88,
   "metadata": {},
   "outputs": [],
   "source": [
    "process_data_step = PythonScriptStep(\n",
    "    script_name=\"process_data.py\",\n",
    "    source_directory= src_dir,\n",
    "    # arguments=[\"--experiment_name\", EXPERIMENT_NAME, \"--config\", CONFIG],\n",
    "    arguments=[\"--config\", CONFIG],\n",
    "    runconfig = aml_run_config,\n",
    "    allow_reuse=False\n",
    ")"
   ]
  },
  {
   "cell_type": "code",
   "execution_count": 89,
   "metadata": {},
   "outputs": [],
   "source": [
    "data_pipeline = Pipeline(workspace=ws, steps=[process_data_step])"
   ]
  },
  {
   "cell_type": "code",
   "execution_count": 90,
   "metadata": {},
   "outputs": [
    {
     "name": "stdout",
     "output_type": "stream",
     "text": [
      "Step process_data.py is ready to be created [0fb67444]\n"
     ]
    },
    {
     "data": {
      "text/plain": [
       "[]"
      ]
     },
     "execution_count": 90,
     "metadata": {},
     "output_type": "execute_result"
    }
   ],
   "source": [
    "data_pipeline.validate()"
   ]
  },
  {
   "cell_type": "code",
   "execution_count": 91,
   "metadata": {},
   "outputs": [
    {
     "name": "stdout",
     "output_type": "stream",
     "text": [
      "Created step process_data.py [0fb67444][0a93159c-9dfb-4c9a-9bc6-0005df59ec01], (This step will run and generate new outputs)\n"
     ]
    },
    {
     "data": {
      "text/html": [
       "<table style=\"width:100%\"><tr><th>Name</th><th>Id</th><th>Status</th><th>Endpoint</th></tr><tr><td>Data_Pipeline</td><td><a href=\"https://ml.azure.com/pipelines/086d991d-cb54-47b9-83be-c87439f3fcc0?wsid=/subscriptions/ef0073f1-56e3-462f-80b3-3beb320211e4/resourcegroups/Walmart-1/workspaces/Walmart-Sales\" target=\"_blank\" rel=\"noopener\">086d991d-cb54-47b9-83be-c87439f3fcc0</a></td><td>Active</td><td><a href=\"https://southeastasia.api.azureml.ms/pipelines/v1.0/subscriptions/ef0073f1-56e3-462f-80b3-3beb320211e4/resourceGroups/Walmart-1/providers/Microsoft.MachineLearningServices/workspaces/Walmart-Sales/PipelineRuns/PipelineSubmit/086d991d-cb54-47b9-83be-c87439f3fcc0\" target=\"_blank\" rel=\"noopener\">REST Endpoint</a></td></tr></table>"
      ],
      "text/plain": [
       "Pipeline(Name: Data_Pipeline,\n",
       "Id: 086d991d-cb54-47b9-83be-c87439f3fcc0,\n",
       "Status: Active,\n",
       "Endpoint: https://southeastasia.api.azureml.ms/pipelines/v1.0/subscriptions/ef0073f1-56e3-462f-80b3-3beb320211e4/resourceGroups/Walmart-1/providers/Microsoft.MachineLearningServices/workspaces/Walmart-Sales/PipelineRuns/PipelineSubmit/086d991d-cb54-47b9-83be-c87439f3fcc0)"
      ]
     },
     "execution_count": 91,
     "metadata": {},
     "output_type": "execute_result"
    }
   ],
   "source": [
    "data_pipeline.publish(\n",
    "    name = \"Data_Pipeline\",\n",
    "    description = \"Data pipeline to get data from different sources\"\n",
    ")"
   ]
  },
  {
   "cell_type": "code",
   "execution_count": null,
   "metadata": {},
   "outputs": [],
   "source": []
  }
 ],
 "metadata": {
  "interpreter": {
   "hash": "e26b667785f8ca5ba6997721f5ec4cff9487137f5f1e1e2f7d55c394a6833ac9"
  },
  "kernelspec": {
   "display_name": "Python 3.7.10 64-bit ('walmart2': conda)",
   "language": "python",
   "name": "python3"
  },
  "language_info": {
   "codemirror_mode": {
    "name": "ipython",
    "version": 3
   },
   "file_extension": ".py",
   "mimetype": "text/x-python",
   "name": "python",
   "nbconvert_exporter": "python",
   "pygments_lexer": "ipython3",
   "version": "3.7.10"
  },
  "orig_nbformat": 4
 },
 "nbformat": 4,
 "nbformat_minor": 2
}
