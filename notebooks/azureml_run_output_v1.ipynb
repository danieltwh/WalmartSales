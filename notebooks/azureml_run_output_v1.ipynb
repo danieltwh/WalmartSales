{
 "cells": [
  {
   "cell_type": "code",
   "execution_count": null,
   "metadata": {},
   "outputs": [],
   "source": [
    "from azureml.core import Workspace\n"
   ]
  },
  {
   "cell_type": "code",
   "execution_count": null,
   "metadata": {},
   "outputs": [],
   "source": [
    "ws = Workspace.from_config()\n",
    "run = ws.get_run('YOUR_RUN_ID')"
   ]
  },
  {
   "cell_type": "code",
   "execution_count": null,
   "metadata": {},
   "outputs": [],
   "source": [
    "# from azureml.core import Experiment\n",
    "\n",
    "# # create an experiment variable\n",
    "# experiment = Experiment(workspace = ws, name = \"my-experiment\")\n",
    "# run_ids = []\n",
    "# for run in experiment.get_runs():\n",
    "#     run_ids.append(run)\n",
    "# run_id = run_ids[0]\n",
    "# run_id.get_file_names()\n",
    "# run_id.download_file(name=\"models/model.pkl\", output_file_path = \"./models/model.pkl\")"
   ]
  },
  {
   "cell_type": "code",
   "execution_count": null,
   "metadata": {},
   "outputs": [],
   "source": [
    "run.download_file(name=\"models/model.pkl\", output_file_path = \"./models/model.pkl\")"
   ]
  },
  {
   "cell_type": "code",
   "execution_count": null,
   "metadata": {},
   "outputs": [],
   "source": []
  }
 ],
 "metadata": {
  "language_info": {
   "name": "python"
  },
  "orig_nbformat": 4
 },
 "nbformat": 4,
 "nbformat_minor": 2
}
